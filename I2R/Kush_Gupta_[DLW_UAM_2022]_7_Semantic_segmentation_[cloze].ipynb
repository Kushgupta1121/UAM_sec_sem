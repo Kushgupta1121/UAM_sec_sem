{
  "nbformat": 4,
  "nbformat_minor": 0,
  "metadata": {
    "colab": {
      "provenance": []
    },
    "kernelspec": {
      "name": "python3",
      "display_name": "Python 3"
    },
    "accelerator": "GPU",
    "widgets": {
      "application/vnd.jupyter.widget-state+json": {
        "3a7fd5b440de4bc68e1f6e4b4c290764": {
          "model_module": "@jupyter-widgets/controls",
          "model_name": "HBoxModel",
          "model_module_version": "1.5.0",
          "state": {
            "_dom_classes": [],
            "_model_module": "@jupyter-widgets/controls",
            "_model_module_version": "1.5.0",
            "_model_name": "HBoxModel",
            "_view_count": null,
            "_view_module": "@jupyter-widgets/controls",
            "_view_module_version": "1.5.0",
            "_view_name": "HBoxView",
            "box_style": "",
            "children": [
              "IPY_MODEL_9cdcf3e1b6bf406baafbb64fa6d45245",
              "IPY_MODEL_409e6115ff4b4a5aa5e9a72c53519d1f",
              "IPY_MODEL_d9c11ff7154643d6b3183e38038ad195"
            ],
            "layout": "IPY_MODEL_b4f920ab467044dca7e70d1b805c5736"
          }
        },
        "9cdcf3e1b6bf406baafbb64fa6d45245": {
          "model_module": "@jupyter-widgets/controls",
          "model_name": "HTMLModel",
          "model_module_version": "1.5.0",
          "state": {
            "_dom_classes": [],
            "_model_module": "@jupyter-widgets/controls",
            "_model_module_version": "1.5.0",
            "_model_name": "HTMLModel",
            "_view_count": null,
            "_view_module": "@jupyter-widgets/controls",
            "_view_module_version": "1.5.0",
            "_view_name": "HTMLView",
            "description": "",
            "description_tooltip": null,
            "layout": "IPY_MODEL_5238afe7f6a54951a33172b909482843",
            "placeholder": "​",
            "style": "IPY_MODEL_97986ed3e5724ca281ef696c8c4d37b2",
            "value": "100%"
          }
        },
        "409e6115ff4b4a5aa5e9a72c53519d1f": {
          "model_module": "@jupyter-widgets/controls",
          "model_name": "FloatProgressModel",
          "model_module_version": "1.5.0",
          "state": {
            "_dom_classes": [],
            "_model_module": "@jupyter-widgets/controls",
            "_model_module_version": "1.5.0",
            "_model_name": "FloatProgressModel",
            "_view_count": null,
            "_view_module": "@jupyter-widgets/controls",
            "_view_module_version": "1.5.0",
            "_view_name": "ProgressView",
            "bar_style": "success",
            "description": "",
            "description_tooltip": null,
            "layout": "IPY_MODEL_dac2d12071e646698337792edc3566e4",
            "max": 46830571,
            "min": 0,
            "orientation": "horizontal",
            "style": "IPY_MODEL_bd3d038d77eb4f2da504e3264e9c1e9c",
            "value": 46830571
          }
        },
        "d9c11ff7154643d6b3183e38038ad195": {
          "model_module": "@jupyter-widgets/controls",
          "model_name": "HTMLModel",
          "model_module_version": "1.5.0",
          "state": {
            "_dom_classes": [],
            "_model_module": "@jupyter-widgets/controls",
            "_model_module_version": "1.5.0",
            "_model_name": "HTMLModel",
            "_view_count": null,
            "_view_module": "@jupyter-widgets/controls",
            "_view_module_version": "1.5.0",
            "_view_name": "HTMLView",
            "description": "",
            "description_tooltip": null,
            "layout": "IPY_MODEL_b8fd439910d34d24a091a03603b5cf27",
            "placeholder": "​",
            "style": "IPY_MODEL_98ea99542b82457880cab61f60fc71f3",
            "value": " 44.7M/44.7M [00:00&lt;00:00, 131MB/s]"
          }
        },
        "b4f920ab467044dca7e70d1b805c5736": {
          "model_module": "@jupyter-widgets/base",
          "model_name": "LayoutModel",
          "model_module_version": "1.2.0",
          "state": {
            "_model_module": "@jupyter-widgets/base",
            "_model_module_version": "1.2.0",
            "_model_name": "LayoutModel",
            "_view_count": null,
            "_view_module": "@jupyter-widgets/base",
            "_view_module_version": "1.2.0",
            "_view_name": "LayoutView",
            "align_content": null,
            "align_items": null,
            "align_self": null,
            "border": null,
            "bottom": null,
            "display": null,
            "flex": null,
            "flex_flow": null,
            "grid_area": null,
            "grid_auto_columns": null,
            "grid_auto_flow": null,
            "grid_auto_rows": null,
            "grid_column": null,
            "grid_gap": null,
            "grid_row": null,
            "grid_template_areas": null,
            "grid_template_columns": null,
            "grid_template_rows": null,
            "height": null,
            "justify_content": null,
            "justify_items": null,
            "left": null,
            "margin": null,
            "max_height": null,
            "max_width": null,
            "min_height": null,
            "min_width": null,
            "object_fit": null,
            "object_position": null,
            "order": null,
            "overflow": null,
            "overflow_x": null,
            "overflow_y": null,
            "padding": null,
            "right": null,
            "top": null,
            "visibility": null,
            "width": null
          }
        },
        "5238afe7f6a54951a33172b909482843": {
          "model_module": "@jupyter-widgets/base",
          "model_name": "LayoutModel",
          "model_module_version": "1.2.0",
          "state": {
            "_model_module": "@jupyter-widgets/base",
            "_model_module_version": "1.2.0",
            "_model_name": "LayoutModel",
            "_view_count": null,
            "_view_module": "@jupyter-widgets/base",
            "_view_module_version": "1.2.0",
            "_view_name": "LayoutView",
            "align_content": null,
            "align_items": null,
            "align_self": null,
            "border": null,
            "bottom": null,
            "display": null,
            "flex": null,
            "flex_flow": null,
            "grid_area": null,
            "grid_auto_columns": null,
            "grid_auto_flow": null,
            "grid_auto_rows": null,
            "grid_column": null,
            "grid_gap": null,
            "grid_row": null,
            "grid_template_areas": null,
            "grid_template_columns": null,
            "grid_template_rows": null,
            "height": null,
            "justify_content": null,
            "justify_items": null,
            "left": null,
            "margin": null,
            "max_height": null,
            "max_width": null,
            "min_height": null,
            "min_width": null,
            "object_fit": null,
            "object_position": null,
            "order": null,
            "overflow": null,
            "overflow_x": null,
            "overflow_y": null,
            "padding": null,
            "right": null,
            "top": null,
            "visibility": null,
            "width": null
          }
        },
        "97986ed3e5724ca281ef696c8c4d37b2": {
          "model_module": "@jupyter-widgets/controls",
          "model_name": "DescriptionStyleModel",
          "model_module_version": "1.5.0",
          "state": {
            "_model_module": "@jupyter-widgets/controls",
            "_model_module_version": "1.5.0",
            "_model_name": "DescriptionStyleModel",
            "_view_count": null,
            "_view_module": "@jupyter-widgets/base",
            "_view_module_version": "1.2.0",
            "_view_name": "StyleView",
            "description_width": ""
          }
        },
        "dac2d12071e646698337792edc3566e4": {
          "model_module": "@jupyter-widgets/base",
          "model_name": "LayoutModel",
          "model_module_version": "1.2.0",
          "state": {
            "_model_module": "@jupyter-widgets/base",
            "_model_module_version": "1.2.0",
            "_model_name": "LayoutModel",
            "_view_count": null,
            "_view_module": "@jupyter-widgets/base",
            "_view_module_version": "1.2.0",
            "_view_name": "LayoutView",
            "align_content": null,
            "align_items": null,
            "align_self": null,
            "border": null,
            "bottom": null,
            "display": null,
            "flex": null,
            "flex_flow": null,
            "grid_area": null,
            "grid_auto_columns": null,
            "grid_auto_flow": null,
            "grid_auto_rows": null,
            "grid_column": null,
            "grid_gap": null,
            "grid_row": null,
            "grid_template_areas": null,
            "grid_template_columns": null,
            "grid_template_rows": null,
            "height": null,
            "justify_content": null,
            "justify_items": null,
            "left": null,
            "margin": null,
            "max_height": null,
            "max_width": null,
            "min_height": null,
            "min_width": null,
            "object_fit": null,
            "object_position": null,
            "order": null,
            "overflow": null,
            "overflow_x": null,
            "overflow_y": null,
            "padding": null,
            "right": null,
            "top": null,
            "visibility": null,
            "width": null
          }
        },
        "bd3d038d77eb4f2da504e3264e9c1e9c": {
          "model_module": "@jupyter-widgets/controls",
          "model_name": "ProgressStyleModel",
          "model_module_version": "1.5.0",
          "state": {
            "_model_module": "@jupyter-widgets/controls",
            "_model_module_version": "1.5.0",
            "_model_name": "ProgressStyleModel",
            "_view_count": null,
            "_view_module": "@jupyter-widgets/base",
            "_view_module_version": "1.2.0",
            "_view_name": "StyleView",
            "bar_color": null,
            "description_width": ""
          }
        },
        "b8fd439910d34d24a091a03603b5cf27": {
          "model_module": "@jupyter-widgets/base",
          "model_name": "LayoutModel",
          "model_module_version": "1.2.0",
          "state": {
            "_model_module": "@jupyter-widgets/base",
            "_model_module_version": "1.2.0",
            "_model_name": "LayoutModel",
            "_view_count": null,
            "_view_module": "@jupyter-widgets/base",
            "_view_module_version": "1.2.0",
            "_view_name": "LayoutView",
            "align_content": null,
            "align_items": null,
            "align_self": null,
            "border": null,
            "bottom": null,
            "display": null,
            "flex": null,
            "flex_flow": null,
            "grid_area": null,
            "grid_auto_columns": null,
            "grid_auto_flow": null,
            "grid_auto_rows": null,
            "grid_column": null,
            "grid_gap": null,
            "grid_row": null,
            "grid_template_areas": null,
            "grid_template_columns": null,
            "grid_template_rows": null,
            "height": null,
            "justify_content": null,
            "justify_items": null,
            "left": null,
            "margin": null,
            "max_height": null,
            "max_width": null,
            "min_height": null,
            "min_width": null,
            "object_fit": null,
            "object_position": null,
            "order": null,
            "overflow": null,
            "overflow_x": null,
            "overflow_y": null,
            "padding": null,
            "right": null,
            "top": null,
            "visibility": null,
            "width": null
          }
        },
        "98ea99542b82457880cab61f60fc71f3": {
          "model_module": "@jupyter-widgets/controls",
          "model_name": "DescriptionStyleModel",
          "model_module_version": "1.5.0",
          "state": {
            "_model_module": "@jupyter-widgets/controls",
            "_model_module_version": "1.5.0",
            "_model_name": "DescriptionStyleModel",
            "_view_count": null,
            "_view_module": "@jupyter-widgets/base",
            "_view_module_version": "1.2.0",
            "_view_name": "StyleView",
            "description_width": ""
          }
        }
      }
    }
  },
  "cells": [
    {
      "cell_type": "markdown",
      "metadata": {
        "id": "RANhRInfWKQB"
      },
      "source": [
        "# Training a semantic segmentation network\n",
        "\n",
        "[Diego Ortego](https://sites.google.com/view/diegoortego/), [Insight Centre for Data Analytics](https://www.insight-centre.org/)\n",
        "\n",
        "[Dublin City University](https://www.dcu.ie/)\n",
        "\n",
        "---\n",
        "\n",
        "This lab will illustrate how to specify and train a fully-convolutional neural networks for semantic segmentation. We will use a modified version of [PSPNet](https://arxiv.org/abs/1612.01105) architecture that consists of a backbone network (e.g. ResNet or VGG) with dilated convolutions in some layers, followed by a Pyramid Pooling Module to capture context information and the final convolutional classifier. Here, we will use a simplified version with ResNet-18 and a Pooling module (no pyramid) for faster training. We will use the [PASCAL VOC](http://host.robots.ox.ac.uk/pascal/VOC/voc2012/) dataset with lower resolution.\n"
      ]
    },
    {
      "cell_type": "markdown",
      "metadata": {
        "id": "dkG_jEbzX3B5"
      },
      "source": [
        "### Instructions\n",
        "\n",
        "Anywhere you see a **???** in the code below, fill in in with the correct code."
      ]
    },
    {
      "cell_type": "code",
      "metadata": {
        "id": "RixQYlSZduav",
        "colab": {
          "base_uri": "https://localhost:8080/"
        },
        "outputId": "c44ae072-1745-4d7f-9111-08dfd625d96a"
      },
      "source": [
        "import sys\n",
        "print(sys.version)"
      ],
      "execution_count": null,
      "outputs": [
        {
          "output_type": "stream",
          "name": "stdout",
          "text": [
            "3.7.13 (default, Mar 16 2022, 17:37:17) \n",
            "[GCC 7.5.0]\n"
          ]
        }
      ]
    },
    {
      "cell_type": "markdown",
      "metadata": {
        "id": "ymrPuzlRdnjk"
      },
      "source": [
        "# Import packages\n",
        "Find the PyTorch docs at https://pytorch.org/docs/stable/index.html\n",
        "\n",
        "Tutorials: https://pytorch.org/tutorials/"
      ]
    },
    {
      "cell_type": "code",
      "metadata": {
        "id": "wW3tdbEIDD8a",
        "colab": {
          "base_uri": "https://localhost:8080/"
        },
        "outputId": "5810994d-5c49-4c43-ee85-9e953e0d59d5"
      },
      "source": [
        "import torch\n",
        "import torchvision\n",
        "import torch.nn as nn\n",
        "import torch.backends.cudnn as cudnn\n",
        "import torch.utils.data as data\n",
        "from torch import optim\n",
        "from torchvision import datasets, transforms, models\n",
        "import torch.nn.functional as F\n",
        "import torchvision.transforms.functional as TF\n",
        "from torch.utils.data import Dataset\n",
        "from torchvision.datasets.utils import download_file_from_google_drive\n",
        "\n",
        "from PIL import Image\n",
        "import numpy as np\n",
        "import matplotlib.pyplot as plt\n",
        "import scipy.io as sio\n",
        "import random\n",
        "import sys\n",
        "import argparse\n",
        "import os\n",
        "import time\n",
        "from os.path import join\n",
        "import csv\n",
        "\n",
        "print('PyTorch version:', torch.__version__)"
      ],
      "execution_count": null,
      "outputs": [
        {
          "output_type": "stream",
          "name": "stdout",
          "text": [
            "PyTorch version: 1.10.0+cu111\n"
          ]
        }
      ]
    },
    {
      "cell_type": "markdown",
      "metadata": {
        "id": "nABM6jQ7YDol"
      },
      "source": [
        "# Download dataset"
      ]
    },
    {
      "cell_type": "code",
      "metadata": {
        "id": "5wYb_bghX2VV",
        "colab": {
          "base_uri": "https://localhost:8080/"
        },
        "outputId": "2db23bd7-04ea-46b7-e920-dd020c025433"
      },
      "source": [
        "!gdown --id 1Osg2LUhhx_utC1C2qTXcL5LBt4slN8Ll\n",
        "#!gdown --id 1pQGv0etFunhM7uZrc1mU1ijTtnCbGpla"
      ],
      "execution_count": null,
      "outputs": [
        {
          "output_type": "stream",
          "name": "stdout",
          "text": [
            "/usr/local/lib/python3.7/dist-packages/gdown/cli.py:131: FutureWarning: Option `--id` was deprecated in version 4.3.1 and will be removed in 5.0. You don't need to pass it anymore to use a file ID.\n",
            "  category=FutureWarning,\n",
            "Downloading...\n",
            "From: https://drive.google.com/uc?id=1Osg2LUhhx_utC1C2qTXcL5LBt4slN8Ll\n",
            "To: /content/VOC2.tar\n",
            "100% 3.35G/3.35G [00:43<00:00, 77.2MB/s]\n"
          ]
        }
      ]
    },
    {
      "cell_type": "code",
      "metadata": {
        "id": "Nf74aJ9dX3Eo"
      },
      "source": [
        "!tar xf VOC2.tar"
      ],
      "execution_count": null,
      "outputs": []
    },
    {
      "cell_type": "code",
      "metadata": {
        "id": "vP8DWMLfX3Oz"
      },
      "source": [
        "!rm VOC2.tar"
      ],
      "execution_count": null,
      "outputs": []
    },
    {
      "cell_type": "markdown",
      "metadata": {
        "id": "cpCu9H93cvnk"
      },
      "source": [
        "\n",
        "\n",
        "```\n",
        "# Tiene formato de código\n",
        "```\n",
        "\n",
        "# Hyperparameters + Enable GPU acceleration"
      ]
    },
    {
      "cell_type": "code",
      "metadata": {
        "id": "HsVCXpSvDEpr"
      },
      "source": [
        "class configuration:\n",
        "    def __init__(self):\n",
        "        self.experiment_name = \"prueba_SemanticSegPreTrainedLR0.001\"\n",
        "        self.pre_load = \"True\" ## Load dataset in memory\n",
        "        self.pre_trained = \"True\"\n",
        "        self.num_classes = 21\n",
        "        self.ignore_label = 255\n",
        "        self.lr = 0.001  # 0.001 if pretrained. 0.1 if scratch\n",
        "        self.M = [] ##If training from scratch, reduce learning rate at some point\n",
        "        self.batch_size = 16  # Training batch size\n",
        "        self.test_batch_size = 4  # Test batch size\n",
        "        self.epoch = 90 ## Number of epochs\n",
        "        self.train_root = \"./VOC\"\n",
        "        self.download = False\n",
        "        self.seed = 271828\n",
        "\n",
        "\n",
        "## Create arguments object\n",
        "args = configuration()\n",
        "\n",
        "# Make sure to enable GPU acceleration!\n",
        "device = 'cuda'\n",
        "\n",
        "# Set random seed for reproducability\n",
        "torch.backends.cudnn.deterministic = True  # fix the GPU to deterministic mode\n",
        "torch.manual_seed(args.seed)  # CPU seed\n",
        "torch.cuda.manual_seed_all(args.seed)  # GPU seed\n",
        "random.seed(args.seed)  # python seed for image transformation\n",
        "np.random.seed(args.seed)"
      ],
      "execution_count": null,
      "outputs": []
    },
    {
      "cell_type": "markdown",
      "metadata": {
        "id": "y77_MpORd3md"
      },
      "source": [
        "## Define CNN architecture\n",
        "We are using a modified PSPnet with a ResNet-18 backbone (pretrained on ImageNet or not). Note that there are no fully-connected layers in the networks, i.e. it is fully-convolutional."
      ]
    },
    {
      "cell_type": "code",
      "metadata": {
        "id": "JW6cLLWDDEtA"
      },
      "source": [
        "class PSPNetLite(nn.Module):\n",
        "    def __init__(self, args, num_classes, pretrained=True, use_aux=True):\n",
        "        super(PSPNetLite, self).__init__()\n",
        "        self.use_aux = use_aux\n",
        "        \n",
        "        #### TO FILL: define pytorch default resnet-18 architecture (pretrained and not) \n",
        "        if pretrained==\"True\":\n",
        "            resnet = models.resnet18(pretrained=True)\n",
        "        else:\n",
        "            resnet = models.resnet18(pretrained=False)\n",
        "\n",
        "        self.layer0 = nn.Sequential(resnet.conv1, resnet.bn1, resnet.relu, resnet.maxpool)\n",
        "        self.layer1, self.layer2, self.layer3, self.layer4 = resnet.layer1, resnet.layer2, resnet.layer3, resnet.layer4\n",
        "\n",
        "        for n, m in self.layer3.named_modules():\n",
        "            if 'conv2' in n:\n",
        "                m.dilation, m.padding, m.stride = (2, 2), (2, 2), (1, 1)\n",
        "        for n, m in self.layer4.named_modules():\n",
        "            if 'conv2' in n:\n",
        "                m.dilation, m.padding, m.stride = (4, 4), (4, 4), (1, 1)\n",
        "\n",
        "        ##Pooling module: simplification of Pyramid Pooling Module of PSPnet\n",
        "        self.pm = nn.Sequential(\n",
        "            nn.AdaptiveAvgPool2d(3),\n",
        "            nn.Conv2d(512, 256, kernel_size=1, bias=False),\n",
        "            nn.BatchNorm2d(256, momentum=.95),\n",
        "            nn.ReLU(inplace=True)\n",
        "        )\n",
        "\n",
        "        ## Final classifier to get per-pixel predictions\n",
        "        self.final = nn.Sequential(\n",
        "            nn.Conv2d(768, 512, kernel_size=3, padding=1, bias=False),\n",
        "            nn.BatchNorm2d(512, momentum=.95),\n",
        "            nn.ReLU(inplace=True),\n",
        "            nn.Dropout(0.1),\n",
        "            nn.Conv2d(512, num_classes, kernel_size=1)\n",
        "        )\n",
        "     \n",
        "    #### To fill: write the forward pass function:\n",
        "    #### layer0 --> layer1 --> layer2 --> layer3 --> layer4--> pm --> final\n",
        "    def forward(self, x):\n",
        "        x_size = x.size()\n",
        "\n",
        "        x = self.layer0(x) #layer0\n",
        "        x = self.layer1(x) #layer1\n",
        "        x = self.layer2(x) #layer2\n",
        "        x = self.layer3(x) #layer3\n",
        "        \n",
        "        x1 = self.layer4(x)\n",
        "        x2 = self.pm(x1)\n",
        "\n",
        "        # Concatenate layer4 features with upsampled Pooling Module features\n",
        "        x = self.final(torch.cat((x1, F.interpolate(x2, x1.size()[2:], mode='bilinear')), dim=1))\n",
        "        ##return prediction after bilinear upsampling to original size\n",
        "        return F.interpolate(x, x_size[2:], mode='bilinear')"
      ],
      "execution_count": null,
      "outputs": []
    },
    {
      "cell_type": "markdown",
      "metadata": {
        "id": "QvD7kXCFSdhR"
      },
      "source": [
        "## Define dataset class\n",
        "Dataset: [PASCAL VOC](http://host.robots.ox.ac.uk/pascal/VOC/voc2012/) with over 8K (0.7K) images for training (validation). We use 224x224 resolution. Classes:\n",
        "\n",
        "0=background, 1=aeroplane, 2=bicycle, 3=bird, 4=boat, 5=bottle, 6=bus, 7=car, 8=cat, 9=chair, 10=cow, 11=diningtable,\n",
        "12=dog, 13=horse, 14=motorbike, 15=person # 16=potted plant, 17=sheep, 18=sofa, 19=train, 20=tv/monitor\n",
        "\n",
        "\n",
        "Method to make the dataset"
      ]
    },
    {
      "cell_type": "code",
      "metadata": {
        "id": "W3pGoamXDEvr"
      },
      "source": [
        "def make_dataset(args, mode):\n",
        "    assert mode in ['train', 'val', 'test']\n",
        "    items = []\n",
        "    if mode == 'train':\n",
        "        img_path = os.path.join(args.train_root, 'benchmark_RELEASE', 'dataset', 'img')\n",
        "        mask_path = os.path.join(args.train_root, 'benchmark_RELEASE', 'dataset', 'cls')\n",
        "        data_list = [l.strip('\\n') for l in open(os.path.join(\n",
        "            args.train_root, 'benchmark_RELEASE', 'dataset', 'train.txt')).readlines()]\n",
        "        for it in data_list:\n",
        "            item = (os.path.join(img_path, it + '.jpg'), os.path.join(mask_path, it + '.mat'))\n",
        "            items.append(item)\n",
        "    elif mode == 'val':\n",
        "        img_path = os.path.join(args.train_root, 'VOCdevkit', 'VOC2012', 'JPEGImages')\n",
        "        mask_path = os.path.join(args.train_root, 'VOCdevkit', 'VOC2012', 'SegmentationClass')\n",
        "        data_list = [l.strip('\\n') for l in open(os.path.join(\n",
        "            args.train_root, 'VOCdevkit', 'VOC2012', 'ImageSets', 'Segmentation', 'seg11valid.txt')).readlines()]\n",
        "        for it in data_list:\n",
        "            item = (os.path.join(img_path, it + '.jpg'), os.path.join(mask_path, it + '.png'))\n",
        "            items.append(item)\n",
        "    else:\n",
        "        img_path = os.path.join(args.train_root, 'VOCdevkit (test)', 'VOC2012', 'JPEGImages')\n",
        "        data_list = [l.strip('\\n') for l in open(os.path.join(\n",
        "            args.train_root, 'VOCdevkit (test)', 'VOC2012', 'ImageSets', 'Segmentation', 'test.txt')).readlines()]\n",
        "        for it in data_list:\n",
        "            items.append((img_path, it))\n",
        "    return items\n",
        "\n",
        "\n",
        "class VOC(data.Dataset):\n",
        "    def __init__(self, args, mode, transform_input=None, transform_mask=None):\n",
        "        self.args = args\n",
        "        self.imgs = make_dataset(self.args, mode)\n",
        "        if len(self.imgs) == 0:\n",
        "            raise RuntimeError('Found 0 images, please check the data set')\n",
        "        self.mode = mode\n",
        "\n",
        "        self.transform_input = transform_input\n",
        "        self.transform_mask = transform_mask\n",
        "\n",
        "    def transform(self, image, mask):\n",
        "        # Resize\n",
        "        resize = transforms.Resize(size=(400, 400), interpolation=0)\n",
        "        image = resize(image)\n",
        "        mask = resize(mask)\n",
        "\n",
        "        # Random crop\n",
        "        i, j, h, w = transforms.RandomCrop.get_params(image, output_size=(224, 224))\n",
        "        #### TO FILL: perform crops using random parameters from previous line.\n",
        "        #### Note that crop parameters have to be the same for image and mask.\n",
        "        #### If not, the ground-truth mask would not be aligned with its image content.\n",
        "        image = transforms.functional.crop(image, i, j, h, w)\n",
        "        mask = transforms.functional.crop(mask, i, j, h, w)\n",
        "\n",
        "        # Random horizontal flipping\n",
        "        if random.random() > 0.5:\n",
        "            image = TF.hflip(image)\n",
        "            mask = TF.hflip(mask)\n",
        "\n",
        "        return image, mask\n",
        "\n",
        "    def test_transform(self, image, mask):\n",
        "        # Resize\n",
        "        resize = transforms.Resize(size=(400, 400), interpolation=0)\n",
        "        image = resize(image)\n",
        "        mask = resize(mask)\n",
        "\n",
        "        # Random crop\n",
        "        image = TF.center_crop(image, output_size=(224, 224))\n",
        "        mask = TF.center_crop(mask, output_size=(224, 224))\n",
        "\n",
        "        return image, mask\n",
        "\n",
        "    def __getitem__(self, index):\n",
        "        if self.mode == 'test':\n",
        "            img_path, img_name = self.imgs[index]\n",
        "            img = Image.open(os.path.join(img_path, img_name + '.jpg')).convert('RGB')\n",
        "            if self.transform is not None:\n",
        "                img = self.transform(img)\n",
        "            return img_name, img\n",
        "\n",
        "        img_path, mask_path = self.imgs[index]\n",
        "        img = Image.open(img_path).convert('RGB')\n",
        "        if self.mode == 'train':\n",
        "            mask = sio.loadmat(mask_path)['GTcls']['Segmentation'][0][0]\n",
        "            mask = Image.fromarray(mask.astype(np.uint8))\n",
        "        else:\n",
        "            mask = Image.open(mask_path)\n",
        "\n",
        "        ##Joint transform\n",
        "        if self.mode==\"train\":\n",
        "            img, mask = self.transform(img, mask)\n",
        "        else:\n",
        "            img, mask = self.test_transform(img, mask)\n",
        "\n",
        "        if self.transform_input is not None:\n",
        "            img = self.transform_input(img)\n",
        "        if self.transform_mask is not None:\n",
        "            mask = 255*self.transform_mask(mask)\n",
        "\n",
        "        return img, mask.long()\n",
        "\n",
        "    def __len__(self):\n",
        "        return len(self.imgs)"
      ],
      "execution_count": null,
      "outputs": []
    },
    {
      "cell_type": "markdown",
      "metadata": {
        "id": "dPQxqD6gi-4c"
      },
      "source": [
        "# PSPnetLite training epoch\n",
        "Per-pixel cross-entropy loss is computed and then aggregated to compute a loss per image.\n",
        "\n"
      ]
    },
    {
      "cell_type": "code",
      "metadata": {
        "id": "VfvVs2PrDEyx"
      },
      "source": [
        "def _fast_hist(label_pred, label_true, num_classes):\n",
        "    mask = (label_true >= 0) & (label_true < num_classes)\n",
        "    hist = np.bincount(\n",
        "        num_classes * label_true[mask].astype(int) +\n",
        "        label_pred[mask], minlength=num_classes ** 2).reshape(num_classes, num_classes)\n",
        "    return hist\n",
        "\n",
        "def train_SemanticSeg(args, model, device, train_loader, optimizer, epoch):\n",
        "    # switch to train mode\n",
        "    model.train()\n",
        "\n",
        "    train_loss = []\n",
        "    counter = 1\n",
        "\n",
        "    criterion = nn.CrossEntropyLoss()\n",
        "    gts_all, predictions_all = [], []\n",
        "\n",
        "    for batch_idx, (images, mask) in enumerate(train_loader):\n",
        "\n",
        "        images, mask = images.to(device), mask.to(device)\n",
        "\n",
        "        #Forward pass\n",
        "        outputs = model(images)\n",
        "\n",
        "        \n",
        "        #Aggregated per-pixel loss\n",
        "        loss = criterion(outputs, mask.squeeze(1))\n",
        "        train_loss.append(loss.item())\n",
        "\n",
        "        # compute gradient and do SGD step\n",
        "        optimizer.zero_grad()\n",
        "\n",
        "        loss.backward()\n",
        "        \n",
        "        optimizer.step()\n",
        "\n",
        "        \n",
        "        if counter % 15 == 0:\n",
        "            print('Train Epoch: {} [{}/{} ({:.0f}%)]\\tLoss: {:.6f}, Learning rate: {:.6f}'.format(\n",
        "                epoch, int(counter * len(images)), len(train_loader.dataset),\n",
        "                100. * counter / len(train_loader), loss.item(),\n",
        "                optimizer.param_groups[0]['lr']))\n",
        "        counter = counter + 1\n",
        "    \n",
        "    return sum(train_loss) / len(train_loss)#, mean_iu"
      ],
      "execution_count": null,
      "outputs": []
    },
    {
      "cell_type": "markdown",
      "metadata": {
        "id": "741GVQkQmTEc"
      },
      "source": [
        "# PSPnetLite validation"
      ]
    },
    {
      "cell_type": "code",
      "metadata": {
        "id": "ZhAy3KgbDE9k"
      },
      "source": [
        "def testing(args, model, device, test_loader):\n",
        "\n",
        "    # switch to train mode\n",
        "    model.eval()\n",
        "    loss_per_batch = []\n",
        "    test_loss = 0\n",
        "\n",
        "\n",
        "    ##We ignore index 255, i.e. object contours labeled with 255 in the val GT\n",
        "    criterion = nn.CrossEntropyLoss(ignore_index=255)\n",
        "    gts_all, predictions_all = [], []\n",
        "    with torch.no_grad():\n",
        "        for batch_idx, (images, mask) in enumerate(test_loader):\n",
        "\n",
        "            images, mask = images.to(device), mask.to(device)\n",
        "\n",
        "            outputs = model(images)\n",
        "\n",
        "            #Aggregated per-pixel loss\n",
        "            loss = criterion(outputs, mask.squeeze(1))\n",
        "            loss_per_batch.append(loss.item())\n",
        "\n",
        "            preds = outputs.data.max(1)[1].squeeze(1).squeeze(0).cpu().numpy()\n",
        "            gts_all.append(mask.data.squeeze(0).cpu().numpy())\n",
        "            predictions_all.append(preds)\n",
        "\n",
        "    #test_loss /= len(test_loader.dataset)\n",
        "    loss_per_epoch = [np.average(loss_per_batch)]\n",
        "\n",
        "    ##Compute Mean Intersection over Union (mIoU)\n",
        "    ##mIoU: Mean (of all classes) of intersection over union between prediction\n",
        "    ##and ground-truth\n",
        "    hist = np.zeros((args.num_classes, args.num_classes))\n",
        "    for lp, lt in zip(predictions_all, gts_all):\n",
        "        hist += _fast_hist(lp.flatten(), lt.flatten(), args.num_classes)\n",
        "\n",
        "    iu = np.diag(hist) / (hist.sum(axis=1) + hist.sum(axis=0) - np.diag(hist))\n",
        "    mean_iu = np.nanmean(iu)\n",
        "\n",
        "    print('\\nTest set ({:.0f}): Average loss: {:.4f}, mIoU: {:.4f}\\n'.format(\n",
        "        len(test_loader.dataset), loss_per_epoch[-1], mean_iu))\n",
        "\n",
        "    return (loss_per_epoch, mean_iu)"
      ],
      "execution_count": null,
      "outputs": []
    },
    {
      "cell_type": "markdown",
      "metadata": {
        "id": "fGqiw1M7mmZr"
      },
      "source": [
        "# Image transformations\n",
        "\n",
        "Here only simple transformations are shown. This code performs transformations by default inside the dataset class. The decision for doing this is to easily handle that transformations have to be applied similarly to the image and the ground-truth (GT) segmentation mask. For example, if a crop is done to the image in a certain location, it has to be done in the same location in the GT mask."
      ]
    },
    {
      "cell_type": "code",
      "metadata": {
        "id": "5NtgGPL-DE_z"
      },
      "source": [
        "mean = [0.485, 0.456, 0.406]\n",
        "std = [0.229, 0.224, 0.225]\n",
        "\n",
        "\n",
        "transform_input = transforms.Compose([\n",
        "    transforms.ToTensor(),\n",
        "    transforms.Normalize(mean, std),\n",
        "])\n",
        "\n",
        "transform_mask = transforms.ToTensor()"
      ],
      "execution_count": null,
      "outputs": []
    },
    {
      "cell_type": "markdown",
      "metadata": {
        "id": "VMNHhGnonJau"
      },
      "source": [
        "# Dataset, network, optimizer and scheduler creation"
      ]
    },
    {
      "cell_type": "code",
      "metadata": {
        "id": "puDrmQiYDFC-",
        "colab": {
          "base_uri": "https://localhost:8080/",
          "height": 158,
          "referenced_widgets": [
            "3a7fd5b440de4bc68e1f6e4b4c290764",
            "9cdcf3e1b6bf406baafbb64fa6d45245",
            "409e6115ff4b4a5aa5e9a72c53519d1f",
            "d9c11ff7154643d6b3183e38038ad195",
            "b4f920ab467044dca7e70d1b805c5736",
            "5238afe7f6a54951a33172b909482843",
            "97986ed3e5724ca281ef696c8c4d37b2",
            "dac2d12071e646698337792edc3566e4",
            "bd3d038d77eb4f2da504e3264e9c1e9c",
            "b8fd439910d34d24a091a03603b5cf27",
            "98ea99542b82457880cab61f60fc71f3"
          ]
        },
        "outputId": "53267145-20a4-458d-ede4-4211b71fbf82"
      },
      "source": [
        "\n",
        "trainset = VOC(args, 'train', transform_input=transform_input, transform_mask=transform_mask)\n",
        "\n",
        "train_loader = torch.utils.data.DataLoader(trainset, batch_size=args.batch_size, shuffle=True, num_workers=8, pin_memory=True)\n",
        "testset = VOC(args, 'val', transform_input=transform_input, transform_mask=transform_mask)\n",
        "test_loader = torch.utils.data.DataLoader(testset, batch_size=args.test_batch_size, shuffle=False, num_workers=8, pin_memory=True)\n",
        "\n",
        "print('-------> Data loading')\n",
        "\n",
        "model = PSPNetLite(args, num_classes=args.num_classes, pretrained=args.pre_trained).to(device)\n",
        "print('Total params: %2.fM' % (sum(p.numel() for p in model.parameters()) / 1000000.0))\n",
        "\n",
        "milestones = args.M\n",
        "optimizer = optim.SGD(model.parameters(), lr=args.lr, momentum=0.9, weight_decay=1e-4)\n",
        "scheduler = optim.lr_scheduler.MultiStepLR(optimizer, milestones=milestones, gamma=0.1)"
      ],
      "execution_count": null,
      "outputs": [
        {
          "output_type": "stream",
          "name": "stderr",
          "text": [
            "/usr/local/lib/python3.7/dist-packages/torch/utils/data/dataloader.py:481: UserWarning: This DataLoader will create 8 worker processes in total. Our suggested max number of worker in current system is 2, which is smaller than what this DataLoader is going to create. Please be aware that excessive worker creation might get DataLoader running slow or even freeze, lower the worker number to avoid potential slowness/freeze if necessary.\n",
            "  cpuset_checked))\n"
          ]
        },
        {
          "output_type": "stream",
          "name": "stdout",
          "text": [
            "-------> Data loading\n"
          ]
        },
        {
          "output_type": "stream",
          "name": "stderr",
          "text": [
            "Downloading: \"https://download.pytorch.org/models/resnet18-f37072fd.pth\" to /root/.cache/torch/hub/checkpoints/resnet18-f37072fd.pth\n"
          ]
        },
        {
          "output_type": "display_data",
          "data": {
            "text/plain": [
              "  0%|          | 0.00/44.7M [00:00<?, ?B/s]"
            ],
            "application/vnd.jupyter.widget-view+json": {
              "version_major": 2,
              "version_minor": 0,
              "model_id": "3a7fd5b440de4bc68e1f6e4b4c290764"
            }
          },
          "metadata": {}
        },
        {
          "output_type": "stream",
          "name": "stdout",
          "text": [
            "Total params: 15M\n"
          ]
        }
      ]
    },
    {
      "cell_type": "markdown",
      "metadata": {
        "id": "A4kKZQzVnOpm"
      },
      "source": [
        "# Training loop"
      ]
    },
    {
      "cell_type": "code",
      "metadata": {
        "id": "Sq60MXIqDFGC",
        "colab": {
          "base_uri": "https://localhost:8080/"
        },
        "outputId": "6b4fbaa6-be82-4164-9caf-4a15d96e6467"
      },
      "source": [
        "loss_train_epoch = []\n",
        "loss_test_epoch = []\n",
        "acc_train_per_epoch = []\n",
        "acc_test_per_epoch = []\n",
        "new_labels = []\n",
        "\n",
        "cont = 0\n",
        "\n",
        "res_path = \"./metrics_\" + args.experiment_name\n",
        "\n",
        "if not os.path.isdir(res_path):\n",
        "    os.makedirs(res_path)\n",
        "\n",
        "for epoch in range(1, args.epoch + 1):\n",
        "    st = time.time()\n",
        "    scheduler.step()\n",
        "    # train for one epoch\n",
        "    print(\"PSPnetLite training, epoch \" + str(epoch))\n",
        "\n",
        "    loss_per_epoch = train_SemanticSeg(args, model, device, train_loader, optimizer, epoch)\n",
        "\n",
        "    loss_train_epoch += [loss_per_epoch]\n",
        "    \n",
        "    # test\n",
        "    loss_per_epoch_test, acc_val_per_epoch_i = testing(args, model, device, test_loader)\n",
        "\n",
        "    loss_test_epoch += loss_per_epoch_test\n",
        "    acc_test_per_epoch += [acc_val_per_epoch_i]\n",
        "\n",
        "\n",
        "    if epoch == 1:\n",
        "        best_acc_val = acc_val_per_epoch_i\n",
        "\n",
        "    else:\n",
        "        if acc_val_per_epoch_i > best_acc_val:\n",
        "            best_acc_val = acc_val_per_epoch_i\n",
        "\n",
        "    if epoch == args.epoch:\n",
        "        torch.save(model.state_dict(), \"mySemanticSegModelPreTrained.pth\")\n",
        "        #torch.save(model.state_dict(), \"mySemanticSegModelScratch.pth\")\n",
        "\n",
        "    np.save(res_path + '/' + 'LOSS_epoch_train.npy', np.asarray(loss_train_epoch))\n",
        "    np.save(res_path + '/' + 'LOSS_epoch_val.npy', np.asarray(loss_test_epoch))\n",
        "\n",
        "    # save accuracies:\n",
        "    np.save(res_path + '/' + 'accuracy_per_epoch_val.npy', np.asarray(acc_test_per_epoch))\n",
        "\n",
        "    cont += 1"
      ],
      "execution_count": null,
      "outputs": [
        {
          "metadata": {
            "tags": null
          },
          "name": "stdout",
          "output_type": "stream",
          "text": [
            "PSPnetLite training, epoch 1\n"
          ]
        },
        {
          "metadata": {
            "tags": null
          },
          "name": "stderr",
          "output_type": "stream",
          "text": [
            "/usr/local/lib/python3.7/dist-packages/torch/optim/lr_scheduler.py:134: UserWarning: Detected call of `lr_scheduler.step()` before `optimizer.step()`. In PyTorch 1.1.0 and later, you should call them in the opposite order: `optimizer.step()` before `lr_scheduler.step()`.  Failure to do this will result in PyTorch skipping the first value of the learning rate schedule. See more details at https://pytorch.org/docs/stable/optim.html#how-to-adjust-learning-rate\n",
            "  \"https://pytorch.org/docs/stable/optim.html#how-to-adjust-learning-rate\", UserWarning)\n",
            "/usr/local/lib/python3.7/dist-packages/torch/utils/data/dataloader.py:481: UserWarning: This DataLoader will create 8 worker processes in total. Our suggested max number of worker in current system is 2, which is smaller than what this DataLoader is going to create. Please be aware that excessive worker creation might get DataLoader running slow or even freeze, lower the worker number to avoid potential slowness/freeze if necessary.\n",
            "  cpuset_checked))\n",
            "/usr/local/lib/python3.7/dist-packages/torchvision/transforms/transforms.py:288: UserWarning: Argument interpolation should be of type InterpolationMode instead of int. Please, use InterpolationMode enum.\n",
            "  \"Argument interpolation should be of type InterpolationMode instead of int. \"\n",
            "/usr/local/lib/python3.7/dist-packages/torchvision/transforms/transforms.py:288: UserWarning: Argument interpolation should be of type InterpolationMode instead of int. Please, use InterpolationMode enum.\n",
            "  \"Argument interpolation should be of type InterpolationMode instead of int. \"\n",
            "/usr/local/lib/python3.7/dist-packages/torchvision/transforms/transforms.py:288: UserWarning: Argument interpolation should be of type InterpolationMode instead of int. Please, use InterpolationMode enum.\n",
            "  \"Argument interpolation should be of type InterpolationMode instead of int. \"\n",
            "/usr/local/lib/python3.7/dist-packages/torchvision/transforms/transforms.py:288: UserWarning: Argument interpolation should be of type InterpolationMode instead of int. Please, use InterpolationMode enum.\n",
            "  \"Argument interpolation should be of type InterpolationMode instead of int. \"\n",
            "/usr/local/lib/python3.7/dist-packages/torchvision/transforms/transforms.py:288: UserWarning: Argument interpolation should be of type InterpolationMode instead of int. Please, use InterpolationMode enum.\n",
            "  \"Argument interpolation should be of type InterpolationMode instead of int. \"\n",
            "/usr/local/lib/python3.7/dist-packages/torchvision/transforms/transforms.py:288: UserWarning: Argument interpolation should be of type InterpolationMode instead of int. Please, use InterpolationMode enum.\n",
            "  \"Argument interpolation should be of type InterpolationMode instead of int. \"\n",
            "/usr/local/lib/python3.7/dist-packages/torchvision/transforms/transforms.py:288: UserWarning: Argument interpolation should be of type InterpolationMode instead of int. Please, use InterpolationMode enum.\n",
            "  \"Argument interpolation should be of type InterpolationMode instead of int. \"\n",
            "/usr/local/lib/python3.7/dist-packages/torchvision/transforms/transforms.py:288: UserWarning: Argument interpolation should be of type InterpolationMode instead of int. Please, use InterpolationMode enum.\n",
            "  \"Argument interpolation should be of type InterpolationMode instead of int. \"\n",
            "/usr/local/lib/python3.7/dist-packages/torch/nn/functional.py:3635: UserWarning: Default upsampling behavior when mode=bilinear is changed to align_corners=False since 0.4.0. Please specify align_corners=True if the old behavior is desired. See the documentation of nn.Upsample for details.\n",
            "  \"See the documentation of nn.Upsample for details.\".format(mode)\n"
          ]
        },
        {
          "metadata": {
            "tags": null
          },
          "name": "stdout",
          "output_type": "stream",
          "text": [
            "Train Epoch: 1 [240/8498 (3%)]\tLoss: 1.753760, Learning rate: 0.001000\n",
            "Train Epoch: 1 [480/8498 (6%)]\tLoss: 1.588809, Learning rate: 0.001000\n",
            "Train Epoch: 1 [720/8498 (8%)]\tLoss: 1.461894, Learning rate: 0.001000\n",
            "Train Epoch: 1 [960/8498 (11%)]\tLoss: 1.367201, Learning rate: 0.001000\n",
            "Train Epoch: 1 [1200/8498 (14%)]\tLoss: 1.116642, Learning rate: 0.001000\n",
            "Train Epoch: 1 [1440/8498 (17%)]\tLoss: 1.360811, Learning rate: 0.001000\n",
            "Train Epoch: 1 [1680/8498 (20%)]\tLoss: 1.412467, Learning rate: 0.001000\n",
            "Train Epoch: 1 [1920/8498 (23%)]\tLoss: 0.991139, Learning rate: 0.001000\n",
            "Train Epoch: 1 [2160/8498 (25%)]\tLoss: 1.192218, Learning rate: 0.001000\n",
            "Train Epoch: 1 [2400/8498 (28%)]\tLoss: 1.061491, Learning rate: 0.001000\n",
            "Train Epoch: 1 [2640/8498 (31%)]\tLoss: 0.875993, Learning rate: 0.001000\n",
            "Train Epoch: 1 [2880/8498 (34%)]\tLoss: 0.818863, Learning rate: 0.001000\n",
            "Train Epoch: 1 [3120/8498 (37%)]\tLoss: 0.766865, Learning rate: 0.001000\n",
            "Train Epoch: 1 [3360/8498 (39%)]\tLoss: 1.117859, Learning rate: 0.001000\n",
            "Train Epoch: 1 [3600/8498 (42%)]\tLoss: 0.736470, Learning rate: 0.001000\n",
            "Train Epoch: 1 [3840/8498 (45%)]\tLoss: 0.818632, Learning rate: 0.001000\n",
            "Train Epoch: 1 [4080/8498 (48%)]\tLoss: 1.233713, Learning rate: 0.001000\n",
            "Train Epoch: 1 [4320/8498 (51%)]\tLoss: 1.032260, Learning rate: 0.001000\n",
            "Train Epoch: 1 [4560/8498 (54%)]\tLoss: 0.777000, Learning rate: 0.001000\n",
            "Train Epoch: 1 [4800/8498 (56%)]\tLoss: 1.132352, Learning rate: 0.001000\n",
            "Train Epoch: 1 [5040/8498 (59%)]\tLoss: 0.826440, Learning rate: 0.001000\n",
            "Train Epoch: 1 [5280/8498 (62%)]\tLoss: 1.027107, Learning rate: 0.001000\n",
            "Train Epoch: 1 [5520/8498 (65%)]\tLoss: 0.888791, Learning rate: 0.001000\n",
            "Train Epoch: 1 [5760/8498 (68%)]\tLoss: 0.704722, Learning rate: 0.001000\n",
            "Train Epoch: 1 [6000/8498 (70%)]\tLoss: 0.713728, Learning rate: 0.001000\n",
            "Train Epoch: 1 [6240/8498 (73%)]\tLoss: 0.677605, Learning rate: 0.001000\n",
            "Train Epoch: 1 [6480/8498 (76%)]\tLoss: 0.927459, Learning rate: 0.001000\n",
            "Train Epoch: 1 [6720/8498 (79%)]\tLoss: 0.596086, Learning rate: 0.001000\n",
            "Train Epoch: 1 [6960/8498 (82%)]\tLoss: 0.930545, Learning rate: 0.001000\n",
            "Train Epoch: 1 [7200/8498 (85%)]\tLoss: 0.842642, Learning rate: 0.001000\n",
            "Train Epoch: 1 [7440/8498 (87%)]\tLoss: 1.018083, Learning rate: 0.001000\n",
            "Train Epoch: 1 [7680/8498 (90%)]\tLoss: 0.723128, Learning rate: 0.001000\n",
            "Train Epoch: 1 [7920/8498 (93%)]\tLoss: 0.860229, Learning rate: 0.001000\n",
            "Train Epoch: 1 [8160/8498 (96%)]\tLoss: 0.937927, Learning rate: 0.001000\n",
            "Train Epoch: 1 [8400/8498 (99%)]\tLoss: 0.694475, Learning rate: 0.001000\n"
          ]
        },
        {
          "metadata": {
            "tags": null
          },
          "name": "stderr",
          "output_type": "stream",
          "text": [
            "/usr/local/lib/python3.7/dist-packages/torchvision/transforms/transforms.py:288: UserWarning: Argument interpolation should be of type InterpolationMode instead of int. Please, use InterpolationMode enum.\n",
            "  \"Argument interpolation should be of type InterpolationMode instead of int. \"\n",
            "/usr/local/lib/python3.7/dist-packages/torchvision/transforms/transforms.py:288: UserWarning: Argument interpolation should be of type InterpolationMode instead of int. Please, use InterpolationMode enum.\n",
            "  \"Argument interpolation should be of type InterpolationMode instead of int. \"\n",
            "/usr/local/lib/python3.7/dist-packages/torchvision/transforms/transforms.py:288: UserWarning: Argument interpolation should be of type InterpolationMode instead of int. Please, use InterpolationMode enum.\n",
            "  \"Argument interpolation should be of type InterpolationMode instead of int. \"\n",
            "/usr/local/lib/python3.7/dist-packages/torchvision/transforms/transforms.py:288: UserWarning: Argument interpolation should be of type InterpolationMode instead of int. Please, use InterpolationMode enum.\n",
            "  \"Argument interpolation should be of type InterpolationMode instead of int. \"\n",
            "/usr/local/lib/python3.7/dist-packages/torchvision/transforms/transforms.py:288: UserWarning: Argument interpolation should be of type InterpolationMode instead of int. Please, use InterpolationMode enum.\n",
            "  \"Argument interpolation should be of type InterpolationMode instead of int. \"\n",
            "/usr/local/lib/python3.7/dist-packages/torchvision/transforms/transforms.py:288: UserWarning: Argument interpolation should be of type InterpolationMode instead of int. Please, use InterpolationMode enum.\n",
            "  \"Argument interpolation should be of type InterpolationMode instead of int. \"\n",
            "/usr/local/lib/python3.7/dist-packages/torchvision/transforms/transforms.py:288: UserWarning: Argument interpolation should be of type InterpolationMode instead of int. Please, use InterpolationMode enum.\n",
            "  \"Argument interpolation should be of type InterpolationMode instead of int. \"\n",
            "/usr/local/lib/python3.7/dist-packages/torchvision/transforms/transforms.py:288: UserWarning: Argument interpolation should be of type InterpolationMode instead of int. Please, use InterpolationMode enum.\n",
            "  \"Argument interpolation should be of type InterpolationMode instead of int. \"\n"
          ]
        },
        {
          "metadata": {
            "tags": null
          },
          "name": "stdout",
          "output_type": "stream",
          "text": [
            "\n",
            "Test set (736): Average loss: 0.7700, mIoU: 0.4535\n",
            "\n",
            "PSPnetLite training, epoch 2\n"
          ]
        },
        {
          "metadata": {
            "tags": null
          },
          "name": "stderr",
          "output_type": "stream",
          "text": [
            "/usr/local/lib/python3.7/dist-packages/torchvision/transforms/transforms.py:288: UserWarning: Argument interpolation should be of type InterpolationMode instead of int. Please, use InterpolationMode enum.\n",
            "  \"Argument interpolation should be of type InterpolationMode instead of int. \"\n",
            "/usr/local/lib/python3.7/dist-packages/torchvision/transforms/transforms.py:288: UserWarning: Argument interpolation should be of type InterpolationMode instead of int. Please, use InterpolationMode enum.\n",
            "  \"Argument interpolation should be of type InterpolationMode instead of int. \"\n",
            "/usr/local/lib/python3.7/dist-packages/torchvision/transforms/transforms.py:288: UserWarning: Argument interpolation should be of type InterpolationMode instead of int. Please, use InterpolationMode enum.\n",
            "  \"Argument interpolation should be of type InterpolationMode instead of int. \"\n",
            "/usr/local/lib/python3.7/dist-packages/torchvision/transforms/transforms.py:288: UserWarning: Argument interpolation should be of type InterpolationMode instead of int. Please, use InterpolationMode enum.\n",
            "  \"Argument interpolation should be of type InterpolationMode instead of int. \"\n",
            "/usr/local/lib/python3.7/dist-packages/torchvision/transforms/transforms.py:288: UserWarning: Argument interpolation should be of type InterpolationMode instead of int. Please, use InterpolationMode enum.\n",
            "  \"Argument interpolation should be of type InterpolationMode instead of int. \"\n",
            "/usr/local/lib/python3.7/dist-packages/torchvision/transforms/transforms.py:288: UserWarning: Argument interpolation should be of type InterpolationMode instead of int. Please, use InterpolationMode enum.\n",
            "  \"Argument interpolation should be of type InterpolationMode instead of int. \"\n",
            "/usr/local/lib/python3.7/dist-packages/torchvision/transforms/transforms.py:288: UserWarning: Argument interpolation should be of type InterpolationMode instead of int. Please, use InterpolationMode enum.\n",
            "  \"Argument interpolation should be of type InterpolationMode instead of int. \"\n",
            "/usr/local/lib/python3.7/dist-packages/torchvision/transforms/transforms.py:288: UserWarning: Argument interpolation should be of type InterpolationMode instead of int. Please, use InterpolationMode enum.\n",
            "  \"Argument interpolation should be of type InterpolationMode instead of int. \"\n"
          ]
        },
        {
          "metadata": {
            "tags": null
          },
          "name": "stdout",
          "output_type": "stream",
          "text": [
            "Train Epoch: 2 [240/8498 (3%)]\tLoss: 0.585475, Learning rate: 0.001000\n",
            "Train Epoch: 2 [480/8498 (6%)]\tLoss: 0.707921, Learning rate: 0.001000\n",
            "Train Epoch: 2 [720/8498 (8%)]\tLoss: 0.923396, Learning rate: 0.001000\n",
            "Train Epoch: 2 [960/8498 (11%)]\tLoss: 0.545332, Learning rate: 0.001000\n",
            "Train Epoch: 2 [1200/8498 (14%)]\tLoss: 0.593368, Learning rate: 0.001000\n",
            "Train Epoch: 2 [1440/8498 (17%)]\tLoss: 1.112010, Learning rate: 0.001000\n",
            "Train Epoch: 2 [1680/8498 (20%)]\tLoss: 0.796492, Learning rate: 0.001000\n",
            "Train Epoch: 2 [1920/8498 (23%)]\tLoss: 0.516570, Learning rate: 0.001000\n",
            "Train Epoch: 2 [2160/8498 (25%)]\tLoss: 0.777741, Learning rate: 0.001000\n",
            "Train Epoch: 2 [2400/8498 (28%)]\tLoss: 0.534246, Learning rate: 0.001000\n",
            "Train Epoch: 2 [2640/8498 (31%)]\tLoss: 0.671815, Learning rate: 0.001000\n",
            "Train Epoch: 2 [2880/8498 (34%)]\tLoss: 0.841399, Learning rate: 0.001000\n",
            "Train Epoch: 2 [3120/8498 (37%)]\tLoss: 0.757489, Learning rate: 0.001000\n",
            "Train Epoch: 2 [3360/8498 (39%)]\tLoss: 0.538430, Learning rate: 0.001000\n",
            "Train Epoch: 2 [3600/8498 (42%)]\tLoss: 0.565677, Learning rate: 0.001000\n",
            "Train Epoch: 2 [3840/8498 (45%)]\tLoss: 1.086973, Learning rate: 0.001000\n",
            "Train Epoch: 2 [4080/8498 (48%)]\tLoss: 0.489755, Learning rate: 0.001000\n",
            "Train Epoch: 2 [4320/8498 (51%)]\tLoss: 0.668419, Learning rate: 0.001000\n",
            "Train Epoch: 2 [4560/8498 (54%)]\tLoss: 1.107305, Learning rate: 0.001000\n",
            "Train Epoch: 2 [4800/8498 (56%)]\tLoss: 0.557714, Learning rate: 0.001000\n",
            "Train Epoch: 2 [5040/8498 (59%)]\tLoss: 0.646754, Learning rate: 0.001000\n",
            "Train Epoch: 2 [5280/8498 (62%)]\tLoss: 0.595784, Learning rate: 0.001000\n",
            "Train Epoch: 2 [5520/8498 (65%)]\tLoss: 0.609192, Learning rate: 0.001000\n",
            "Train Epoch: 2 [5760/8498 (68%)]\tLoss: 0.839988, Learning rate: 0.001000\n",
            "Train Epoch: 2 [6000/8498 (70%)]\tLoss: 0.797989, Learning rate: 0.001000\n",
            "Train Epoch: 2 [6240/8498 (73%)]\tLoss: 0.639215, Learning rate: 0.001000\n",
            "Train Epoch: 2 [6480/8498 (76%)]\tLoss: 0.458639, Learning rate: 0.001000\n",
            "Train Epoch: 2 [6720/8498 (79%)]\tLoss: 0.653608, Learning rate: 0.001000\n",
            "Train Epoch: 2 [6960/8498 (82%)]\tLoss: 0.556455, Learning rate: 0.001000\n",
            "Train Epoch: 2 [7200/8498 (85%)]\tLoss: 0.510344, Learning rate: 0.001000\n",
            "Train Epoch: 2 [7440/8498 (87%)]\tLoss: 0.595893, Learning rate: 0.001000\n",
            "Train Epoch: 2 [7680/8498 (90%)]\tLoss: 0.665894, Learning rate: 0.001000\n",
            "Train Epoch: 2 [7920/8498 (93%)]\tLoss: 1.132843, Learning rate: 0.001000\n",
            "Train Epoch: 2 [8160/8498 (96%)]\tLoss: 0.669640, Learning rate: 0.001000\n",
            "Train Epoch: 2 [8400/8498 (99%)]\tLoss: 0.584243, Learning rate: 0.001000\n"
          ]
        },
        {
          "metadata": {
            "tags": null
          },
          "name": "stderr",
          "output_type": "stream",
          "text": [
            "/usr/local/lib/python3.7/dist-packages/torchvision/transforms/transforms.py:288: UserWarning: Argument interpolation should be of type InterpolationMode instead of int. Please, use InterpolationMode enum.\n",
            "  \"Argument interpolation should be of type InterpolationMode instead of int. \"\n",
            "/usr/local/lib/python3.7/dist-packages/torchvision/transforms/transforms.py:288: UserWarning: Argument interpolation should be of type InterpolationMode instead of int. Please, use InterpolationMode enum.\n",
            "  \"Argument interpolation should be of type InterpolationMode instead of int. \"\n",
            "/usr/local/lib/python3.7/dist-packages/torchvision/transforms/transforms.py:288: UserWarning: Argument interpolation should be of type InterpolationMode instead of int. Please, use InterpolationMode enum.\n",
            "  \"Argument interpolation should be of type InterpolationMode instead of int. \"\n",
            "/usr/local/lib/python3.7/dist-packages/torchvision/transforms/transforms.py:288: UserWarning: Argument interpolation should be of type InterpolationMode instead of int. Please, use InterpolationMode enum.\n",
            "  \"Argument interpolation should be of type InterpolationMode instead of int. \"\n",
            "/usr/local/lib/python3.7/dist-packages/torchvision/transforms/transforms.py:288: UserWarning: Argument interpolation should be of type InterpolationMode instead of int. Please, use InterpolationMode enum.\n",
            "  \"Argument interpolation should be of type InterpolationMode instead of int. \"\n",
            "/usr/local/lib/python3.7/dist-packages/torchvision/transforms/transforms.py:288: UserWarning: Argument interpolation should be of type InterpolationMode instead of int. Please, use InterpolationMode enum.\n",
            "  \"Argument interpolation should be of type InterpolationMode instead of int. \"\n",
            "/usr/local/lib/python3.7/dist-packages/torchvision/transforms/transforms.py:288: UserWarning: Argument interpolation should be of type InterpolationMode instead of int. Please, use InterpolationMode enum.\n",
            "  \"Argument interpolation should be of type InterpolationMode instead of int. \"\n",
            "/usr/local/lib/python3.7/dist-packages/torchvision/transforms/transforms.py:288: UserWarning: Argument interpolation should be of type InterpolationMode instead of int. Please, use InterpolationMode enum.\n",
            "  \"Argument interpolation should be of type InterpolationMode instead of int. \"\n"
          ]
        },
        {
          "metadata": {
            "tags": null
          },
          "name": "stdout",
          "output_type": "stream",
          "text": [
            "\n",
            "Test set (736): Average loss: 0.7391, mIoU: 0.5055\n",
            "\n",
            "PSPnetLite training, epoch 3\n"
          ]
        },
        {
          "metadata": {
            "tags": null
          },
          "name": "stderr",
          "output_type": "stream",
          "text": [
            "/usr/local/lib/python3.7/dist-packages/torchvision/transforms/transforms.py:288: UserWarning: Argument interpolation should be of type InterpolationMode instead of int. Please, use InterpolationMode enum.\n",
            "  \"Argument interpolation should be of type InterpolationMode instead of int. \"\n",
            "/usr/local/lib/python3.7/dist-packages/torchvision/transforms/transforms.py:288: UserWarning: Argument interpolation should be of type InterpolationMode instead of int. Please, use InterpolationMode enum.\n",
            "  \"Argument interpolation should be of type InterpolationMode instead of int. \"\n",
            "/usr/local/lib/python3.7/dist-packages/torchvision/transforms/transforms.py:288: UserWarning: Argument interpolation should be of type InterpolationMode instead of int. Please, use InterpolationMode enum.\n",
            "  \"Argument interpolation should be of type InterpolationMode instead of int. \"\n",
            "/usr/local/lib/python3.7/dist-packages/torchvision/transforms/transforms.py:288: UserWarning: Argument interpolation should be of type InterpolationMode instead of int. Please, use InterpolationMode enum.\n",
            "  \"Argument interpolation should be of type InterpolationMode instead of int. \"\n",
            "/usr/local/lib/python3.7/dist-packages/torchvision/transforms/transforms.py:288: UserWarning: Argument interpolation should be of type InterpolationMode instead of int. Please, use InterpolationMode enum.\n",
            "  \"Argument interpolation should be of type InterpolationMode instead of int. \"\n",
            "/usr/local/lib/python3.7/dist-packages/torchvision/transforms/transforms.py:288: UserWarning: Argument interpolation should be of type InterpolationMode instead of int. Please, use InterpolationMode enum.\n",
            "  \"Argument interpolation should be of type InterpolationMode instead of int. \"\n",
            "/usr/local/lib/python3.7/dist-packages/torchvision/transforms/transforms.py:288: UserWarning: Argument interpolation should be of type InterpolationMode instead of int. Please, use InterpolationMode enum.\n",
            "  \"Argument interpolation should be of type InterpolationMode instead of int. \"\n",
            "/usr/local/lib/python3.7/dist-packages/torchvision/transforms/transforms.py:288: UserWarning: Argument interpolation should be of type InterpolationMode instead of int. Please, use InterpolationMode enum.\n",
            "  \"Argument interpolation should be of type InterpolationMode instead of int. \"\n"
          ]
        },
        {
          "metadata": {
            "tags": null
          },
          "name": "stdout",
          "output_type": "stream",
          "text": [
            "Train Epoch: 3 [240/8498 (3%)]\tLoss: 0.479708, Learning rate: 0.001000\n",
            "Train Epoch: 3 [480/8498 (6%)]\tLoss: 0.610071, Learning rate: 0.001000\n",
            "Train Epoch: 3 [720/8498 (8%)]\tLoss: 0.799152, Learning rate: 0.001000\n",
            "Train Epoch: 3 [960/8498 (11%)]\tLoss: 0.615485, Learning rate: 0.001000\n",
            "Train Epoch: 3 [1200/8498 (14%)]\tLoss: 0.737616, Learning rate: 0.001000\n",
            "Train Epoch: 3 [1440/8498 (17%)]\tLoss: 0.614090, Learning rate: 0.001000\n",
            "Train Epoch: 3 [1680/8498 (20%)]\tLoss: 0.622797, Learning rate: 0.001000\n",
            "Train Epoch: 3 [1920/8498 (23%)]\tLoss: 0.672432, Learning rate: 0.001000\n",
            "Train Epoch: 3 [2160/8498 (25%)]\tLoss: 0.652199, Learning rate: 0.001000\n",
            "Train Epoch: 3 [2400/8498 (28%)]\tLoss: 0.506283, Learning rate: 0.001000\n",
            "Train Epoch: 3 [2640/8498 (31%)]\tLoss: 0.469444, Learning rate: 0.001000\n",
            "Train Epoch: 3 [2880/8498 (34%)]\tLoss: 0.469788, Learning rate: 0.001000\n",
            "Train Epoch: 3 [3120/8498 (37%)]\tLoss: 0.636731, Learning rate: 0.001000\n",
            "Train Epoch: 3 [3360/8498 (39%)]\tLoss: 0.526301, Learning rate: 0.001000\n",
            "Train Epoch: 3 [3600/8498 (42%)]\tLoss: 0.648996, Learning rate: 0.001000\n",
            "Train Epoch: 3 [3840/8498 (45%)]\tLoss: 0.588963, Learning rate: 0.001000\n",
            "Train Epoch: 3 [4080/8498 (48%)]\tLoss: 0.447801, Learning rate: 0.001000\n",
            "Train Epoch: 3 [4320/8498 (51%)]\tLoss: 0.969754, Learning rate: 0.001000\n",
            "Train Epoch: 3 [4560/8498 (54%)]\tLoss: 0.428380, Learning rate: 0.001000\n",
            "Train Epoch: 3 [4800/8498 (56%)]\tLoss: 0.470821, Learning rate: 0.001000\n",
            "Train Epoch: 3 [5040/8498 (59%)]\tLoss: 0.499855, Learning rate: 0.001000\n",
            "Train Epoch: 3 [5280/8498 (62%)]\tLoss: 0.777003, Learning rate: 0.001000\n",
            "Train Epoch: 3 [5520/8498 (65%)]\tLoss: 0.671831, Learning rate: 0.001000\n",
            "Train Epoch: 3 [5760/8498 (68%)]\tLoss: 0.663167, Learning rate: 0.001000\n",
            "Train Epoch: 3 [6000/8498 (70%)]\tLoss: 0.634061, Learning rate: 0.001000\n",
            "Train Epoch: 3 [6240/8498 (73%)]\tLoss: 0.566757, Learning rate: 0.001000\n",
            "Train Epoch: 3 [6480/8498 (76%)]\tLoss: 0.463696, Learning rate: 0.001000\n",
            "Train Epoch: 3 [6720/8498 (79%)]\tLoss: 0.576262, Learning rate: 0.001000\n",
            "Train Epoch: 3 [6960/8498 (82%)]\tLoss: 0.811132, Learning rate: 0.001000\n",
            "Train Epoch: 3 [7200/8498 (85%)]\tLoss: 0.693369, Learning rate: 0.001000\n",
            "Train Epoch: 3 [7440/8498 (87%)]\tLoss: 0.394510, Learning rate: 0.001000\n",
            "Train Epoch: 3 [7680/8498 (90%)]\tLoss: 0.834517, Learning rate: 0.001000\n",
            "Train Epoch: 3 [7920/8498 (93%)]\tLoss: 0.439549, Learning rate: 0.001000\n",
            "Train Epoch: 3 [8160/8498 (96%)]\tLoss: 0.574518, Learning rate: 0.001000\n",
            "Train Epoch: 3 [8400/8498 (99%)]\tLoss: 0.671491, Learning rate: 0.001000\n"
          ]
        },
        {
          "metadata": {
            "tags": null
          },
          "name": "stderr",
          "output_type": "stream",
          "text": [
            "/usr/local/lib/python3.7/dist-packages/torchvision/transforms/transforms.py:288: UserWarning: Argument interpolation should be of type InterpolationMode instead of int. Please, use InterpolationMode enum.\n",
            "  \"Argument interpolation should be of type InterpolationMode instead of int. \"\n",
            "/usr/local/lib/python3.7/dist-packages/torchvision/transforms/transforms.py:288: UserWarning: Argument interpolation should be of type InterpolationMode instead of int. Please, use InterpolationMode enum.\n",
            "  \"Argument interpolation should be of type InterpolationMode instead of int. \"\n",
            "/usr/local/lib/python3.7/dist-packages/torchvision/transforms/transforms.py:288: UserWarning: Argument interpolation should be of type InterpolationMode instead of int. Please, use InterpolationMode enum.\n",
            "  \"Argument interpolation should be of type InterpolationMode instead of int. \"\n",
            "/usr/local/lib/python3.7/dist-packages/torchvision/transforms/transforms.py:288: UserWarning: Argument interpolation should be of type InterpolationMode instead of int. Please, use InterpolationMode enum.\n",
            "  \"Argument interpolation should be of type InterpolationMode instead of int. \"\n",
            "/usr/local/lib/python3.7/dist-packages/torchvision/transforms/transforms.py:288: UserWarning: Argument interpolation should be of type InterpolationMode instead of int. Please, use InterpolationMode enum.\n",
            "  \"Argument interpolation should be of type InterpolationMode instead of int. \"\n",
            "/usr/local/lib/python3.7/dist-packages/torchvision/transforms/transforms.py:288: UserWarning: Argument interpolation should be of type InterpolationMode instead of int. Please, use InterpolationMode enum.\n",
            "  \"Argument interpolation should be of type InterpolationMode instead of int. \"\n",
            "/usr/local/lib/python3.7/dist-packages/torchvision/transforms/transforms.py:288: UserWarning: Argument interpolation should be of type InterpolationMode instead of int. Please, use InterpolationMode enum.\n",
            "  \"Argument interpolation should be of type InterpolationMode instead of int. \"\n",
            "/usr/local/lib/python3.7/dist-packages/torchvision/transforms/transforms.py:288: UserWarning: Argument interpolation should be of type InterpolationMode instead of int. Please, use InterpolationMode enum.\n",
            "  \"Argument interpolation should be of type InterpolationMode instead of int. \"\n"
          ]
        },
        {
          "metadata": {
            "tags": null
          },
          "name": "stdout",
          "output_type": "stream",
          "text": [
            "\n",
            "Test set (736): Average loss: 0.7164, mIoU: 0.5237\n",
            "\n",
            "PSPnetLite training, epoch 4\n"
          ]
        },
        {
          "metadata": {
            "tags": null
          },
          "name": "stderr",
          "output_type": "stream",
          "text": [
            "/usr/local/lib/python3.7/dist-packages/torchvision/transforms/transforms.py:288: UserWarning: Argument interpolation should be of type InterpolationMode instead of int. Please, use InterpolationMode enum.\n",
            "  \"Argument interpolation should be of type InterpolationMode instead of int. \"\n",
            "/usr/local/lib/python3.7/dist-packages/torchvision/transforms/transforms.py:288: UserWarning: Argument interpolation should be of type InterpolationMode instead of int. Please, use InterpolationMode enum.\n",
            "  \"Argument interpolation should be of type InterpolationMode instead of int. \"\n",
            "/usr/local/lib/python3.7/dist-packages/torchvision/transforms/transforms.py:288: UserWarning: Argument interpolation should be of type InterpolationMode instead of int. Please, use InterpolationMode enum.\n",
            "  \"Argument interpolation should be of type InterpolationMode instead of int. \"\n",
            "/usr/local/lib/python3.7/dist-packages/torchvision/transforms/transforms.py:288: UserWarning: Argument interpolation should be of type InterpolationMode instead of int. Please, use InterpolationMode enum.\n",
            "  \"Argument interpolation should be of type InterpolationMode instead of int. \"\n",
            "/usr/local/lib/python3.7/dist-packages/torchvision/transforms/transforms.py:288: UserWarning: Argument interpolation should be of type InterpolationMode instead of int. Please, use InterpolationMode enum.\n",
            "  \"Argument interpolation should be of type InterpolationMode instead of int. \"\n",
            "/usr/local/lib/python3.7/dist-packages/torchvision/transforms/transforms.py:288: UserWarning: Argument interpolation should be of type InterpolationMode instead of int. Please, use InterpolationMode enum.\n",
            "  \"Argument interpolation should be of type InterpolationMode instead of int. \"\n",
            "/usr/local/lib/python3.7/dist-packages/torchvision/transforms/transforms.py:288: UserWarning: Argument interpolation should be of type InterpolationMode instead of int. Please, use InterpolationMode enum.\n",
            "  \"Argument interpolation should be of type InterpolationMode instead of int. \"\n",
            "/usr/local/lib/python3.7/dist-packages/torchvision/transforms/transforms.py:288: UserWarning: Argument interpolation should be of type InterpolationMode instead of int. Please, use InterpolationMode enum.\n",
            "  \"Argument interpolation should be of type InterpolationMode instead of int. \"\n"
          ]
        },
        {
          "metadata": {
            "tags": null
          },
          "name": "stdout",
          "output_type": "stream",
          "text": [
            "Train Epoch: 4 [240/8498 (3%)]\tLoss: 0.741191, Learning rate: 0.001000\n",
            "Train Epoch: 4 [480/8498 (6%)]\tLoss: 0.979429, Learning rate: 0.001000\n",
            "Train Epoch: 4 [720/8498 (8%)]\tLoss: 0.543255, Learning rate: 0.001000\n",
            "Train Epoch: 4 [960/8498 (11%)]\tLoss: 0.719689, Learning rate: 0.001000\n",
            "Train Epoch: 4 [1200/8498 (14%)]\tLoss: 0.813575, Learning rate: 0.001000\n",
            "Train Epoch: 4 [1440/8498 (17%)]\tLoss: 0.535010, Learning rate: 0.001000\n",
            "Train Epoch: 4 [1680/8498 (20%)]\tLoss: 0.584206, Learning rate: 0.001000\n",
            "Train Epoch: 4 [1920/8498 (23%)]\tLoss: 0.650201, Learning rate: 0.001000\n",
            "Train Epoch: 4 [2160/8498 (25%)]\tLoss: 0.445663, Learning rate: 0.001000\n",
            "Train Epoch: 4 [2400/8498 (28%)]\tLoss: 0.555343, Learning rate: 0.001000\n",
            "Train Epoch: 4 [2640/8498 (31%)]\tLoss: 0.418298, Learning rate: 0.001000\n",
            "Train Epoch: 4 [2880/8498 (34%)]\tLoss: 0.462964, Learning rate: 0.001000\n",
            "Train Epoch: 4 [3120/8498 (37%)]\tLoss: 0.592431, Learning rate: 0.001000\n",
            "Train Epoch: 4 [3360/8498 (39%)]\tLoss: 0.550255, Learning rate: 0.001000\n",
            "Train Epoch: 4 [3600/8498 (42%)]\tLoss: 0.437258, Learning rate: 0.001000\n",
            "Train Epoch: 4 [3840/8498 (45%)]\tLoss: 0.630081, Learning rate: 0.001000\n",
            "Train Epoch: 4 [4080/8498 (48%)]\tLoss: 0.706793, Learning rate: 0.001000\n",
            "Train Epoch: 4 [4320/8498 (51%)]\tLoss: 0.642898, Learning rate: 0.001000\n",
            "Train Epoch: 4 [4560/8498 (54%)]\tLoss: 0.605428, Learning rate: 0.001000\n",
            "Train Epoch: 4 [4800/8498 (56%)]\tLoss: 0.759515, Learning rate: 0.001000\n",
            "Train Epoch: 4 [5040/8498 (59%)]\tLoss: 0.574265, Learning rate: 0.001000\n",
            "Train Epoch: 4 [5280/8498 (62%)]\tLoss: 0.901029, Learning rate: 0.001000\n",
            "Train Epoch: 4 [5520/8498 (65%)]\tLoss: 0.822337, Learning rate: 0.001000\n",
            "Train Epoch: 4 [5760/8498 (68%)]\tLoss: 0.796423, Learning rate: 0.001000\n",
            "Train Epoch: 4 [6000/8498 (70%)]\tLoss: 0.409415, Learning rate: 0.001000\n",
            "Train Epoch: 4 [6240/8498 (73%)]\tLoss: 0.835110, Learning rate: 0.001000\n",
            "Train Epoch: 4 [6480/8498 (76%)]\tLoss: 0.691814, Learning rate: 0.001000\n",
            "Train Epoch: 4 [6720/8498 (79%)]\tLoss: 0.434333, Learning rate: 0.001000\n",
            "Train Epoch: 4 [6960/8498 (82%)]\tLoss: 0.618084, Learning rate: 0.001000\n",
            "Train Epoch: 4 [7200/8498 (85%)]\tLoss: 0.565289, Learning rate: 0.001000\n",
            "Train Epoch: 4 [7440/8498 (87%)]\tLoss: 0.640240, Learning rate: 0.001000\n",
            "Train Epoch: 4 [7680/8498 (90%)]\tLoss: 0.362007, Learning rate: 0.001000\n",
            "Train Epoch: 4 [7920/8498 (93%)]\tLoss: 0.681266, Learning rate: 0.001000\n",
            "Train Epoch: 4 [8160/8498 (96%)]\tLoss: 0.553942, Learning rate: 0.001000\n",
            "Train Epoch: 4 [8400/8498 (99%)]\tLoss: 0.871823, Learning rate: 0.001000\n"
          ]
        },
        {
          "metadata": {
            "tags": null
          },
          "name": "stderr",
          "output_type": "stream",
          "text": [
            "/usr/local/lib/python3.7/dist-packages/torchvision/transforms/transforms.py:288: UserWarning: Argument interpolation should be of type InterpolationMode instead of int. Please, use InterpolationMode enum.\n",
            "  \"Argument interpolation should be of type InterpolationMode instead of int. \"\n",
            "/usr/local/lib/python3.7/dist-packages/torchvision/transforms/transforms.py:288: UserWarning: Argument interpolation should be of type InterpolationMode instead of int. Please, use InterpolationMode enum.\n",
            "  \"Argument interpolation should be of type InterpolationMode instead of int. \"\n",
            "/usr/local/lib/python3.7/dist-packages/torchvision/transforms/transforms.py:288: UserWarning: Argument interpolation should be of type InterpolationMode instead of int. Please, use InterpolationMode enum.\n",
            "  \"Argument interpolation should be of type InterpolationMode instead of int. \"\n",
            "/usr/local/lib/python3.7/dist-packages/torchvision/transforms/transforms.py:288: UserWarning: Argument interpolation should be of type InterpolationMode instead of int. Please, use InterpolationMode enum.\n",
            "  \"Argument interpolation should be of type InterpolationMode instead of int. \"\n",
            "/usr/local/lib/python3.7/dist-packages/torchvision/transforms/transforms.py:288: UserWarning: Argument interpolation should be of type InterpolationMode instead of int. Please, use InterpolationMode enum.\n",
            "  \"Argument interpolation should be of type InterpolationMode instead of int. \"\n",
            "/usr/local/lib/python3.7/dist-packages/torchvision/transforms/transforms.py:288: UserWarning: Argument interpolation should be of type InterpolationMode instead of int. Please, use InterpolationMode enum.\n",
            "  \"Argument interpolation should be of type InterpolationMode instead of int. \"\n",
            "/usr/local/lib/python3.7/dist-packages/torchvision/transforms/transforms.py:288: UserWarning: Argument interpolation should be of type InterpolationMode instead of int. Please, use InterpolationMode enum.\n",
            "  \"Argument interpolation should be of type InterpolationMode instead of int. \"\n",
            "/usr/local/lib/python3.7/dist-packages/torchvision/transforms/transforms.py:288: UserWarning: Argument interpolation should be of type InterpolationMode instead of int. Please, use InterpolationMode enum.\n",
            "  \"Argument interpolation should be of type InterpolationMode instead of int. \"\n"
          ]
        },
        {
          "metadata": {
            "tags": null
          },
          "name": "stdout",
          "output_type": "stream",
          "text": [
            "\n",
            "Test set (736): Average loss: 0.6716, mIoU: 0.5502\n",
            "\n",
            "PSPnetLite training, epoch 5\n"
          ]
        },
        {
          "metadata": {
            "tags": null
          },
          "name": "stderr",
          "output_type": "stream",
          "text": [
            "/usr/local/lib/python3.7/dist-packages/torchvision/transforms/transforms.py:288: UserWarning: Argument interpolation should be of type InterpolationMode instead of int. Please, use InterpolationMode enum.\n",
            "  \"Argument interpolation should be of type InterpolationMode instead of int. \"\n",
            "/usr/local/lib/python3.7/dist-packages/torchvision/transforms/transforms.py:288: UserWarning: Argument interpolation should be of type InterpolationMode instead of int. Please, use InterpolationMode enum.\n",
            "  \"Argument interpolation should be of type InterpolationMode instead of int. \"\n",
            "/usr/local/lib/python3.7/dist-packages/torchvision/transforms/transforms.py:288: UserWarning: Argument interpolation should be of type InterpolationMode instead of int. Please, use InterpolationMode enum.\n",
            "  \"Argument interpolation should be of type InterpolationMode instead of int. \"\n",
            "/usr/local/lib/python3.7/dist-packages/torchvision/transforms/transforms.py:288: UserWarning: Argument interpolation should be of type InterpolationMode instead of int. Please, use InterpolationMode enum.\n",
            "  \"Argument interpolation should be of type InterpolationMode instead of int. \"\n",
            "/usr/local/lib/python3.7/dist-packages/torchvision/transforms/transforms.py:288: UserWarning: Argument interpolation should be of type InterpolationMode instead of int. Please, use InterpolationMode enum.\n",
            "  \"Argument interpolation should be of type InterpolationMode instead of int. \"\n",
            "/usr/local/lib/python3.7/dist-packages/torchvision/transforms/transforms.py:288: UserWarning: Argument interpolation should be of type InterpolationMode instead of int. Please, use InterpolationMode enum.\n",
            "  \"Argument interpolation should be of type InterpolationMode instead of int. \"\n",
            "/usr/local/lib/python3.7/dist-packages/torchvision/transforms/transforms.py:288: UserWarning: Argument interpolation should be of type InterpolationMode instead of int. Please, use InterpolationMode enum.\n",
            "  \"Argument interpolation should be of type InterpolationMode instead of int. \"\n",
            "/usr/local/lib/python3.7/dist-packages/torchvision/transforms/transforms.py:288: UserWarning: Argument interpolation should be of type InterpolationMode instead of int. Please, use InterpolationMode enum.\n",
            "  \"Argument interpolation should be of type InterpolationMode instead of int. \"\n"
          ]
        },
        {
          "metadata": {
            "tags": null
          },
          "name": "stdout",
          "output_type": "stream",
          "text": [
            "Train Epoch: 5 [240/8498 (3%)]\tLoss: 0.550153, Learning rate: 0.001000\n",
            "Train Epoch: 5 [480/8498 (6%)]\tLoss: 0.358047, Learning rate: 0.001000\n",
            "Train Epoch: 5 [720/8498 (8%)]\tLoss: 0.940271, Learning rate: 0.001000\n",
            "Train Epoch: 5 [960/8498 (11%)]\tLoss: 0.795826, Learning rate: 0.001000\n",
            "Train Epoch: 5 [1200/8498 (14%)]\tLoss: 0.608652, Learning rate: 0.001000\n",
            "Train Epoch: 5 [1440/8498 (17%)]\tLoss: 0.749921, Learning rate: 0.001000\n",
            "Train Epoch: 5 [1680/8498 (20%)]\tLoss: 0.449123, Learning rate: 0.001000\n",
            "Train Epoch: 5 [1920/8498 (23%)]\tLoss: 0.479064, Learning rate: 0.001000\n",
            "Train Epoch: 5 [2160/8498 (25%)]\tLoss: 0.478912, Learning rate: 0.001000\n",
            "Train Epoch: 5 [2400/8498 (28%)]\tLoss: 0.838220, Learning rate: 0.001000\n",
            "Train Epoch: 5 [2640/8498 (31%)]\tLoss: 0.601863, Learning rate: 0.001000\n",
            "Train Epoch: 5 [2880/8498 (34%)]\tLoss: 0.756940, Learning rate: 0.001000\n",
            "Train Epoch: 5 [3120/8498 (37%)]\tLoss: 0.486088, Learning rate: 0.001000\n",
            "Train Epoch: 5 [3360/8498 (39%)]\tLoss: 0.366581, Learning rate: 0.001000\n",
            "Train Epoch: 5 [3600/8498 (42%)]\tLoss: 0.503649, Learning rate: 0.001000\n",
            "Train Epoch: 5 [3840/8498 (45%)]\tLoss: 0.452329, Learning rate: 0.001000\n",
            "Train Epoch: 5 [4080/8498 (48%)]\tLoss: 0.479939, Learning rate: 0.001000\n",
            "Train Epoch: 5 [4320/8498 (51%)]\tLoss: 0.447071, Learning rate: 0.001000\n",
            "Train Epoch: 5 [4560/8498 (54%)]\tLoss: 0.619493, Learning rate: 0.001000\n",
            "Train Epoch: 5 [4800/8498 (56%)]\tLoss: 0.700275, Learning rate: 0.001000\n",
            "Train Epoch: 5 [5040/8498 (59%)]\tLoss: 0.647507, Learning rate: 0.001000\n",
            "Train Epoch: 5 [5280/8498 (62%)]\tLoss: 0.307981, Learning rate: 0.001000\n",
            "Train Epoch: 5 [5520/8498 (65%)]\tLoss: 0.550658, Learning rate: 0.001000\n",
            "Train Epoch: 5 [5760/8498 (68%)]\tLoss: 0.484356, Learning rate: 0.001000\n",
            "Train Epoch: 5 [6000/8498 (70%)]\tLoss: 0.296001, Learning rate: 0.001000\n",
            "Train Epoch: 5 [6240/8498 (73%)]\tLoss: 0.683635, Learning rate: 0.001000\n",
            "Train Epoch: 5 [6480/8498 (76%)]\tLoss: 0.460000, Learning rate: 0.001000\n",
            "Train Epoch: 5 [6720/8498 (79%)]\tLoss: 0.475165, Learning rate: 0.001000\n",
            "Train Epoch: 5 [6960/8498 (82%)]\tLoss: 0.484649, Learning rate: 0.001000\n",
            "Train Epoch: 5 [7200/8498 (85%)]\tLoss: 0.692205, Learning rate: 0.001000\n",
            "Train Epoch: 5 [7440/8498 (87%)]\tLoss: 0.674530, Learning rate: 0.001000\n",
            "Train Epoch: 5 [7680/8498 (90%)]\tLoss: 0.515452, Learning rate: 0.001000\n",
            "Train Epoch: 5 [7920/8498 (93%)]\tLoss: 0.764166, Learning rate: 0.001000\n",
            "Train Epoch: 5 [8160/8498 (96%)]\tLoss: 0.494931, Learning rate: 0.001000\n",
            "Train Epoch: 5 [8400/8498 (99%)]\tLoss: 0.589176, Learning rate: 0.001000\n"
          ]
        },
        {
          "metadata": {
            "tags": null
          },
          "name": "stderr",
          "output_type": "stream",
          "text": [
            "/usr/local/lib/python3.7/dist-packages/torchvision/transforms/transforms.py:288: UserWarning: Argument interpolation should be of type InterpolationMode instead of int. Please, use InterpolationMode enum.\n",
            "  \"Argument interpolation should be of type InterpolationMode instead of int. \"\n",
            "/usr/local/lib/python3.7/dist-packages/torchvision/transforms/transforms.py:288: UserWarning: Argument interpolation should be of type InterpolationMode instead of int. Please, use InterpolationMode enum.\n",
            "  \"Argument interpolation should be of type InterpolationMode instead of int. \"\n",
            "/usr/local/lib/python3.7/dist-packages/torchvision/transforms/transforms.py:288: UserWarning: Argument interpolation should be of type InterpolationMode instead of int. Please, use InterpolationMode enum.\n",
            "  \"Argument interpolation should be of type InterpolationMode instead of int. \"\n",
            "/usr/local/lib/python3.7/dist-packages/torchvision/transforms/transforms.py:288: UserWarning: Argument interpolation should be of type InterpolationMode instead of int. Please, use InterpolationMode enum.\n",
            "  \"Argument interpolation should be of type InterpolationMode instead of int. \"\n",
            "/usr/local/lib/python3.7/dist-packages/torchvision/transforms/transforms.py:288: UserWarning: Argument interpolation should be of type InterpolationMode instead of int. Please, use InterpolationMode enum.\n",
            "  \"Argument interpolation should be of type InterpolationMode instead of int. \"\n",
            "/usr/local/lib/python3.7/dist-packages/torchvision/transforms/transforms.py:288: UserWarning: Argument interpolation should be of type InterpolationMode instead of int. Please, use InterpolationMode enum.\n",
            "  \"Argument interpolation should be of type InterpolationMode instead of int. \"\n",
            "/usr/local/lib/python3.7/dist-packages/torchvision/transforms/transforms.py:288: UserWarning: Argument interpolation should be of type InterpolationMode instead of int. Please, use InterpolationMode enum.\n",
            "  \"Argument interpolation should be of type InterpolationMode instead of int. \"\n",
            "/usr/local/lib/python3.7/dist-packages/torchvision/transforms/transforms.py:288: UserWarning: Argument interpolation should be of type InterpolationMode instead of int. Please, use InterpolationMode enum.\n",
            "  \"Argument interpolation should be of type InterpolationMode instead of int. \"\n"
          ]
        },
        {
          "metadata": {
            "tags": null
          },
          "name": "stdout",
          "output_type": "stream",
          "text": [
            "\n",
            "Test set (736): Average loss: 0.6457, mIoU: 0.5634\n",
            "\n",
            "PSPnetLite training, epoch 6\n"
          ]
        },
        {
          "metadata": {
            "tags": null
          },
          "name": "stderr",
          "output_type": "stream",
          "text": [
            "/usr/local/lib/python3.7/dist-packages/torchvision/transforms/transforms.py:288: UserWarning: Argument interpolation should be of type InterpolationMode instead of int. Please, use InterpolationMode enum.\n",
            "  \"Argument interpolation should be of type InterpolationMode instead of int. \"\n",
            "/usr/local/lib/python3.7/dist-packages/torchvision/transforms/transforms.py:288: UserWarning: Argument interpolation should be of type InterpolationMode instead of int. Please, use InterpolationMode enum.\n",
            "  \"Argument interpolation should be of type InterpolationMode instead of int. \"\n",
            "/usr/local/lib/python3.7/dist-packages/torchvision/transforms/transforms.py:288: UserWarning: Argument interpolation should be of type InterpolationMode instead of int. Please, use InterpolationMode enum.\n",
            "  \"Argument interpolation should be of type InterpolationMode instead of int. \"\n",
            "/usr/local/lib/python3.7/dist-packages/torchvision/transforms/transforms.py:288: UserWarning: Argument interpolation should be of type InterpolationMode instead of int. Please, use InterpolationMode enum.\n",
            "  \"Argument interpolation should be of type InterpolationMode instead of int. \"\n",
            "/usr/local/lib/python3.7/dist-packages/torchvision/transforms/transforms.py:288: UserWarning: Argument interpolation should be of type InterpolationMode instead of int. Please, use InterpolationMode enum.\n",
            "  \"Argument interpolation should be of type InterpolationMode instead of int. \"\n",
            "/usr/local/lib/python3.7/dist-packages/torchvision/transforms/transforms.py:288: UserWarning: Argument interpolation should be of type InterpolationMode instead of int. Please, use InterpolationMode enum.\n",
            "  \"Argument interpolation should be of type InterpolationMode instead of int. \"\n",
            "/usr/local/lib/python3.7/dist-packages/torchvision/transforms/transforms.py:288: UserWarning: Argument interpolation should be of type InterpolationMode instead of int. Please, use InterpolationMode enum.\n",
            "  \"Argument interpolation should be of type InterpolationMode instead of int. \"\n",
            "/usr/local/lib/python3.7/dist-packages/torchvision/transforms/transforms.py:288: UserWarning: Argument interpolation should be of type InterpolationMode instead of int. Please, use InterpolationMode enum.\n",
            "  \"Argument interpolation should be of type InterpolationMode instead of int. \"\n"
          ]
        },
        {
          "metadata": {
            "tags": null
          },
          "name": "stdout",
          "output_type": "stream",
          "text": [
            "Train Epoch: 6 [240/8498 (3%)]\tLoss: 0.394625, Learning rate: 0.001000\n",
            "Train Epoch: 6 [480/8498 (6%)]\tLoss: 0.733371, Learning rate: 0.001000\n",
            "Train Epoch: 6 [720/8498 (8%)]\tLoss: 0.542897, Learning rate: 0.001000\n",
            "Train Epoch: 6 [960/8498 (11%)]\tLoss: 0.816781, Learning rate: 0.001000\n",
            "Train Epoch: 6 [1200/8498 (14%)]\tLoss: 0.516845, Learning rate: 0.001000\n",
            "Train Epoch: 6 [1440/8498 (17%)]\tLoss: 0.487228, Learning rate: 0.001000\n",
            "Train Epoch: 6 [1680/8498 (20%)]\tLoss: 0.436222, Learning rate: 0.001000\n",
            "Train Epoch: 6 [1920/8498 (23%)]\tLoss: 0.401217, Learning rate: 0.001000\n",
            "Train Epoch: 6 [2160/8498 (25%)]\tLoss: 0.493023, Learning rate: 0.001000\n",
            "Train Epoch: 6 [2400/8498 (28%)]\tLoss: 0.439454, Learning rate: 0.001000\n",
            "Train Epoch: 6 [2640/8498 (31%)]\tLoss: 0.641286, Learning rate: 0.001000\n",
            "Train Epoch: 6 [2880/8498 (34%)]\tLoss: 0.539294, Learning rate: 0.001000\n",
            "Train Epoch: 6 [3120/8498 (37%)]\tLoss: 0.616856, Learning rate: 0.001000\n",
            "Train Epoch: 6 [3360/8498 (39%)]\tLoss: 0.558907, Learning rate: 0.001000\n",
            "Train Epoch: 6 [3600/8498 (42%)]\tLoss: 0.416662, Learning rate: 0.001000\n",
            "Train Epoch: 6 [3840/8498 (45%)]\tLoss: 0.472999, Learning rate: 0.001000\n",
            "Train Epoch: 6 [4080/8498 (48%)]\tLoss: 0.590004, Learning rate: 0.001000\n",
            "Train Epoch: 6 [4320/8498 (51%)]\tLoss: 0.445571, Learning rate: 0.001000\n",
            "Train Epoch: 6 [4560/8498 (54%)]\tLoss: 0.414933, Learning rate: 0.001000\n",
            "Train Epoch: 6 [4800/8498 (56%)]\tLoss: 0.492740, Learning rate: 0.001000\n",
            "Train Epoch: 6 [5040/8498 (59%)]\tLoss: 0.610531, Learning rate: 0.001000\n",
            "Train Epoch: 6 [5280/8498 (62%)]\tLoss: 0.377383, Learning rate: 0.001000\n",
            "Train Epoch: 6 [5520/8498 (65%)]\tLoss: 0.611863, Learning rate: 0.001000\n",
            "Train Epoch: 6 [5760/8498 (68%)]\tLoss: 0.344828, Learning rate: 0.001000\n",
            "Train Epoch: 6 [6000/8498 (70%)]\tLoss: 0.624468, Learning rate: 0.001000\n",
            "Train Epoch: 6 [6240/8498 (73%)]\tLoss: 0.499865, Learning rate: 0.001000\n",
            "Train Epoch: 6 [6480/8498 (76%)]\tLoss: 0.523090, Learning rate: 0.001000\n",
            "Train Epoch: 6 [6720/8498 (79%)]\tLoss: 0.486519, Learning rate: 0.001000\n",
            "Train Epoch: 6 [6960/8498 (82%)]\tLoss: 0.831948, Learning rate: 0.001000\n",
            "Train Epoch: 6 [7200/8498 (85%)]\tLoss: 0.309327, Learning rate: 0.001000\n",
            "Train Epoch: 6 [7440/8498 (87%)]\tLoss: 0.518197, Learning rate: 0.001000\n",
            "Train Epoch: 6 [7680/8498 (90%)]\tLoss: 0.751882, Learning rate: 0.001000\n",
            "Train Epoch: 6 [7920/8498 (93%)]\tLoss: 0.530817, Learning rate: 0.001000\n",
            "Train Epoch: 6 [8160/8498 (96%)]\tLoss: 0.482425, Learning rate: 0.001000\n",
            "Train Epoch: 6 [8400/8498 (99%)]\tLoss: 0.550447, Learning rate: 0.001000\n"
          ]
        },
        {
          "metadata": {
            "tags": null
          },
          "name": "stderr",
          "output_type": "stream",
          "text": [
            "/usr/local/lib/python3.7/dist-packages/torchvision/transforms/transforms.py:288: UserWarning: Argument interpolation should be of type InterpolationMode instead of int. Please, use InterpolationMode enum.\n",
            "  \"Argument interpolation should be of type InterpolationMode instead of int. \"\n",
            "/usr/local/lib/python3.7/dist-packages/torchvision/transforms/transforms.py:288: UserWarning: Argument interpolation should be of type InterpolationMode instead of int. Please, use InterpolationMode enum.\n",
            "  \"Argument interpolation should be of type InterpolationMode instead of int. \"\n",
            "/usr/local/lib/python3.7/dist-packages/torchvision/transforms/transforms.py:288: UserWarning: Argument interpolation should be of type InterpolationMode instead of int. Please, use InterpolationMode enum.\n",
            "  \"Argument interpolation should be of type InterpolationMode instead of int. \"\n",
            "/usr/local/lib/python3.7/dist-packages/torchvision/transforms/transforms.py:288: UserWarning: Argument interpolation should be of type InterpolationMode instead of int. Please, use InterpolationMode enum.\n",
            "  \"Argument interpolation should be of type InterpolationMode instead of int. \"\n",
            "/usr/local/lib/python3.7/dist-packages/torchvision/transforms/transforms.py:288: UserWarning: Argument interpolation should be of type InterpolationMode instead of int. Please, use InterpolationMode enum.\n",
            "  \"Argument interpolation should be of type InterpolationMode instead of int. \"\n",
            "/usr/local/lib/python3.7/dist-packages/torchvision/transforms/transforms.py:288: UserWarning: Argument interpolation should be of type InterpolationMode instead of int. Please, use InterpolationMode enum.\n",
            "  \"Argument interpolation should be of type InterpolationMode instead of int. \"\n",
            "/usr/local/lib/python3.7/dist-packages/torchvision/transforms/transforms.py:288: UserWarning: Argument interpolation should be of type InterpolationMode instead of int. Please, use InterpolationMode enum.\n",
            "  \"Argument interpolation should be of type InterpolationMode instead of int. \"\n",
            "/usr/local/lib/python3.7/dist-packages/torchvision/transforms/transforms.py:288: UserWarning: Argument interpolation should be of type InterpolationMode instead of int. Please, use InterpolationMode enum.\n",
            "  \"Argument interpolation should be of type InterpolationMode instead of int. \"\n"
          ]
        },
        {
          "metadata": {
            "tags": null
          },
          "name": "stdout",
          "output_type": "stream",
          "text": [
            "\n",
            "Test set (736): Average loss: 0.6568, mIoU: 0.5384\n",
            "\n",
            "PSPnetLite training, epoch 7\n"
          ]
        },
        {
          "metadata": {
            "tags": null
          },
          "name": "stderr",
          "output_type": "stream",
          "text": [
            "/usr/local/lib/python3.7/dist-packages/torchvision/transforms/transforms.py:288: UserWarning: Argument interpolation should be of type InterpolationMode instead of int. Please, use InterpolationMode enum.\n",
            "  \"Argument interpolation should be of type InterpolationMode instead of int. \"\n",
            "/usr/local/lib/python3.7/dist-packages/torchvision/transforms/transforms.py:288: UserWarning: Argument interpolation should be of type InterpolationMode instead of int. Please, use InterpolationMode enum.\n",
            "  \"Argument interpolation should be of type InterpolationMode instead of int. \"\n",
            "/usr/local/lib/python3.7/dist-packages/torchvision/transforms/transforms.py:288: UserWarning: Argument interpolation should be of type InterpolationMode instead of int. Please, use InterpolationMode enum.\n",
            "  \"Argument interpolation should be of type InterpolationMode instead of int. \"\n",
            "/usr/local/lib/python3.7/dist-packages/torchvision/transforms/transforms.py:288: UserWarning: Argument interpolation should be of type InterpolationMode instead of int. Please, use InterpolationMode enum.\n",
            "  \"Argument interpolation should be of type InterpolationMode instead of int. \"\n",
            "/usr/local/lib/python3.7/dist-packages/torchvision/transforms/transforms.py:288: UserWarning: Argument interpolation should be of type InterpolationMode instead of int. Please, use InterpolationMode enum.\n",
            "  \"Argument interpolation should be of type InterpolationMode instead of int. \"\n",
            "/usr/local/lib/python3.7/dist-packages/torchvision/transforms/transforms.py:288: UserWarning: Argument interpolation should be of type InterpolationMode instead of int. Please, use InterpolationMode enum.\n",
            "  \"Argument interpolation should be of type InterpolationMode instead of int. \"\n",
            "/usr/local/lib/python3.7/dist-packages/torchvision/transforms/transforms.py:288: UserWarning: Argument interpolation should be of type InterpolationMode instead of int. Please, use InterpolationMode enum.\n",
            "  \"Argument interpolation should be of type InterpolationMode instead of int. \"\n",
            "/usr/local/lib/python3.7/dist-packages/torchvision/transforms/transforms.py:288: UserWarning: Argument interpolation should be of type InterpolationMode instead of int. Please, use InterpolationMode enum.\n",
            "  \"Argument interpolation should be of type InterpolationMode instead of int. \"\n"
          ]
        },
        {
          "metadata": {
            "tags": null
          },
          "name": "stdout",
          "output_type": "stream",
          "text": [
            "Train Epoch: 7 [240/8498 (3%)]\tLoss: 0.387843, Learning rate: 0.001000\n",
            "Train Epoch: 7 [480/8498 (6%)]\tLoss: 0.459944, Learning rate: 0.001000\n",
            "Train Epoch: 7 [720/8498 (8%)]\tLoss: 0.376728, Learning rate: 0.001000\n",
            "Train Epoch: 7 [960/8498 (11%)]\tLoss: 0.463054, Learning rate: 0.001000\n",
            "Train Epoch: 7 [1200/8498 (14%)]\tLoss: 0.475600, Learning rate: 0.001000\n",
            "Train Epoch: 7 [1440/8498 (17%)]\tLoss: 0.551033, Learning rate: 0.001000\n",
            "Train Epoch: 7 [1680/8498 (20%)]\tLoss: 0.423792, Learning rate: 0.001000\n",
            "Train Epoch: 7 [1920/8498 (23%)]\tLoss: 0.636210, Learning rate: 0.001000\n",
            "Train Epoch: 7 [2160/8498 (25%)]\tLoss: 0.463003, Learning rate: 0.001000\n",
            "Train Epoch: 7 [2400/8498 (28%)]\tLoss: 0.450204, Learning rate: 0.001000\n",
            "Train Epoch: 7 [2640/8498 (31%)]\tLoss: 0.333997, Learning rate: 0.001000\n",
            "Train Epoch: 7 [2880/8498 (34%)]\tLoss: 0.448826, Learning rate: 0.001000\n",
            "Train Epoch: 7 [3120/8498 (37%)]\tLoss: 0.538529, Learning rate: 0.001000\n",
            "Train Epoch: 7 [3360/8498 (39%)]\tLoss: 0.379186, Learning rate: 0.001000\n",
            "Train Epoch: 7 [3600/8498 (42%)]\tLoss: 0.530048, Learning rate: 0.001000\n",
            "Train Epoch: 7 [3840/8498 (45%)]\tLoss: 0.827996, Learning rate: 0.001000\n",
            "Train Epoch: 7 [4080/8498 (48%)]\tLoss: 0.484763, Learning rate: 0.001000\n",
            "Train Epoch: 7 [4320/8498 (51%)]\tLoss: 0.778178, Learning rate: 0.001000\n",
            "Train Epoch: 7 [4560/8498 (54%)]\tLoss: 0.492473, Learning rate: 0.001000\n",
            "Train Epoch: 7 [4800/8498 (56%)]\tLoss: 0.707023, Learning rate: 0.001000\n",
            "Train Epoch: 7 [5040/8498 (59%)]\tLoss: 0.609022, Learning rate: 0.001000\n",
            "Train Epoch: 7 [5280/8498 (62%)]\tLoss: 0.766279, Learning rate: 0.001000\n",
            "Train Epoch: 7 [5520/8498 (65%)]\tLoss: 0.539919, Learning rate: 0.001000\n",
            "Train Epoch: 7 [5760/8498 (68%)]\tLoss: 0.425483, Learning rate: 0.001000\n",
            "Train Epoch: 7 [6000/8498 (70%)]\tLoss: 0.426865, Learning rate: 0.001000\n",
            "Train Epoch: 7 [6240/8498 (73%)]\tLoss: 0.411742, Learning rate: 0.001000\n",
            "Train Epoch: 7 [6480/8498 (76%)]\tLoss: 0.573479, Learning rate: 0.001000\n",
            "Train Epoch: 7 [6720/8498 (79%)]\tLoss: 0.587485, Learning rate: 0.001000\n",
            "Train Epoch: 7 [6960/8498 (82%)]\tLoss: 0.467821, Learning rate: 0.001000\n",
            "Train Epoch: 7 [7200/8498 (85%)]\tLoss: 0.422165, Learning rate: 0.001000\n",
            "Train Epoch: 7 [7440/8498 (87%)]\tLoss: 0.552104, Learning rate: 0.001000\n",
            "Train Epoch: 7 [7680/8498 (90%)]\tLoss: 0.430016, Learning rate: 0.001000\n",
            "Train Epoch: 7 [7920/8498 (93%)]\tLoss: 0.361468, Learning rate: 0.001000\n",
            "Train Epoch: 7 [8160/8498 (96%)]\tLoss: 0.656592, Learning rate: 0.001000\n",
            "Train Epoch: 7 [8400/8498 (99%)]\tLoss: 0.368131, Learning rate: 0.001000\n"
          ]
        },
        {
          "metadata": {
            "tags": null
          },
          "name": "stderr",
          "output_type": "stream",
          "text": [
            "/usr/local/lib/python3.7/dist-packages/torchvision/transforms/transforms.py:288: UserWarning: Argument interpolation should be of type InterpolationMode instead of int. Please, use InterpolationMode enum.\n",
            "  \"Argument interpolation should be of type InterpolationMode instead of int. \"\n",
            "/usr/local/lib/python3.7/dist-packages/torchvision/transforms/transforms.py:288: UserWarning: Argument interpolation should be of type InterpolationMode instead of int. Please, use InterpolationMode enum.\n",
            "  \"Argument interpolation should be of type InterpolationMode instead of int. \"\n",
            "/usr/local/lib/python3.7/dist-packages/torchvision/transforms/transforms.py:288: UserWarning: Argument interpolation should be of type InterpolationMode instead of int. Please, use InterpolationMode enum.\n",
            "  \"Argument interpolation should be of type InterpolationMode instead of int. \"\n",
            "/usr/local/lib/python3.7/dist-packages/torchvision/transforms/transforms.py:288: UserWarning: Argument interpolation should be of type InterpolationMode instead of int. Please, use InterpolationMode enum.\n",
            "  \"Argument interpolation should be of type InterpolationMode instead of int. \"\n",
            "/usr/local/lib/python3.7/dist-packages/torchvision/transforms/transforms.py:288: UserWarning: Argument interpolation should be of type InterpolationMode instead of int. Please, use InterpolationMode enum.\n",
            "  \"Argument interpolation should be of type InterpolationMode instead of int. \"\n",
            "/usr/local/lib/python3.7/dist-packages/torchvision/transforms/transforms.py:288: UserWarning: Argument interpolation should be of type InterpolationMode instead of int. Please, use InterpolationMode enum.\n",
            "  \"Argument interpolation should be of type InterpolationMode instead of int. \"\n",
            "/usr/local/lib/python3.7/dist-packages/torchvision/transforms/transforms.py:288: UserWarning: Argument interpolation should be of type InterpolationMode instead of int. Please, use InterpolationMode enum.\n",
            "  \"Argument interpolation should be of type InterpolationMode instead of int. \"\n",
            "/usr/local/lib/python3.7/dist-packages/torchvision/transforms/transforms.py:288: UserWarning: Argument interpolation should be of type InterpolationMode instead of int. Please, use InterpolationMode enum.\n",
            "  \"Argument interpolation should be of type InterpolationMode instead of int. \"\n"
          ]
        },
        {
          "metadata": {
            "tags": null
          },
          "name": "stdout",
          "output_type": "stream",
          "text": [
            "\n",
            "Test set (736): Average loss: 0.6236, mIoU: 0.5593\n",
            "\n",
            "PSPnetLite training, epoch 8\n"
          ]
        },
        {
          "metadata": {
            "tags": null
          },
          "name": "stderr",
          "output_type": "stream",
          "text": [
            "/usr/local/lib/python3.7/dist-packages/torchvision/transforms/transforms.py:288: UserWarning: Argument interpolation should be of type InterpolationMode instead of int. Please, use InterpolationMode enum.\n",
            "  \"Argument interpolation should be of type InterpolationMode instead of int. \"\n",
            "/usr/local/lib/python3.7/dist-packages/torchvision/transforms/transforms.py:288: UserWarning: Argument interpolation should be of type InterpolationMode instead of int. Please, use InterpolationMode enum.\n",
            "  \"Argument interpolation should be of type InterpolationMode instead of int. \"\n",
            "/usr/local/lib/python3.7/dist-packages/torchvision/transforms/transforms.py:288: UserWarning: Argument interpolation should be of type InterpolationMode instead of int. Please, use InterpolationMode enum.\n",
            "  \"Argument interpolation should be of type InterpolationMode instead of int. \"\n",
            "/usr/local/lib/python3.7/dist-packages/torchvision/transforms/transforms.py:288: UserWarning: Argument interpolation should be of type InterpolationMode instead of int. Please, use InterpolationMode enum.\n",
            "  \"Argument interpolation should be of type InterpolationMode instead of int. \"\n",
            "/usr/local/lib/python3.7/dist-packages/torchvision/transforms/transforms.py:288: UserWarning: Argument interpolation should be of type InterpolationMode instead of int. Please, use InterpolationMode enum.\n",
            "  \"Argument interpolation should be of type InterpolationMode instead of int. \"\n",
            "/usr/local/lib/python3.7/dist-packages/torchvision/transforms/transforms.py:288: UserWarning: Argument interpolation should be of type InterpolationMode instead of int. Please, use InterpolationMode enum.\n",
            "  \"Argument interpolation should be of type InterpolationMode instead of int. \"\n",
            "/usr/local/lib/python3.7/dist-packages/torchvision/transforms/transforms.py:288: UserWarning: Argument interpolation should be of type InterpolationMode instead of int. Please, use InterpolationMode enum.\n",
            "  \"Argument interpolation should be of type InterpolationMode instead of int. \"\n",
            "/usr/local/lib/python3.7/dist-packages/torchvision/transforms/transforms.py:288: UserWarning: Argument interpolation should be of type InterpolationMode instead of int. Please, use InterpolationMode enum.\n",
            "  \"Argument interpolation should be of type InterpolationMode instead of int. \"\n"
          ]
        },
        {
          "metadata": {
            "tags": null
          },
          "name": "stdout",
          "output_type": "stream",
          "text": [
            "Train Epoch: 8 [240/8498 (3%)]\tLoss: 0.470882, Learning rate: 0.001000\n",
            "Train Epoch: 8 [480/8498 (6%)]\tLoss: 0.489739, Learning rate: 0.001000\n",
            "Train Epoch: 8 [720/8498 (8%)]\tLoss: 0.341330, Learning rate: 0.001000\n",
            "Train Epoch: 8 [960/8498 (11%)]\tLoss: 0.715256, Learning rate: 0.001000\n",
            "Train Epoch: 8 [1200/8498 (14%)]\tLoss: 0.409031, Learning rate: 0.001000\n",
            "Train Epoch: 8 [1440/8498 (17%)]\tLoss: 0.528336, Learning rate: 0.001000\n",
            "Train Epoch: 8 [1680/8498 (20%)]\tLoss: 0.414892, Learning rate: 0.001000\n",
            "Train Epoch: 8 [1920/8498 (23%)]\tLoss: 0.330611, Learning rate: 0.001000\n",
            "Train Epoch: 8 [2160/8498 (25%)]\tLoss: 0.411027, Learning rate: 0.001000\n",
            "Train Epoch: 8 [2400/8498 (28%)]\tLoss: 0.362767, Learning rate: 0.001000\n",
            "Train Epoch: 8 [2640/8498 (31%)]\tLoss: 0.476745, Learning rate: 0.001000\n",
            "Train Epoch: 8 [2880/8498 (34%)]\tLoss: 0.588119, Learning rate: 0.001000\n",
            "Train Epoch: 8 [3120/8498 (37%)]\tLoss: 0.401032, Learning rate: 0.001000\n",
            "Train Epoch: 8 [3360/8498 (39%)]\tLoss: 0.422374, Learning rate: 0.001000\n",
            "Train Epoch: 8 [3600/8498 (42%)]\tLoss: 0.566125, Learning rate: 0.001000\n",
            "Train Epoch: 8 [3840/8498 (45%)]\tLoss: 0.526227, Learning rate: 0.001000\n",
            "Train Epoch: 8 [4080/8498 (48%)]\tLoss: 0.465130, Learning rate: 0.001000\n",
            "Train Epoch: 8 [4320/8498 (51%)]\tLoss: 0.808931, Learning rate: 0.001000\n",
            "Train Epoch: 8 [4560/8498 (54%)]\tLoss: 0.322516, Learning rate: 0.001000\n",
            "Train Epoch: 8 [4800/8498 (56%)]\tLoss: 0.430208, Learning rate: 0.001000\n",
            "Train Epoch: 8 [5040/8498 (59%)]\tLoss: 0.381894, Learning rate: 0.001000\n",
            "Train Epoch: 8 [5280/8498 (62%)]\tLoss: 0.440121, Learning rate: 0.001000\n",
            "Train Epoch: 8 [5520/8498 (65%)]\tLoss: 0.631068, Learning rate: 0.001000\n",
            "Train Epoch: 8 [5760/8498 (68%)]\tLoss: 0.580661, Learning rate: 0.001000\n",
            "Train Epoch: 8 [6000/8498 (70%)]\tLoss: 0.503284, Learning rate: 0.001000\n",
            "Train Epoch: 8 [6240/8498 (73%)]\tLoss: 0.493539, Learning rate: 0.001000\n",
            "Train Epoch: 8 [6480/8498 (76%)]\tLoss: 0.493661, Learning rate: 0.001000\n",
            "Train Epoch: 8 [6720/8498 (79%)]\tLoss: 0.407305, Learning rate: 0.001000\n",
            "Train Epoch: 8 [6960/8498 (82%)]\tLoss: 0.337944, Learning rate: 0.001000\n",
            "Train Epoch: 8 [7200/8498 (85%)]\tLoss: 0.756172, Learning rate: 0.001000\n",
            "Train Epoch: 8 [7440/8498 (87%)]\tLoss: 0.676277, Learning rate: 0.001000\n",
            "Train Epoch: 8 [7680/8498 (90%)]\tLoss: 0.422691, Learning rate: 0.001000\n",
            "Train Epoch: 8 [7920/8498 (93%)]\tLoss: 0.543660, Learning rate: 0.001000\n",
            "Train Epoch: 8 [8160/8498 (96%)]\tLoss: 0.462925, Learning rate: 0.001000\n",
            "Train Epoch: 8 [8400/8498 (99%)]\tLoss: 0.570136, Learning rate: 0.001000\n"
          ]
        },
        {
          "metadata": {
            "tags": null
          },
          "name": "stderr",
          "output_type": "stream",
          "text": [
            "/usr/local/lib/python3.7/dist-packages/torchvision/transforms/transforms.py:288: UserWarning: Argument interpolation should be of type InterpolationMode instead of int. Please, use InterpolationMode enum.\n",
            "  \"Argument interpolation should be of type InterpolationMode instead of int. \"\n",
            "/usr/local/lib/python3.7/dist-packages/torchvision/transforms/transforms.py:288: UserWarning: Argument interpolation should be of type InterpolationMode instead of int. Please, use InterpolationMode enum.\n",
            "  \"Argument interpolation should be of type InterpolationMode instead of int. \"\n",
            "/usr/local/lib/python3.7/dist-packages/torchvision/transforms/transforms.py:288: UserWarning: Argument interpolation should be of type InterpolationMode instead of int. Please, use InterpolationMode enum.\n",
            "  \"Argument interpolation should be of type InterpolationMode instead of int. \"\n",
            "/usr/local/lib/python3.7/dist-packages/torchvision/transforms/transforms.py:288: UserWarning: Argument interpolation should be of type InterpolationMode instead of int. Please, use InterpolationMode enum.\n",
            "  \"Argument interpolation should be of type InterpolationMode instead of int. \"\n",
            "/usr/local/lib/python3.7/dist-packages/torchvision/transforms/transforms.py:288: UserWarning: Argument interpolation should be of type InterpolationMode instead of int. Please, use InterpolationMode enum.\n",
            "  \"Argument interpolation should be of type InterpolationMode instead of int. \"\n",
            "/usr/local/lib/python3.7/dist-packages/torchvision/transforms/transforms.py:288: UserWarning: Argument interpolation should be of type InterpolationMode instead of int. Please, use InterpolationMode enum.\n",
            "  \"Argument interpolation should be of type InterpolationMode instead of int. \"\n",
            "/usr/local/lib/python3.7/dist-packages/torchvision/transforms/transforms.py:288: UserWarning: Argument interpolation should be of type InterpolationMode instead of int. Please, use InterpolationMode enum.\n",
            "  \"Argument interpolation should be of type InterpolationMode instead of int. \"\n",
            "/usr/local/lib/python3.7/dist-packages/torchvision/transforms/transforms.py:288: UserWarning: Argument interpolation should be of type InterpolationMode instead of int. Please, use InterpolationMode enum.\n",
            "  \"Argument interpolation should be of type InterpolationMode instead of int. \"\n"
          ]
        },
        {
          "metadata": {
            "tags": null
          },
          "name": "stdout",
          "output_type": "stream",
          "text": [
            "\n",
            "Test set (736): Average loss: 0.6379, mIoU: 0.5674\n",
            "\n",
            "PSPnetLite training, epoch 9\n"
          ]
        },
        {
          "metadata": {
            "tags": null
          },
          "name": "stderr",
          "output_type": "stream",
          "text": [
            "/usr/local/lib/python3.7/dist-packages/torchvision/transforms/transforms.py:288: UserWarning: Argument interpolation should be of type InterpolationMode instead of int. Please, use InterpolationMode enum.\n",
            "  \"Argument interpolation should be of type InterpolationMode instead of int. \"\n",
            "/usr/local/lib/python3.7/dist-packages/torchvision/transforms/transforms.py:288: UserWarning: Argument interpolation should be of type InterpolationMode instead of int. Please, use InterpolationMode enum.\n",
            "  \"Argument interpolation should be of type InterpolationMode instead of int. \"\n",
            "/usr/local/lib/python3.7/dist-packages/torchvision/transforms/transforms.py:288: UserWarning: Argument interpolation should be of type InterpolationMode instead of int. Please, use InterpolationMode enum.\n",
            "  \"Argument interpolation should be of type InterpolationMode instead of int. \"\n",
            "/usr/local/lib/python3.7/dist-packages/torchvision/transforms/transforms.py:288: UserWarning: Argument interpolation should be of type InterpolationMode instead of int. Please, use InterpolationMode enum.\n",
            "  \"Argument interpolation should be of type InterpolationMode instead of int. \"\n",
            "/usr/local/lib/python3.7/dist-packages/torchvision/transforms/transforms.py:288: UserWarning: Argument interpolation should be of type InterpolationMode instead of int. Please, use InterpolationMode enum.\n",
            "  \"Argument interpolation should be of type InterpolationMode instead of int. \"\n",
            "/usr/local/lib/python3.7/dist-packages/torchvision/transforms/transforms.py:288: UserWarning: Argument interpolation should be of type InterpolationMode instead of int. Please, use InterpolationMode enum.\n",
            "  \"Argument interpolation should be of type InterpolationMode instead of int. \"\n",
            "/usr/local/lib/python3.7/dist-packages/torchvision/transforms/transforms.py:288: UserWarning: Argument interpolation should be of type InterpolationMode instead of int. Please, use InterpolationMode enum.\n",
            "  \"Argument interpolation should be of type InterpolationMode instead of int. \"\n",
            "/usr/local/lib/python3.7/dist-packages/torchvision/transforms/transforms.py:288: UserWarning: Argument interpolation should be of type InterpolationMode instead of int. Please, use InterpolationMode enum.\n",
            "  \"Argument interpolation should be of type InterpolationMode instead of int. \"\n"
          ]
        },
        {
          "metadata": {
            "tags": null
          },
          "name": "stdout",
          "output_type": "stream",
          "text": [
            "Train Epoch: 9 [240/8498 (3%)]\tLoss: 0.430602, Learning rate: 0.001000\n",
            "Train Epoch: 9 [480/8498 (6%)]\tLoss: 0.419443, Learning rate: 0.001000\n",
            "Train Epoch: 9 [720/8498 (8%)]\tLoss: 0.457468, Learning rate: 0.001000\n",
            "Train Epoch: 9 [960/8498 (11%)]\tLoss: 0.477161, Learning rate: 0.001000\n",
            "Train Epoch: 9 [1200/8498 (14%)]\tLoss: 0.438114, Learning rate: 0.001000\n",
            "Train Epoch: 9 [1440/8498 (17%)]\tLoss: 0.445936, Learning rate: 0.001000\n",
            "Train Epoch: 9 [1680/8498 (20%)]\tLoss: 0.454194, Learning rate: 0.001000\n",
            "Train Epoch: 9 [1920/8498 (23%)]\tLoss: 0.533980, Learning rate: 0.001000\n",
            "Train Epoch: 9 [2160/8498 (25%)]\tLoss: 0.563925, Learning rate: 0.001000\n",
            "Train Epoch: 9 [2400/8498 (28%)]\tLoss: 0.591012, Learning rate: 0.001000\n",
            "Train Epoch: 9 [2640/8498 (31%)]\tLoss: 0.605239, Learning rate: 0.001000\n",
            "Train Epoch: 9 [2880/8498 (34%)]\tLoss: 0.330631, Learning rate: 0.001000\n",
            "Train Epoch: 9 [3120/8498 (37%)]\tLoss: 0.391524, Learning rate: 0.001000\n",
            "Train Epoch: 9 [3360/8498 (39%)]\tLoss: 0.459919, Learning rate: 0.001000\n",
            "Train Epoch: 9 [3600/8498 (42%)]\tLoss: 0.331788, Learning rate: 0.001000\n",
            "Train Epoch: 9 [3840/8498 (45%)]\tLoss: 0.577066, Learning rate: 0.001000\n",
            "Train Epoch: 9 [4080/8498 (48%)]\tLoss: 0.447917, Learning rate: 0.001000\n",
            "Train Epoch: 9 [4320/8498 (51%)]\tLoss: 0.600869, Learning rate: 0.001000\n",
            "Train Epoch: 9 [4560/8498 (54%)]\tLoss: 0.374205, Learning rate: 0.001000\n",
            "Train Epoch: 9 [4800/8498 (56%)]\tLoss: 0.603600, Learning rate: 0.001000\n",
            "Train Epoch: 9 [5040/8498 (59%)]\tLoss: 0.573369, Learning rate: 0.001000\n",
            "Train Epoch: 9 [5280/8498 (62%)]\tLoss: 0.483568, Learning rate: 0.001000\n",
            "Train Epoch: 9 [5520/8498 (65%)]\tLoss: 0.564139, Learning rate: 0.001000\n",
            "Train Epoch: 9 [5760/8498 (68%)]\tLoss: 0.630575, Learning rate: 0.001000\n",
            "Train Epoch: 9 [6000/8498 (70%)]\tLoss: 0.408564, Learning rate: 0.001000\n",
            "Train Epoch: 9 [6240/8498 (73%)]\tLoss: 0.584566, Learning rate: 0.001000\n",
            "Train Epoch: 9 [6480/8498 (76%)]\tLoss: 0.454524, Learning rate: 0.001000\n",
            "Train Epoch: 9 [6720/8498 (79%)]\tLoss: 0.563025, Learning rate: 0.001000\n",
            "Train Epoch: 9 [6960/8498 (82%)]\tLoss: 0.360660, Learning rate: 0.001000\n",
            "Train Epoch: 9 [7200/8498 (85%)]\tLoss: 0.499842, Learning rate: 0.001000\n",
            "Train Epoch: 9 [7440/8498 (87%)]\tLoss: 0.495127, Learning rate: 0.001000\n",
            "Train Epoch: 9 [7680/8498 (90%)]\tLoss: 0.650689, Learning rate: 0.001000\n",
            "Train Epoch: 9 [7920/8498 (93%)]\tLoss: 0.280571, Learning rate: 0.001000\n",
            "Train Epoch: 9 [8160/8498 (96%)]\tLoss: 0.655570, Learning rate: 0.001000\n",
            "Train Epoch: 9 [8400/8498 (99%)]\tLoss: 0.336854, Learning rate: 0.001000\n"
          ]
        },
        {
          "metadata": {
            "tags": null
          },
          "name": "stderr",
          "output_type": "stream",
          "text": [
            "/usr/local/lib/python3.7/dist-packages/torchvision/transforms/transforms.py:288: UserWarning: Argument interpolation should be of type InterpolationMode instead of int. Please, use InterpolationMode enum.\n",
            "  \"Argument interpolation should be of type InterpolationMode instead of int. \"\n",
            "/usr/local/lib/python3.7/dist-packages/torchvision/transforms/transforms.py:288: UserWarning: Argument interpolation should be of type InterpolationMode instead of int. Please, use InterpolationMode enum.\n",
            "  \"Argument interpolation should be of type InterpolationMode instead of int. \"\n",
            "/usr/local/lib/python3.7/dist-packages/torchvision/transforms/transforms.py:288: UserWarning: Argument interpolation should be of type InterpolationMode instead of int. Please, use InterpolationMode enum.\n",
            "  \"Argument interpolation should be of type InterpolationMode instead of int. \"\n",
            "/usr/local/lib/python3.7/dist-packages/torchvision/transforms/transforms.py:288: UserWarning: Argument interpolation should be of type InterpolationMode instead of int. Please, use InterpolationMode enum.\n",
            "  \"Argument interpolation should be of type InterpolationMode instead of int. \"\n",
            "/usr/local/lib/python3.7/dist-packages/torchvision/transforms/transforms.py:288: UserWarning: Argument interpolation should be of type InterpolationMode instead of int. Please, use InterpolationMode enum.\n",
            "  \"Argument interpolation should be of type InterpolationMode instead of int. \"\n",
            "/usr/local/lib/python3.7/dist-packages/torchvision/transforms/transforms.py:288: UserWarning: Argument interpolation should be of type InterpolationMode instead of int. Please, use InterpolationMode enum.\n",
            "  \"Argument interpolation should be of type InterpolationMode instead of int. \"\n",
            "/usr/local/lib/python3.7/dist-packages/torchvision/transforms/transforms.py:288: UserWarning: Argument interpolation should be of type InterpolationMode instead of int. Please, use InterpolationMode enum.\n",
            "  \"Argument interpolation should be of type InterpolationMode instead of int. \"\n",
            "/usr/local/lib/python3.7/dist-packages/torchvision/transforms/transforms.py:288: UserWarning: Argument interpolation should be of type InterpolationMode instead of int. Please, use InterpolationMode enum.\n",
            "  \"Argument interpolation should be of type InterpolationMode instead of int. \"\n"
          ]
        },
        {
          "metadata": {
            "tags": null
          },
          "name": "stdout",
          "output_type": "stream",
          "text": [
            "\n",
            "Test set (736): Average loss: 0.6428, mIoU: 0.5615\n",
            "\n",
            "PSPnetLite training, epoch 10\n"
          ]
        },
        {
          "metadata": {
            "tags": null
          },
          "name": "stderr",
          "output_type": "stream",
          "text": [
            "/usr/local/lib/python3.7/dist-packages/torchvision/transforms/transforms.py:288: UserWarning: Argument interpolation should be of type InterpolationMode instead of int. Please, use InterpolationMode enum.\n",
            "  \"Argument interpolation should be of type InterpolationMode instead of int. \"\n",
            "/usr/local/lib/python3.7/dist-packages/torchvision/transforms/transforms.py:288: UserWarning: Argument interpolation should be of type InterpolationMode instead of int. Please, use InterpolationMode enum.\n",
            "  \"Argument interpolation should be of type InterpolationMode instead of int. \"\n",
            "/usr/local/lib/python3.7/dist-packages/torchvision/transforms/transforms.py:288: UserWarning: Argument interpolation should be of type InterpolationMode instead of int. Please, use InterpolationMode enum.\n",
            "  \"Argument interpolation should be of type InterpolationMode instead of int. \"\n",
            "/usr/local/lib/python3.7/dist-packages/torchvision/transforms/transforms.py:288: UserWarning: Argument interpolation should be of type InterpolationMode instead of int. Please, use InterpolationMode enum.\n",
            "  \"Argument interpolation should be of type InterpolationMode instead of int. \"\n",
            "/usr/local/lib/python3.7/dist-packages/torchvision/transforms/transforms.py:288: UserWarning: Argument interpolation should be of type InterpolationMode instead of int. Please, use InterpolationMode enum.\n",
            "  \"Argument interpolation should be of type InterpolationMode instead of int. \"\n",
            "/usr/local/lib/python3.7/dist-packages/torchvision/transforms/transforms.py:288: UserWarning: Argument interpolation should be of type InterpolationMode instead of int. Please, use InterpolationMode enum.\n",
            "  \"Argument interpolation should be of type InterpolationMode instead of int. \"\n",
            "/usr/local/lib/python3.7/dist-packages/torchvision/transforms/transforms.py:288: UserWarning: Argument interpolation should be of type InterpolationMode instead of int. Please, use InterpolationMode enum.\n",
            "  \"Argument interpolation should be of type InterpolationMode instead of int. \"\n",
            "/usr/local/lib/python3.7/dist-packages/torchvision/transforms/transforms.py:288: UserWarning: Argument interpolation should be of type InterpolationMode instead of int. Please, use InterpolationMode enum.\n",
            "  \"Argument interpolation should be of type InterpolationMode instead of int. \"\n"
          ]
        },
        {
          "metadata": {
            "tags": null
          },
          "name": "stdout",
          "output_type": "stream",
          "text": [
            "Train Epoch: 10 [240/8498 (3%)]\tLoss: 0.374995, Learning rate: 0.001000\n",
            "Train Epoch: 10 [480/8498 (6%)]\tLoss: 0.419658, Learning rate: 0.001000\n",
            "Train Epoch: 10 [720/8498 (8%)]\tLoss: 0.519942, Learning rate: 0.001000\n",
            "Train Epoch: 10 [960/8498 (11%)]\tLoss: 0.309817, Learning rate: 0.001000\n",
            "Train Epoch: 10 [1200/8498 (14%)]\tLoss: 0.525375, Learning rate: 0.001000\n",
            "Train Epoch: 10 [1440/8498 (17%)]\tLoss: 0.637854, Learning rate: 0.001000\n",
            "Train Epoch: 10 [1680/8498 (20%)]\tLoss: 0.447441, Learning rate: 0.001000\n",
            "Train Epoch: 10 [1920/8498 (23%)]\tLoss: 0.408352, Learning rate: 0.001000\n",
            "Train Epoch: 10 [2160/8498 (25%)]\tLoss: 0.410553, Learning rate: 0.001000\n",
            "Train Epoch: 10 [2400/8498 (28%)]\tLoss: 0.500255, Learning rate: 0.001000\n",
            "Train Epoch: 10 [2640/8498 (31%)]\tLoss: 0.559400, Learning rate: 0.001000\n",
            "Train Epoch: 10 [2880/8498 (34%)]\tLoss: 0.461560, Learning rate: 0.001000\n",
            "Train Epoch: 10 [3120/8498 (37%)]\tLoss: 0.413752, Learning rate: 0.001000\n",
            "Train Epoch: 10 [3360/8498 (39%)]\tLoss: 0.561944, Learning rate: 0.001000\n",
            "Train Epoch: 10 [3600/8498 (42%)]\tLoss: 0.382851, Learning rate: 0.001000\n",
            "Train Epoch: 10 [3840/8498 (45%)]\tLoss: 0.315909, Learning rate: 0.001000\n",
            "Train Epoch: 10 [4080/8498 (48%)]\tLoss: 0.503124, Learning rate: 0.001000\n",
            "Train Epoch: 10 [4320/8498 (51%)]\tLoss: 0.647478, Learning rate: 0.001000\n",
            "Train Epoch: 10 [4560/8498 (54%)]\tLoss: 0.490094, Learning rate: 0.001000\n",
            "Train Epoch: 10 [4800/8498 (56%)]\tLoss: 0.343803, Learning rate: 0.001000\n",
            "Train Epoch: 10 [5040/8498 (59%)]\tLoss: 0.342993, Learning rate: 0.001000\n",
            "Train Epoch: 10 [5280/8498 (62%)]\tLoss: 0.557267, Learning rate: 0.001000\n",
            "Train Epoch: 10 [5520/8498 (65%)]\tLoss: 0.550972, Learning rate: 0.001000\n",
            "Train Epoch: 10 [5760/8498 (68%)]\tLoss: 0.406620, Learning rate: 0.001000\n",
            "Train Epoch: 10 [6000/8498 (70%)]\tLoss: 0.551827, Learning rate: 0.001000\n",
            "Train Epoch: 10 [6240/8498 (73%)]\tLoss: 0.373145, Learning rate: 0.001000\n",
            "Train Epoch: 10 [6480/8498 (76%)]\tLoss: 0.568168, Learning rate: 0.001000\n",
            "Train Epoch: 10 [6720/8498 (79%)]\tLoss: 0.595914, Learning rate: 0.001000\n",
            "Train Epoch: 10 [6960/8498 (82%)]\tLoss: 0.401066, Learning rate: 0.001000\n",
            "Train Epoch: 10 [7200/8498 (85%)]\tLoss: 0.406843, Learning rate: 0.001000\n",
            "Train Epoch: 10 [7440/8498 (87%)]\tLoss: 0.319153, Learning rate: 0.001000\n",
            "Train Epoch: 10 [7680/8498 (90%)]\tLoss: 0.434868, Learning rate: 0.001000\n",
            "Train Epoch: 10 [7920/8498 (93%)]\tLoss: 0.334543, Learning rate: 0.001000\n",
            "Train Epoch: 10 [8160/8498 (96%)]\tLoss: 0.470546, Learning rate: 0.001000\n",
            "Train Epoch: 10 [8400/8498 (99%)]\tLoss: 0.360846, Learning rate: 0.001000\n"
          ]
        },
        {
          "metadata": {
            "tags": null
          },
          "name": "stderr",
          "output_type": "stream",
          "text": [
            "/usr/local/lib/python3.7/dist-packages/torchvision/transforms/transforms.py:288: UserWarning: Argument interpolation should be of type InterpolationMode instead of int. Please, use InterpolationMode enum.\n",
            "  \"Argument interpolation should be of type InterpolationMode instead of int. \"\n",
            "/usr/local/lib/python3.7/dist-packages/torchvision/transforms/transforms.py:288: UserWarning: Argument interpolation should be of type InterpolationMode instead of int. Please, use InterpolationMode enum.\n",
            "  \"Argument interpolation should be of type InterpolationMode instead of int. \"\n",
            "/usr/local/lib/python3.7/dist-packages/torchvision/transforms/transforms.py:288: UserWarning: Argument interpolation should be of type InterpolationMode instead of int. Please, use InterpolationMode enum.\n",
            "  \"Argument interpolation should be of type InterpolationMode instead of int. \"\n",
            "/usr/local/lib/python3.7/dist-packages/torchvision/transforms/transforms.py:288: UserWarning: Argument interpolation should be of type InterpolationMode instead of int. Please, use InterpolationMode enum.\n",
            "  \"Argument interpolation should be of type InterpolationMode instead of int. \"\n",
            "/usr/local/lib/python3.7/dist-packages/torchvision/transforms/transforms.py:288: UserWarning: Argument interpolation should be of type InterpolationMode instead of int. Please, use InterpolationMode enum.\n",
            "  \"Argument interpolation should be of type InterpolationMode instead of int. \"\n",
            "/usr/local/lib/python3.7/dist-packages/torchvision/transforms/transforms.py:288: UserWarning: Argument interpolation should be of type InterpolationMode instead of int. Please, use InterpolationMode enum.\n",
            "  \"Argument interpolation should be of type InterpolationMode instead of int. \"\n",
            "/usr/local/lib/python3.7/dist-packages/torchvision/transforms/transforms.py:288: UserWarning: Argument interpolation should be of type InterpolationMode instead of int. Please, use InterpolationMode enum.\n",
            "  \"Argument interpolation should be of type InterpolationMode instead of int. \"\n",
            "/usr/local/lib/python3.7/dist-packages/torchvision/transforms/transforms.py:288: UserWarning: Argument interpolation should be of type InterpolationMode instead of int. Please, use InterpolationMode enum.\n",
            "  \"Argument interpolation should be of type InterpolationMode instead of int. \"\n"
          ]
        },
        {
          "metadata": {
            "tags": null
          },
          "name": "stdout",
          "output_type": "stream",
          "text": [
            "\n",
            "Test set (736): Average loss: 0.6112, mIoU: 0.5762\n",
            "\n",
            "PSPnetLite training, epoch 11\n"
          ]
        },
        {
          "metadata": {
            "tags": null
          },
          "name": "stderr",
          "output_type": "stream",
          "text": [
            "/usr/local/lib/python3.7/dist-packages/torchvision/transforms/transforms.py:288: UserWarning: Argument interpolation should be of type InterpolationMode instead of int. Please, use InterpolationMode enum.\n",
            "  \"Argument interpolation should be of type InterpolationMode instead of int. \"\n",
            "/usr/local/lib/python3.7/dist-packages/torchvision/transforms/transforms.py:288: UserWarning: Argument interpolation should be of type InterpolationMode instead of int. Please, use InterpolationMode enum.\n",
            "  \"Argument interpolation should be of type InterpolationMode instead of int. \"\n",
            "/usr/local/lib/python3.7/dist-packages/torchvision/transforms/transforms.py:288: UserWarning: Argument interpolation should be of type InterpolationMode instead of int. Please, use InterpolationMode enum.\n",
            "  \"Argument interpolation should be of type InterpolationMode instead of int. \"\n",
            "/usr/local/lib/python3.7/dist-packages/torchvision/transforms/transforms.py:288: UserWarning: Argument interpolation should be of type InterpolationMode instead of int. Please, use InterpolationMode enum.\n",
            "  \"Argument interpolation should be of type InterpolationMode instead of int. \"\n",
            "/usr/local/lib/python3.7/dist-packages/torchvision/transforms/transforms.py:288: UserWarning: Argument interpolation should be of type InterpolationMode instead of int. Please, use InterpolationMode enum.\n",
            "  \"Argument interpolation should be of type InterpolationMode instead of int. \"\n",
            "/usr/local/lib/python3.7/dist-packages/torchvision/transforms/transforms.py:288: UserWarning: Argument interpolation should be of type InterpolationMode instead of int. Please, use InterpolationMode enum.\n",
            "  \"Argument interpolation should be of type InterpolationMode instead of int. \"\n",
            "/usr/local/lib/python3.7/dist-packages/torchvision/transforms/transforms.py:288: UserWarning: Argument interpolation should be of type InterpolationMode instead of int. Please, use InterpolationMode enum.\n",
            "  \"Argument interpolation should be of type InterpolationMode instead of int. \"\n",
            "/usr/local/lib/python3.7/dist-packages/torchvision/transforms/transforms.py:288: UserWarning: Argument interpolation should be of type InterpolationMode instead of int. Please, use InterpolationMode enum.\n",
            "  \"Argument interpolation should be of type InterpolationMode instead of int. \"\n"
          ]
        },
        {
          "metadata": {
            "tags": null
          },
          "name": "stdout",
          "output_type": "stream",
          "text": [
            "Train Epoch: 11 [240/8498 (3%)]\tLoss: 0.468079, Learning rate: 0.001000\n",
            "Train Epoch: 11 [480/8498 (6%)]\tLoss: 0.549447, Learning rate: 0.001000\n",
            "Train Epoch: 11 [720/8498 (8%)]\tLoss: 0.685459, Learning rate: 0.001000\n",
            "Train Epoch: 11 [960/8498 (11%)]\tLoss: 0.382584, Learning rate: 0.001000\n",
            "Train Epoch: 11 [1200/8498 (14%)]\tLoss: 0.465142, Learning rate: 0.001000\n",
            "Train Epoch: 11 [1440/8498 (17%)]\tLoss: 0.574227, Learning rate: 0.001000\n",
            "Train Epoch: 11 [1680/8498 (20%)]\tLoss: 0.576866, Learning rate: 0.001000\n",
            "Train Epoch: 11 [1920/8498 (23%)]\tLoss: 0.349350, Learning rate: 0.001000\n",
            "Train Epoch: 11 [2160/8498 (25%)]\tLoss: 0.428956, Learning rate: 0.001000\n",
            "Train Epoch: 11 [2400/8498 (28%)]\tLoss: 0.577720, Learning rate: 0.001000\n",
            "Train Epoch: 11 [2640/8498 (31%)]\tLoss: 0.452555, Learning rate: 0.001000\n",
            "Train Epoch: 11 [2880/8498 (34%)]\tLoss: 0.537867, Learning rate: 0.001000\n",
            "Train Epoch: 11 [3120/8498 (37%)]\tLoss: 0.564097, Learning rate: 0.001000\n",
            "Train Epoch: 11 [3360/8498 (39%)]\tLoss: 0.354340, Learning rate: 0.001000\n",
            "Train Epoch: 11 [3600/8498 (42%)]\tLoss: 0.524567, Learning rate: 0.001000\n",
            "Train Epoch: 11 [3840/8498 (45%)]\tLoss: 0.538182, Learning rate: 0.001000\n",
            "Train Epoch: 11 [4080/8498 (48%)]\tLoss: 0.329201, Learning rate: 0.001000\n",
            "Train Epoch: 11 [4320/8498 (51%)]\tLoss: 0.398178, Learning rate: 0.001000\n",
            "Train Epoch: 11 [4560/8498 (54%)]\tLoss: 0.363293, Learning rate: 0.001000\n",
            "Train Epoch: 11 [4800/8498 (56%)]\tLoss: 0.468630, Learning rate: 0.001000\n",
            "Train Epoch: 11 [5040/8498 (59%)]\tLoss: 0.296466, Learning rate: 0.001000\n",
            "Train Epoch: 11 [5280/8498 (62%)]\tLoss: 0.312957, Learning rate: 0.001000\n",
            "Train Epoch: 11 [5520/8498 (65%)]\tLoss: 0.334284, Learning rate: 0.001000\n",
            "Train Epoch: 11 [5760/8498 (68%)]\tLoss: 0.381986, Learning rate: 0.001000\n",
            "Train Epoch: 11 [6000/8498 (70%)]\tLoss: 0.452310, Learning rate: 0.001000\n",
            "Train Epoch: 11 [6240/8498 (73%)]\tLoss: 0.552214, Learning rate: 0.001000\n",
            "Train Epoch: 11 [6480/8498 (76%)]\tLoss: 0.508886, Learning rate: 0.001000\n",
            "Train Epoch: 11 [6720/8498 (79%)]\tLoss: 0.416427, Learning rate: 0.001000\n",
            "Train Epoch: 11 [6960/8498 (82%)]\tLoss: 0.649685, Learning rate: 0.001000\n",
            "Train Epoch: 11 [7200/8498 (85%)]\tLoss: 0.398852, Learning rate: 0.001000\n",
            "Train Epoch: 11 [7440/8498 (87%)]\tLoss: 0.476123, Learning rate: 0.001000\n",
            "Train Epoch: 11 [7680/8498 (90%)]\tLoss: 0.469419, Learning rate: 0.001000\n",
            "Train Epoch: 11 [7920/8498 (93%)]\tLoss: 0.558691, Learning rate: 0.001000\n",
            "Train Epoch: 11 [8160/8498 (96%)]\tLoss: 0.538516, Learning rate: 0.001000\n",
            "Train Epoch: 11 [8400/8498 (99%)]\tLoss: 0.451326, Learning rate: 0.001000\n"
          ]
        },
        {
          "metadata": {
            "tags": null
          },
          "name": "stderr",
          "output_type": "stream",
          "text": [
            "/usr/local/lib/python3.7/dist-packages/torchvision/transforms/transforms.py:288: UserWarning: Argument interpolation should be of type InterpolationMode instead of int. Please, use InterpolationMode enum.\n",
            "  \"Argument interpolation should be of type InterpolationMode instead of int. \"\n",
            "/usr/local/lib/python3.7/dist-packages/torchvision/transforms/transforms.py:288: UserWarning: Argument interpolation should be of type InterpolationMode instead of int. Please, use InterpolationMode enum.\n",
            "  \"Argument interpolation should be of type InterpolationMode instead of int. \"\n",
            "/usr/local/lib/python3.7/dist-packages/torchvision/transforms/transforms.py:288: UserWarning: Argument interpolation should be of type InterpolationMode instead of int. Please, use InterpolationMode enum.\n",
            "  \"Argument interpolation should be of type InterpolationMode instead of int. \"\n",
            "/usr/local/lib/python3.7/dist-packages/torchvision/transforms/transforms.py:288: UserWarning: Argument interpolation should be of type InterpolationMode instead of int. Please, use InterpolationMode enum.\n",
            "  \"Argument interpolation should be of type InterpolationMode instead of int. \"\n",
            "/usr/local/lib/python3.7/dist-packages/torchvision/transforms/transforms.py:288: UserWarning: Argument interpolation should be of type InterpolationMode instead of int. Please, use InterpolationMode enum.\n",
            "  \"Argument interpolation should be of type InterpolationMode instead of int. \"\n",
            "/usr/local/lib/python3.7/dist-packages/torchvision/transforms/transforms.py:288: UserWarning: Argument interpolation should be of type InterpolationMode instead of int. Please, use InterpolationMode enum.\n",
            "  \"Argument interpolation should be of type InterpolationMode instead of int. \"\n",
            "/usr/local/lib/python3.7/dist-packages/torchvision/transforms/transforms.py:288: UserWarning: Argument interpolation should be of type InterpolationMode instead of int. Please, use InterpolationMode enum.\n",
            "  \"Argument interpolation should be of type InterpolationMode instead of int. \"\n",
            "/usr/local/lib/python3.7/dist-packages/torchvision/transforms/transforms.py:288: UserWarning: Argument interpolation should be of type InterpolationMode instead of int. Please, use InterpolationMode enum.\n",
            "  \"Argument interpolation should be of type InterpolationMode instead of int. \"\n"
          ]
        },
        {
          "metadata": {
            "tags": null
          },
          "name": "stdout",
          "output_type": "stream",
          "text": [
            "\n",
            "Test set (736): Average loss: 0.6551, mIoU: 0.5534\n",
            "\n",
            "PSPnetLite training, epoch 12\n"
          ]
        },
        {
          "metadata": {
            "tags": null
          },
          "name": "stderr",
          "output_type": "stream",
          "text": [
            "/usr/local/lib/python3.7/dist-packages/torchvision/transforms/transforms.py:288: UserWarning: Argument interpolation should be of type InterpolationMode instead of int. Please, use InterpolationMode enum.\n",
            "  \"Argument interpolation should be of type InterpolationMode instead of int. \"\n",
            "/usr/local/lib/python3.7/dist-packages/torchvision/transforms/transforms.py:288: UserWarning: Argument interpolation should be of type InterpolationMode instead of int. Please, use InterpolationMode enum.\n",
            "  \"Argument interpolation should be of type InterpolationMode instead of int. \"\n",
            "/usr/local/lib/python3.7/dist-packages/torchvision/transforms/transforms.py:288: UserWarning: Argument interpolation should be of type InterpolationMode instead of int. Please, use InterpolationMode enum.\n",
            "  \"Argument interpolation should be of type InterpolationMode instead of int. \"\n",
            "/usr/local/lib/python3.7/dist-packages/torchvision/transforms/transforms.py:288: UserWarning: Argument interpolation should be of type InterpolationMode instead of int. Please, use InterpolationMode enum.\n",
            "  \"Argument interpolation should be of type InterpolationMode instead of int. \"\n",
            "/usr/local/lib/python3.7/dist-packages/torchvision/transforms/transforms.py:288: UserWarning: Argument interpolation should be of type InterpolationMode instead of int. Please, use InterpolationMode enum.\n",
            "  \"Argument interpolation should be of type InterpolationMode instead of int. \"\n",
            "/usr/local/lib/python3.7/dist-packages/torchvision/transforms/transforms.py:288: UserWarning: Argument interpolation should be of type InterpolationMode instead of int. Please, use InterpolationMode enum.\n",
            "  \"Argument interpolation should be of type InterpolationMode instead of int. \"\n",
            "/usr/local/lib/python3.7/dist-packages/torchvision/transforms/transforms.py:288: UserWarning: Argument interpolation should be of type InterpolationMode instead of int. Please, use InterpolationMode enum.\n",
            "  \"Argument interpolation should be of type InterpolationMode instead of int. \"\n",
            "/usr/local/lib/python3.7/dist-packages/torchvision/transforms/transforms.py:288: UserWarning: Argument interpolation should be of type InterpolationMode instead of int. Please, use InterpolationMode enum.\n",
            "  \"Argument interpolation should be of type InterpolationMode instead of int. \"\n"
          ]
        },
        {
          "metadata": {
            "tags": null
          },
          "name": "stdout",
          "output_type": "stream",
          "text": [
            "Train Epoch: 12 [240/8498 (3%)]\tLoss: 0.365433, Learning rate: 0.001000\n",
            "Train Epoch: 12 [480/8498 (6%)]\tLoss: 0.562516, Learning rate: 0.001000\n",
            "Train Epoch: 12 [720/8498 (8%)]\tLoss: 0.459587, Learning rate: 0.001000\n",
            "Train Epoch: 12 [960/8498 (11%)]\tLoss: 0.488731, Learning rate: 0.001000\n",
            "Train Epoch: 12 [1200/8498 (14%)]\tLoss: 0.366738, Learning rate: 0.001000\n",
            "Train Epoch: 12 [1440/8498 (17%)]\tLoss: 0.436642, Learning rate: 0.001000\n",
            "Train Epoch: 12 [1680/8498 (20%)]\tLoss: 0.516961, Learning rate: 0.001000\n",
            "Train Epoch: 12 [1920/8498 (23%)]\tLoss: 0.642232, Learning rate: 0.001000\n",
            "Train Epoch: 12 [2160/8498 (25%)]\tLoss: 0.338954, Learning rate: 0.001000\n",
            "Train Epoch: 12 [2400/8498 (28%)]\tLoss: 0.367792, Learning rate: 0.001000\n",
            "Train Epoch: 12 [2640/8498 (31%)]\tLoss: 0.273465, Learning rate: 0.001000\n",
            "Train Epoch: 12 [2880/8498 (34%)]\tLoss: 0.344634, Learning rate: 0.001000\n",
            "Train Epoch: 12 [3120/8498 (37%)]\tLoss: 0.449178, Learning rate: 0.001000\n",
            "Train Epoch: 12 [3360/8498 (39%)]\tLoss: 0.469293, Learning rate: 0.001000\n",
            "Train Epoch: 12 [3600/8498 (42%)]\tLoss: 0.389280, Learning rate: 0.001000\n",
            "Train Epoch: 12 [3840/8498 (45%)]\tLoss: 0.477039, Learning rate: 0.001000\n",
            "Train Epoch: 12 [4080/8498 (48%)]\tLoss: 0.470429, Learning rate: 0.001000\n",
            "Train Epoch: 12 [4320/8498 (51%)]\tLoss: 0.431147, Learning rate: 0.001000\n",
            "Train Epoch: 12 [4560/8498 (54%)]\tLoss: 0.560632, Learning rate: 0.001000\n",
            "Train Epoch: 12 [4800/8498 (56%)]\tLoss: 0.460454, Learning rate: 0.001000\n",
            "Train Epoch: 12 [5040/8498 (59%)]\tLoss: 0.422877, Learning rate: 0.001000\n",
            "Train Epoch: 12 [5280/8498 (62%)]\tLoss: 0.271802, Learning rate: 0.001000\n",
            "Train Epoch: 12 [5520/8498 (65%)]\tLoss: 0.524631, Learning rate: 0.001000\n",
            "Train Epoch: 12 [5760/8498 (68%)]\tLoss: 0.531363, Learning rate: 0.001000\n",
            "Train Epoch: 12 [6000/8498 (70%)]\tLoss: 0.312920, Learning rate: 0.001000\n",
            "Train Epoch: 12 [6240/8498 (73%)]\tLoss: 0.304976, Learning rate: 0.001000\n",
            "Train Epoch: 12 [6480/8498 (76%)]\tLoss: 0.428269, Learning rate: 0.001000\n",
            "Train Epoch: 12 [6720/8498 (79%)]\tLoss: 0.392207, Learning rate: 0.001000\n",
            "Train Epoch: 12 [6960/8498 (82%)]\tLoss: 0.375641, Learning rate: 0.001000\n",
            "Train Epoch: 12 [7200/8498 (85%)]\tLoss: 0.599050, Learning rate: 0.001000\n",
            "Train Epoch: 12 [7440/8498 (87%)]\tLoss: 0.305631, Learning rate: 0.001000\n",
            "Train Epoch: 12 [7680/8498 (90%)]\tLoss: 0.291048, Learning rate: 0.001000\n",
            "Train Epoch: 12 [7920/8498 (93%)]\tLoss: 0.703332, Learning rate: 0.001000\n",
            "Train Epoch: 12 [8160/8498 (96%)]\tLoss: 0.371671, Learning rate: 0.001000\n",
            "Train Epoch: 12 [8400/8498 (99%)]\tLoss: 0.419863, Learning rate: 0.001000\n"
          ]
        },
        {
          "metadata": {
            "tags": null
          },
          "name": "stderr",
          "output_type": "stream",
          "text": [
            "/usr/local/lib/python3.7/dist-packages/torchvision/transforms/transforms.py:288: UserWarning: Argument interpolation should be of type InterpolationMode instead of int. Please, use InterpolationMode enum.\n",
            "  \"Argument interpolation should be of type InterpolationMode instead of int. \"\n",
            "/usr/local/lib/python3.7/dist-packages/torchvision/transforms/transforms.py:288: UserWarning: Argument interpolation should be of type InterpolationMode instead of int. Please, use InterpolationMode enum.\n",
            "  \"Argument interpolation should be of type InterpolationMode instead of int. \"\n",
            "/usr/local/lib/python3.7/dist-packages/torchvision/transforms/transforms.py:288: UserWarning: Argument interpolation should be of type InterpolationMode instead of int. Please, use InterpolationMode enum.\n",
            "  \"Argument interpolation should be of type InterpolationMode instead of int. \"\n",
            "/usr/local/lib/python3.7/dist-packages/torchvision/transforms/transforms.py:288: UserWarning: Argument interpolation should be of type InterpolationMode instead of int. Please, use InterpolationMode enum.\n",
            "  \"Argument interpolation should be of type InterpolationMode instead of int. \"\n",
            "/usr/local/lib/python3.7/dist-packages/torchvision/transforms/transforms.py:288: UserWarning: Argument interpolation should be of type InterpolationMode instead of int. Please, use InterpolationMode enum.\n",
            "  \"Argument interpolation should be of type InterpolationMode instead of int. \"\n",
            "/usr/local/lib/python3.7/dist-packages/torchvision/transforms/transforms.py:288: UserWarning: Argument interpolation should be of type InterpolationMode instead of int. Please, use InterpolationMode enum.\n",
            "  \"Argument interpolation should be of type InterpolationMode instead of int. \"\n",
            "/usr/local/lib/python3.7/dist-packages/torchvision/transforms/transforms.py:288: UserWarning: Argument interpolation should be of type InterpolationMode instead of int. Please, use InterpolationMode enum.\n",
            "  \"Argument interpolation should be of type InterpolationMode instead of int. \"\n",
            "/usr/local/lib/python3.7/dist-packages/torchvision/transforms/transforms.py:288: UserWarning: Argument interpolation should be of type InterpolationMode instead of int. Please, use InterpolationMode enum.\n",
            "  \"Argument interpolation should be of type InterpolationMode instead of int. \"\n"
          ]
        },
        {
          "metadata": {
            "tags": null
          },
          "name": "stdout",
          "output_type": "stream",
          "text": [
            "\n",
            "Test set (736): Average loss: 0.6398, mIoU: 0.5763\n",
            "\n",
            "PSPnetLite training, epoch 13\n"
          ]
        },
        {
          "metadata": {
            "tags": null
          },
          "name": "stderr",
          "output_type": "stream",
          "text": [
            "/usr/local/lib/python3.7/dist-packages/torchvision/transforms/transforms.py:288: UserWarning: Argument interpolation should be of type InterpolationMode instead of int. Please, use InterpolationMode enum.\n",
            "  \"Argument interpolation should be of type InterpolationMode instead of int. \"\n",
            "/usr/local/lib/python3.7/dist-packages/torchvision/transforms/transforms.py:288: UserWarning: Argument interpolation should be of type InterpolationMode instead of int. Please, use InterpolationMode enum.\n",
            "  \"Argument interpolation should be of type InterpolationMode instead of int. \"\n",
            "/usr/local/lib/python3.7/dist-packages/torchvision/transforms/transforms.py:288: UserWarning: Argument interpolation should be of type InterpolationMode instead of int. Please, use InterpolationMode enum.\n",
            "  \"Argument interpolation should be of type InterpolationMode instead of int. \"\n",
            "/usr/local/lib/python3.7/dist-packages/torchvision/transforms/transforms.py:288: UserWarning: Argument interpolation should be of type InterpolationMode instead of int. Please, use InterpolationMode enum.\n",
            "  \"Argument interpolation should be of type InterpolationMode instead of int. \"\n",
            "/usr/local/lib/python3.7/dist-packages/torchvision/transforms/transforms.py:288: UserWarning: Argument interpolation should be of type InterpolationMode instead of int. Please, use InterpolationMode enum.\n",
            "  \"Argument interpolation should be of type InterpolationMode instead of int. \"\n",
            "/usr/local/lib/python3.7/dist-packages/torchvision/transforms/transforms.py:288: UserWarning: Argument interpolation should be of type InterpolationMode instead of int. Please, use InterpolationMode enum.\n",
            "  \"Argument interpolation should be of type InterpolationMode instead of int. \"\n",
            "/usr/local/lib/python3.7/dist-packages/torchvision/transforms/transforms.py:288: UserWarning: Argument interpolation should be of type InterpolationMode instead of int. Please, use InterpolationMode enum.\n",
            "  \"Argument interpolation should be of type InterpolationMode instead of int. \"\n",
            "/usr/local/lib/python3.7/dist-packages/torchvision/transforms/transforms.py:288: UserWarning: Argument interpolation should be of type InterpolationMode instead of int. Please, use InterpolationMode enum.\n",
            "  \"Argument interpolation should be of type InterpolationMode instead of int. \"\n"
          ]
        },
        {
          "metadata": {
            "tags": null
          },
          "name": "stdout",
          "output_type": "stream",
          "text": [
            "Train Epoch: 13 [240/8498 (3%)]\tLoss: 0.513536, Learning rate: 0.001000\n",
            "Train Epoch: 13 [480/8498 (6%)]\tLoss: 0.438100, Learning rate: 0.001000\n",
            "Train Epoch: 13 [720/8498 (8%)]\tLoss: 0.427067, Learning rate: 0.001000\n",
            "Train Epoch: 13 [960/8498 (11%)]\tLoss: 0.455083, Learning rate: 0.001000\n",
            "Train Epoch: 13 [1200/8498 (14%)]\tLoss: 0.415535, Learning rate: 0.001000\n",
            "Train Epoch: 13 [1440/8498 (17%)]\tLoss: 0.413625, Learning rate: 0.001000\n",
            "Train Epoch: 13 [1680/8498 (20%)]\tLoss: 0.367624, Learning rate: 0.001000\n",
            "Train Epoch: 13 [1920/8498 (23%)]\tLoss: 0.383860, Learning rate: 0.001000\n",
            "Train Epoch: 13 [2160/8498 (25%)]\tLoss: 0.421363, Learning rate: 0.001000\n",
            "Train Epoch: 13 [2400/8498 (28%)]\tLoss: 0.564857, Learning rate: 0.001000\n",
            "Train Epoch: 13 [2640/8498 (31%)]\tLoss: 0.382067, Learning rate: 0.001000\n",
            "Train Epoch: 13 [2880/8498 (34%)]\tLoss: 0.399012, Learning rate: 0.001000\n",
            "Train Epoch: 13 [3120/8498 (37%)]\tLoss: 0.458889, Learning rate: 0.001000\n",
            "Train Epoch: 13 [3360/8498 (39%)]\tLoss: 0.418139, Learning rate: 0.001000\n",
            "Train Epoch: 13 [3600/8498 (42%)]\tLoss: 0.404909, Learning rate: 0.001000\n",
            "Train Epoch: 13 [3840/8498 (45%)]\tLoss: 0.388905, Learning rate: 0.001000\n",
            "Train Epoch: 13 [4080/8498 (48%)]\tLoss: 0.464623, Learning rate: 0.001000\n",
            "Train Epoch: 13 [4320/8498 (51%)]\tLoss: 0.473495, Learning rate: 0.001000\n",
            "Train Epoch: 13 [4560/8498 (54%)]\tLoss: 0.568128, Learning rate: 0.001000\n",
            "Train Epoch: 13 [4800/8498 (56%)]\tLoss: 0.373919, Learning rate: 0.001000\n",
            "Train Epoch: 13 [5040/8498 (59%)]\tLoss: 0.329783, Learning rate: 0.001000\n",
            "Train Epoch: 13 [5280/8498 (62%)]\tLoss: 0.531328, Learning rate: 0.001000\n",
            "Train Epoch: 13 [5520/8498 (65%)]\tLoss: 0.490839, Learning rate: 0.001000\n",
            "Train Epoch: 13 [5760/8498 (68%)]\tLoss: 0.476720, Learning rate: 0.001000\n",
            "Train Epoch: 13 [6000/8498 (70%)]\tLoss: 0.406693, Learning rate: 0.001000\n",
            "Train Epoch: 13 [6240/8498 (73%)]\tLoss: 0.397213, Learning rate: 0.001000\n",
            "Train Epoch: 13 [6480/8498 (76%)]\tLoss: 0.446184, Learning rate: 0.001000\n",
            "Train Epoch: 13 [6720/8498 (79%)]\tLoss: 0.502178, Learning rate: 0.001000\n",
            "Train Epoch: 13 [6960/8498 (82%)]\tLoss: 0.595186, Learning rate: 0.001000\n",
            "Train Epoch: 13 [7200/8498 (85%)]\tLoss: 0.422405, Learning rate: 0.001000\n",
            "Train Epoch: 13 [7440/8498 (87%)]\tLoss: 0.443045, Learning rate: 0.001000\n",
            "Train Epoch: 13 [7680/8498 (90%)]\tLoss: 0.333310, Learning rate: 0.001000\n",
            "Train Epoch: 13 [7920/8498 (93%)]\tLoss: 0.464809, Learning rate: 0.001000\n",
            "Train Epoch: 13 [8160/8498 (96%)]\tLoss: 0.350254, Learning rate: 0.001000\n",
            "Train Epoch: 13 [8400/8498 (99%)]\tLoss: 0.580402, Learning rate: 0.001000\n"
          ]
        },
        {
          "metadata": {
            "tags": null
          },
          "name": "stderr",
          "output_type": "stream",
          "text": [
            "/usr/local/lib/python3.7/dist-packages/torchvision/transforms/transforms.py:288: UserWarning: Argument interpolation should be of type InterpolationMode instead of int. Please, use InterpolationMode enum.\n",
            "  \"Argument interpolation should be of type InterpolationMode instead of int. \"\n",
            "/usr/local/lib/python3.7/dist-packages/torchvision/transforms/transforms.py:288: UserWarning: Argument interpolation should be of type InterpolationMode instead of int. Please, use InterpolationMode enum.\n",
            "  \"Argument interpolation should be of type InterpolationMode instead of int. \"\n",
            "/usr/local/lib/python3.7/dist-packages/torchvision/transforms/transforms.py:288: UserWarning: Argument interpolation should be of type InterpolationMode instead of int. Please, use InterpolationMode enum.\n",
            "  \"Argument interpolation should be of type InterpolationMode instead of int. \"\n",
            "/usr/local/lib/python3.7/dist-packages/torchvision/transforms/transforms.py:288: UserWarning: Argument interpolation should be of type InterpolationMode instead of int. Please, use InterpolationMode enum.\n",
            "  \"Argument interpolation should be of type InterpolationMode instead of int. \"\n",
            "/usr/local/lib/python3.7/dist-packages/torchvision/transforms/transforms.py:288: UserWarning: Argument interpolation should be of type InterpolationMode instead of int. Please, use InterpolationMode enum.\n",
            "  \"Argument interpolation should be of type InterpolationMode instead of int. \"\n",
            "/usr/local/lib/python3.7/dist-packages/torchvision/transforms/transforms.py:288: UserWarning: Argument interpolation should be of type InterpolationMode instead of int. Please, use InterpolationMode enum.\n",
            "  \"Argument interpolation should be of type InterpolationMode instead of int. \"\n",
            "/usr/local/lib/python3.7/dist-packages/torchvision/transforms/transforms.py:288: UserWarning: Argument interpolation should be of type InterpolationMode instead of int. Please, use InterpolationMode enum.\n",
            "  \"Argument interpolation should be of type InterpolationMode instead of int. \"\n",
            "/usr/local/lib/python3.7/dist-packages/torchvision/transforms/transforms.py:288: UserWarning: Argument interpolation should be of type InterpolationMode instead of int. Please, use InterpolationMode enum.\n",
            "  \"Argument interpolation should be of type InterpolationMode instead of int. \"\n"
          ]
        },
        {
          "metadata": {
            "tags": null
          },
          "name": "stdout",
          "output_type": "stream",
          "text": [
            "\n",
            "Test set (736): Average loss: 0.6599, mIoU: 0.5651\n",
            "\n",
            "PSPnetLite training, epoch 14\n"
          ]
        },
        {
          "metadata": {
            "tags": null
          },
          "name": "stderr",
          "output_type": "stream",
          "text": [
            "/usr/local/lib/python3.7/dist-packages/torchvision/transforms/transforms.py:288: UserWarning: Argument interpolation should be of type InterpolationMode instead of int. Please, use InterpolationMode enum.\n",
            "  \"Argument interpolation should be of type InterpolationMode instead of int. \"\n",
            "/usr/local/lib/python3.7/dist-packages/torchvision/transforms/transforms.py:288: UserWarning: Argument interpolation should be of type InterpolationMode instead of int. Please, use InterpolationMode enum.\n",
            "  \"Argument interpolation should be of type InterpolationMode instead of int. \"\n",
            "/usr/local/lib/python3.7/dist-packages/torchvision/transforms/transforms.py:288: UserWarning: Argument interpolation should be of type InterpolationMode instead of int. Please, use InterpolationMode enum.\n",
            "  \"Argument interpolation should be of type InterpolationMode instead of int. \"\n",
            "/usr/local/lib/python3.7/dist-packages/torchvision/transforms/transforms.py:288: UserWarning: Argument interpolation should be of type InterpolationMode instead of int. Please, use InterpolationMode enum.\n",
            "  \"Argument interpolation should be of type InterpolationMode instead of int. \"\n",
            "/usr/local/lib/python3.7/dist-packages/torchvision/transforms/transforms.py:288: UserWarning: Argument interpolation should be of type InterpolationMode instead of int. Please, use InterpolationMode enum.\n",
            "  \"Argument interpolation should be of type InterpolationMode instead of int. \"\n",
            "/usr/local/lib/python3.7/dist-packages/torchvision/transforms/transforms.py:288: UserWarning: Argument interpolation should be of type InterpolationMode instead of int. Please, use InterpolationMode enum.\n",
            "  \"Argument interpolation should be of type InterpolationMode instead of int. \"\n",
            "/usr/local/lib/python3.7/dist-packages/torchvision/transforms/transforms.py:288: UserWarning: Argument interpolation should be of type InterpolationMode instead of int. Please, use InterpolationMode enum.\n",
            "  \"Argument interpolation should be of type InterpolationMode instead of int. \"\n",
            "/usr/local/lib/python3.7/dist-packages/torchvision/transforms/transforms.py:288: UserWarning: Argument interpolation should be of type InterpolationMode instead of int. Please, use InterpolationMode enum.\n",
            "  \"Argument interpolation should be of type InterpolationMode instead of int. \"\n"
          ]
        },
        {
          "metadata": {
            "tags": null
          },
          "name": "stdout",
          "output_type": "stream",
          "text": [
            "Train Epoch: 14 [240/8498 (3%)]\tLoss: 0.347264, Learning rate: 0.001000\n",
            "Train Epoch: 14 [480/8498 (6%)]\tLoss: 0.372559, Learning rate: 0.001000\n",
            "Train Epoch: 14 [720/8498 (8%)]\tLoss: 0.309520, Learning rate: 0.001000\n",
            "Train Epoch: 14 [960/8498 (11%)]\tLoss: 0.537437, Learning rate: 0.001000\n",
            "Train Epoch: 14 [1200/8498 (14%)]\tLoss: 0.354895, Learning rate: 0.001000\n",
            "Train Epoch: 14 [1440/8498 (17%)]\tLoss: 0.360398, Learning rate: 0.001000\n",
            "Train Epoch: 14 [1680/8498 (20%)]\tLoss: 0.583351, Learning rate: 0.001000\n",
            "Train Epoch: 14 [1920/8498 (23%)]\tLoss: 0.369114, Learning rate: 0.001000\n",
            "Train Epoch: 14 [2160/8498 (25%)]\tLoss: 0.319221, Learning rate: 0.001000\n",
            "Train Epoch: 14 [2400/8498 (28%)]\tLoss: 0.304082, Learning rate: 0.001000\n",
            "Train Epoch: 14 [2640/8498 (31%)]\tLoss: 0.385321, Learning rate: 0.001000\n",
            "Train Epoch: 14 [2880/8498 (34%)]\tLoss: 0.431422, Learning rate: 0.001000\n",
            "Train Epoch: 14 [3120/8498 (37%)]\tLoss: 0.348106, Learning rate: 0.001000\n",
            "Train Epoch: 14 [3360/8498 (39%)]\tLoss: 0.367366, Learning rate: 0.001000\n",
            "Train Epoch: 14 [3600/8498 (42%)]\tLoss: 0.346327, Learning rate: 0.001000\n",
            "Train Epoch: 14 [3840/8498 (45%)]\tLoss: 0.469268, Learning rate: 0.001000\n",
            "Train Epoch: 14 [4080/8498 (48%)]\tLoss: 0.379416, Learning rate: 0.001000\n",
            "Train Epoch: 14 [4320/8498 (51%)]\tLoss: 0.573721, Learning rate: 0.001000\n",
            "Train Epoch: 14 [4560/8498 (54%)]\tLoss: 0.322705, Learning rate: 0.001000\n",
            "Train Epoch: 14 [4800/8498 (56%)]\tLoss: 0.401571, Learning rate: 0.001000\n",
            "Train Epoch: 14 [5040/8498 (59%)]\tLoss: 0.440397, Learning rate: 0.001000\n",
            "Train Epoch: 14 [5280/8498 (62%)]\tLoss: 0.377278, Learning rate: 0.001000\n",
            "Train Epoch: 14 [5520/8498 (65%)]\tLoss: 0.436878, Learning rate: 0.001000\n",
            "Train Epoch: 14 [5760/8498 (68%)]\tLoss: 0.361565, Learning rate: 0.001000\n",
            "Train Epoch: 14 [6000/8498 (70%)]\tLoss: 0.344369, Learning rate: 0.001000\n",
            "Train Epoch: 14 [6240/8498 (73%)]\tLoss: 0.437756, Learning rate: 0.001000\n",
            "Train Epoch: 14 [6480/8498 (76%)]\tLoss: 0.693080, Learning rate: 0.001000\n",
            "Train Epoch: 14 [6720/8498 (79%)]\tLoss: 0.472803, Learning rate: 0.001000\n",
            "Train Epoch: 14 [6960/8498 (82%)]\tLoss: 0.675663, Learning rate: 0.001000\n",
            "Train Epoch: 14 [7200/8498 (85%)]\tLoss: 0.451574, Learning rate: 0.001000\n",
            "Train Epoch: 14 [7440/8498 (87%)]\tLoss: 0.411980, Learning rate: 0.001000\n",
            "Train Epoch: 14 [7680/8498 (90%)]\tLoss: 0.542296, Learning rate: 0.001000\n",
            "Train Epoch: 14 [7920/8498 (93%)]\tLoss: 0.626701, Learning rate: 0.001000\n",
            "Train Epoch: 14 [8160/8498 (96%)]\tLoss: 0.423644, Learning rate: 0.001000\n",
            "Train Epoch: 14 [8400/8498 (99%)]\tLoss: 0.279861, Learning rate: 0.001000\n"
          ]
        },
        {
          "metadata": {
            "tags": null
          },
          "name": "stderr",
          "output_type": "stream",
          "text": [
            "/usr/local/lib/python3.7/dist-packages/torchvision/transforms/transforms.py:288: UserWarning: Argument interpolation should be of type InterpolationMode instead of int. Please, use InterpolationMode enum.\n",
            "  \"Argument interpolation should be of type InterpolationMode instead of int. \"\n",
            "/usr/local/lib/python3.7/dist-packages/torchvision/transforms/transforms.py:288: UserWarning: Argument interpolation should be of type InterpolationMode instead of int. Please, use InterpolationMode enum.\n",
            "  \"Argument interpolation should be of type InterpolationMode instead of int. \"\n",
            "/usr/local/lib/python3.7/dist-packages/torchvision/transforms/transforms.py:288: UserWarning: Argument interpolation should be of type InterpolationMode instead of int. Please, use InterpolationMode enum.\n",
            "  \"Argument interpolation should be of type InterpolationMode instead of int. \"\n",
            "/usr/local/lib/python3.7/dist-packages/torchvision/transforms/transforms.py:288: UserWarning: Argument interpolation should be of type InterpolationMode instead of int. Please, use InterpolationMode enum.\n",
            "  \"Argument interpolation should be of type InterpolationMode instead of int. \"\n",
            "/usr/local/lib/python3.7/dist-packages/torchvision/transforms/transforms.py:288: UserWarning: Argument interpolation should be of type InterpolationMode instead of int. Please, use InterpolationMode enum.\n",
            "  \"Argument interpolation should be of type InterpolationMode instead of int. \"\n",
            "/usr/local/lib/python3.7/dist-packages/torchvision/transforms/transforms.py:288: UserWarning: Argument interpolation should be of type InterpolationMode instead of int. Please, use InterpolationMode enum.\n",
            "  \"Argument interpolation should be of type InterpolationMode instead of int. \"\n",
            "/usr/local/lib/python3.7/dist-packages/torchvision/transforms/transforms.py:288: UserWarning: Argument interpolation should be of type InterpolationMode instead of int. Please, use InterpolationMode enum.\n",
            "  \"Argument interpolation should be of type InterpolationMode instead of int. \"\n",
            "/usr/local/lib/python3.7/dist-packages/torchvision/transforms/transforms.py:288: UserWarning: Argument interpolation should be of type InterpolationMode instead of int. Please, use InterpolationMode enum.\n",
            "  \"Argument interpolation should be of type InterpolationMode instead of int. \"\n"
          ]
        },
        {
          "metadata": {
            "tags": null
          },
          "name": "stdout",
          "output_type": "stream",
          "text": [
            "\n",
            "Test set (736): Average loss: 0.5763, mIoU: 0.5834\n",
            "\n",
            "PSPnetLite training, epoch 15\n"
          ]
        },
        {
          "metadata": {
            "tags": null
          },
          "name": "stderr",
          "output_type": "stream",
          "text": [
            "/usr/local/lib/python3.7/dist-packages/torchvision/transforms/transforms.py:288: UserWarning: Argument interpolation should be of type InterpolationMode instead of int. Please, use InterpolationMode enum.\n",
            "  \"Argument interpolation should be of type InterpolationMode instead of int. \"\n",
            "/usr/local/lib/python3.7/dist-packages/torchvision/transforms/transforms.py:288: UserWarning: Argument interpolation should be of type InterpolationMode instead of int. Please, use InterpolationMode enum.\n",
            "  \"Argument interpolation should be of type InterpolationMode instead of int. \"\n",
            "/usr/local/lib/python3.7/dist-packages/torchvision/transforms/transforms.py:288: UserWarning: Argument interpolation should be of type InterpolationMode instead of int. Please, use InterpolationMode enum.\n",
            "  \"Argument interpolation should be of type InterpolationMode instead of int. \"\n",
            "/usr/local/lib/python3.7/dist-packages/torchvision/transforms/transforms.py:288: UserWarning: Argument interpolation should be of type InterpolationMode instead of int. Please, use InterpolationMode enum.\n",
            "  \"Argument interpolation should be of type InterpolationMode instead of int. \"\n",
            "/usr/local/lib/python3.7/dist-packages/torchvision/transforms/transforms.py:288: UserWarning: Argument interpolation should be of type InterpolationMode instead of int. Please, use InterpolationMode enum.\n",
            "  \"Argument interpolation should be of type InterpolationMode instead of int. \"\n",
            "/usr/local/lib/python3.7/dist-packages/torchvision/transforms/transforms.py:288: UserWarning: Argument interpolation should be of type InterpolationMode instead of int. Please, use InterpolationMode enum.\n",
            "  \"Argument interpolation should be of type InterpolationMode instead of int. \"\n",
            "/usr/local/lib/python3.7/dist-packages/torchvision/transforms/transforms.py:288: UserWarning: Argument interpolation should be of type InterpolationMode instead of int. Please, use InterpolationMode enum.\n",
            "  \"Argument interpolation should be of type InterpolationMode instead of int. \"\n",
            "/usr/local/lib/python3.7/dist-packages/torchvision/transforms/transforms.py:288: UserWarning: Argument interpolation should be of type InterpolationMode instead of int. Please, use InterpolationMode enum.\n",
            "  \"Argument interpolation should be of type InterpolationMode instead of int. \"\n"
          ]
        },
        {
          "metadata": {
            "tags": null
          },
          "name": "stdout",
          "output_type": "stream",
          "text": [
            "Train Epoch: 15 [240/8498 (3%)]\tLoss: 0.364134, Learning rate: 0.001000\n",
            "Train Epoch: 15 [480/8498 (6%)]\tLoss: 0.410463, Learning rate: 0.001000\n",
            "Train Epoch: 15 [720/8498 (8%)]\tLoss: 0.513559, Learning rate: 0.001000\n",
            "Train Epoch: 15 [960/8498 (11%)]\tLoss: 0.296996, Learning rate: 0.001000\n",
            "Train Epoch: 15 [1200/8498 (14%)]\tLoss: 0.507002, Learning rate: 0.001000\n",
            "Train Epoch: 15 [1440/8498 (17%)]\tLoss: 0.343112, Learning rate: 0.001000\n",
            "Train Epoch: 15 [1680/8498 (20%)]\tLoss: 0.355543, Learning rate: 0.001000\n",
            "Train Epoch: 15 [1920/8498 (23%)]\tLoss: 0.395891, Learning rate: 0.001000\n",
            "Train Epoch: 15 [2160/8498 (25%)]\tLoss: 0.618364, Learning rate: 0.001000\n",
            "Train Epoch: 15 [2400/8498 (28%)]\tLoss: 0.407815, Learning rate: 0.001000\n",
            "Train Epoch: 15 [2640/8498 (31%)]\tLoss: 0.306752, Learning rate: 0.001000\n",
            "Train Epoch: 15 [2880/8498 (34%)]\tLoss: 0.359344, Learning rate: 0.001000\n",
            "Train Epoch: 15 [3120/8498 (37%)]\tLoss: 0.369131, Learning rate: 0.001000\n",
            "Train Epoch: 15 [3360/8498 (39%)]\tLoss: 0.355567, Learning rate: 0.001000\n",
            "Train Epoch: 15 [3600/8498 (42%)]\tLoss: 0.504832, Learning rate: 0.001000\n",
            "Train Epoch: 15 [3840/8498 (45%)]\tLoss: 0.531745, Learning rate: 0.001000\n",
            "Train Epoch: 15 [4080/8498 (48%)]\tLoss: 0.385413, Learning rate: 0.001000\n",
            "Train Epoch: 15 [4320/8498 (51%)]\tLoss: 0.352869, Learning rate: 0.001000\n",
            "Train Epoch: 15 [4560/8498 (54%)]\tLoss: 0.394216, Learning rate: 0.001000\n",
            "Train Epoch: 15 [4800/8498 (56%)]\tLoss: 0.310330, Learning rate: 0.001000\n",
            "Train Epoch: 15 [5040/8498 (59%)]\tLoss: 0.449728, Learning rate: 0.001000\n",
            "Train Epoch: 15 [5280/8498 (62%)]\tLoss: 0.451176, Learning rate: 0.001000\n",
            "Train Epoch: 15 [5520/8498 (65%)]\tLoss: 0.486008, Learning rate: 0.001000\n",
            "Train Epoch: 15 [5760/8498 (68%)]\tLoss: 0.410335, Learning rate: 0.001000\n",
            "Train Epoch: 15 [6000/8498 (70%)]\tLoss: 0.442724, Learning rate: 0.001000\n",
            "Train Epoch: 15 [6240/8498 (73%)]\tLoss: 0.509293, Learning rate: 0.001000\n",
            "Train Epoch: 15 [6480/8498 (76%)]\tLoss: 0.315872, Learning rate: 0.001000\n",
            "Train Epoch: 15 [6720/8498 (79%)]\tLoss: 0.549598, Learning rate: 0.001000\n",
            "Train Epoch: 15 [6960/8498 (82%)]\tLoss: 0.566292, Learning rate: 0.001000\n",
            "Train Epoch: 15 [7200/8498 (85%)]\tLoss: 0.371484, Learning rate: 0.001000\n",
            "Train Epoch: 15 [7440/8498 (87%)]\tLoss: 0.333065, Learning rate: 0.001000\n",
            "Train Epoch: 15 [7680/8498 (90%)]\tLoss: 0.360726, Learning rate: 0.001000\n",
            "Train Epoch: 15 [7920/8498 (93%)]\tLoss: 0.444917, Learning rate: 0.001000\n",
            "Train Epoch: 15 [8160/8498 (96%)]\tLoss: 0.461027, Learning rate: 0.001000\n",
            "Train Epoch: 15 [8400/8498 (99%)]\tLoss: 0.259213, Learning rate: 0.001000\n"
          ]
        },
        {
          "metadata": {
            "tags": null
          },
          "name": "stderr",
          "output_type": "stream",
          "text": [
            "/usr/local/lib/python3.7/dist-packages/torchvision/transforms/transforms.py:288: UserWarning: Argument interpolation should be of type InterpolationMode instead of int. Please, use InterpolationMode enum.\n",
            "  \"Argument interpolation should be of type InterpolationMode instead of int. \"\n",
            "/usr/local/lib/python3.7/dist-packages/torchvision/transforms/transforms.py:288: UserWarning: Argument interpolation should be of type InterpolationMode instead of int. Please, use InterpolationMode enum.\n",
            "  \"Argument interpolation should be of type InterpolationMode instead of int. \"\n",
            "/usr/local/lib/python3.7/dist-packages/torchvision/transforms/transforms.py:288: UserWarning: Argument interpolation should be of type InterpolationMode instead of int. Please, use InterpolationMode enum.\n",
            "  \"Argument interpolation should be of type InterpolationMode instead of int. \"\n",
            "/usr/local/lib/python3.7/dist-packages/torchvision/transforms/transforms.py:288: UserWarning: Argument interpolation should be of type InterpolationMode instead of int. Please, use InterpolationMode enum.\n",
            "  \"Argument interpolation should be of type InterpolationMode instead of int. \"\n",
            "/usr/local/lib/python3.7/dist-packages/torchvision/transforms/transforms.py:288: UserWarning: Argument interpolation should be of type InterpolationMode instead of int. Please, use InterpolationMode enum.\n",
            "  \"Argument interpolation should be of type InterpolationMode instead of int. \"\n",
            "/usr/local/lib/python3.7/dist-packages/torchvision/transforms/transforms.py:288: UserWarning: Argument interpolation should be of type InterpolationMode instead of int. Please, use InterpolationMode enum.\n",
            "  \"Argument interpolation should be of type InterpolationMode instead of int. \"\n",
            "/usr/local/lib/python3.7/dist-packages/torchvision/transforms/transforms.py:288: UserWarning: Argument interpolation should be of type InterpolationMode instead of int. Please, use InterpolationMode enum.\n",
            "  \"Argument interpolation should be of type InterpolationMode instead of int. \"\n",
            "/usr/local/lib/python3.7/dist-packages/torchvision/transforms/transforms.py:288: UserWarning: Argument interpolation should be of type InterpolationMode instead of int. Please, use InterpolationMode enum.\n",
            "  \"Argument interpolation should be of type InterpolationMode instead of int. \"\n"
          ]
        },
        {
          "metadata": {
            "tags": null
          },
          "name": "stdout",
          "output_type": "stream",
          "text": [
            "\n",
            "Test set (736): Average loss: 0.6049, mIoU: 0.5821\n",
            "\n",
            "PSPnetLite training, epoch 16\n"
          ]
        },
        {
          "metadata": {
            "tags": null
          },
          "name": "stderr",
          "output_type": "stream",
          "text": [
            "/usr/local/lib/python3.7/dist-packages/torchvision/transforms/transforms.py:288: UserWarning: Argument interpolation should be of type InterpolationMode instead of int. Please, use InterpolationMode enum.\n",
            "  \"Argument interpolation should be of type InterpolationMode instead of int. \"\n",
            "/usr/local/lib/python3.7/dist-packages/torchvision/transforms/transforms.py:288: UserWarning: Argument interpolation should be of type InterpolationMode instead of int. Please, use InterpolationMode enum.\n",
            "  \"Argument interpolation should be of type InterpolationMode instead of int. \"\n",
            "/usr/local/lib/python3.7/dist-packages/torchvision/transforms/transforms.py:288: UserWarning: Argument interpolation should be of type InterpolationMode instead of int. Please, use InterpolationMode enum.\n",
            "  \"Argument interpolation should be of type InterpolationMode instead of int. \"\n",
            "/usr/local/lib/python3.7/dist-packages/torchvision/transforms/transforms.py:288: UserWarning: Argument interpolation should be of type InterpolationMode instead of int. Please, use InterpolationMode enum.\n",
            "  \"Argument interpolation should be of type InterpolationMode instead of int. \"\n",
            "/usr/local/lib/python3.7/dist-packages/torchvision/transforms/transforms.py:288: UserWarning: Argument interpolation should be of type InterpolationMode instead of int. Please, use InterpolationMode enum.\n",
            "  \"Argument interpolation should be of type InterpolationMode instead of int. \"\n",
            "/usr/local/lib/python3.7/dist-packages/torchvision/transforms/transforms.py:288: UserWarning: Argument interpolation should be of type InterpolationMode instead of int. Please, use InterpolationMode enum.\n",
            "  \"Argument interpolation should be of type InterpolationMode instead of int. \"\n",
            "/usr/local/lib/python3.7/dist-packages/torchvision/transforms/transforms.py:288: UserWarning: Argument interpolation should be of type InterpolationMode instead of int. Please, use InterpolationMode enum.\n",
            "  \"Argument interpolation should be of type InterpolationMode instead of int. \"\n",
            "/usr/local/lib/python3.7/dist-packages/torchvision/transforms/transforms.py:288: UserWarning: Argument interpolation should be of type InterpolationMode instead of int. Please, use InterpolationMode enum.\n",
            "  \"Argument interpolation should be of type InterpolationMode instead of int. \"\n"
          ]
        },
        {
          "metadata": {
            "tags": null
          },
          "name": "stdout",
          "output_type": "stream",
          "text": [
            "Train Epoch: 16 [240/8498 (3%)]\tLoss: 0.586041, Learning rate: 0.001000\n",
            "Train Epoch: 16 [480/8498 (6%)]\tLoss: 0.396896, Learning rate: 0.001000\n",
            "Train Epoch: 16 [720/8498 (8%)]\tLoss: 0.395765, Learning rate: 0.001000\n",
            "Train Epoch: 16 [960/8498 (11%)]\tLoss: 0.395626, Learning rate: 0.001000\n",
            "Train Epoch: 16 [1200/8498 (14%)]\tLoss: 0.384209, Learning rate: 0.001000\n",
            "Train Epoch: 16 [1440/8498 (17%)]\tLoss: 0.487971, Learning rate: 0.001000\n",
            "Train Epoch: 16 [1680/8498 (20%)]\tLoss: 0.448880, Learning rate: 0.001000\n",
            "Train Epoch: 16 [1920/8498 (23%)]\tLoss: 0.294236, Learning rate: 0.001000\n",
            "Train Epoch: 16 [2160/8498 (25%)]\tLoss: 0.435295, Learning rate: 0.001000\n",
            "Train Epoch: 16 [2400/8498 (28%)]\tLoss: 0.399180, Learning rate: 0.001000\n",
            "Train Epoch: 16 [2640/8498 (31%)]\tLoss: 0.412702, Learning rate: 0.001000\n",
            "Train Epoch: 16 [2880/8498 (34%)]\tLoss: 0.382765, Learning rate: 0.001000\n",
            "Train Epoch: 16 [3120/8498 (37%)]\tLoss: 0.353537, Learning rate: 0.001000\n",
            "Train Epoch: 16 [3360/8498 (39%)]\tLoss: 0.493171, Learning rate: 0.001000\n",
            "Train Epoch: 16 [3600/8498 (42%)]\tLoss: 0.433975, Learning rate: 0.001000\n",
            "Train Epoch: 16 [3840/8498 (45%)]\tLoss: 0.428265, Learning rate: 0.001000\n",
            "Train Epoch: 16 [4080/8498 (48%)]\tLoss: 0.345335, Learning rate: 0.001000\n",
            "Train Epoch: 16 [4320/8498 (51%)]\tLoss: 0.378262, Learning rate: 0.001000\n",
            "Train Epoch: 16 [4560/8498 (54%)]\tLoss: 0.575046, Learning rate: 0.001000\n",
            "Train Epoch: 16 [4800/8498 (56%)]\tLoss: 0.424563, Learning rate: 0.001000\n",
            "Train Epoch: 16 [5040/8498 (59%)]\tLoss: 0.731948, Learning rate: 0.001000\n",
            "Train Epoch: 16 [5280/8498 (62%)]\tLoss: 0.539562, Learning rate: 0.001000\n",
            "Train Epoch: 16 [5520/8498 (65%)]\tLoss: 0.425970, Learning rate: 0.001000\n",
            "Train Epoch: 16 [5760/8498 (68%)]\tLoss: 0.505221, Learning rate: 0.001000\n",
            "Train Epoch: 16 [6000/8498 (70%)]\tLoss: 0.316471, Learning rate: 0.001000\n",
            "Train Epoch: 16 [6240/8498 (73%)]\tLoss: 0.712073, Learning rate: 0.001000\n",
            "Train Epoch: 16 [6480/8498 (76%)]\tLoss: 0.425753, Learning rate: 0.001000\n",
            "Train Epoch: 16 [6720/8498 (79%)]\tLoss: 0.618641, Learning rate: 0.001000\n",
            "Train Epoch: 16 [6960/8498 (82%)]\tLoss: 0.342479, Learning rate: 0.001000\n",
            "Train Epoch: 16 [7200/8498 (85%)]\tLoss: 0.386435, Learning rate: 0.001000\n",
            "Train Epoch: 16 [7440/8498 (87%)]\tLoss: 0.289088, Learning rate: 0.001000\n",
            "Train Epoch: 16 [7680/8498 (90%)]\tLoss: 0.343138, Learning rate: 0.001000\n",
            "Train Epoch: 16 [7920/8498 (93%)]\tLoss: 0.342696, Learning rate: 0.001000\n",
            "Train Epoch: 16 [8160/8498 (96%)]\tLoss: 0.261400, Learning rate: 0.001000\n",
            "Train Epoch: 16 [8400/8498 (99%)]\tLoss: 0.490375, Learning rate: 0.001000\n"
          ]
        },
        {
          "metadata": {
            "tags": null
          },
          "name": "stderr",
          "output_type": "stream",
          "text": [
            "/usr/local/lib/python3.7/dist-packages/torchvision/transforms/transforms.py:288: UserWarning: Argument interpolation should be of type InterpolationMode instead of int. Please, use InterpolationMode enum.\n",
            "  \"Argument interpolation should be of type InterpolationMode instead of int. \"\n",
            "/usr/local/lib/python3.7/dist-packages/torchvision/transforms/transforms.py:288: UserWarning: Argument interpolation should be of type InterpolationMode instead of int. Please, use InterpolationMode enum.\n",
            "  \"Argument interpolation should be of type InterpolationMode instead of int. \"\n",
            "/usr/local/lib/python3.7/dist-packages/torchvision/transforms/transforms.py:288: UserWarning: Argument interpolation should be of type InterpolationMode instead of int. Please, use InterpolationMode enum.\n",
            "  \"Argument interpolation should be of type InterpolationMode instead of int. \"\n",
            "/usr/local/lib/python3.7/dist-packages/torchvision/transforms/transforms.py:288: UserWarning: Argument interpolation should be of type InterpolationMode instead of int. Please, use InterpolationMode enum.\n",
            "  \"Argument interpolation should be of type InterpolationMode instead of int. \"\n",
            "/usr/local/lib/python3.7/dist-packages/torchvision/transforms/transforms.py:288: UserWarning: Argument interpolation should be of type InterpolationMode instead of int. Please, use InterpolationMode enum.\n",
            "  \"Argument interpolation should be of type InterpolationMode instead of int. \"\n",
            "/usr/local/lib/python3.7/dist-packages/torchvision/transforms/transforms.py:288: UserWarning: Argument interpolation should be of type InterpolationMode instead of int. Please, use InterpolationMode enum.\n",
            "  \"Argument interpolation should be of type InterpolationMode instead of int. \"\n",
            "/usr/local/lib/python3.7/dist-packages/torchvision/transforms/transforms.py:288: UserWarning: Argument interpolation should be of type InterpolationMode instead of int. Please, use InterpolationMode enum.\n",
            "  \"Argument interpolation should be of type InterpolationMode instead of int. \"\n",
            "/usr/local/lib/python3.7/dist-packages/torchvision/transforms/transforms.py:288: UserWarning: Argument interpolation should be of type InterpolationMode instead of int. Please, use InterpolationMode enum.\n",
            "  \"Argument interpolation should be of type InterpolationMode instead of int. \"\n"
          ]
        },
        {
          "metadata": {
            "tags": null
          },
          "name": "stdout",
          "output_type": "stream",
          "text": [
            "\n",
            "Test set (736): Average loss: 0.6119, mIoU: 0.5745\n",
            "\n",
            "PSPnetLite training, epoch 17\n"
          ]
        },
        {
          "metadata": {
            "tags": null
          },
          "name": "stderr",
          "output_type": "stream",
          "text": [
            "/usr/local/lib/python3.7/dist-packages/torchvision/transforms/transforms.py:288: UserWarning: Argument interpolation should be of type InterpolationMode instead of int. Please, use InterpolationMode enum.\n",
            "  \"Argument interpolation should be of type InterpolationMode instead of int. \"\n",
            "/usr/local/lib/python3.7/dist-packages/torchvision/transforms/transforms.py:288: UserWarning: Argument interpolation should be of type InterpolationMode instead of int. Please, use InterpolationMode enum.\n",
            "  \"Argument interpolation should be of type InterpolationMode instead of int. \"\n",
            "/usr/local/lib/python3.7/dist-packages/torchvision/transforms/transforms.py:288: UserWarning: Argument interpolation should be of type InterpolationMode instead of int. Please, use InterpolationMode enum.\n",
            "  \"Argument interpolation should be of type InterpolationMode instead of int. \"\n",
            "/usr/local/lib/python3.7/dist-packages/torchvision/transforms/transforms.py:288: UserWarning: Argument interpolation should be of type InterpolationMode instead of int. Please, use InterpolationMode enum.\n",
            "  \"Argument interpolation should be of type InterpolationMode instead of int. \"\n",
            "/usr/local/lib/python3.7/dist-packages/torchvision/transforms/transforms.py:288: UserWarning: Argument interpolation should be of type InterpolationMode instead of int. Please, use InterpolationMode enum.\n",
            "  \"Argument interpolation should be of type InterpolationMode instead of int. \"\n",
            "/usr/local/lib/python3.7/dist-packages/torchvision/transforms/transforms.py:288: UserWarning: Argument interpolation should be of type InterpolationMode instead of int. Please, use InterpolationMode enum.\n",
            "  \"Argument interpolation should be of type InterpolationMode instead of int. \"\n",
            "/usr/local/lib/python3.7/dist-packages/torchvision/transforms/transforms.py:288: UserWarning: Argument interpolation should be of type InterpolationMode instead of int. Please, use InterpolationMode enum.\n",
            "  \"Argument interpolation should be of type InterpolationMode instead of int. \"\n",
            "/usr/local/lib/python3.7/dist-packages/torchvision/transforms/transforms.py:288: UserWarning: Argument interpolation should be of type InterpolationMode instead of int. Please, use InterpolationMode enum.\n",
            "  \"Argument interpolation should be of type InterpolationMode instead of int. \"\n"
          ]
        },
        {
          "metadata": {
            "tags": null
          },
          "name": "stdout",
          "output_type": "stream",
          "text": [
            "Train Epoch: 17 [240/8498 (3%)]\tLoss: 0.403838, Learning rate: 0.001000\n",
            "Train Epoch: 17 [480/8498 (6%)]\tLoss: 0.545327, Learning rate: 0.001000\n",
            "Train Epoch: 17 [720/8498 (8%)]\tLoss: 0.254311, Learning rate: 0.001000\n",
            "Train Epoch: 17 [960/8498 (11%)]\tLoss: 0.352234, Learning rate: 0.001000\n",
            "Train Epoch: 17 [1200/8498 (14%)]\tLoss: 0.346205, Learning rate: 0.001000\n",
            "Train Epoch: 17 [1440/8498 (17%)]\tLoss: 0.247468, Learning rate: 0.001000\n",
            "Train Epoch: 17 [1680/8498 (20%)]\tLoss: 0.351692, Learning rate: 0.001000\n",
            "Train Epoch: 17 [1920/8498 (23%)]\tLoss: 0.249609, Learning rate: 0.001000\n",
            "Train Epoch: 17 [2160/8498 (25%)]\tLoss: 0.443026, Learning rate: 0.001000\n",
            "Train Epoch: 17 [2400/8498 (28%)]\tLoss: 0.365748, Learning rate: 0.001000\n",
            "Train Epoch: 17 [2640/8498 (31%)]\tLoss: 0.414436, Learning rate: 0.001000\n",
            "Train Epoch: 17 [2880/8498 (34%)]\tLoss: 0.516633, Learning rate: 0.001000\n",
            "Train Epoch: 17 [3120/8498 (37%)]\tLoss: 0.315631, Learning rate: 0.001000\n",
            "Train Epoch: 17 [3360/8498 (39%)]\tLoss: 0.336316, Learning rate: 0.001000\n",
            "Train Epoch: 17 [3600/8498 (42%)]\tLoss: 0.360503, Learning rate: 0.001000\n",
            "Train Epoch: 17 [3840/8498 (45%)]\tLoss: 0.440089, Learning rate: 0.001000\n",
            "Train Epoch: 17 [4080/8498 (48%)]\tLoss: 0.303619, Learning rate: 0.001000\n",
            "Train Epoch: 17 [4320/8498 (51%)]\tLoss: 0.403777, Learning rate: 0.001000\n",
            "Train Epoch: 17 [4560/8498 (54%)]\tLoss: 0.484801, Learning rate: 0.001000\n",
            "Train Epoch: 17 [4800/8498 (56%)]\tLoss: 0.480636, Learning rate: 0.001000\n",
            "Train Epoch: 17 [5040/8498 (59%)]\tLoss: 0.377727, Learning rate: 0.001000\n",
            "Train Epoch: 17 [5280/8498 (62%)]\tLoss: 0.356766, Learning rate: 0.001000\n",
            "Train Epoch: 17 [5520/8498 (65%)]\tLoss: 0.241538, Learning rate: 0.001000\n",
            "Train Epoch: 17 [5760/8498 (68%)]\tLoss: 0.483100, Learning rate: 0.001000\n",
            "Train Epoch: 17 [6000/8498 (70%)]\tLoss: 0.596098, Learning rate: 0.001000\n",
            "Train Epoch: 17 [6240/8498 (73%)]\tLoss: 0.359093, Learning rate: 0.001000\n",
            "Train Epoch: 17 [6480/8498 (76%)]\tLoss: 0.348817, Learning rate: 0.001000\n",
            "Train Epoch: 17 [6720/8498 (79%)]\tLoss: 0.584960, Learning rate: 0.001000\n",
            "Train Epoch: 17 [6960/8498 (82%)]\tLoss: 0.316027, Learning rate: 0.001000\n",
            "Train Epoch: 17 [7200/8498 (85%)]\tLoss: 0.539305, Learning rate: 0.001000\n",
            "Train Epoch: 17 [7440/8498 (87%)]\tLoss: 0.376133, Learning rate: 0.001000\n",
            "Train Epoch: 17 [7680/8498 (90%)]\tLoss: 0.337947, Learning rate: 0.001000\n",
            "Train Epoch: 17 [7920/8498 (93%)]\tLoss: 0.341009, Learning rate: 0.001000\n",
            "Train Epoch: 17 [8160/8498 (96%)]\tLoss: 0.281942, Learning rate: 0.001000\n",
            "Train Epoch: 17 [8400/8498 (99%)]\tLoss: 0.404776, Learning rate: 0.001000\n"
          ]
        },
        {
          "metadata": {
            "tags": null
          },
          "name": "stderr",
          "output_type": "stream",
          "text": [
            "/usr/local/lib/python3.7/dist-packages/torchvision/transforms/transforms.py:288: UserWarning: Argument interpolation should be of type InterpolationMode instead of int. Please, use InterpolationMode enum.\n",
            "  \"Argument interpolation should be of type InterpolationMode instead of int. \"\n",
            "/usr/local/lib/python3.7/dist-packages/torchvision/transforms/transforms.py:288: UserWarning: Argument interpolation should be of type InterpolationMode instead of int. Please, use InterpolationMode enum.\n",
            "  \"Argument interpolation should be of type InterpolationMode instead of int. \"\n",
            "/usr/local/lib/python3.7/dist-packages/torchvision/transforms/transforms.py:288: UserWarning: Argument interpolation should be of type InterpolationMode instead of int. Please, use InterpolationMode enum.\n",
            "  \"Argument interpolation should be of type InterpolationMode instead of int. \"\n",
            "/usr/local/lib/python3.7/dist-packages/torchvision/transforms/transforms.py:288: UserWarning: Argument interpolation should be of type InterpolationMode instead of int. Please, use InterpolationMode enum.\n",
            "  \"Argument interpolation should be of type InterpolationMode instead of int. \"\n",
            "/usr/local/lib/python3.7/dist-packages/torchvision/transforms/transforms.py:288: UserWarning: Argument interpolation should be of type InterpolationMode instead of int. Please, use InterpolationMode enum.\n",
            "  \"Argument interpolation should be of type InterpolationMode instead of int. \"\n",
            "/usr/local/lib/python3.7/dist-packages/torchvision/transforms/transforms.py:288: UserWarning: Argument interpolation should be of type InterpolationMode instead of int. Please, use InterpolationMode enum.\n",
            "  \"Argument interpolation should be of type InterpolationMode instead of int. \"\n",
            "/usr/local/lib/python3.7/dist-packages/torchvision/transforms/transforms.py:288: UserWarning: Argument interpolation should be of type InterpolationMode instead of int. Please, use InterpolationMode enum.\n",
            "  \"Argument interpolation should be of type InterpolationMode instead of int. \"\n",
            "/usr/local/lib/python3.7/dist-packages/torchvision/transforms/transforms.py:288: UserWarning: Argument interpolation should be of type InterpolationMode instead of int. Please, use InterpolationMode enum.\n",
            "  \"Argument interpolation should be of type InterpolationMode instead of int. \"\n"
          ]
        },
        {
          "metadata": {
            "tags": null
          },
          "name": "stdout",
          "output_type": "stream",
          "text": [
            "\n",
            "Test set (736): Average loss: 0.5924, mIoU: 0.5821\n",
            "\n",
            "PSPnetLite training, epoch 18\n"
          ]
        },
        {
          "metadata": {
            "tags": null
          },
          "name": "stderr",
          "output_type": "stream",
          "text": [
            "/usr/local/lib/python3.7/dist-packages/torchvision/transforms/transforms.py:288: UserWarning: Argument interpolation should be of type InterpolationMode instead of int. Please, use InterpolationMode enum.\n",
            "  \"Argument interpolation should be of type InterpolationMode instead of int. \"\n",
            "/usr/local/lib/python3.7/dist-packages/torchvision/transforms/transforms.py:288: UserWarning: Argument interpolation should be of type InterpolationMode instead of int. Please, use InterpolationMode enum.\n",
            "  \"Argument interpolation should be of type InterpolationMode instead of int. \"\n",
            "/usr/local/lib/python3.7/dist-packages/torchvision/transforms/transforms.py:288: UserWarning: Argument interpolation should be of type InterpolationMode instead of int. Please, use InterpolationMode enum.\n",
            "  \"Argument interpolation should be of type InterpolationMode instead of int. \"\n",
            "/usr/local/lib/python3.7/dist-packages/torchvision/transforms/transforms.py:288: UserWarning: Argument interpolation should be of type InterpolationMode instead of int. Please, use InterpolationMode enum.\n",
            "  \"Argument interpolation should be of type InterpolationMode instead of int. \"\n",
            "/usr/local/lib/python3.7/dist-packages/torchvision/transforms/transforms.py:288: UserWarning: Argument interpolation should be of type InterpolationMode instead of int. Please, use InterpolationMode enum.\n",
            "  \"Argument interpolation should be of type InterpolationMode instead of int. \"\n",
            "/usr/local/lib/python3.7/dist-packages/torchvision/transforms/transforms.py:288: UserWarning: Argument interpolation should be of type InterpolationMode instead of int. Please, use InterpolationMode enum.\n",
            "  \"Argument interpolation should be of type InterpolationMode instead of int. \"\n",
            "/usr/local/lib/python3.7/dist-packages/torchvision/transforms/transforms.py:288: UserWarning: Argument interpolation should be of type InterpolationMode instead of int. Please, use InterpolationMode enum.\n",
            "  \"Argument interpolation should be of type InterpolationMode instead of int. \"\n",
            "/usr/local/lib/python3.7/dist-packages/torchvision/transforms/transforms.py:288: UserWarning: Argument interpolation should be of type InterpolationMode instead of int. Please, use InterpolationMode enum.\n",
            "  \"Argument interpolation should be of type InterpolationMode instead of int. \"\n"
          ]
        },
        {
          "metadata": {
            "tags": null
          },
          "name": "stdout",
          "output_type": "stream",
          "text": [
            "Train Epoch: 18 [240/8498 (3%)]\tLoss: 0.380927, Learning rate: 0.001000\n",
            "Train Epoch: 18 [480/8498 (6%)]\tLoss: 0.430758, Learning rate: 0.001000\n",
            "Train Epoch: 18 [720/8498 (8%)]\tLoss: 0.319069, Learning rate: 0.001000\n",
            "Train Epoch: 18 [960/8498 (11%)]\tLoss: 0.497106, Learning rate: 0.001000\n",
            "Train Epoch: 18 [1200/8498 (14%)]\tLoss: 0.305198, Learning rate: 0.001000\n",
            "Train Epoch: 18 [1440/8498 (17%)]\tLoss: 0.306785, Learning rate: 0.001000\n",
            "Train Epoch: 18 [1680/8498 (20%)]\tLoss: 0.554805, Learning rate: 0.001000\n",
            "Train Epoch: 18 [1920/8498 (23%)]\tLoss: 0.426735, Learning rate: 0.001000\n",
            "Train Epoch: 18 [2160/8498 (25%)]\tLoss: 0.420862, Learning rate: 0.001000\n",
            "Train Epoch: 18 [2400/8498 (28%)]\tLoss: 0.384378, Learning rate: 0.001000\n",
            "Train Epoch: 18 [2640/8498 (31%)]\tLoss: 0.450229, Learning rate: 0.001000\n",
            "Train Epoch: 18 [2880/8498 (34%)]\tLoss: 0.507356, Learning rate: 0.001000\n",
            "Train Epoch: 18 [3120/8498 (37%)]\tLoss: 0.455736, Learning rate: 0.001000\n",
            "Train Epoch: 18 [3360/8498 (39%)]\tLoss: 0.420677, Learning rate: 0.001000\n",
            "Train Epoch: 18 [3600/8498 (42%)]\tLoss: 0.427086, Learning rate: 0.001000\n",
            "Train Epoch: 18 [3840/8498 (45%)]\tLoss: 0.270638, Learning rate: 0.001000\n",
            "Train Epoch: 18 [4080/8498 (48%)]\tLoss: 0.367040, Learning rate: 0.001000\n",
            "Train Epoch: 18 [4320/8498 (51%)]\tLoss: 0.407255, Learning rate: 0.001000\n",
            "Train Epoch: 18 [4560/8498 (54%)]\tLoss: 0.347620, Learning rate: 0.001000\n",
            "Train Epoch: 18 [4800/8498 (56%)]\tLoss: 0.275779, Learning rate: 0.001000\n",
            "Train Epoch: 18 [5040/8498 (59%)]\tLoss: 0.362679, Learning rate: 0.001000\n",
            "Train Epoch: 18 [5280/8498 (62%)]\tLoss: 0.300015, Learning rate: 0.001000\n",
            "Train Epoch: 18 [5520/8498 (65%)]\tLoss: 0.646759, Learning rate: 0.001000\n",
            "Train Epoch: 18 [5760/8498 (68%)]\tLoss: 0.348591, Learning rate: 0.001000\n",
            "Train Epoch: 18 [6000/8498 (70%)]\tLoss: 0.411880, Learning rate: 0.001000\n",
            "Train Epoch: 18 [6240/8498 (73%)]\tLoss: 0.320774, Learning rate: 0.001000\n",
            "Train Epoch: 18 [6480/8498 (76%)]\tLoss: 0.317854, Learning rate: 0.001000\n",
            "Train Epoch: 18 [6720/8498 (79%)]\tLoss: 0.364256, Learning rate: 0.001000\n",
            "Train Epoch: 18 [6960/8498 (82%)]\tLoss: 0.359296, Learning rate: 0.001000\n",
            "Train Epoch: 18 [7200/8498 (85%)]\tLoss: 0.554872, Learning rate: 0.001000\n",
            "Train Epoch: 18 [7440/8498 (87%)]\tLoss: 0.506282, Learning rate: 0.001000\n",
            "Train Epoch: 18 [7680/8498 (90%)]\tLoss: 0.458467, Learning rate: 0.001000\n",
            "Train Epoch: 18 [7920/8498 (93%)]\tLoss: 0.484631, Learning rate: 0.001000\n",
            "Train Epoch: 18 [8160/8498 (96%)]\tLoss: 0.309103, Learning rate: 0.001000\n",
            "Train Epoch: 18 [8400/8498 (99%)]\tLoss: 0.455218, Learning rate: 0.001000\n"
          ]
        },
        {
          "metadata": {
            "tags": null
          },
          "name": "stderr",
          "output_type": "stream",
          "text": [
            "/usr/local/lib/python3.7/dist-packages/torchvision/transforms/transforms.py:288: UserWarning: Argument interpolation should be of type InterpolationMode instead of int. Please, use InterpolationMode enum.\n",
            "  \"Argument interpolation should be of type InterpolationMode instead of int. \"\n",
            "/usr/local/lib/python3.7/dist-packages/torchvision/transforms/transforms.py:288: UserWarning: Argument interpolation should be of type InterpolationMode instead of int. Please, use InterpolationMode enum.\n",
            "  \"Argument interpolation should be of type InterpolationMode instead of int. \"\n",
            "/usr/local/lib/python3.7/dist-packages/torchvision/transforms/transforms.py:288: UserWarning: Argument interpolation should be of type InterpolationMode instead of int. Please, use InterpolationMode enum.\n",
            "  \"Argument interpolation should be of type InterpolationMode instead of int. \"\n",
            "/usr/local/lib/python3.7/dist-packages/torchvision/transforms/transforms.py:288: UserWarning: Argument interpolation should be of type InterpolationMode instead of int. Please, use InterpolationMode enum.\n",
            "  \"Argument interpolation should be of type InterpolationMode instead of int. \"\n",
            "/usr/local/lib/python3.7/dist-packages/torchvision/transforms/transforms.py:288: UserWarning: Argument interpolation should be of type InterpolationMode instead of int. Please, use InterpolationMode enum.\n",
            "  \"Argument interpolation should be of type InterpolationMode instead of int. \"\n",
            "/usr/local/lib/python3.7/dist-packages/torchvision/transforms/transforms.py:288: UserWarning: Argument interpolation should be of type InterpolationMode instead of int. Please, use InterpolationMode enum.\n",
            "  \"Argument interpolation should be of type InterpolationMode instead of int. \"\n",
            "/usr/local/lib/python3.7/dist-packages/torchvision/transforms/transforms.py:288: UserWarning: Argument interpolation should be of type InterpolationMode instead of int. Please, use InterpolationMode enum.\n",
            "  \"Argument interpolation should be of type InterpolationMode instead of int. \"\n",
            "/usr/local/lib/python3.7/dist-packages/torchvision/transforms/transforms.py:288: UserWarning: Argument interpolation should be of type InterpolationMode instead of int. Please, use InterpolationMode enum.\n",
            "  \"Argument interpolation should be of type InterpolationMode instead of int. \"\n"
          ]
        },
        {
          "metadata": {
            "tags": null
          },
          "name": "stdout",
          "output_type": "stream",
          "text": [
            "\n",
            "Test set (736): Average loss: 0.6139, mIoU: 0.5839\n",
            "\n",
            "PSPnetLite training, epoch 19\n"
          ]
        },
        {
          "metadata": {
            "tags": null
          },
          "name": "stderr",
          "output_type": "stream",
          "text": [
            "/usr/local/lib/python3.7/dist-packages/torchvision/transforms/transforms.py:288: UserWarning: Argument interpolation should be of type InterpolationMode instead of int. Please, use InterpolationMode enum.\n",
            "  \"Argument interpolation should be of type InterpolationMode instead of int. \"\n",
            "/usr/local/lib/python3.7/dist-packages/torchvision/transforms/transforms.py:288: UserWarning: Argument interpolation should be of type InterpolationMode instead of int. Please, use InterpolationMode enum.\n",
            "  \"Argument interpolation should be of type InterpolationMode instead of int. \"\n",
            "/usr/local/lib/python3.7/dist-packages/torchvision/transforms/transforms.py:288: UserWarning: Argument interpolation should be of type InterpolationMode instead of int. Please, use InterpolationMode enum.\n",
            "  \"Argument interpolation should be of type InterpolationMode instead of int. \"\n",
            "/usr/local/lib/python3.7/dist-packages/torchvision/transforms/transforms.py:288: UserWarning: Argument interpolation should be of type InterpolationMode instead of int. Please, use InterpolationMode enum.\n",
            "  \"Argument interpolation should be of type InterpolationMode instead of int. \"\n",
            "/usr/local/lib/python3.7/dist-packages/torchvision/transforms/transforms.py:288: UserWarning: Argument interpolation should be of type InterpolationMode instead of int. Please, use InterpolationMode enum.\n",
            "  \"Argument interpolation should be of type InterpolationMode instead of int. \"\n",
            "/usr/local/lib/python3.7/dist-packages/torchvision/transforms/transforms.py:288: UserWarning: Argument interpolation should be of type InterpolationMode instead of int. Please, use InterpolationMode enum.\n",
            "  \"Argument interpolation should be of type InterpolationMode instead of int. \"\n",
            "/usr/local/lib/python3.7/dist-packages/torchvision/transforms/transforms.py:288: UserWarning: Argument interpolation should be of type InterpolationMode instead of int. Please, use InterpolationMode enum.\n",
            "  \"Argument interpolation should be of type InterpolationMode instead of int. \"\n",
            "/usr/local/lib/python3.7/dist-packages/torchvision/transforms/transforms.py:288: UserWarning: Argument interpolation should be of type InterpolationMode instead of int. Please, use InterpolationMode enum.\n",
            "  \"Argument interpolation should be of type InterpolationMode instead of int. \"\n"
          ]
        },
        {
          "metadata": {
            "tags": null
          },
          "name": "stdout",
          "output_type": "stream",
          "text": [
            "Train Epoch: 19 [240/8498 (3%)]\tLoss: 0.395159, Learning rate: 0.001000\n",
            "Train Epoch: 19 [480/8498 (6%)]\tLoss: 0.418935, Learning rate: 0.001000\n",
            "Train Epoch: 19 [720/8498 (8%)]\tLoss: 0.248772, Learning rate: 0.001000\n",
            "Train Epoch: 19 [960/8498 (11%)]\tLoss: 0.440529, Learning rate: 0.001000\n",
            "Train Epoch: 19 [1200/8498 (14%)]\tLoss: 0.385375, Learning rate: 0.001000\n",
            "Train Epoch: 19 [1440/8498 (17%)]\tLoss: 0.342843, Learning rate: 0.001000\n",
            "Train Epoch: 19 [1680/8498 (20%)]\tLoss: 0.336690, Learning rate: 0.001000\n",
            "Train Epoch: 19 [1920/8498 (23%)]\tLoss: 0.381187, Learning rate: 0.001000\n",
            "Train Epoch: 19 [2160/8498 (25%)]\tLoss: 0.408571, Learning rate: 0.001000\n",
            "Train Epoch: 19 [2400/8498 (28%)]\tLoss: 0.287757, Learning rate: 0.001000\n",
            "Train Epoch: 19 [2640/8498 (31%)]\tLoss: 0.495667, Learning rate: 0.001000\n",
            "Train Epoch: 19 [2880/8498 (34%)]\tLoss: 0.349602, Learning rate: 0.001000\n",
            "Train Epoch: 19 [3120/8498 (37%)]\tLoss: 0.285514, Learning rate: 0.001000\n",
            "Train Epoch: 19 [3360/8498 (39%)]\tLoss: 0.499307, Learning rate: 0.001000\n",
            "Train Epoch: 19 [3600/8498 (42%)]\tLoss: 0.251049, Learning rate: 0.001000\n",
            "Train Epoch: 19 [3840/8498 (45%)]\tLoss: 0.316576, Learning rate: 0.001000\n",
            "Train Epoch: 19 [4080/8498 (48%)]\tLoss: 0.423342, Learning rate: 0.001000\n",
            "Train Epoch: 19 [4320/8498 (51%)]\tLoss: 0.338792, Learning rate: 0.001000\n",
            "Train Epoch: 19 [4560/8498 (54%)]\tLoss: 0.303127, Learning rate: 0.001000\n",
            "Train Epoch: 19 [4800/8498 (56%)]\tLoss: 0.405591, Learning rate: 0.001000\n",
            "Train Epoch: 19 [5040/8498 (59%)]\tLoss: 0.397455, Learning rate: 0.001000\n",
            "Train Epoch: 19 [5280/8498 (62%)]\tLoss: 0.355506, Learning rate: 0.001000\n",
            "Train Epoch: 19 [5520/8498 (65%)]\tLoss: 0.424004, Learning rate: 0.001000\n",
            "Train Epoch: 19 [5760/8498 (68%)]\tLoss: 0.398473, Learning rate: 0.001000\n",
            "Train Epoch: 19 [6000/8498 (70%)]\tLoss: 0.485080, Learning rate: 0.001000\n",
            "Train Epoch: 19 [6240/8498 (73%)]\tLoss: 0.386839, Learning rate: 0.001000\n",
            "Train Epoch: 19 [6480/8498 (76%)]\tLoss: 0.503135, Learning rate: 0.001000\n",
            "Train Epoch: 19 [6720/8498 (79%)]\tLoss: 0.395295, Learning rate: 0.001000\n",
            "Train Epoch: 19 [6960/8498 (82%)]\tLoss: 0.402265, Learning rate: 0.001000\n",
            "Train Epoch: 19 [7200/8498 (85%)]\tLoss: 0.542505, Learning rate: 0.001000\n",
            "Train Epoch: 19 [7440/8498 (87%)]\tLoss: 0.406294, Learning rate: 0.001000\n",
            "Train Epoch: 19 [7680/8498 (90%)]\tLoss: 0.367266, Learning rate: 0.001000\n",
            "Train Epoch: 19 [7920/8498 (93%)]\tLoss: 0.336763, Learning rate: 0.001000\n",
            "Train Epoch: 19 [8160/8498 (96%)]\tLoss: 0.276789, Learning rate: 0.001000\n",
            "Train Epoch: 19 [8400/8498 (99%)]\tLoss: 0.661232, Learning rate: 0.001000\n"
          ]
        },
        {
          "metadata": {
            "tags": null
          },
          "name": "stderr",
          "output_type": "stream",
          "text": [
            "/usr/local/lib/python3.7/dist-packages/torchvision/transforms/transforms.py:288: UserWarning: Argument interpolation should be of type InterpolationMode instead of int. Please, use InterpolationMode enum.\n",
            "  \"Argument interpolation should be of type InterpolationMode instead of int. \"\n",
            "/usr/local/lib/python3.7/dist-packages/torchvision/transforms/transforms.py:288: UserWarning: Argument interpolation should be of type InterpolationMode instead of int. Please, use InterpolationMode enum.\n",
            "  \"Argument interpolation should be of type InterpolationMode instead of int. \"\n",
            "/usr/local/lib/python3.7/dist-packages/torchvision/transforms/transforms.py:288: UserWarning: Argument interpolation should be of type InterpolationMode instead of int. Please, use InterpolationMode enum.\n",
            "  \"Argument interpolation should be of type InterpolationMode instead of int. \"\n",
            "/usr/local/lib/python3.7/dist-packages/torchvision/transforms/transforms.py:288: UserWarning: Argument interpolation should be of type InterpolationMode instead of int. Please, use InterpolationMode enum.\n",
            "  \"Argument interpolation should be of type InterpolationMode instead of int. \"\n",
            "/usr/local/lib/python3.7/dist-packages/torchvision/transforms/transforms.py:288: UserWarning: Argument interpolation should be of type InterpolationMode instead of int. Please, use InterpolationMode enum.\n",
            "  \"Argument interpolation should be of type InterpolationMode instead of int. \"\n",
            "/usr/local/lib/python3.7/dist-packages/torchvision/transforms/transforms.py:288: UserWarning: Argument interpolation should be of type InterpolationMode instead of int. Please, use InterpolationMode enum.\n",
            "  \"Argument interpolation should be of type InterpolationMode instead of int. \"\n",
            "/usr/local/lib/python3.7/dist-packages/torchvision/transforms/transforms.py:288: UserWarning: Argument interpolation should be of type InterpolationMode instead of int. Please, use InterpolationMode enum.\n",
            "  \"Argument interpolation should be of type InterpolationMode instead of int. \"\n",
            "/usr/local/lib/python3.7/dist-packages/torchvision/transforms/transforms.py:288: UserWarning: Argument interpolation should be of type InterpolationMode instead of int. Please, use InterpolationMode enum.\n",
            "  \"Argument interpolation should be of type InterpolationMode instead of int. \"\n"
          ]
        },
        {
          "metadata": {
            "tags": null
          },
          "name": "stdout",
          "output_type": "stream",
          "text": [
            "\n",
            "Test set (736): Average loss: 0.6116, mIoU: 0.5852\n",
            "\n",
            "PSPnetLite training, epoch 20\n"
          ]
        },
        {
          "metadata": {
            "tags": null
          },
          "name": "stderr",
          "output_type": "stream",
          "text": [
            "/usr/local/lib/python3.7/dist-packages/torchvision/transforms/transforms.py:288: UserWarning: Argument interpolation should be of type InterpolationMode instead of int. Please, use InterpolationMode enum.\n",
            "  \"Argument interpolation should be of type InterpolationMode instead of int. \"\n",
            "/usr/local/lib/python3.7/dist-packages/torchvision/transforms/transforms.py:288: UserWarning: Argument interpolation should be of type InterpolationMode instead of int. Please, use InterpolationMode enum.\n",
            "  \"Argument interpolation should be of type InterpolationMode instead of int. \"\n",
            "/usr/local/lib/python3.7/dist-packages/torchvision/transforms/transforms.py:288: UserWarning: Argument interpolation should be of type InterpolationMode instead of int. Please, use InterpolationMode enum.\n",
            "  \"Argument interpolation should be of type InterpolationMode instead of int. \"\n",
            "/usr/local/lib/python3.7/dist-packages/torchvision/transforms/transforms.py:288: UserWarning: Argument interpolation should be of type InterpolationMode instead of int. Please, use InterpolationMode enum.\n",
            "  \"Argument interpolation should be of type InterpolationMode instead of int. \"\n",
            "/usr/local/lib/python3.7/dist-packages/torchvision/transforms/transforms.py:288: UserWarning: Argument interpolation should be of type InterpolationMode instead of int. Please, use InterpolationMode enum.\n",
            "  \"Argument interpolation should be of type InterpolationMode instead of int. \"\n",
            "/usr/local/lib/python3.7/dist-packages/torchvision/transforms/transforms.py:288: UserWarning: Argument interpolation should be of type InterpolationMode instead of int. Please, use InterpolationMode enum.\n",
            "  \"Argument interpolation should be of type InterpolationMode instead of int. \"\n",
            "/usr/local/lib/python3.7/dist-packages/torchvision/transforms/transforms.py:288: UserWarning: Argument interpolation should be of type InterpolationMode instead of int. Please, use InterpolationMode enum.\n",
            "  \"Argument interpolation should be of type InterpolationMode instead of int. \"\n",
            "/usr/local/lib/python3.7/dist-packages/torchvision/transforms/transforms.py:288: UserWarning: Argument interpolation should be of type InterpolationMode instead of int. Please, use InterpolationMode enum.\n",
            "  \"Argument interpolation should be of type InterpolationMode instead of int. \"\n"
          ]
        },
        {
          "metadata": {
            "tags": null
          },
          "name": "stdout",
          "output_type": "stream",
          "text": [
            "Train Epoch: 20 [240/8498 (3%)]\tLoss: 0.449376, Learning rate: 0.001000\n",
            "Train Epoch: 20 [480/8498 (6%)]\tLoss: 0.266711, Learning rate: 0.001000\n",
            "Train Epoch: 20 [720/8498 (8%)]\tLoss: 0.361447, Learning rate: 0.001000\n",
            "Train Epoch: 20 [960/8498 (11%)]\tLoss: 0.327133, Learning rate: 0.001000\n",
            "Train Epoch: 20 [1200/8498 (14%)]\tLoss: 0.407605, Learning rate: 0.001000\n",
            "Train Epoch: 20 [1440/8498 (17%)]\tLoss: 0.283725, Learning rate: 0.001000\n",
            "Train Epoch: 20 [1680/8498 (20%)]\tLoss: 0.371022, Learning rate: 0.001000\n",
            "Train Epoch: 20 [1920/8498 (23%)]\tLoss: 0.422173, Learning rate: 0.001000\n",
            "Train Epoch: 20 [2160/8498 (25%)]\tLoss: 0.593101, Learning rate: 0.001000\n",
            "Train Epoch: 20 [2400/8498 (28%)]\tLoss: 0.256424, Learning rate: 0.001000\n",
            "Train Epoch: 20 [2640/8498 (31%)]\tLoss: 0.384572, Learning rate: 0.001000\n",
            "Train Epoch: 20 [2880/8498 (34%)]\tLoss: 0.453403, Learning rate: 0.001000\n",
            "Train Epoch: 20 [3120/8498 (37%)]\tLoss: 0.428416, Learning rate: 0.001000\n",
            "Train Epoch: 20 [3360/8498 (39%)]\tLoss: 0.487291, Learning rate: 0.001000\n",
            "Train Epoch: 20 [3600/8498 (42%)]\tLoss: 0.415192, Learning rate: 0.001000\n",
            "Train Epoch: 20 [3840/8498 (45%)]\tLoss: 0.358725, Learning rate: 0.001000\n",
            "Train Epoch: 20 [4080/8498 (48%)]\tLoss: 0.369945, Learning rate: 0.001000\n",
            "Train Epoch: 20 [4320/8498 (51%)]\tLoss: 0.383865, Learning rate: 0.001000\n",
            "Train Epoch: 20 [4560/8498 (54%)]\tLoss: 0.236291, Learning rate: 0.001000\n",
            "Train Epoch: 20 [4800/8498 (56%)]\tLoss: 0.330150, Learning rate: 0.001000\n",
            "Train Epoch: 20 [5040/8498 (59%)]\tLoss: 0.496075, Learning rate: 0.001000\n",
            "Train Epoch: 20 [5280/8498 (62%)]\tLoss: 0.320752, Learning rate: 0.001000\n",
            "Train Epoch: 20 [5520/8498 (65%)]\tLoss: 0.282853, Learning rate: 0.001000\n",
            "Train Epoch: 20 [5760/8498 (68%)]\tLoss: 0.259535, Learning rate: 0.001000\n",
            "Train Epoch: 20 [6000/8498 (70%)]\tLoss: 0.517156, Learning rate: 0.001000\n",
            "Train Epoch: 20 [6240/8498 (73%)]\tLoss: 0.319391, Learning rate: 0.001000\n",
            "Train Epoch: 20 [6480/8498 (76%)]\tLoss: 0.492083, Learning rate: 0.001000\n",
            "Train Epoch: 20 [6720/8498 (79%)]\tLoss: 0.596523, Learning rate: 0.001000\n",
            "Train Epoch: 20 [6960/8498 (82%)]\tLoss: 0.375901, Learning rate: 0.001000\n",
            "Train Epoch: 20 [7200/8498 (85%)]\tLoss: 0.322489, Learning rate: 0.001000\n",
            "Train Epoch: 20 [7440/8498 (87%)]\tLoss: 0.349296, Learning rate: 0.001000\n",
            "Train Epoch: 20 [7680/8498 (90%)]\tLoss: 0.268678, Learning rate: 0.001000\n",
            "Train Epoch: 20 [7920/8498 (93%)]\tLoss: 0.600185, Learning rate: 0.001000\n",
            "Train Epoch: 20 [8160/8498 (96%)]\tLoss: 0.306999, Learning rate: 0.001000\n",
            "Train Epoch: 20 [8400/8498 (99%)]\tLoss: 0.401433, Learning rate: 0.001000\n"
          ]
        },
        {
          "metadata": {
            "tags": null
          },
          "name": "stderr",
          "output_type": "stream",
          "text": [
            "/usr/local/lib/python3.7/dist-packages/torchvision/transforms/transforms.py:288: UserWarning: Argument interpolation should be of type InterpolationMode instead of int. Please, use InterpolationMode enum.\n",
            "  \"Argument interpolation should be of type InterpolationMode instead of int. \"\n",
            "/usr/local/lib/python3.7/dist-packages/torchvision/transforms/transforms.py:288: UserWarning: Argument interpolation should be of type InterpolationMode instead of int. Please, use InterpolationMode enum.\n",
            "  \"Argument interpolation should be of type InterpolationMode instead of int. \"\n",
            "/usr/local/lib/python3.7/dist-packages/torchvision/transforms/transforms.py:288: UserWarning: Argument interpolation should be of type InterpolationMode instead of int. Please, use InterpolationMode enum.\n",
            "  \"Argument interpolation should be of type InterpolationMode instead of int. \"\n",
            "/usr/local/lib/python3.7/dist-packages/torchvision/transforms/transforms.py:288: UserWarning: Argument interpolation should be of type InterpolationMode instead of int. Please, use InterpolationMode enum.\n",
            "  \"Argument interpolation should be of type InterpolationMode instead of int. \"\n",
            "/usr/local/lib/python3.7/dist-packages/torchvision/transforms/transforms.py:288: UserWarning: Argument interpolation should be of type InterpolationMode instead of int. Please, use InterpolationMode enum.\n",
            "  \"Argument interpolation should be of type InterpolationMode instead of int. \"\n",
            "/usr/local/lib/python3.7/dist-packages/torchvision/transforms/transforms.py:288: UserWarning: Argument interpolation should be of type InterpolationMode instead of int. Please, use InterpolationMode enum.\n",
            "  \"Argument interpolation should be of type InterpolationMode instead of int. \"\n",
            "/usr/local/lib/python3.7/dist-packages/torchvision/transforms/transforms.py:288: UserWarning: Argument interpolation should be of type InterpolationMode instead of int. Please, use InterpolationMode enum.\n",
            "  \"Argument interpolation should be of type InterpolationMode instead of int. \"\n",
            "/usr/local/lib/python3.7/dist-packages/torchvision/transforms/transforms.py:288: UserWarning: Argument interpolation should be of type InterpolationMode instead of int. Please, use InterpolationMode enum.\n",
            "  \"Argument interpolation should be of type InterpolationMode instead of int. \"\n"
          ]
        },
        {
          "metadata": {
            "tags": null
          },
          "name": "stdout",
          "output_type": "stream",
          "text": [
            "\n",
            "Test set (736): Average loss: 0.6007, mIoU: 0.5886\n",
            "\n",
            "PSPnetLite training, epoch 21\n"
          ]
        },
        {
          "metadata": {
            "tags": null
          },
          "name": "stderr",
          "output_type": "stream",
          "text": [
            "/usr/local/lib/python3.7/dist-packages/torchvision/transforms/transforms.py:288: UserWarning: Argument interpolation should be of type InterpolationMode instead of int. Please, use InterpolationMode enum.\n",
            "  \"Argument interpolation should be of type InterpolationMode instead of int. \"\n",
            "/usr/local/lib/python3.7/dist-packages/torchvision/transforms/transforms.py:288: UserWarning: Argument interpolation should be of type InterpolationMode instead of int. Please, use InterpolationMode enum.\n",
            "  \"Argument interpolation should be of type InterpolationMode instead of int. \"\n",
            "/usr/local/lib/python3.7/dist-packages/torchvision/transforms/transforms.py:288: UserWarning: Argument interpolation should be of type InterpolationMode instead of int. Please, use InterpolationMode enum.\n",
            "  \"Argument interpolation should be of type InterpolationMode instead of int. \"\n",
            "/usr/local/lib/python3.7/dist-packages/torchvision/transforms/transforms.py:288: UserWarning: Argument interpolation should be of type InterpolationMode instead of int. Please, use InterpolationMode enum.\n",
            "  \"Argument interpolation should be of type InterpolationMode instead of int. \"\n",
            "/usr/local/lib/python3.7/dist-packages/torchvision/transforms/transforms.py:288: UserWarning: Argument interpolation should be of type InterpolationMode instead of int. Please, use InterpolationMode enum.\n",
            "  \"Argument interpolation should be of type InterpolationMode instead of int. \"\n",
            "/usr/local/lib/python3.7/dist-packages/torchvision/transforms/transforms.py:288: UserWarning: Argument interpolation should be of type InterpolationMode instead of int. Please, use InterpolationMode enum.\n",
            "  \"Argument interpolation should be of type InterpolationMode instead of int. \"\n",
            "/usr/local/lib/python3.7/dist-packages/torchvision/transforms/transforms.py:288: UserWarning: Argument interpolation should be of type InterpolationMode instead of int. Please, use InterpolationMode enum.\n",
            "  \"Argument interpolation should be of type InterpolationMode instead of int. \"\n",
            "/usr/local/lib/python3.7/dist-packages/torchvision/transforms/transforms.py:288: UserWarning: Argument interpolation should be of type InterpolationMode instead of int. Please, use InterpolationMode enum.\n",
            "  \"Argument interpolation should be of type InterpolationMode instead of int. \"\n"
          ]
        },
        {
          "metadata": {
            "tags": null
          },
          "name": "stdout",
          "output_type": "stream",
          "text": [
            "Train Epoch: 21 [240/8498 (3%)]\tLoss: 0.431827, Learning rate: 0.001000\n",
            "Train Epoch: 21 [480/8498 (6%)]\tLoss: 0.247412, Learning rate: 0.001000\n",
            "Train Epoch: 21 [720/8498 (8%)]\tLoss: 0.638039, Learning rate: 0.001000\n",
            "Train Epoch: 21 [960/8498 (11%)]\tLoss: 0.386943, Learning rate: 0.001000\n",
            "Train Epoch: 21 [1200/8498 (14%)]\tLoss: 0.355278, Learning rate: 0.001000\n",
            "Train Epoch: 21 [1440/8498 (17%)]\tLoss: 0.301561, Learning rate: 0.001000\n",
            "Train Epoch: 21 [1680/8498 (20%)]\tLoss: 0.416825, Learning rate: 0.001000\n",
            "Train Epoch: 21 [1920/8498 (23%)]\tLoss: 0.400949, Learning rate: 0.001000\n",
            "Train Epoch: 21 [2160/8498 (25%)]\tLoss: 0.359994, Learning rate: 0.001000\n",
            "Train Epoch: 21 [2400/8498 (28%)]\tLoss: 0.290493, Learning rate: 0.001000\n",
            "Train Epoch: 21 [2640/8498 (31%)]\tLoss: 0.520057, Learning rate: 0.001000\n",
            "Train Epoch: 21 [2880/8498 (34%)]\tLoss: 0.337473, Learning rate: 0.001000\n",
            "Train Epoch: 21 [3120/8498 (37%)]\tLoss: 0.367393, Learning rate: 0.001000\n",
            "Train Epoch: 21 [3360/8498 (39%)]\tLoss: 0.273326, Learning rate: 0.001000\n",
            "Train Epoch: 21 [3600/8498 (42%)]\tLoss: 0.444088, Learning rate: 0.001000\n",
            "Train Epoch: 21 [3840/8498 (45%)]\tLoss: 0.334632, Learning rate: 0.001000\n",
            "Train Epoch: 21 [4080/8498 (48%)]\tLoss: 0.430066, Learning rate: 0.001000\n",
            "Train Epoch: 21 [4320/8498 (51%)]\tLoss: 0.491750, Learning rate: 0.001000\n",
            "Train Epoch: 21 [4560/8498 (54%)]\tLoss: 0.360625, Learning rate: 0.001000\n",
            "Train Epoch: 21 [4800/8498 (56%)]\tLoss: 0.305037, Learning rate: 0.001000\n",
            "Train Epoch: 21 [5040/8498 (59%)]\tLoss: 0.413226, Learning rate: 0.001000\n",
            "Train Epoch: 21 [5280/8498 (62%)]\tLoss: 0.302104, Learning rate: 0.001000\n",
            "Train Epoch: 21 [5520/8498 (65%)]\tLoss: 0.373376, Learning rate: 0.001000\n",
            "Train Epoch: 21 [5760/8498 (68%)]\tLoss: 0.332580, Learning rate: 0.001000\n",
            "Train Epoch: 21 [6000/8498 (70%)]\tLoss: 0.424995, Learning rate: 0.001000\n",
            "Train Epoch: 21 [6240/8498 (73%)]\tLoss: 0.401448, Learning rate: 0.001000\n",
            "Train Epoch: 21 [6480/8498 (76%)]\tLoss: 0.297030, Learning rate: 0.001000\n",
            "Train Epoch: 21 [6720/8498 (79%)]\tLoss: 0.383577, Learning rate: 0.001000\n",
            "Train Epoch: 21 [6960/8498 (82%)]\tLoss: 0.290679, Learning rate: 0.001000\n",
            "Train Epoch: 21 [7200/8498 (85%)]\tLoss: 0.559229, Learning rate: 0.001000\n",
            "Train Epoch: 21 [7440/8498 (87%)]\tLoss: 0.494861, Learning rate: 0.001000\n",
            "Train Epoch: 21 [7680/8498 (90%)]\tLoss: 0.320483, Learning rate: 0.001000\n",
            "Train Epoch: 21 [7920/8498 (93%)]\tLoss: 0.336916, Learning rate: 0.001000\n",
            "Train Epoch: 21 [8160/8498 (96%)]\tLoss: 0.704269, Learning rate: 0.001000\n",
            "Train Epoch: 21 [8400/8498 (99%)]\tLoss: 0.505180, Learning rate: 0.001000\n"
          ]
        },
        {
          "metadata": {
            "tags": null
          },
          "name": "stderr",
          "output_type": "stream",
          "text": [
            "/usr/local/lib/python3.7/dist-packages/torchvision/transforms/transforms.py:288: UserWarning: Argument interpolation should be of type InterpolationMode instead of int. Please, use InterpolationMode enum.\n",
            "  \"Argument interpolation should be of type InterpolationMode instead of int. \"\n",
            "/usr/local/lib/python3.7/dist-packages/torchvision/transforms/transforms.py:288: UserWarning: Argument interpolation should be of type InterpolationMode instead of int. Please, use InterpolationMode enum.\n",
            "  \"Argument interpolation should be of type InterpolationMode instead of int. \"\n",
            "/usr/local/lib/python3.7/dist-packages/torchvision/transforms/transforms.py:288: UserWarning: Argument interpolation should be of type InterpolationMode instead of int. Please, use InterpolationMode enum.\n",
            "  \"Argument interpolation should be of type InterpolationMode instead of int. \"\n",
            "/usr/local/lib/python3.7/dist-packages/torchvision/transforms/transforms.py:288: UserWarning: Argument interpolation should be of type InterpolationMode instead of int. Please, use InterpolationMode enum.\n",
            "  \"Argument interpolation should be of type InterpolationMode instead of int. \"\n",
            "/usr/local/lib/python3.7/dist-packages/torchvision/transforms/transforms.py:288: UserWarning: Argument interpolation should be of type InterpolationMode instead of int. Please, use InterpolationMode enum.\n",
            "  \"Argument interpolation should be of type InterpolationMode instead of int. \"\n",
            "/usr/local/lib/python3.7/dist-packages/torchvision/transforms/transforms.py:288: UserWarning: Argument interpolation should be of type InterpolationMode instead of int. Please, use InterpolationMode enum.\n",
            "  \"Argument interpolation should be of type InterpolationMode instead of int. \"\n",
            "/usr/local/lib/python3.7/dist-packages/torchvision/transforms/transforms.py:288: UserWarning: Argument interpolation should be of type InterpolationMode instead of int. Please, use InterpolationMode enum.\n",
            "  \"Argument interpolation should be of type InterpolationMode instead of int. \"\n",
            "/usr/local/lib/python3.7/dist-packages/torchvision/transforms/transforms.py:288: UserWarning: Argument interpolation should be of type InterpolationMode instead of int. Please, use InterpolationMode enum.\n",
            "  \"Argument interpolation should be of type InterpolationMode instead of int. \"\n"
          ]
        },
        {
          "metadata": {
            "tags": null
          },
          "name": "stdout",
          "output_type": "stream",
          "text": [
            "\n",
            "Test set (736): Average loss: 0.6580, mIoU: 0.5599\n",
            "\n",
            "PSPnetLite training, epoch 22\n"
          ]
        },
        {
          "metadata": {
            "tags": null
          },
          "name": "stderr",
          "output_type": "stream",
          "text": [
            "/usr/local/lib/python3.7/dist-packages/torchvision/transforms/transforms.py:288: UserWarning: Argument interpolation should be of type InterpolationMode instead of int. Please, use InterpolationMode enum.\n",
            "  \"Argument interpolation should be of type InterpolationMode instead of int. \"\n",
            "/usr/local/lib/python3.7/dist-packages/torchvision/transforms/transforms.py:288: UserWarning: Argument interpolation should be of type InterpolationMode instead of int. Please, use InterpolationMode enum.\n",
            "  \"Argument interpolation should be of type InterpolationMode instead of int. \"\n",
            "/usr/local/lib/python3.7/dist-packages/torchvision/transforms/transforms.py:288: UserWarning: Argument interpolation should be of type InterpolationMode instead of int. Please, use InterpolationMode enum.\n",
            "  \"Argument interpolation should be of type InterpolationMode instead of int. \"\n",
            "/usr/local/lib/python3.7/dist-packages/torchvision/transforms/transforms.py:288: UserWarning: Argument interpolation should be of type InterpolationMode instead of int. Please, use InterpolationMode enum.\n",
            "  \"Argument interpolation should be of type InterpolationMode instead of int. \"\n",
            "/usr/local/lib/python3.7/dist-packages/torchvision/transforms/transforms.py:288: UserWarning: Argument interpolation should be of type InterpolationMode instead of int. Please, use InterpolationMode enum.\n",
            "  \"Argument interpolation should be of type InterpolationMode instead of int. \"\n",
            "/usr/local/lib/python3.7/dist-packages/torchvision/transforms/transforms.py:288: UserWarning: Argument interpolation should be of type InterpolationMode instead of int. Please, use InterpolationMode enum.\n",
            "  \"Argument interpolation should be of type InterpolationMode instead of int. \"\n",
            "/usr/local/lib/python3.7/dist-packages/torchvision/transforms/transforms.py:288: UserWarning: Argument interpolation should be of type InterpolationMode instead of int. Please, use InterpolationMode enum.\n",
            "  \"Argument interpolation should be of type InterpolationMode instead of int. \"\n",
            "/usr/local/lib/python3.7/dist-packages/torchvision/transforms/transforms.py:288: UserWarning: Argument interpolation should be of type InterpolationMode instead of int. Please, use InterpolationMode enum.\n",
            "  \"Argument interpolation should be of type InterpolationMode instead of int. \"\n"
          ]
        },
        {
          "metadata": {
            "tags": null
          },
          "name": "stdout",
          "output_type": "stream",
          "text": [
            "Train Epoch: 22 [240/8498 (3%)]\tLoss: 0.380966, Learning rate: 0.001000\n",
            "Train Epoch: 22 [480/8498 (6%)]\tLoss: 0.420278, Learning rate: 0.001000\n",
            "Train Epoch: 22 [720/8498 (8%)]\tLoss: 0.367633, Learning rate: 0.001000\n",
            "Train Epoch: 22 [960/8498 (11%)]\tLoss: 0.461292, Learning rate: 0.001000\n",
            "Train Epoch: 22 [1200/8498 (14%)]\tLoss: 0.306963, Learning rate: 0.001000\n",
            "Train Epoch: 22 [1440/8498 (17%)]\tLoss: 0.281387, Learning rate: 0.001000\n",
            "Train Epoch: 22 [1680/8498 (20%)]\tLoss: 0.349530, Learning rate: 0.001000\n",
            "Train Epoch: 22 [1920/8498 (23%)]\tLoss: 0.470529, Learning rate: 0.001000\n",
            "Train Epoch: 22 [2160/8498 (25%)]\tLoss: 0.412764, Learning rate: 0.001000\n",
            "Train Epoch: 22 [2400/8498 (28%)]\tLoss: 0.276145, Learning rate: 0.001000\n",
            "Train Epoch: 22 [2640/8498 (31%)]\tLoss: 0.399643, Learning rate: 0.001000\n",
            "Train Epoch: 22 [2880/8498 (34%)]\tLoss: 0.447953, Learning rate: 0.001000\n",
            "Train Epoch: 22 [3120/8498 (37%)]\tLoss: 0.363872, Learning rate: 0.001000\n",
            "Train Epoch: 22 [3360/8498 (39%)]\tLoss: 0.292693, Learning rate: 0.001000\n",
            "Train Epoch: 22 [3600/8498 (42%)]\tLoss: 0.517712, Learning rate: 0.001000\n",
            "Train Epoch: 22 [3840/8498 (45%)]\tLoss: 0.427790, Learning rate: 0.001000\n",
            "Train Epoch: 22 [4080/8498 (48%)]\tLoss: 0.346578, Learning rate: 0.001000\n",
            "Train Epoch: 22 [4320/8498 (51%)]\tLoss: 0.457118, Learning rate: 0.001000\n",
            "Train Epoch: 22 [4560/8498 (54%)]\tLoss: 0.391748, Learning rate: 0.001000\n",
            "Train Epoch: 22 [4800/8498 (56%)]\tLoss: 0.291278, Learning rate: 0.001000\n",
            "Train Epoch: 22 [5040/8498 (59%)]\tLoss: 0.375980, Learning rate: 0.001000\n",
            "Train Epoch: 22 [5280/8498 (62%)]\tLoss: 0.367453, Learning rate: 0.001000\n",
            "Train Epoch: 22 [5520/8498 (65%)]\tLoss: 0.373861, Learning rate: 0.001000\n",
            "Train Epoch: 22 [5760/8498 (68%)]\tLoss: 0.213826, Learning rate: 0.001000\n",
            "Train Epoch: 22 [6000/8498 (70%)]\tLoss: 0.270967, Learning rate: 0.001000\n",
            "Train Epoch: 22 [6240/8498 (73%)]\tLoss: 0.301668, Learning rate: 0.001000\n",
            "Train Epoch: 22 [6480/8498 (76%)]\tLoss: 0.421247, Learning rate: 0.001000\n",
            "Train Epoch: 22 [6720/8498 (79%)]\tLoss: 0.511170, Learning rate: 0.001000\n",
            "Train Epoch: 22 [6960/8498 (82%)]\tLoss: 0.423839, Learning rate: 0.001000\n",
            "Train Epoch: 22 [7200/8498 (85%)]\tLoss: 0.288944, Learning rate: 0.001000\n",
            "Train Epoch: 22 [7440/8498 (87%)]\tLoss: 0.379003, Learning rate: 0.001000\n",
            "Train Epoch: 22 [7680/8498 (90%)]\tLoss: 0.360605, Learning rate: 0.001000\n",
            "Train Epoch: 22 [7920/8498 (93%)]\tLoss: 0.310654, Learning rate: 0.001000\n",
            "Train Epoch: 22 [8160/8498 (96%)]\tLoss: 0.285587, Learning rate: 0.001000\n",
            "Train Epoch: 22 [8400/8498 (99%)]\tLoss: 0.301039, Learning rate: 0.001000\n"
          ]
        },
        {
          "metadata": {
            "tags": null
          },
          "name": "stderr",
          "output_type": "stream",
          "text": [
            "/usr/local/lib/python3.7/dist-packages/torchvision/transforms/transforms.py:288: UserWarning: Argument interpolation should be of type InterpolationMode instead of int. Please, use InterpolationMode enum.\n",
            "  \"Argument interpolation should be of type InterpolationMode instead of int. \"\n",
            "/usr/local/lib/python3.7/dist-packages/torchvision/transforms/transforms.py:288: UserWarning: Argument interpolation should be of type InterpolationMode instead of int. Please, use InterpolationMode enum.\n",
            "  \"Argument interpolation should be of type InterpolationMode instead of int. \"\n",
            "/usr/local/lib/python3.7/dist-packages/torchvision/transforms/transforms.py:288: UserWarning: Argument interpolation should be of type InterpolationMode instead of int. Please, use InterpolationMode enum.\n",
            "  \"Argument interpolation should be of type InterpolationMode instead of int. \"\n",
            "/usr/local/lib/python3.7/dist-packages/torchvision/transforms/transforms.py:288: UserWarning: Argument interpolation should be of type InterpolationMode instead of int. Please, use InterpolationMode enum.\n",
            "  \"Argument interpolation should be of type InterpolationMode instead of int. \"\n",
            "/usr/local/lib/python3.7/dist-packages/torchvision/transforms/transforms.py:288: UserWarning: Argument interpolation should be of type InterpolationMode instead of int. Please, use InterpolationMode enum.\n",
            "  \"Argument interpolation should be of type InterpolationMode instead of int. \"\n",
            "/usr/local/lib/python3.7/dist-packages/torchvision/transforms/transforms.py:288: UserWarning: Argument interpolation should be of type InterpolationMode instead of int. Please, use InterpolationMode enum.\n",
            "  \"Argument interpolation should be of type InterpolationMode instead of int. \"\n",
            "/usr/local/lib/python3.7/dist-packages/torchvision/transforms/transforms.py:288: UserWarning: Argument interpolation should be of type InterpolationMode instead of int. Please, use InterpolationMode enum.\n",
            "  \"Argument interpolation should be of type InterpolationMode instead of int. \"\n",
            "/usr/local/lib/python3.7/dist-packages/torchvision/transforms/transforms.py:288: UserWarning: Argument interpolation should be of type InterpolationMode instead of int. Please, use InterpolationMode enum.\n",
            "  \"Argument interpolation should be of type InterpolationMode instead of int. \"\n"
          ]
        },
        {
          "metadata": {
            "tags": null
          },
          "name": "stdout",
          "output_type": "stream",
          "text": [
            "\n",
            "Test set (736): Average loss: 0.5703, mIoU: 0.5961\n",
            "\n",
            "PSPnetLite training, epoch 23\n"
          ]
        },
        {
          "metadata": {
            "tags": null
          },
          "name": "stderr",
          "output_type": "stream",
          "text": [
            "/usr/local/lib/python3.7/dist-packages/torchvision/transforms/transforms.py:288: UserWarning: Argument interpolation should be of type InterpolationMode instead of int. Please, use InterpolationMode enum.\n",
            "  \"Argument interpolation should be of type InterpolationMode instead of int. \"\n",
            "/usr/local/lib/python3.7/dist-packages/torchvision/transforms/transforms.py:288: UserWarning: Argument interpolation should be of type InterpolationMode instead of int. Please, use InterpolationMode enum.\n",
            "  \"Argument interpolation should be of type InterpolationMode instead of int. \"\n",
            "/usr/local/lib/python3.7/dist-packages/torchvision/transforms/transforms.py:288: UserWarning: Argument interpolation should be of type InterpolationMode instead of int. Please, use InterpolationMode enum.\n",
            "  \"Argument interpolation should be of type InterpolationMode instead of int. \"\n",
            "/usr/local/lib/python3.7/dist-packages/torchvision/transforms/transforms.py:288: UserWarning: Argument interpolation should be of type InterpolationMode instead of int. Please, use InterpolationMode enum.\n",
            "  \"Argument interpolation should be of type InterpolationMode instead of int. \"\n",
            "/usr/local/lib/python3.7/dist-packages/torchvision/transforms/transforms.py:288: UserWarning: Argument interpolation should be of type InterpolationMode instead of int. Please, use InterpolationMode enum.\n",
            "  \"Argument interpolation should be of type InterpolationMode instead of int. \"\n",
            "/usr/local/lib/python3.7/dist-packages/torchvision/transforms/transforms.py:288: UserWarning: Argument interpolation should be of type InterpolationMode instead of int. Please, use InterpolationMode enum.\n",
            "  \"Argument interpolation should be of type InterpolationMode instead of int. \"\n",
            "/usr/local/lib/python3.7/dist-packages/torchvision/transforms/transforms.py:288: UserWarning: Argument interpolation should be of type InterpolationMode instead of int. Please, use InterpolationMode enum.\n",
            "  \"Argument interpolation should be of type InterpolationMode instead of int. \"\n",
            "/usr/local/lib/python3.7/dist-packages/torchvision/transforms/transforms.py:288: UserWarning: Argument interpolation should be of type InterpolationMode instead of int. Please, use InterpolationMode enum.\n",
            "  \"Argument interpolation should be of type InterpolationMode instead of int. \"\n"
          ]
        },
        {
          "metadata": {
            "tags": null
          },
          "name": "stdout",
          "output_type": "stream",
          "text": [
            "Train Epoch: 23 [240/8498 (3%)]\tLoss: 0.367856, Learning rate: 0.001000\n",
            "Train Epoch: 23 [480/8498 (6%)]\tLoss: 0.270890, Learning rate: 0.001000\n",
            "Train Epoch: 23 [720/8498 (8%)]\tLoss: 0.429714, Learning rate: 0.001000\n",
            "Train Epoch: 23 [960/8498 (11%)]\tLoss: 0.272034, Learning rate: 0.001000\n",
            "Train Epoch: 23 [1200/8498 (14%)]\tLoss: 0.340923, Learning rate: 0.001000\n",
            "Train Epoch: 23 [1440/8498 (17%)]\tLoss: 0.328082, Learning rate: 0.001000\n",
            "Train Epoch: 23 [1680/8498 (20%)]\tLoss: 0.520227, Learning rate: 0.001000\n",
            "Train Epoch: 23 [1920/8498 (23%)]\tLoss: 0.369568, Learning rate: 0.001000\n",
            "Train Epoch: 23 [2160/8498 (25%)]\tLoss: 0.450170, Learning rate: 0.001000\n",
            "Train Epoch: 23 [2400/8498 (28%)]\tLoss: 0.427469, Learning rate: 0.001000\n",
            "Train Epoch: 23 [2640/8498 (31%)]\tLoss: 0.278349, Learning rate: 0.001000\n",
            "Train Epoch: 23 [2880/8498 (34%)]\tLoss: 0.405418, Learning rate: 0.001000\n",
            "Train Epoch: 23 [3120/8498 (37%)]\tLoss: 0.440433, Learning rate: 0.001000\n",
            "Train Epoch: 23 [3360/8498 (39%)]\tLoss: 0.363605, Learning rate: 0.001000\n",
            "Train Epoch: 23 [3600/8498 (42%)]\tLoss: 0.348361, Learning rate: 0.001000\n",
            "Train Epoch: 23 [3840/8498 (45%)]\tLoss: 0.402081, Learning rate: 0.001000\n",
            "Train Epoch: 23 [4080/8498 (48%)]\tLoss: 0.375229, Learning rate: 0.001000\n",
            "Train Epoch: 23 [4320/8498 (51%)]\tLoss: 0.526209, Learning rate: 0.001000\n",
            "Train Epoch: 23 [4560/8498 (54%)]\tLoss: 0.305603, Learning rate: 0.001000\n",
            "Train Epoch: 23 [4800/8498 (56%)]\tLoss: 0.274947, Learning rate: 0.001000\n",
            "Train Epoch: 23 [5040/8498 (59%)]\tLoss: 0.391861, Learning rate: 0.001000\n",
            "Train Epoch: 23 [5280/8498 (62%)]\tLoss: 0.197662, Learning rate: 0.001000\n",
            "Train Epoch: 23 [5520/8498 (65%)]\tLoss: 0.549326, Learning rate: 0.001000\n",
            "Train Epoch: 23 [5760/8498 (68%)]\tLoss: 0.261195, Learning rate: 0.001000\n",
            "Train Epoch: 23 [6000/8498 (70%)]\tLoss: 0.410601, Learning rate: 0.001000\n",
            "Train Epoch: 23 [6240/8498 (73%)]\tLoss: 0.322313, Learning rate: 0.001000\n",
            "Train Epoch: 23 [6480/8498 (76%)]\tLoss: 0.277897, Learning rate: 0.001000\n",
            "Train Epoch: 23 [6720/8498 (79%)]\tLoss: 0.332131, Learning rate: 0.001000\n",
            "Train Epoch: 23 [6960/8498 (82%)]\tLoss: 0.361369, Learning rate: 0.001000\n",
            "Train Epoch: 23 [7200/8498 (85%)]\tLoss: 0.400017, Learning rate: 0.001000\n",
            "Train Epoch: 23 [7440/8498 (87%)]\tLoss: 0.442971, Learning rate: 0.001000\n",
            "Train Epoch: 23 [7680/8498 (90%)]\tLoss: 0.382033, Learning rate: 0.001000\n",
            "Train Epoch: 23 [7920/8498 (93%)]\tLoss: 0.423279, Learning rate: 0.001000\n",
            "Train Epoch: 23 [8160/8498 (96%)]\tLoss: 0.561575, Learning rate: 0.001000\n",
            "Train Epoch: 23 [8400/8498 (99%)]\tLoss: 0.425210, Learning rate: 0.001000\n"
          ]
        },
        {
          "metadata": {
            "tags": null
          },
          "name": "stderr",
          "output_type": "stream",
          "text": [
            "/usr/local/lib/python3.7/dist-packages/torchvision/transforms/transforms.py:288: UserWarning: Argument interpolation should be of type InterpolationMode instead of int. Please, use InterpolationMode enum.\n",
            "  \"Argument interpolation should be of type InterpolationMode instead of int. \"\n",
            "/usr/local/lib/python3.7/dist-packages/torchvision/transforms/transforms.py:288: UserWarning: Argument interpolation should be of type InterpolationMode instead of int. Please, use InterpolationMode enum.\n",
            "  \"Argument interpolation should be of type InterpolationMode instead of int. \"\n",
            "/usr/local/lib/python3.7/dist-packages/torchvision/transforms/transforms.py:288: UserWarning: Argument interpolation should be of type InterpolationMode instead of int. Please, use InterpolationMode enum.\n",
            "  \"Argument interpolation should be of type InterpolationMode instead of int. \"\n",
            "/usr/local/lib/python3.7/dist-packages/torchvision/transforms/transforms.py:288: UserWarning: Argument interpolation should be of type InterpolationMode instead of int. Please, use InterpolationMode enum.\n",
            "  \"Argument interpolation should be of type InterpolationMode instead of int. \"\n",
            "/usr/local/lib/python3.7/dist-packages/torchvision/transforms/transforms.py:288: UserWarning: Argument interpolation should be of type InterpolationMode instead of int. Please, use InterpolationMode enum.\n",
            "  \"Argument interpolation should be of type InterpolationMode instead of int. \"\n",
            "/usr/local/lib/python3.7/dist-packages/torchvision/transforms/transforms.py:288: UserWarning: Argument interpolation should be of type InterpolationMode instead of int. Please, use InterpolationMode enum.\n",
            "  \"Argument interpolation should be of type InterpolationMode instead of int. \"\n",
            "/usr/local/lib/python3.7/dist-packages/torchvision/transforms/transforms.py:288: UserWarning: Argument interpolation should be of type InterpolationMode instead of int. Please, use InterpolationMode enum.\n",
            "  \"Argument interpolation should be of type InterpolationMode instead of int. \"\n",
            "/usr/local/lib/python3.7/dist-packages/torchvision/transforms/transforms.py:288: UserWarning: Argument interpolation should be of type InterpolationMode instead of int. Please, use InterpolationMode enum.\n",
            "  \"Argument interpolation should be of type InterpolationMode instead of int. \"\n"
          ]
        },
        {
          "metadata": {
            "tags": null
          },
          "name": "stdout",
          "output_type": "stream",
          "text": [
            "\n",
            "Test set (736): Average loss: 0.6167, mIoU: 0.5724\n",
            "\n",
            "PSPnetLite training, epoch 24\n"
          ]
        },
        {
          "metadata": {
            "tags": null
          },
          "name": "stderr",
          "output_type": "stream",
          "text": [
            "/usr/local/lib/python3.7/dist-packages/torchvision/transforms/transforms.py:288: UserWarning: Argument interpolation should be of type InterpolationMode instead of int. Please, use InterpolationMode enum.\n",
            "  \"Argument interpolation should be of type InterpolationMode instead of int. \"\n",
            "/usr/local/lib/python3.7/dist-packages/torchvision/transforms/transforms.py:288: UserWarning: Argument interpolation should be of type InterpolationMode instead of int. Please, use InterpolationMode enum.\n",
            "  \"Argument interpolation should be of type InterpolationMode instead of int. \"\n",
            "/usr/local/lib/python3.7/dist-packages/torchvision/transforms/transforms.py:288: UserWarning: Argument interpolation should be of type InterpolationMode instead of int. Please, use InterpolationMode enum.\n",
            "  \"Argument interpolation should be of type InterpolationMode instead of int. \"\n",
            "/usr/local/lib/python3.7/dist-packages/torchvision/transforms/transforms.py:288: UserWarning: Argument interpolation should be of type InterpolationMode instead of int. Please, use InterpolationMode enum.\n",
            "  \"Argument interpolation should be of type InterpolationMode instead of int. \"\n",
            "/usr/local/lib/python3.7/dist-packages/torchvision/transforms/transforms.py:288: UserWarning: Argument interpolation should be of type InterpolationMode instead of int. Please, use InterpolationMode enum.\n",
            "  \"Argument interpolation should be of type InterpolationMode instead of int. \"\n",
            "/usr/local/lib/python3.7/dist-packages/torchvision/transforms/transforms.py:288: UserWarning: Argument interpolation should be of type InterpolationMode instead of int. Please, use InterpolationMode enum.\n",
            "  \"Argument interpolation should be of type InterpolationMode instead of int. \"\n",
            "/usr/local/lib/python3.7/dist-packages/torchvision/transforms/transforms.py:288: UserWarning: Argument interpolation should be of type InterpolationMode instead of int. Please, use InterpolationMode enum.\n",
            "  \"Argument interpolation should be of type InterpolationMode instead of int. \"\n",
            "/usr/local/lib/python3.7/dist-packages/torchvision/transforms/transforms.py:288: UserWarning: Argument interpolation should be of type InterpolationMode instead of int. Please, use InterpolationMode enum.\n",
            "  \"Argument interpolation should be of type InterpolationMode instead of int. \"\n"
          ]
        },
        {
          "metadata": {
            "tags": null
          },
          "name": "stdout",
          "output_type": "stream",
          "text": [
            "Train Epoch: 24 [240/8498 (3%)]\tLoss: 0.471860, Learning rate: 0.001000\n",
            "Train Epoch: 24 [480/8498 (6%)]\tLoss: 0.343462, Learning rate: 0.001000\n",
            "Train Epoch: 24 [720/8498 (8%)]\tLoss: 0.332551, Learning rate: 0.001000\n",
            "Train Epoch: 24 [960/8498 (11%)]\tLoss: 0.251947, Learning rate: 0.001000\n",
            "Train Epoch: 24 [1200/8498 (14%)]\tLoss: 0.406602, Learning rate: 0.001000\n",
            "Train Epoch: 24 [1440/8498 (17%)]\tLoss: 0.298084, Learning rate: 0.001000\n",
            "Train Epoch: 24 [1680/8498 (20%)]\tLoss: 0.326684, Learning rate: 0.001000\n",
            "Train Epoch: 24 [1920/8498 (23%)]\tLoss: 0.394400, Learning rate: 0.001000\n",
            "Train Epoch: 24 [2160/8498 (25%)]\tLoss: 0.381595, Learning rate: 0.001000\n",
            "Train Epoch: 24 [2400/8498 (28%)]\tLoss: 0.276538, Learning rate: 0.001000\n",
            "Train Epoch: 24 [2640/8498 (31%)]\tLoss: 0.350849, Learning rate: 0.001000\n",
            "Train Epoch: 24 [2880/8498 (34%)]\tLoss: 0.367063, Learning rate: 0.001000\n",
            "Train Epoch: 24 [3120/8498 (37%)]\tLoss: 0.305874, Learning rate: 0.001000\n",
            "Train Epoch: 24 [3360/8498 (39%)]\tLoss: 0.294699, Learning rate: 0.001000\n",
            "Train Epoch: 24 [3600/8498 (42%)]\tLoss: 0.323607, Learning rate: 0.001000\n",
            "Train Epoch: 24 [3840/8498 (45%)]\tLoss: 0.580886, Learning rate: 0.001000\n",
            "Train Epoch: 24 [4080/8498 (48%)]\tLoss: 0.345947, Learning rate: 0.001000\n",
            "Train Epoch: 24 [4320/8498 (51%)]\tLoss: 0.332094, Learning rate: 0.001000\n",
            "Train Epoch: 24 [4560/8498 (54%)]\tLoss: 0.372672, Learning rate: 0.001000\n",
            "Train Epoch: 24 [4800/8498 (56%)]\tLoss: 0.255395, Learning rate: 0.001000\n",
            "Train Epoch: 24 [5040/8498 (59%)]\tLoss: 0.618731, Learning rate: 0.001000\n",
            "Train Epoch: 24 [5280/8498 (62%)]\tLoss: 0.434861, Learning rate: 0.001000\n",
            "Train Epoch: 24 [5520/8498 (65%)]\tLoss: 0.408463, Learning rate: 0.001000\n",
            "Train Epoch: 24 [5760/8498 (68%)]\tLoss: 0.355380, Learning rate: 0.001000\n",
            "Train Epoch: 24 [6000/8498 (70%)]\tLoss: 0.314471, Learning rate: 0.001000\n",
            "Train Epoch: 24 [6240/8498 (73%)]\tLoss: 0.319506, Learning rate: 0.001000\n",
            "Train Epoch: 24 [6480/8498 (76%)]\tLoss: 0.369788, Learning rate: 0.001000\n",
            "Train Epoch: 24 [6720/8498 (79%)]\tLoss: 0.502847, Learning rate: 0.001000\n",
            "Train Epoch: 24 [6960/8498 (82%)]\tLoss: 0.451641, Learning rate: 0.001000\n",
            "Train Epoch: 24 [7200/8498 (85%)]\tLoss: 0.397671, Learning rate: 0.001000\n",
            "Train Epoch: 24 [7440/8498 (87%)]\tLoss: 0.364045, Learning rate: 0.001000\n",
            "Train Epoch: 24 [7680/8498 (90%)]\tLoss: 0.436059, Learning rate: 0.001000\n",
            "Train Epoch: 24 [7920/8498 (93%)]\tLoss: 0.395007, Learning rate: 0.001000\n",
            "Train Epoch: 24 [8160/8498 (96%)]\tLoss: 0.411641, Learning rate: 0.001000\n",
            "Train Epoch: 24 [8400/8498 (99%)]\tLoss: 0.365437, Learning rate: 0.001000\n"
          ]
        },
        {
          "metadata": {
            "tags": null
          },
          "name": "stderr",
          "output_type": "stream",
          "text": [
            "/usr/local/lib/python3.7/dist-packages/torchvision/transforms/transforms.py:288: UserWarning: Argument interpolation should be of type InterpolationMode instead of int. Please, use InterpolationMode enum.\n",
            "  \"Argument interpolation should be of type InterpolationMode instead of int. \"\n",
            "/usr/local/lib/python3.7/dist-packages/torchvision/transforms/transforms.py:288: UserWarning: Argument interpolation should be of type InterpolationMode instead of int. Please, use InterpolationMode enum.\n",
            "  \"Argument interpolation should be of type InterpolationMode instead of int. \"\n",
            "/usr/local/lib/python3.7/dist-packages/torchvision/transforms/transforms.py:288: UserWarning: Argument interpolation should be of type InterpolationMode instead of int. Please, use InterpolationMode enum.\n",
            "  \"Argument interpolation should be of type InterpolationMode instead of int. \"\n",
            "/usr/local/lib/python3.7/dist-packages/torchvision/transforms/transforms.py:288: UserWarning: Argument interpolation should be of type InterpolationMode instead of int. Please, use InterpolationMode enum.\n",
            "  \"Argument interpolation should be of type InterpolationMode instead of int. \"\n",
            "/usr/local/lib/python3.7/dist-packages/torchvision/transforms/transforms.py:288: UserWarning: Argument interpolation should be of type InterpolationMode instead of int. Please, use InterpolationMode enum.\n",
            "  \"Argument interpolation should be of type InterpolationMode instead of int. \"\n",
            "/usr/local/lib/python3.7/dist-packages/torchvision/transforms/transforms.py:288: UserWarning: Argument interpolation should be of type InterpolationMode instead of int. Please, use InterpolationMode enum.\n",
            "  \"Argument interpolation should be of type InterpolationMode instead of int. \"\n",
            "/usr/local/lib/python3.7/dist-packages/torchvision/transforms/transforms.py:288: UserWarning: Argument interpolation should be of type InterpolationMode instead of int. Please, use InterpolationMode enum.\n",
            "  \"Argument interpolation should be of type InterpolationMode instead of int. \"\n",
            "/usr/local/lib/python3.7/dist-packages/torchvision/transforms/transforms.py:288: UserWarning: Argument interpolation should be of type InterpolationMode instead of int. Please, use InterpolationMode enum.\n",
            "  \"Argument interpolation should be of type InterpolationMode instead of int. \"\n"
          ]
        },
        {
          "metadata": {
            "tags": null
          },
          "name": "stdout",
          "output_type": "stream",
          "text": [
            "\n",
            "Test set (736): Average loss: 0.5923, mIoU: 0.5948\n",
            "\n",
            "PSPnetLite training, epoch 25\n"
          ]
        },
        {
          "metadata": {
            "tags": null
          },
          "name": "stderr",
          "output_type": "stream",
          "text": [
            "/usr/local/lib/python3.7/dist-packages/torchvision/transforms/transforms.py:288: UserWarning: Argument interpolation should be of type InterpolationMode instead of int. Please, use InterpolationMode enum.\n",
            "  \"Argument interpolation should be of type InterpolationMode instead of int. \"\n",
            "/usr/local/lib/python3.7/dist-packages/torchvision/transforms/transforms.py:288: UserWarning: Argument interpolation should be of type InterpolationMode instead of int. Please, use InterpolationMode enum.\n",
            "  \"Argument interpolation should be of type InterpolationMode instead of int. \"\n",
            "/usr/local/lib/python3.7/dist-packages/torchvision/transforms/transforms.py:288: UserWarning: Argument interpolation should be of type InterpolationMode instead of int. Please, use InterpolationMode enum.\n",
            "  \"Argument interpolation should be of type InterpolationMode instead of int. \"\n",
            "/usr/local/lib/python3.7/dist-packages/torchvision/transforms/transforms.py:288: UserWarning: Argument interpolation should be of type InterpolationMode instead of int. Please, use InterpolationMode enum.\n",
            "  \"Argument interpolation should be of type InterpolationMode instead of int. \"\n",
            "/usr/local/lib/python3.7/dist-packages/torchvision/transforms/transforms.py:288: UserWarning: Argument interpolation should be of type InterpolationMode instead of int. Please, use InterpolationMode enum.\n",
            "  \"Argument interpolation should be of type InterpolationMode instead of int. \"\n",
            "/usr/local/lib/python3.7/dist-packages/torchvision/transforms/transforms.py:288: UserWarning: Argument interpolation should be of type InterpolationMode instead of int. Please, use InterpolationMode enum.\n",
            "  \"Argument interpolation should be of type InterpolationMode instead of int. \"\n",
            "/usr/local/lib/python3.7/dist-packages/torchvision/transforms/transforms.py:288: UserWarning: Argument interpolation should be of type InterpolationMode instead of int. Please, use InterpolationMode enum.\n",
            "  \"Argument interpolation should be of type InterpolationMode instead of int. \"\n",
            "/usr/local/lib/python3.7/dist-packages/torchvision/transforms/transforms.py:288: UserWarning: Argument interpolation should be of type InterpolationMode instead of int. Please, use InterpolationMode enum.\n",
            "  \"Argument interpolation should be of type InterpolationMode instead of int. \"\n"
          ]
        },
        {
          "metadata": {
            "tags": null
          },
          "name": "stdout",
          "output_type": "stream",
          "text": [
            "Train Epoch: 25 [240/8498 (3%)]\tLoss: 0.377768, Learning rate: 0.001000\n",
            "Train Epoch: 25 [480/8498 (6%)]\tLoss: 0.257883, Learning rate: 0.001000\n",
            "Train Epoch: 25 [720/8498 (8%)]\tLoss: 0.317398, Learning rate: 0.001000\n",
            "Train Epoch: 25 [960/8498 (11%)]\tLoss: 0.525813, Learning rate: 0.001000\n",
            "Train Epoch: 25 [1200/8498 (14%)]\tLoss: 0.341110, Learning rate: 0.001000\n",
            "Train Epoch: 25 [1440/8498 (17%)]\tLoss: 0.363124, Learning rate: 0.001000\n",
            "Train Epoch: 25 [1680/8498 (20%)]\tLoss: 0.320003, Learning rate: 0.001000\n",
            "Train Epoch: 25 [1920/8498 (23%)]\tLoss: 0.456643, Learning rate: 0.001000\n",
            "Train Epoch: 25 [2160/8498 (25%)]\tLoss: 0.405634, Learning rate: 0.001000\n",
            "Train Epoch: 25 [2400/8498 (28%)]\tLoss: 0.362808, Learning rate: 0.001000\n",
            "Train Epoch: 25 [2640/8498 (31%)]\tLoss: 0.312832, Learning rate: 0.001000\n",
            "Train Epoch: 25 [2880/8498 (34%)]\tLoss: 0.314588, Learning rate: 0.001000\n",
            "Train Epoch: 25 [3120/8498 (37%)]\tLoss: 0.228235, Learning rate: 0.001000\n",
            "Train Epoch: 25 [3360/8498 (39%)]\tLoss: 0.340654, Learning rate: 0.001000\n",
            "Train Epoch: 25 [3600/8498 (42%)]\tLoss: 0.384905, Learning rate: 0.001000\n",
            "Train Epoch: 25 [3840/8498 (45%)]\tLoss: 0.397470, Learning rate: 0.001000\n",
            "Train Epoch: 25 [4080/8498 (48%)]\tLoss: 0.256481, Learning rate: 0.001000\n",
            "Train Epoch: 25 [4320/8498 (51%)]\tLoss: 0.406180, Learning rate: 0.001000\n",
            "Train Epoch: 25 [4560/8498 (54%)]\tLoss: 0.284122, Learning rate: 0.001000\n",
            "Train Epoch: 25 [4800/8498 (56%)]\tLoss: 0.307551, Learning rate: 0.001000\n",
            "Train Epoch: 25 [5040/8498 (59%)]\tLoss: 0.449258, Learning rate: 0.001000\n",
            "Train Epoch: 25 [5280/8498 (62%)]\tLoss: 0.328109, Learning rate: 0.001000\n",
            "Train Epoch: 25 [5520/8498 (65%)]\tLoss: 0.290422, Learning rate: 0.001000\n",
            "Train Epoch: 25 [5760/8498 (68%)]\tLoss: 0.250884, Learning rate: 0.001000\n",
            "Train Epoch: 25 [6000/8498 (70%)]\tLoss: 0.397722, Learning rate: 0.001000\n",
            "Train Epoch: 25 [6240/8498 (73%)]\tLoss: 0.476260, Learning rate: 0.001000\n",
            "Train Epoch: 25 [6480/8498 (76%)]\tLoss: 0.311927, Learning rate: 0.001000\n",
            "Train Epoch: 25 [6720/8498 (79%)]\tLoss: 0.372621, Learning rate: 0.001000\n",
            "Train Epoch: 25 [6960/8498 (82%)]\tLoss: 0.352775, Learning rate: 0.001000\n",
            "Train Epoch: 25 [7200/8498 (85%)]\tLoss: 0.385824, Learning rate: 0.001000\n",
            "Train Epoch: 25 [7440/8498 (87%)]\tLoss: 0.275947, Learning rate: 0.001000\n",
            "Train Epoch: 25 [7680/8498 (90%)]\tLoss: 0.274370, Learning rate: 0.001000\n",
            "Train Epoch: 25 [7920/8498 (93%)]\tLoss: 0.348844, Learning rate: 0.001000\n",
            "Train Epoch: 25 [8160/8498 (96%)]\tLoss: 0.445860, Learning rate: 0.001000\n",
            "Train Epoch: 25 [8400/8498 (99%)]\tLoss: 0.285018, Learning rate: 0.001000\n"
          ]
        },
        {
          "metadata": {
            "tags": null
          },
          "name": "stderr",
          "output_type": "stream",
          "text": [
            "/usr/local/lib/python3.7/dist-packages/torchvision/transforms/transforms.py:288: UserWarning: Argument interpolation should be of type InterpolationMode instead of int. Please, use InterpolationMode enum.\n",
            "  \"Argument interpolation should be of type InterpolationMode instead of int. \"\n",
            "/usr/local/lib/python3.7/dist-packages/torchvision/transforms/transforms.py:288: UserWarning: Argument interpolation should be of type InterpolationMode instead of int. Please, use InterpolationMode enum.\n",
            "  \"Argument interpolation should be of type InterpolationMode instead of int. \"\n",
            "/usr/local/lib/python3.7/dist-packages/torchvision/transforms/transforms.py:288: UserWarning: Argument interpolation should be of type InterpolationMode instead of int. Please, use InterpolationMode enum.\n",
            "  \"Argument interpolation should be of type InterpolationMode instead of int. \"\n",
            "/usr/local/lib/python3.7/dist-packages/torchvision/transforms/transforms.py:288: UserWarning: Argument interpolation should be of type InterpolationMode instead of int. Please, use InterpolationMode enum.\n",
            "  \"Argument interpolation should be of type InterpolationMode instead of int. \"\n",
            "/usr/local/lib/python3.7/dist-packages/torchvision/transforms/transforms.py:288: UserWarning: Argument interpolation should be of type InterpolationMode instead of int. Please, use InterpolationMode enum.\n",
            "  \"Argument interpolation should be of type InterpolationMode instead of int. \"\n",
            "/usr/local/lib/python3.7/dist-packages/torchvision/transforms/transforms.py:288: UserWarning: Argument interpolation should be of type InterpolationMode instead of int. Please, use InterpolationMode enum.\n",
            "  \"Argument interpolation should be of type InterpolationMode instead of int. \"\n",
            "/usr/local/lib/python3.7/dist-packages/torchvision/transforms/transforms.py:288: UserWarning: Argument interpolation should be of type InterpolationMode instead of int. Please, use InterpolationMode enum.\n",
            "  \"Argument interpolation should be of type InterpolationMode instead of int. \"\n",
            "/usr/local/lib/python3.7/dist-packages/torchvision/transforms/transforms.py:288: UserWarning: Argument interpolation should be of type InterpolationMode instead of int. Please, use InterpolationMode enum.\n",
            "  \"Argument interpolation should be of type InterpolationMode instead of int. \"\n"
          ]
        },
        {
          "metadata": {
            "tags": null
          },
          "name": "stdout",
          "output_type": "stream",
          "text": [
            "\n",
            "Test set (736): Average loss: 0.6555, mIoU: 0.5688\n",
            "\n",
            "PSPnetLite training, epoch 26\n"
          ]
        },
        {
          "metadata": {
            "tags": null
          },
          "name": "stderr",
          "output_type": "stream",
          "text": [
            "/usr/local/lib/python3.7/dist-packages/torchvision/transforms/transforms.py:288: UserWarning: Argument interpolation should be of type InterpolationMode instead of int. Please, use InterpolationMode enum.\n",
            "  \"Argument interpolation should be of type InterpolationMode instead of int. \"\n",
            "/usr/local/lib/python3.7/dist-packages/torchvision/transforms/transforms.py:288: UserWarning: Argument interpolation should be of type InterpolationMode instead of int. Please, use InterpolationMode enum.\n",
            "  \"Argument interpolation should be of type InterpolationMode instead of int. \"\n",
            "/usr/local/lib/python3.7/dist-packages/torchvision/transforms/transforms.py:288: UserWarning: Argument interpolation should be of type InterpolationMode instead of int. Please, use InterpolationMode enum.\n",
            "  \"Argument interpolation should be of type InterpolationMode instead of int. \"\n",
            "/usr/local/lib/python3.7/dist-packages/torchvision/transforms/transforms.py:288: UserWarning: Argument interpolation should be of type InterpolationMode instead of int. Please, use InterpolationMode enum.\n",
            "  \"Argument interpolation should be of type InterpolationMode instead of int. \"\n",
            "/usr/local/lib/python3.7/dist-packages/torchvision/transforms/transforms.py:288: UserWarning: Argument interpolation should be of type InterpolationMode instead of int. Please, use InterpolationMode enum.\n",
            "  \"Argument interpolation should be of type InterpolationMode instead of int. \"\n",
            "/usr/local/lib/python3.7/dist-packages/torchvision/transforms/transforms.py:288: UserWarning: Argument interpolation should be of type InterpolationMode instead of int. Please, use InterpolationMode enum.\n",
            "  \"Argument interpolation should be of type InterpolationMode instead of int. \"\n",
            "/usr/local/lib/python3.7/dist-packages/torchvision/transforms/transforms.py:288: UserWarning: Argument interpolation should be of type InterpolationMode instead of int. Please, use InterpolationMode enum.\n",
            "  \"Argument interpolation should be of type InterpolationMode instead of int. \"\n",
            "/usr/local/lib/python3.7/dist-packages/torchvision/transforms/transforms.py:288: UserWarning: Argument interpolation should be of type InterpolationMode instead of int. Please, use InterpolationMode enum.\n",
            "  \"Argument interpolation should be of type InterpolationMode instead of int. \"\n"
          ]
        },
        {
          "metadata": {
            "tags": null
          },
          "name": "stdout",
          "output_type": "stream",
          "text": [
            "Train Epoch: 26 [240/8498 (3%)]\tLoss: 0.331722, Learning rate: 0.001000\n",
            "Train Epoch: 26 [480/8498 (6%)]\tLoss: 0.306629, Learning rate: 0.001000\n",
            "Train Epoch: 26 [720/8498 (8%)]\tLoss: 0.369765, Learning rate: 0.001000\n",
            "Train Epoch: 26 [960/8498 (11%)]\tLoss: 0.394414, Learning rate: 0.001000\n",
            "Train Epoch: 26 [1200/8498 (14%)]\tLoss: 0.299582, Learning rate: 0.001000\n",
            "Train Epoch: 26 [1440/8498 (17%)]\tLoss: 0.300064, Learning rate: 0.001000\n",
            "Train Epoch: 26 [1680/8498 (20%)]\tLoss: 0.308530, Learning rate: 0.001000\n",
            "Train Epoch: 26 [1920/8498 (23%)]\tLoss: 0.307203, Learning rate: 0.001000\n",
            "Train Epoch: 26 [2160/8498 (25%)]\tLoss: 0.355608, Learning rate: 0.001000\n",
            "Train Epoch: 26 [2400/8498 (28%)]\tLoss: 0.427730, Learning rate: 0.001000\n",
            "Train Epoch: 26 [2640/8498 (31%)]\tLoss: 0.528684, Learning rate: 0.001000\n",
            "Train Epoch: 26 [2880/8498 (34%)]\tLoss: 0.614798, Learning rate: 0.001000\n",
            "Train Epoch: 26 [3120/8498 (37%)]\tLoss: 0.314319, Learning rate: 0.001000\n",
            "Train Epoch: 26 [3360/8498 (39%)]\tLoss: 0.315332, Learning rate: 0.001000\n",
            "Train Epoch: 26 [3600/8498 (42%)]\tLoss: 0.311756, Learning rate: 0.001000\n",
            "Train Epoch: 26 [3840/8498 (45%)]\tLoss: 0.421139, Learning rate: 0.001000\n",
            "Train Epoch: 26 [4080/8498 (48%)]\tLoss: 0.332357, Learning rate: 0.001000\n",
            "Train Epoch: 26 [4320/8498 (51%)]\tLoss: 0.285261, Learning rate: 0.001000\n",
            "Train Epoch: 26 [4560/8498 (54%)]\tLoss: 0.323712, Learning rate: 0.001000\n",
            "Train Epoch: 26 [4800/8498 (56%)]\tLoss: 0.285094, Learning rate: 0.001000\n",
            "Train Epoch: 26 [5040/8498 (59%)]\tLoss: 0.274009, Learning rate: 0.001000\n",
            "Train Epoch: 26 [5280/8498 (62%)]\tLoss: 0.303513, Learning rate: 0.001000\n",
            "Train Epoch: 26 [5520/8498 (65%)]\tLoss: 0.389474, Learning rate: 0.001000\n",
            "Train Epoch: 26 [5760/8498 (68%)]\tLoss: 0.323535, Learning rate: 0.001000\n",
            "Train Epoch: 26 [6000/8498 (70%)]\tLoss: 0.476221, Learning rate: 0.001000\n",
            "Train Epoch: 26 [6240/8498 (73%)]\tLoss: 0.489926, Learning rate: 0.001000\n",
            "Train Epoch: 26 [6480/8498 (76%)]\tLoss: 0.263198, Learning rate: 0.001000\n",
            "Train Epoch: 26 [6720/8498 (79%)]\tLoss: 0.204439, Learning rate: 0.001000\n",
            "Train Epoch: 26 [6960/8498 (82%)]\tLoss: 0.306427, Learning rate: 0.001000\n",
            "Train Epoch: 26 [7200/8498 (85%)]\tLoss: 0.331297, Learning rate: 0.001000\n",
            "Train Epoch: 26 [7440/8498 (87%)]\tLoss: 0.387679, Learning rate: 0.001000\n",
            "Train Epoch: 26 [7680/8498 (90%)]\tLoss: 0.363412, Learning rate: 0.001000\n",
            "Train Epoch: 26 [7920/8498 (93%)]\tLoss: 0.257401, Learning rate: 0.001000\n",
            "Train Epoch: 26 [8160/8498 (96%)]\tLoss: 0.279653, Learning rate: 0.001000\n",
            "Train Epoch: 26 [8400/8498 (99%)]\tLoss: 0.276106, Learning rate: 0.001000\n"
          ]
        },
        {
          "metadata": {
            "tags": null
          },
          "name": "stderr",
          "output_type": "stream",
          "text": [
            "/usr/local/lib/python3.7/dist-packages/torchvision/transforms/transforms.py:288: UserWarning: Argument interpolation should be of type InterpolationMode instead of int. Please, use InterpolationMode enum.\n",
            "  \"Argument interpolation should be of type InterpolationMode instead of int. \"\n",
            "/usr/local/lib/python3.7/dist-packages/torchvision/transforms/transforms.py:288: UserWarning: Argument interpolation should be of type InterpolationMode instead of int. Please, use InterpolationMode enum.\n",
            "  \"Argument interpolation should be of type InterpolationMode instead of int. \"\n",
            "/usr/local/lib/python3.7/dist-packages/torchvision/transforms/transforms.py:288: UserWarning: Argument interpolation should be of type InterpolationMode instead of int. Please, use InterpolationMode enum.\n",
            "  \"Argument interpolation should be of type InterpolationMode instead of int. \"\n",
            "/usr/local/lib/python3.7/dist-packages/torchvision/transforms/transforms.py:288: UserWarning: Argument interpolation should be of type InterpolationMode instead of int. Please, use InterpolationMode enum.\n",
            "  \"Argument interpolation should be of type InterpolationMode instead of int. \"\n",
            "/usr/local/lib/python3.7/dist-packages/torchvision/transforms/transforms.py:288: UserWarning: Argument interpolation should be of type InterpolationMode instead of int. Please, use InterpolationMode enum.\n",
            "  \"Argument interpolation should be of type InterpolationMode instead of int. \"\n",
            "/usr/local/lib/python3.7/dist-packages/torchvision/transforms/transforms.py:288: UserWarning: Argument interpolation should be of type InterpolationMode instead of int. Please, use InterpolationMode enum.\n",
            "  \"Argument interpolation should be of type InterpolationMode instead of int. \"\n",
            "/usr/local/lib/python3.7/dist-packages/torchvision/transforms/transforms.py:288: UserWarning: Argument interpolation should be of type InterpolationMode instead of int. Please, use InterpolationMode enum.\n",
            "  \"Argument interpolation should be of type InterpolationMode instead of int. \"\n",
            "/usr/local/lib/python3.7/dist-packages/torchvision/transforms/transforms.py:288: UserWarning: Argument interpolation should be of type InterpolationMode instead of int. Please, use InterpolationMode enum.\n",
            "  \"Argument interpolation should be of type InterpolationMode instead of int. \"\n"
          ]
        },
        {
          "metadata": {
            "tags": null
          },
          "name": "stdout",
          "output_type": "stream",
          "text": [
            "\n",
            "Test set (736): Average loss: 0.6152, mIoU: 0.5846\n",
            "\n",
            "PSPnetLite training, epoch 27\n"
          ]
        },
        {
          "metadata": {
            "tags": null
          },
          "name": "stderr",
          "output_type": "stream",
          "text": [
            "/usr/local/lib/python3.7/dist-packages/torchvision/transforms/transforms.py:288: UserWarning: Argument interpolation should be of type InterpolationMode instead of int. Please, use InterpolationMode enum.\n",
            "  \"Argument interpolation should be of type InterpolationMode instead of int. \"\n",
            "/usr/local/lib/python3.7/dist-packages/torchvision/transforms/transforms.py:288: UserWarning: Argument interpolation should be of type InterpolationMode instead of int. Please, use InterpolationMode enum.\n",
            "  \"Argument interpolation should be of type InterpolationMode instead of int. \"\n",
            "/usr/local/lib/python3.7/dist-packages/torchvision/transforms/transforms.py:288: UserWarning: Argument interpolation should be of type InterpolationMode instead of int. Please, use InterpolationMode enum.\n",
            "  \"Argument interpolation should be of type InterpolationMode instead of int. \"\n",
            "/usr/local/lib/python3.7/dist-packages/torchvision/transforms/transforms.py:288: UserWarning: Argument interpolation should be of type InterpolationMode instead of int. Please, use InterpolationMode enum.\n",
            "  \"Argument interpolation should be of type InterpolationMode instead of int. \"\n",
            "/usr/local/lib/python3.7/dist-packages/torchvision/transforms/transforms.py:288: UserWarning: Argument interpolation should be of type InterpolationMode instead of int. Please, use InterpolationMode enum.\n",
            "  \"Argument interpolation should be of type InterpolationMode instead of int. \"\n",
            "/usr/local/lib/python3.7/dist-packages/torchvision/transforms/transforms.py:288: UserWarning: Argument interpolation should be of type InterpolationMode instead of int. Please, use InterpolationMode enum.\n",
            "  \"Argument interpolation should be of type InterpolationMode instead of int. \"\n",
            "/usr/local/lib/python3.7/dist-packages/torchvision/transforms/transforms.py:288: UserWarning: Argument interpolation should be of type InterpolationMode instead of int. Please, use InterpolationMode enum.\n",
            "  \"Argument interpolation should be of type InterpolationMode instead of int. \"\n",
            "/usr/local/lib/python3.7/dist-packages/torchvision/transforms/transforms.py:288: UserWarning: Argument interpolation should be of type InterpolationMode instead of int. Please, use InterpolationMode enum.\n",
            "  \"Argument interpolation should be of type InterpolationMode instead of int. \"\n"
          ]
        },
        {
          "metadata": {
            "tags": null
          },
          "name": "stdout",
          "output_type": "stream",
          "text": [
            "Train Epoch: 27 [240/8498 (3%)]\tLoss: 0.315480, Learning rate: 0.001000\n",
            "Train Epoch: 27 [480/8498 (6%)]\tLoss: 0.566370, Learning rate: 0.001000\n",
            "Train Epoch: 27 [720/8498 (8%)]\tLoss: 0.250481, Learning rate: 0.001000\n",
            "Train Epoch: 27 [960/8498 (11%)]\tLoss: 0.263500, Learning rate: 0.001000\n",
            "Train Epoch: 27 [1200/8498 (14%)]\tLoss: 0.333744, Learning rate: 0.001000\n",
            "Train Epoch: 27 [1440/8498 (17%)]\tLoss: 0.332157, Learning rate: 0.001000\n",
            "Train Epoch: 27 [1680/8498 (20%)]\tLoss: 0.291976, Learning rate: 0.001000\n",
            "Train Epoch: 27 [1920/8498 (23%)]\tLoss: 0.227716, Learning rate: 0.001000\n",
            "Train Epoch: 27 [2160/8498 (25%)]\tLoss: 0.299526, Learning rate: 0.001000\n",
            "Train Epoch: 27 [2400/8498 (28%)]\tLoss: 0.432072, Learning rate: 0.001000\n",
            "Train Epoch: 27 [2640/8498 (31%)]\tLoss: 0.335476, Learning rate: 0.001000\n",
            "Train Epoch: 27 [2880/8498 (34%)]\tLoss: 0.439974, Learning rate: 0.001000\n",
            "Train Epoch: 27 [3120/8498 (37%)]\tLoss: 0.292547, Learning rate: 0.001000\n",
            "Train Epoch: 27 [3360/8498 (39%)]\tLoss: 0.258490, Learning rate: 0.001000\n",
            "Train Epoch: 27 [3600/8498 (42%)]\tLoss: 0.383778, Learning rate: 0.001000\n",
            "Train Epoch: 27 [3840/8498 (45%)]\tLoss: 0.371013, Learning rate: 0.001000\n",
            "Train Epoch: 27 [4080/8498 (48%)]\tLoss: 0.401792, Learning rate: 0.001000\n",
            "Train Epoch: 27 [4320/8498 (51%)]\tLoss: 0.295866, Learning rate: 0.001000\n",
            "Train Epoch: 27 [4560/8498 (54%)]\tLoss: 0.359977, Learning rate: 0.001000\n",
            "Train Epoch: 27 [4800/8498 (56%)]\tLoss: 0.337264, Learning rate: 0.001000\n",
            "Train Epoch: 27 [5040/8498 (59%)]\tLoss: 0.707658, Learning rate: 0.001000\n",
            "Train Epoch: 27 [5280/8498 (62%)]\tLoss: 0.327605, Learning rate: 0.001000\n",
            "Train Epoch: 27 [5520/8498 (65%)]\tLoss: 0.321574, Learning rate: 0.001000\n",
            "Train Epoch: 27 [5760/8498 (68%)]\tLoss: 0.419575, Learning rate: 0.001000\n",
            "Train Epoch: 27 [6000/8498 (70%)]\tLoss: 0.312424, Learning rate: 0.001000\n",
            "Train Epoch: 27 [6240/8498 (73%)]\tLoss: 0.263571, Learning rate: 0.001000\n",
            "Train Epoch: 27 [6480/8498 (76%)]\tLoss: 0.333229, Learning rate: 0.001000\n",
            "Train Epoch: 27 [6720/8498 (79%)]\tLoss: 0.307039, Learning rate: 0.001000\n",
            "Train Epoch: 27 [6960/8498 (82%)]\tLoss: 0.336893, Learning rate: 0.001000\n",
            "Train Epoch: 27 [7200/8498 (85%)]\tLoss: 0.449695, Learning rate: 0.001000\n",
            "Train Epoch: 27 [7440/8498 (87%)]\tLoss: 0.339970, Learning rate: 0.001000\n",
            "Train Epoch: 27 [7680/8498 (90%)]\tLoss: 0.390307, Learning rate: 0.001000\n",
            "Train Epoch: 27 [7920/8498 (93%)]\tLoss: 0.410035, Learning rate: 0.001000\n",
            "Train Epoch: 27 [8160/8498 (96%)]\tLoss: 0.259530, Learning rate: 0.001000\n",
            "Train Epoch: 27 [8400/8498 (99%)]\tLoss: 0.413230, Learning rate: 0.001000\n"
          ]
        },
        {
          "metadata": {
            "tags": null
          },
          "name": "stderr",
          "output_type": "stream",
          "text": [
            "/usr/local/lib/python3.7/dist-packages/torchvision/transforms/transforms.py:288: UserWarning: Argument interpolation should be of type InterpolationMode instead of int. Please, use InterpolationMode enum.\n",
            "  \"Argument interpolation should be of type InterpolationMode instead of int. \"\n",
            "/usr/local/lib/python3.7/dist-packages/torchvision/transforms/transforms.py:288: UserWarning: Argument interpolation should be of type InterpolationMode instead of int. Please, use InterpolationMode enum.\n",
            "  \"Argument interpolation should be of type InterpolationMode instead of int. \"\n",
            "/usr/local/lib/python3.7/dist-packages/torchvision/transforms/transforms.py:288: UserWarning: Argument interpolation should be of type InterpolationMode instead of int. Please, use InterpolationMode enum.\n",
            "  \"Argument interpolation should be of type InterpolationMode instead of int. \"\n",
            "/usr/local/lib/python3.7/dist-packages/torchvision/transforms/transforms.py:288: UserWarning: Argument interpolation should be of type InterpolationMode instead of int. Please, use InterpolationMode enum.\n",
            "  \"Argument interpolation should be of type InterpolationMode instead of int. \"\n",
            "/usr/local/lib/python3.7/dist-packages/torchvision/transforms/transforms.py:288: UserWarning: Argument interpolation should be of type InterpolationMode instead of int. Please, use InterpolationMode enum.\n",
            "  \"Argument interpolation should be of type InterpolationMode instead of int. \"\n",
            "/usr/local/lib/python3.7/dist-packages/torchvision/transforms/transforms.py:288: UserWarning: Argument interpolation should be of type InterpolationMode instead of int. Please, use InterpolationMode enum.\n",
            "  \"Argument interpolation should be of type InterpolationMode instead of int. \"\n",
            "/usr/local/lib/python3.7/dist-packages/torchvision/transforms/transforms.py:288: UserWarning: Argument interpolation should be of type InterpolationMode instead of int. Please, use InterpolationMode enum.\n",
            "  \"Argument interpolation should be of type InterpolationMode instead of int. \"\n",
            "/usr/local/lib/python3.7/dist-packages/torchvision/transforms/transforms.py:288: UserWarning: Argument interpolation should be of type InterpolationMode instead of int. Please, use InterpolationMode enum.\n",
            "  \"Argument interpolation should be of type InterpolationMode instead of int. \"\n"
          ]
        },
        {
          "metadata": {
            "tags": null
          },
          "name": "stdout",
          "output_type": "stream",
          "text": [
            "\n",
            "Test set (736): Average loss: 0.5958, mIoU: 0.5832\n",
            "\n",
            "PSPnetLite training, epoch 28\n"
          ]
        },
        {
          "metadata": {
            "tags": null
          },
          "name": "stderr",
          "output_type": "stream",
          "text": [
            "/usr/local/lib/python3.7/dist-packages/torchvision/transforms/transforms.py:288: UserWarning: Argument interpolation should be of type InterpolationMode instead of int. Please, use InterpolationMode enum.\n",
            "  \"Argument interpolation should be of type InterpolationMode instead of int. \"\n",
            "/usr/local/lib/python3.7/dist-packages/torchvision/transforms/transforms.py:288: UserWarning: Argument interpolation should be of type InterpolationMode instead of int. Please, use InterpolationMode enum.\n",
            "  \"Argument interpolation should be of type InterpolationMode instead of int. \"\n",
            "/usr/local/lib/python3.7/dist-packages/torchvision/transforms/transforms.py:288: UserWarning: Argument interpolation should be of type InterpolationMode instead of int. Please, use InterpolationMode enum.\n",
            "  \"Argument interpolation should be of type InterpolationMode instead of int. \"\n",
            "/usr/local/lib/python3.7/dist-packages/torchvision/transforms/transforms.py:288: UserWarning: Argument interpolation should be of type InterpolationMode instead of int. Please, use InterpolationMode enum.\n",
            "  \"Argument interpolation should be of type InterpolationMode instead of int. \"\n",
            "/usr/local/lib/python3.7/dist-packages/torchvision/transforms/transforms.py:288: UserWarning: Argument interpolation should be of type InterpolationMode instead of int. Please, use InterpolationMode enum.\n",
            "  \"Argument interpolation should be of type InterpolationMode instead of int. \"\n",
            "/usr/local/lib/python3.7/dist-packages/torchvision/transforms/transforms.py:288: UserWarning: Argument interpolation should be of type InterpolationMode instead of int. Please, use InterpolationMode enum.\n",
            "  \"Argument interpolation should be of type InterpolationMode instead of int. \"\n",
            "/usr/local/lib/python3.7/dist-packages/torchvision/transforms/transforms.py:288: UserWarning: Argument interpolation should be of type InterpolationMode instead of int. Please, use InterpolationMode enum.\n",
            "  \"Argument interpolation should be of type InterpolationMode instead of int. \"\n",
            "/usr/local/lib/python3.7/dist-packages/torchvision/transforms/transforms.py:288: UserWarning: Argument interpolation should be of type InterpolationMode instead of int. Please, use InterpolationMode enum.\n",
            "  \"Argument interpolation should be of type InterpolationMode instead of int. \"\n"
          ]
        },
        {
          "metadata": {
            "tags": null
          },
          "name": "stdout",
          "output_type": "stream",
          "text": [
            "Train Epoch: 28 [240/8498 (3%)]\tLoss: 0.354433, Learning rate: 0.001000\n",
            "Train Epoch: 28 [480/8498 (6%)]\tLoss: 0.581030, Learning rate: 0.001000\n",
            "Train Epoch: 28 [720/8498 (8%)]\tLoss: 0.479550, Learning rate: 0.001000\n",
            "Train Epoch: 28 [960/8498 (11%)]\tLoss: 0.483278, Learning rate: 0.001000\n",
            "Train Epoch: 28 [1200/8498 (14%)]\tLoss: 0.425749, Learning rate: 0.001000\n",
            "Train Epoch: 28 [1440/8498 (17%)]\tLoss: 0.394514, Learning rate: 0.001000\n",
            "Train Epoch: 28 [1680/8498 (20%)]\tLoss: 0.258867, Learning rate: 0.001000\n",
            "Train Epoch: 28 [1920/8498 (23%)]\tLoss: 0.418150, Learning rate: 0.001000\n",
            "Train Epoch: 28 [2160/8498 (25%)]\tLoss: 0.224888, Learning rate: 0.001000\n",
            "Train Epoch: 28 [2400/8498 (28%)]\tLoss: 0.330125, Learning rate: 0.001000\n",
            "Train Epoch: 28 [2640/8498 (31%)]\tLoss: 0.475156, Learning rate: 0.001000\n",
            "Train Epoch: 28 [2880/8498 (34%)]\tLoss: 0.405734, Learning rate: 0.001000\n",
            "Train Epoch: 28 [3120/8498 (37%)]\tLoss: 0.342623, Learning rate: 0.001000\n",
            "Train Epoch: 28 [3360/8498 (39%)]\tLoss: 0.363135, Learning rate: 0.001000\n",
            "Train Epoch: 28 [3600/8498 (42%)]\tLoss: 0.270597, Learning rate: 0.001000\n",
            "Train Epoch: 28 [3840/8498 (45%)]\tLoss: 0.251194, Learning rate: 0.001000\n",
            "Train Epoch: 28 [4080/8498 (48%)]\tLoss: 0.221874, Learning rate: 0.001000\n",
            "Train Epoch: 28 [4320/8498 (51%)]\tLoss: 0.401298, Learning rate: 0.001000\n",
            "Train Epoch: 28 [4560/8498 (54%)]\tLoss: 0.257930, Learning rate: 0.001000\n",
            "Train Epoch: 28 [4800/8498 (56%)]\tLoss: 0.311645, Learning rate: 0.001000\n",
            "Train Epoch: 28 [5040/8498 (59%)]\tLoss: 0.258277, Learning rate: 0.001000\n",
            "Train Epoch: 28 [5280/8498 (62%)]\tLoss: 0.322827, Learning rate: 0.001000\n",
            "Train Epoch: 28 [5520/8498 (65%)]\tLoss: 0.258100, Learning rate: 0.001000\n",
            "Train Epoch: 28 [5760/8498 (68%)]\tLoss: 0.388809, Learning rate: 0.001000\n",
            "Train Epoch: 28 [6000/8498 (70%)]\tLoss: 0.362058, Learning rate: 0.001000\n",
            "Train Epoch: 28 [6240/8498 (73%)]\tLoss: 0.262777, Learning rate: 0.001000\n",
            "Train Epoch: 28 [6480/8498 (76%)]\tLoss: 0.322685, Learning rate: 0.001000\n",
            "Train Epoch: 28 [6720/8498 (79%)]\tLoss: 0.412043, Learning rate: 0.001000\n",
            "Train Epoch: 28 [6960/8498 (82%)]\tLoss: 0.410544, Learning rate: 0.001000\n",
            "Train Epoch: 28 [7200/8498 (85%)]\tLoss: 0.432372, Learning rate: 0.001000\n",
            "Train Epoch: 28 [7440/8498 (87%)]\tLoss: 0.310211, Learning rate: 0.001000\n",
            "Train Epoch: 28 [7680/8498 (90%)]\tLoss: 0.420247, Learning rate: 0.001000\n",
            "Train Epoch: 28 [7920/8498 (93%)]\tLoss: 0.278026, Learning rate: 0.001000\n",
            "Train Epoch: 28 [8160/8498 (96%)]\tLoss: 0.259556, Learning rate: 0.001000\n",
            "Train Epoch: 28 [8400/8498 (99%)]\tLoss: 0.513468, Learning rate: 0.001000\n"
          ]
        },
        {
          "metadata": {
            "tags": null
          },
          "name": "stderr",
          "output_type": "stream",
          "text": [
            "/usr/local/lib/python3.7/dist-packages/torchvision/transforms/transforms.py:288: UserWarning: Argument interpolation should be of type InterpolationMode instead of int. Please, use InterpolationMode enum.\n",
            "  \"Argument interpolation should be of type InterpolationMode instead of int. \"\n",
            "/usr/local/lib/python3.7/dist-packages/torchvision/transforms/transforms.py:288: UserWarning: Argument interpolation should be of type InterpolationMode instead of int. Please, use InterpolationMode enum.\n",
            "  \"Argument interpolation should be of type InterpolationMode instead of int. \"\n",
            "/usr/local/lib/python3.7/dist-packages/torchvision/transforms/transforms.py:288: UserWarning: Argument interpolation should be of type InterpolationMode instead of int. Please, use InterpolationMode enum.\n",
            "  \"Argument interpolation should be of type InterpolationMode instead of int. \"\n",
            "/usr/local/lib/python3.7/dist-packages/torchvision/transforms/transforms.py:288: UserWarning: Argument interpolation should be of type InterpolationMode instead of int. Please, use InterpolationMode enum.\n",
            "  \"Argument interpolation should be of type InterpolationMode instead of int. \"\n",
            "/usr/local/lib/python3.7/dist-packages/torchvision/transforms/transforms.py:288: UserWarning: Argument interpolation should be of type InterpolationMode instead of int. Please, use InterpolationMode enum.\n",
            "  \"Argument interpolation should be of type InterpolationMode instead of int. \"\n",
            "/usr/local/lib/python3.7/dist-packages/torchvision/transforms/transforms.py:288: UserWarning: Argument interpolation should be of type InterpolationMode instead of int. Please, use InterpolationMode enum.\n",
            "  \"Argument interpolation should be of type InterpolationMode instead of int. \"\n",
            "/usr/local/lib/python3.7/dist-packages/torchvision/transforms/transforms.py:288: UserWarning: Argument interpolation should be of type InterpolationMode instead of int. Please, use InterpolationMode enum.\n",
            "  \"Argument interpolation should be of type InterpolationMode instead of int. \"\n",
            "/usr/local/lib/python3.7/dist-packages/torchvision/transforms/transforms.py:288: UserWarning: Argument interpolation should be of type InterpolationMode instead of int. Please, use InterpolationMode enum.\n",
            "  \"Argument interpolation should be of type InterpolationMode instead of int. \"\n"
          ]
        },
        {
          "metadata": {
            "tags": null
          },
          "name": "stdout",
          "output_type": "stream",
          "text": [
            "\n",
            "Test set (736): Average loss: 0.5970, mIoU: 0.5941\n",
            "\n",
            "PSPnetLite training, epoch 29\n"
          ]
        },
        {
          "metadata": {
            "tags": null
          },
          "name": "stderr",
          "output_type": "stream",
          "text": [
            "/usr/local/lib/python3.7/dist-packages/torchvision/transforms/transforms.py:288: UserWarning: Argument interpolation should be of type InterpolationMode instead of int. Please, use InterpolationMode enum.\n",
            "  \"Argument interpolation should be of type InterpolationMode instead of int. \"\n",
            "/usr/local/lib/python3.7/dist-packages/torchvision/transforms/transforms.py:288: UserWarning: Argument interpolation should be of type InterpolationMode instead of int. Please, use InterpolationMode enum.\n",
            "  \"Argument interpolation should be of type InterpolationMode instead of int. \"\n",
            "/usr/local/lib/python3.7/dist-packages/torchvision/transforms/transforms.py:288: UserWarning: Argument interpolation should be of type InterpolationMode instead of int. Please, use InterpolationMode enum.\n",
            "  \"Argument interpolation should be of type InterpolationMode instead of int. \"\n",
            "/usr/local/lib/python3.7/dist-packages/torchvision/transforms/transforms.py:288: UserWarning: Argument interpolation should be of type InterpolationMode instead of int. Please, use InterpolationMode enum.\n",
            "  \"Argument interpolation should be of type InterpolationMode instead of int. \"\n",
            "/usr/local/lib/python3.7/dist-packages/torchvision/transforms/transforms.py:288: UserWarning: Argument interpolation should be of type InterpolationMode instead of int. Please, use InterpolationMode enum.\n",
            "  \"Argument interpolation should be of type InterpolationMode instead of int. \"\n",
            "/usr/local/lib/python3.7/dist-packages/torchvision/transforms/transforms.py:288: UserWarning: Argument interpolation should be of type InterpolationMode instead of int. Please, use InterpolationMode enum.\n",
            "  \"Argument interpolation should be of type InterpolationMode instead of int. \"\n",
            "/usr/local/lib/python3.7/dist-packages/torchvision/transforms/transforms.py:288: UserWarning: Argument interpolation should be of type InterpolationMode instead of int. Please, use InterpolationMode enum.\n",
            "  \"Argument interpolation should be of type InterpolationMode instead of int. \"\n",
            "/usr/local/lib/python3.7/dist-packages/torchvision/transforms/transforms.py:288: UserWarning: Argument interpolation should be of type InterpolationMode instead of int. Please, use InterpolationMode enum.\n",
            "  \"Argument interpolation should be of type InterpolationMode instead of int. \"\n"
          ]
        },
        {
          "metadata": {
            "tags": null
          },
          "name": "stdout",
          "output_type": "stream",
          "text": [
            "Train Epoch: 29 [240/8498 (3%)]\tLoss: 0.346089, Learning rate: 0.001000\n",
            "Train Epoch: 29 [480/8498 (6%)]\tLoss: 0.402371, Learning rate: 0.001000\n",
            "Train Epoch: 29 [720/8498 (8%)]\tLoss: 0.234472, Learning rate: 0.001000\n",
            "Train Epoch: 29 [960/8498 (11%)]\tLoss: 0.456873, Learning rate: 0.001000\n",
            "Train Epoch: 29 [1200/8498 (14%)]\tLoss: 0.228853, Learning rate: 0.001000\n",
            "Train Epoch: 29 [1440/8498 (17%)]\tLoss: 0.309458, Learning rate: 0.001000\n",
            "Train Epoch: 29 [1680/8498 (20%)]\tLoss: 0.395179, Learning rate: 0.001000\n",
            "Train Epoch: 29 [1920/8498 (23%)]\tLoss: 0.446450, Learning rate: 0.001000\n",
            "Train Epoch: 29 [2160/8498 (25%)]\tLoss: 0.209155, Learning rate: 0.001000\n",
            "Train Epoch: 29 [2400/8498 (28%)]\tLoss: 0.253432, Learning rate: 0.001000\n",
            "Train Epoch: 29 [2640/8498 (31%)]\tLoss: 0.312027, Learning rate: 0.001000\n",
            "Train Epoch: 29 [2880/8498 (34%)]\tLoss: 0.295859, Learning rate: 0.001000\n",
            "Train Epoch: 29 [3120/8498 (37%)]\tLoss: 0.407169, Learning rate: 0.001000\n",
            "Train Epoch: 29 [3360/8498 (39%)]\tLoss: 0.338055, Learning rate: 0.001000\n",
            "Train Epoch: 29 [3600/8498 (42%)]\tLoss: 0.221664, Learning rate: 0.001000\n",
            "Train Epoch: 29 [3840/8498 (45%)]\tLoss: 0.397066, Learning rate: 0.001000\n",
            "Train Epoch: 29 [4080/8498 (48%)]\tLoss: 0.429871, Learning rate: 0.001000\n",
            "Train Epoch: 29 [4320/8498 (51%)]\tLoss: 0.312912, Learning rate: 0.001000\n",
            "Train Epoch: 29 [4560/8498 (54%)]\tLoss: 0.279146, Learning rate: 0.001000\n",
            "Train Epoch: 29 [4800/8498 (56%)]\tLoss: 0.358584, Learning rate: 0.001000\n",
            "Train Epoch: 29 [5040/8498 (59%)]\tLoss: 0.400346, Learning rate: 0.001000\n",
            "Train Epoch: 29 [5280/8498 (62%)]\tLoss: 0.497884, Learning rate: 0.001000\n",
            "Train Epoch: 29 [5520/8498 (65%)]\tLoss: 0.331547, Learning rate: 0.001000\n",
            "Train Epoch: 29 [5760/8498 (68%)]\tLoss: 0.437748, Learning rate: 0.001000\n",
            "Train Epoch: 29 [6000/8498 (70%)]\tLoss: 0.268327, Learning rate: 0.001000\n",
            "Train Epoch: 29 [6240/8498 (73%)]\tLoss: 0.310709, Learning rate: 0.001000\n",
            "Train Epoch: 29 [6480/8498 (76%)]\tLoss: 0.285948, Learning rate: 0.001000\n",
            "Train Epoch: 29 [6720/8498 (79%)]\tLoss: 0.241554, Learning rate: 0.001000\n",
            "Train Epoch: 29 [6960/8498 (82%)]\tLoss: 0.272001, Learning rate: 0.001000\n",
            "Train Epoch: 29 [7200/8498 (85%)]\tLoss: 0.394120, Learning rate: 0.001000\n",
            "Train Epoch: 29 [7440/8498 (87%)]\tLoss: 0.413727, Learning rate: 0.001000\n",
            "Train Epoch: 29 [7680/8498 (90%)]\tLoss: 0.283070, Learning rate: 0.001000\n",
            "Train Epoch: 29 [7920/8498 (93%)]\tLoss: 0.310824, Learning rate: 0.001000\n",
            "Train Epoch: 29 [8160/8498 (96%)]\tLoss: 0.431279, Learning rate: 0.001000\n",
            "Train Epoch: 29 [8400/8498 (99%)]\tLoss: 0.374130, Learning rate: 0.001000\n"
          ]
        },
        {
          "metadata": {
            "tags": null
          },
          "name": "stderr",
          "output_type": "stream",
          "text": [
            "/usr/local/lib/python3.7/dist-packages/torchvision/transforms/transforms.py:288: UserWarning: Argument interpolation should be of type InterpolationMode instead of int. Please, use InterpolationMode enum.\n",
            "  \"Argument interpolation should be of type InterpolationMode instead of int. \"\n",
            "/usr/local/lib/python3.7/dist-packages/torchvision/transforms/transforms.py:288: UserWarning: Argument interpolation should be of type InterpolationMode instead of int. Please, use InterpolationMode enum.\n",
            "  \"Argument interpolation should be of type InterpolationMode instead of int. \"\n",
            "/usr/local/lib/python3.7/dist-packages/torchvision/transforms/transforms.py:288: UserWarning: Argument interpolation should be of type InterpolationMode instead of int. Please, use InterpolationMode enum.\n",
            "  \"Argument interpolation should be of type InterpolationMode instead of int. \"\n",
            "/usr/local/lib/python3.7/dist-packages/torchvision/transforms/transforms.py:288: UserWarning: Argument interpolation should be of type InterpolationMode instead of int. Please, use InterpolationMode enum.\n",
            "  \"Argument interpolation should be of type InterpolationMode instead of int. \"\n",
            "/usr/local/lib/python3.7/dist-packages/torchvision/transforms/transforms.py:288: UserWarning: Argument interpolation should be of type InterpolationMode instead of int. Please, use InterpolationMode enum.\n",
            "  \"Argument interpolation should be of type InterpolationMode instead of int. \"\n",
            "/usr/local/lib/python3.7/dist-packages/torchvision/transforms/transforms.py:288: UserWarning: Argument interpolation should be of type InterpolationMode instead of int. Please, use InterpolationMode enum.\n",
            "  \"Argument interpolation should be of type InterpolationMode instead of int. \"\n",
            "/usr/local/lib/python3.7/dist-packages/torchvision/transforms/transforms.py:288: UserWarning: Argument interpolation should be of type InterpolationMode instead of int. Please, use InterpolationMode enum.\n",
            "  \"Argument interpolation should be of type InterpolationMode instead of int. \"\n",
            "/usr/local/lib/python3.7/dist-packages/torchvision/transforms/transforms.py:288: UserWarning: Argument interpolation should be of type InterpolationMode instead of int. Please, use InterpolationMode enum.\n",
            "  \"Argument interpolation should be of type InterpolationMode instead of int. \"\n"
          ]
        },
        {
          "metadata": {
            "tags": null
          },
          "name": "stdout",
          "output_type": "stream",
          "text": [
            "\n",
            "Test set (736): Average loss: 0.6383, mIoU: 0.5874\n",
            "\n",
            "PSPnetLite training, epoch 30\n"
          ]
        },
        {
          "metadata": {
            "tags": null
          },
          "name": "stderr",
          "output_type": "stream",
          "text": [
            "/usr/local/lib/python3.7/dist-packages/torchvision/transforms/transforms.py:288: UserWarning: Argument interpolation should be of type InterpolationMode instead of int. Please, use InterpolationMode enum.\n",
            "  \"Argument interpolation should be of type InterpolationMode instead of int. \"\n",
            "/usr/local/lib/python3.7/dist-packages/torchvision/transforms/transforms.py:288: UserWarning: Argument interpolation should be of type InterpolationMode instead of int. Please, use InterpolationMode enum.\n",
            "  \"Argument interpolation should be of type InterpolationMode instead of int. \"\n",
            "/usr/local/lib/python3.7/dist-packages/torchvision/transforms/transforms.py:288: UserWarning: Argument interpolation should be of type InterpolationMode instead of int. Please, use InterpolationMode enum.\n",
            "  \"Argument interpolation should be of type InterpolationMode instead of int. \"\n",
            "/usr/local/lib/python3.7/dist-packages/torchvision/transforms/transforms.py:288: UserWarning: Argument interpolation should be of type InterpolationMode instead of int. Please, use InterpolationMode enum.\n",
            "  \"Argument interpolation should be of type InterpolationMode instead of int. \"\n",
            "/usr/local/lib/python3.7/dist-packages/torchvision/transforms/transforms.py:288: UserWarning: Argument interpolation should be of type InterpolationMode instead of int. Please, use InterpolationMode enum.\n",
            "  \"Argument interpolation should be of type InterpolationMode instead of int. \"\n",
            "/usr/local/lib/python3.7/dist-packages/torchvision/transforms/transforms.py:288: UserWarning: Argument interpolation should be of type InterpolationMode instead of int. Please, use InterpolationMode enum.\n",
            "  \"Argument interpolation should be of type InterpolationMode instead of int. \"\n",
            "/usr/local/lib/python3.7/dist-packages/torchvision/transforms/transforms.py:288: UserWarning: Argument interpolation should be of type InterpolationMode instead of int. Please, use InterpolationMode enum.\n",
            "  \"Argument interpolation should be of type InterpolationMode instead of int. \"\n",
            "/usr/local/lib/python3.7/dist-packages/torchvision/transforms/transforms.py:288: UserWarning: Argument interpolation should be of type InterpolationMode instead of int. Please, use InterpolationMode enum.\n",
            "  \"Argument interpolation should be of type InterpolationMode instead of int. \"\n"
          ]
        },
        {
          "metadata": {
            "tags": null
          },
          "name": "stdout",
          "output_type": "stream",
          "text": [
            "Train Epoch: 30 [240/8498 (3%)]\tLoss: 0.254346, Learning rate: 0.001000\n",
            "Train Epoch: 30 [480/8498 (6%)]\tLoss: 0.402907, Learning rate: 0.001000\n",
            "Train Epoch: 30 [720/8498 (8%)]\tLoss: 0.306954, Learning rate: 0.001000\n",
            "Train Epoch: 30 [960/8498 (11%)]\tLoss: 0.358178, Learning rate: 0.001000\n",
            "Train Epoch: 30 [1200/8498 (14%)]\tLoss: 0.369415, Learning rate: 0.001000\n",
            "Train Epoch: 30 [1440/8498 (17%)]\tLoss: 0.330813, Learning rate: 0.001000\n",
            "Train Epoch: 30 [1680/8498 (20%)]\tLoss: 0.277931, Learning rate: 0.001000\n",
            "Train Epoch: 30 [1920/8498 (23%)]\tLoss: 0.276627, Learning rate: 0.001000\n",
            "Train Epoch: 30 [2160/8498 (25%)]\tLoss: 0.330728, Learning rate: 0.001000\n",
            "Train Epoch: 30 [2400/8498 (28%)]\tLoss: 0.321005, Learning rate: 0.001000\n",
            "Train Epoch: 30 [2640/8498 (31%)]\tLoss: 0.411562, Learning rate: 0.001000\n",
            "Train Epoch: 30 [2880/8498 (34%)]\tLoss: 0.294095, Learning rate: 0.001000\n",
            "Train Epoch: 30 [3120/8498 (37%)]\tLoss: 0.310353, Learning rate: 0.001000\n",
            "Train Epoch: 30 [3360/8498 (39%)]\tLoss: 0.200969, Learning rate: 0.001000\n",
            "Train Epoch: 30 [3600/8498 (42%)]\tLoss: 0.373890, Learning rate: 0.001000\n",
            "Train Epoch: 30 [3840/8498 (45%)]\tLoss: 0.363520, Learning rate: 0.001000\n",
            "Train Epoch: 30 [4080/8498 (48%)]\tLoss: 0.267879, Learning rate: 0.001000\n",
            "Train Epoch: 30 [4320/8498 (51%)]\tLoss: 0.269502, Learning rate: 0.001000\n",
            "Train Epoch: 30 [4560/8498 (54%)]\tLoss: 0.239320, Learning rate: 0.001000\n",
            "Train Epoch: 30 [4800/8498 (56%)]\tLoss: 0.401881, Learning rate: 0.001000\n",
            "Train Epoch: 30 [5040/8498 (59%)]\tLoss: 0.578509, Learning rate: 0.001000\n",
            "Train Epoch: 30 [5280/8498 (62%)]\tLoss: 0.286366, Learning rate: 0.001000\n",
            "Train Epoch: 30 [5520/8498 (65%)]\tLoss: 0.507532, Learning rate: 0.001000\n",
            "Train Epoch: 30 [5760/8498 (68%)]\tLoss: 0.356537, Learning rate: 0.001000\n",
            "Train Epoch: 30 [6000/8498 (70%)]\tLoss: 0.351503, Learning rate: 0.001000\n",
            "Train Epoch: 30 [6240/8498 (73%)]\tLoss: 0.363565, Learning rate: 0.001000\n",
            "Train Epoch: 30 [6480/8498 (76%)]\tLoss: 0.309762, Learning rate: 0.001000\n",
            "Train Epoch: 30 [6720/8498 (79%)]\tLoss: 0.266563, Learning rate: 0.001000\n",
            "Train Epoch: 30 [6960/8498 (82%)]\tLoss: 0.486732, Learning rate: 0.001000\n",
            "Train Epoch: 30 [7200/8498 (85%)]\tLoss: 0.353313, Learning rate: 0.001000\n",
            "Train Epoch: 30 [7440/8498 (87%)]\tLoss: 0.355898, Learning rate: 0.001000\n",
            "Train Epoch: 30 [7680/8498 (90%)]\tLoss: 0.301062, Learning rate: 0.001000\n",
            "Train Epoch: 30 [7920/8498 (93%)]\tLoss: 0.383733, Learning rate: 0.001000\n",
            "Train Epoch: 30 [8160/8498 (96%)]\tLoss: 0.435996, Learning rate: 0.001000\n",
            "Train Epoch: 30 [8400/8498 (99%)]\tLoss: 0.302366, Learning rate: 0.001000\n"
          ]
        },
        {
          "metadata": {
            "tags": null
          },
          "name": "stderr",
          "output_type": "stream",
          "text": [
            "/usr/local/lib/python3.7/dist-packages/torchvision/transforms/transforms.py:288: UserWarning: Argument interpolation should be of type InterpolationMode instead of int. Please, use InterpolationMode enum.\n",
            "  \"Argument interpolation should be of type InterpolationMode instead of int. \"\n",
            "/usr/local/lib/python3.7/dist-packages/torchvision/transforms/transforms.py:288: UserWarning: Argument interpolation should be of type InterpolationMode instead of int. Please, use InterpolationMode enum.\n",
            "  \"Argument interpolation should be of type InterpolationMode instead of int. \"\n",
            "/usr/local/lib/python3.7/dist-packages/torchvision/transforms/transforms.py:288: UserWarning: Argument interpolation should be of type InterpolationMode instead of int. Please, use InterpolationMode enum.\n",
            "  \"Argument interpolation should be of type InterpolationMode instead of int. \"\n",
            "/usr/local/lib/python3.7/dist-packages/torchvision/transforms/transforms.py:288: UserWarning: Argument interpolation should be of type InterpolationMode instead of int. Please, use InterpolationMode enum.\n",
            "  \"Argument interpolation should be of type InterpolationMode instead of int. \"\n",
            "/usr/local/lib/python3.7/dist-packages/torchvision/transforms/transforms.py:288: UserWarning: Argument interpolation should be of type InterpolationMode instead of int. Please, use InterpolationMode enum.\n",
            "  \"Argument interpolation should be of type InterpolationMode instead of int. \"\n",
            "/usr/local/lib/python3.7/dist-packages/torchvision/transforms/transforms.py:288: UserWarning: Argument interpolation should be of type InterpolationMode instead of int. Please, use InterpolationMode enum.\n",
            "  \"Argument interpolation should be of type InterpolationMode instead of int. \"\n",
            "/usr/local/lib/python3.7/dist-packages/torchvision/transforms/transforms.py:288: UserWarning: Argument interpolation should be of type InterpolationMode instead of int. Please, use InterpolationMode enum.\n",
            "  \"Argument interpolation should be of type InterpolationMode instead of int. \"\n",
            "/usr/local/lib/python3.7/dist-packages/torchvision/transforms/transforms.py:288: UserWarning: Argument interpolation should be of type InterpolationMode instead of int. Please, use InterpolationMode enum.\n",
            "  \"Argument interpolation should be of type InterpolationMode instead of int. \"\n"
          ]
        },
        {
          "metadata": {
            "tags": null
          },
          "name": "stdout",
          "output_type": "stream",
          "text": [
            "\n",
            "Test set (736): Average loss: 0.6229, mIoU: 0.5767\n",
            "\n",
            "PSPnetLite training, epoch 31\n"
          ]
        },
        {
          "metadata": {
            "tags": null
          },
          "name": "stderr",
          "output_type": "stream",
          "text": [
            "/usr/local/lib/python3.7/dist-packages/torchvision/transforms/transforms.py:288: UserWarning: Argument interpolation should be of type InterpolationMode instead of int. Please, use InterpolationMode enum.\n",
            "  \"Argument interpolation should be of type InterpolationMode instead of int. \"\n",
            "/usr/local/lib/python3.7/dist-packages/torchvision/transforms/transforms.py:288: UserWarning: Argument interpolation should be of type InterpolationMode instead of int. Please, use InterpolationMode enum.\n",
            "  \"Argument interpolation should be of type InterpolationMode instead of int. \"\n",
            "/usr/local/lib/python3.7/dist-packages/torchvision/transforms/transforms.py:288: UserWarning: Argument interpolation should be of type InterpolationMode instead of int. Please, use InterpolationMode enum.\n",
            "  \"Argument interpolation should be of type InterpolationMode instead of int. \"\n",
            "/usr/local/lib/python3.7/dist-packages/torchvision/transforms/transforms.py:288: UserWarning: Argument interpolation should be of type InterpolationMode instead of int. Please, use InterpolationMode enum.\n",
            "  \"Argument interpolation should be of type InterpolationMode instead of int. \"\n",
            "/usr/local/lib/python3.7/dist-packages/torchvision/transforms/transforms.py:288: UserWarning: Argument interpolation should be of type InterpolationMode instead of int. Please, use InterpolationMode enum.\n",
            "  \"Argument interpolation should be of type InterpolationMode instead of int. \"\n",
            "/usr/local/lib/python3.7/dist-packages/torchvision/transforms/transforms.py:288: UserWarning: Argument interpolation should be of type InterpolationMode instead of int. Please, use InterpolationMode enum.\n",
            "  \"Argument interpolation should be of type InterpolationMode instead of int. \"\n",
            "/usr/local/lib/python3.7/dist-packages/torchvision/transforms/transforms.py:288: UserWarning: Argument interpolation should be of type InterpolationMode instead of int. Please, use InterpolationMode enum.\n",
            "  \"Argument interpolation should be of type InterpolationMode instead of int. \"\n",
            "/usr/local/lib/python3.7/dist-packages/torchvision/transforms/transforms.py:288: UserWarning: Argument interpolation should be of type InterpolationMode instead of int. Please, use InterpolationMode enum.\n",
            "  \"Argument interpolation should be of type InterpolationMode instead of int. \"\n"
          ]
        },
        {
          "metadata": {
            "tags": null
          },
          "name": "stdout",
          "output_type": "stream",
          "text": [
            "Train Epoch: 31 [240/8498 (3%)]\tLoss: 0.290201, Learning rate: 0.001000\n",
            "Train Epoch: 31 [480/8498 (6%)]\tLoss: 0.398047, Learning rate: 0.001000\n",
            "Train Epoch: 31 [720/8498 (8%)]\tLoss: 0.268849, Learning rate: 0.001000\n",
            "Train Epoch: 31 [960/8498 (11%)]\tLoss: 0.386068, Learning rate: 0.001000\n",
            "Train Epoch: 31 [1200/8498 (14%)]\tLoss: 0.332883, Learning rate: 0.001000\n",
            "Train Epoch: 31 [1440/8498 (17%)]\tLoss: 0.453621, Learning rate: 0.001000\n",
            "Train Epoch: 31 [1680/8498 (20%)]\tLoss: 0.314745, Learning rate: 0.001000\n",
            "Train Epoch: 31 [1920/8498 (23%)]\tLoss: 0.293710, Learning rate: 0.001000\n",
            "Train Epoch: 31 [2160/8498 (25%)]\tLoss: 0.290821, Learning rate: 0.001000\n",
            "Train Epoch: 31 [2400/8498 (28%)]\tLoss: 0.398954, Learning rate: 0.001000\n",
            "Train Epoch: 31 [2640/8498 (31%)]\tLoss: 0.298104, Learning rate: 0.001000\n",
            "Train Epoch: 31 [2880/8498 (34%)]\tLoss: 0.586282, Learning rate: 0.001000\n",
            "Train Epoch: 31 [3120/8498 (37%)]\tLoss: 0.374874, Learning rate: 0.001000\n",
            "Train Epoch: 31 [3360/8498 (39%)]\tLoss: 0.275769, Learning rate: 0.001000\n",
            "Train Epoch: 31 [3600/8498 (42%)]\tLoss: 0.305720, Learning rate: 0.001000\n",
            "Train Epoch: 31 [3840/8498 (45%)]\tLoss: 0.269030, Learning rate: 0.001000\n",
            "Train Epoch: 31 [4080/8498 (48%)]\tLoss: 0.394990, Learning rate: 0.001000\n",
            "Train Epoch: 31 [4320/8498 (51%)]\tLoss: 0.259460, Learning rate: 0.001000\n",
            "Train Epoch: 31 [4560/8498 (54%)]\tLoss: 0.337249, Learning rate: 0.001000\n",
            "Train Epoch: 31 [4800/8498 (56%)]\tLoss: 0.325206, Learning rate: 0.001000\n",
            "Train Epoch: 31 [5040/8498 (59%)]\tLoss: 0.310488, Learning rate: 0.001000\n",
            "Train Epoch: 31 [5280/8498 (62%)]\tLoss: 0.356641, Learning rate: 0.001000\n",
            "Train Epoch: 31 [5520/8498 (65%)]\tLoss: 0.324262, Learning rate: 0.001000\n",
            "Train Epoch: 31 [5760/8498 (68%)]\tLoss: 0.265530, Learning rate: 0.001000\n",
            "Train Epoch: 31 [6000/8498 (70%)]\tLoss: 0.281650, Learning rate: 0.001000\n",
            "Train Epoch: 31 [6240/8498 (73%)]\tLoss: 0.266694, Learning rate: 0.001000\n",
            "Train Epoch: 31 [6480/8498 (76%)]\tLoss: 0.325412, Learning rate: 0.001000\n",
            "Train Epoch: 31 [6720/8498 (79%)]\tLoss: 0.237567, Learning rate: 0.001000\n",
            "Train Epoch: 31 [6960/8498 (82%)]\tLoss: 0.256169, Learning rate: 0.001000\n",
            "Train Epoch: 31 [7200/8498 (85%)]\tLoss: 0.341342, Learning rate: 0.001000\n",
            "Train Epoch: 31 [7440/8498 (87%)]\tLoss: 0.226978, Learning rate: 0.001000\n",
            "Train Epoch: 31 [7680/8498 (90%)]\tLoss: 0.277831, Learning rate: 0.001000\n",
            "Train Epoch: 31 [7920/8498 (93%)]\tLoss: 0.314875, Learning rate: 0.001000\n",
            "Train Epoch: 31 [8160/8498 (96%)]\tLoss: 0.294824, Learning rate: 0.001000\n",
            "Train Epoch: 31 [8400/8498 (99%)]\tLoss: 0.222923, Learning rate: 0.001000\n"
          ]
        },
        {
          "metadata": {
            "tags": null
          },
          "name": "stderr",
          "output_type": "stream",
          "text": [
            "/usr/local/lib/python3.7/dist-packages/torchvision/transforms/transforms.py:288: UserWarning: Argument interpolation should be of type InterpolationMode instead of int. Please, use InterpolationMode enum.\n",
            "  \"Argument interpolation should be of type InterpolationMode instead of int. \"\n",
            "/usr/local/lib/python3.7/dist-packages/torchvision/transforms/transforms.py:288: UserWarning: Argument interpolation should be of type InterpolationMode instead of int. Please, use InterpolationMode enum.\n",
            "  \"Argument interpolation should be of type InterpolationMode instead of int. \"\n",
            "/usr/local/lib/python3.7/dist-packages/torchvision/transforms/transforms.py:288: UserWarning: Argument interpolation should be of type InterpolationMode instead of int. Please, use InterpolationMode enum.\n",
            "  \"Argument interpolation should be of type InterpolationMode instead of int. \"\n",
            "/usr/local/lib/python3.7/dist-packages/torchvision/transforms/transforms.py:288: UserWarning: Argument interpolation should be of type InterpolationMode instead of int. Please, use InterpolationMode enum.\n",
            "  \"Argument interpolation should be of type InterpolationMode instead of int. \"\n",
            "/usr/local/lib/python3.7/dist-packages/torchvision/transforms/transforms.py:288: UserWarning: Argument interpolation should be of type InterpolationMode instead of int. Please, use InterpolationMode enum.\n",
            "  \"Argument interpolation should be of type InterpolationMode instead of int. \"\n",
            "/usr/local/lib/python3.7/dist-packages/torchvision/transforms/transforms.py:288: UserWarning: Argument interpolation should be of type InterpolationMode instead of int. Please, use InterpolationMode enum.\n",
            "  \"Argument interpolation should be of type InterpolationMode instead of int. \"\n",
            "/usr/local/lib/python3.7/dist-packages/torchvision/transforms/transforms.py:288: UserWarning: Argument interpolation should be of type InterpolationMode instead of int. Please, use InterpolationMode enum.\n",
            "  \"Argument interpolation should be of type InterpolationMode instead of int. \"\n",
            "/usr/local/lib/python3.7/dist-packages/torchvision/transforms/transforms.py:288: UserWarning: Argument interpolation should be of type InterpolationMode instead of int. Please, use InterpolationMode enum.\n",
            "  \"Argument interpolation should be of type InterpolationMode instead of int. \"\n"
          ]
        },
        {
          "metadata": {
            "tags": null
          },
          "name": "stdout",
          "output_type": "stream",
          "text": [
            "\n",
            "Test set (736): Average loss: 0.6076, mIoU: 0.5905\n",
            "\n",
            "PSPnetLite training, epoch 32\n"
          ]
        },
        {
          "metadata": {
            "tags": null
          },
          "name": "stderr",
          "output_type": "stream",
          "text": [
            "/usr/local/lib/python3.7/dist-packages/torchvision/transforms/transforms.py:288: UserWarning: Argument interpolation should be of type InterpolationMode instead of int. Please, use InterpolationMode enum.\n",
            "  \"Argument interpolation should be of type InterpolationMode instead of int. \"\n",
            "/usr/local/lib/python3.7/dist-packages/torchvision/transforms/transforms.py:288: UserWarning: Argument interpolation should be of type InterpolationMode instead of int. Please, use InterpolationMode enum.\n",
            "  \"Argument interpolation should be of type InterpolationMode instead of int. \"\n",
            "/usr/local/lib/python3.7/dist-packages/torchvision/transforms/transforms.py:288: UserWarning: Argument interpolation should be of type InterpolationMode instead of int. Please, use InterpolationMode enum.\n",
            "  \"Argument interpolation should be of type InterpolationMode instead of int. \"\n",
            "/usr/local/lib/python3.7/dist-packages/torchvision/transforms/transforms.py:288: UserWarning: Argument interpolation should be of type InterpolationMode instead of int. Please, use InterpolationMode enum.\n",
            "  \"Argument interpolation should be of type InterpolationMode instead of int. \"\n",
            "/usr/local/lib/python3.7/dist-packages/torchvision/transforms/transforms.py:288: UserWarning: Argument interpolation should be of type InterpolationMode instead of int. Please, use InterpolationMode enum.\n",
            "  \"Argument interpolation should be of type InterpolationMode instead of int. \"\n",
            "/usr/local/lib/python3.7/dist-packages/torchvision/transforms/transforms.py:288: UserWarning: Argument interpolation should be of type InterpolationMode instead of int. Please, use InterpolationMode enum.\n",
            "  \"Argument interpolation should be of type InterpolationMode instead of int. \"\n",
            "/usr/local/lib/python3.7/dist-packages/torchvision/transforms/transforms.py:288: UserWarning: Argument interpolation should be of type InterpolationMode instead of int. Please, use InterpolationMode enum.\n",
            "  \"Argument interpolation should be of type InterpolationMode instead of int. \"\n",
            "/usr/local/lib/python3.7/dist-packages/torchvision/transforms/transforms.py:288: UserWarning: Argument interpolation should be of type InterpolationMode instead of int. Please, use InterpolationMode enum.\n",
            "  \"Argument interpolation should be of type InterpolationMode instead of int. \"\n"
          ]
        },
        {
          "metadata": {
            "tags": null
          },
          "name": "stdout",
          "output_type": "stream",
          "text": [
            "Train Epoch: 32 [240/8498 (3%)]\tLoss: 0.353997, Learning rate: 0.001000\n",
            "Train Epoch: 32 [480/8498 (6%)]\tLoss: 0.372520, Learning rate: 0.001000\n",
            "Train Epoch: 32 [720/8498 (8%)]\tLoss: 0.266038, Learning rate: 0.001000\n",
            "Train Epoch: 32 [960/8498 (11%)]\tLoss: 0.289680, Learning rate: 0.001000\n",
            "Train Epoch: 32 [1200/8498 (14%)]\tLoss: 0.463914, Learning rate: 0.001000\n",
            "Train Epoch: 32 [1440/8498 (17%)]\tLoss: 0.354651, Learning rate: 0.001000\n",
            "Train Epoch: 32 [1680/8498 (20%)]\tLoss: 0.253839, Learning rate: 0.001000\n",
            "Train Epoch: 32 [1920/8498 (23%)]\tLoss: 0.364292, Learning rate: 0.001000\n",
            "Train Epoch: 32 [2160/8498 (25%)]\tLoss: 0.409536, Learning rate: 0.001000\n",
            "Train Epoch: 32 [2400/8498 (28%)]\tLoss: 0.271845, Learning rate: 0.001000\n",
            "Train Epoch: 32 [2640/8498 (31%)]\tLoss: 0.481337, Learning rate: 0.001000\n",
            "Train Epoch: 32 [2880/8498 (34%)]\tLoss: 0.316788, Learning rate: 0.001000\n",
            "Train Epoch: 32 [3120/8498 (37%)]\tLoss: 0.327926, Learning rate: 0.001000\n",
            "Train Epoch: 32 [3360/8498 (39%)]\tLoss: 0.432465, Learning rate: 0.001000\n",
            "Train Epoch: 32 [3600/8498 (42%)]\tLoss: 0.270922, Learning rate: 0.001000\n",
            "Train Epoch: 32 [3840/8498 (45%)]\tLoss: 0.280312, Learning rate: 0.001000\n",
            "Train Epoch: 32 [4080/8498 (48%)]\tLoss: 0.210710, Learning rate: 0.001000\n",
            "Train Epoch: 32 [4320/8498 (51%)]\tLoss: 0.357559, Learning rate: 0.001000\n",
            "Train Epoch: 32 [4560/8498 (54%)]\tLoss: 0.258934, Learning rate: 0.001000\n",
            "Train Epoch: 32 [4800/8498 (56%)]\tLoss: 0.435290, Learning rate: 0.001000\n",
            "Train Epoch: 32 [5040/8498 (59%)]\tLoss: 0.442131, Learning rate: 0.001000\n",
            "Train Epoch: 32 [5280/8498 (62%)]\tLoss: 0.287804, Learning rate: 0.001000\n",
            "Train Epoch: 32 [5520/8498 (65%)]\tLoss: 0.379452, Learning rate: 0.001000\n",
            "Train Epoch: 32 [5760/8498 (68%)]\tLoss: 0.442411, Learning rate: 0.001000\n",
            "Train Epoch: 32 [6000/8498 (70%)]\tLoss: 0.329444, Learning rate: 0.001000\n",
            "Train Epoch: 32 [6240/8498 (73%)]\tLoss: 0.346051, Learning rate: 0.001000\n",
            "Train Epoch: 32 [6480/8498 (76%)]\tLoss: 0.287488, Learning rate: 0.001000\n",
            "Train Epoch: 32 [6720/8498 (79%)]\tLoss: 0.327881, Learning rate: 0.001000\n",
            "Train Epoch: 32 [6960/8498 (82%)]\tLoss: 0.362038, Learning rate: 0.001000\n",
            "Train Epoch: 32 [7200/8498 (85%)]\tLoss: 0.288317, Learning rate: 0.001000\n",
            "Train Epoch: 32 [7440/8498 (87%)]\tLoss: 0.425370, Learning rate: 0.001000\n",
            "Train Epoch: 32 [7680/8498 (90%)]\tLoss: 0.313266, Learning rate: 0.001000\n",
            "Train Epoch: 32 [7920/8498 (93%)]\tLoss: 0.307868, Learning rate: 0.001000\n",
            "Train Epoch: 32 [8160/8498 (96%)]\tLoss: 0.364642, Learning rate: 0.001000\n",
            "Train Epoch: 32 [8400/8498 (99%)]\tLoss: 0.540525, Learning rate: 0.001000\n"
          ]
        },
        {
          "metadata": {
            "tags": null
          },
          "name": "stderr",
          "output_type": "stream",
          "text": [
            "/usr/local/lib/python3.7/dist-packages/torchvision/transforms/transforms.py:288: UserWarning: Argument interpolation should be of type InterpolationMode instead of int. Please, use InterpolationMode enum.\n",
            "  \"Argument interpolation should be of type InterpolationMode instead of int. \"\n",
            "/usr/local/lib/python3.7/dist-packages/torchvision/transforms/transforms.py:288: UserWarning: Argument interpolation should be of type InterpolationMode instead of int. Please, use InterpolationMode enum.\n",
            "  \"Argument interpolation should be of type InterpolationMode instead of int. \"\n",
            "/usr/local/lib/python3.7/dist-packages/torchvision/transforms/transforms.py:288: UserWarning: Argument interpolation should be of type InterpolationMode instead of int. Please, use InterpolationMode enum.\n",
            "  \"Argument interpolation should be of type InterpolationMode instead of int. \"\n",
            "/usr/local/lib/python3.7/dist-packages/torchvision/transforms/transforms.py:288: UserWarning: Argument interpolation should be of type InterpolationMode instead of int. Please, use InterpolationMode enum.\n",
            "  \"Argument interpolation should be of type InterpolationMode instead of int. \"\n",
            "/usr/local/lib/python3.7/dist-packages/torchvision/transforms/transforms.py:288: UserWarning: Argument interpolation should be of type InterpolationMode instead of int. Please, use InterpolationMode enum.\n",
            "  \"Argument interpolation should be of type InterpolationMode instead of int. \"\n",
            "/usr/local/lib/python3.7/dist-packages/torchvision/transforms/transforms.py:288: UserWarning: Argument interpolation should be of type InterpolationMode instead of int. Please, use InterpolationMode enum.\n",
            "  \"Argument interpolation should be of type InterpolationMode instead of int. \"\n",
            "/usr/local/lib/python3.7/dist-packages/torchvision/transforms/transforms.py:288: UserWarning: Argument interpolation should be of type InterpolationMode instead of int. Please, use InterpolationMode enum.\n",
            "  \"Argument interpolation should be of type InterpolationMode instead of int. \"\n",
            "/usr/local/lib/python3.7/dist-packages/torchvision/transforms/transforms.py:288: UserWarning: Argument interpolation should be of type InterpolationMode instead of int. Please, use InterpolationMode enum.\n",
            "  \"Argument interpolation should be of type InterpolationMode instead of int. \"\n"
          ]
        },
        {
          "metadata": {
            "tags": null
          },
          "name": "stdout",
          "output_type": "stream",
          "text": [
            "\n",
            "Test set (736): Average loss: 0.6693, mIoU: 0.5670\n",
            "\n",
            "PSPnetLite training, epoch 33\n"
          ]
        },
        {
          "metadata": {
            "tags": null
          },
          "name": "stderr",
          "output_type": "stream",
          "text": [
            "/usr/local/lib/python3.7/dist-packages/torchvision/transforms/transforms.py:288: UserWarning: Argument interpolation should be of type InterpolationMode instead of int. Please, use InterpolationMode enum.\n",
            "  \"Argument interpolation should be of type InterpolationMode instead of int. \"\n",
            "/usr/local/lib/python3.7/dist-packages/torchvision/transforms/transforms.py:288: UserWarning: Argument interpolation should be of type InterpolationMode instead of int. Please, use InterpolationMode enum.\n",
            "  \"Argument interpolation should be of type InterpolationMode instead of int. \"\n",
            "/usr/local/lib/python3.7/dist-packages/torchvision/transforms/transforms.py:288: UserWarning: Argument interpolation should be of type InterpolationMode instead of int. Please, use InterpolationMode enum.\n",
            "  \"Argument interpolation should be of type InterpolationMode instead of int. \"\n",
            "/usr/local/lib/python3.7/dist-packages/torchvision/transforms/transforms.py:288: UserWarning: Argument interpolation should be of type InterpolationMode instead of int. Please, use InterpolationMode enum.\n",
            "  \"Argument interpolation should be of type InterpolationMode instead of int. \"\n",
            "/usr/local/lib/python3.7/dist-packages/torchvision/transforms/transforms.py:288: UserWarning: Argument interpolation should be of type InterpolationMode instead of int. Please, use InterpolationMode enum.\n",
            "  \"Argument interpolation should be of type InterpolationMode instead of int. \"\n",
            "/usr/local/lib/python3.7/dist-packages/torchvision/transforms/transforms.py:288: UserWarning: Argument interpolation should be of type InterpolationMode instead of int. Please, use InterpolationMode enum.\n",
            "  \"Argument interpolation should be of type InterpolationMode instead of int. \"\n",
            "/usr/local/lib/python3.7/dist-packages/torchvision/transforms/transforms.py:288: UserWarning: Argument interpolation should be of type InterpolationMode instead of int. Please, use InterpolationMode enum.\n",
            "  \"Argument interpolation should be of type InterpolationMode instead of int. \"\n",
            "/usr/local/lib/python3.7/dist-packages/torchvision/transforms/transforms.py:288: UserWarning: Argument interpolation should be of type InterpolationMode instead of int. Please, use InterpolationMode enum.\n",
            "  \"Argument interpolation should be of type InterpolationMode instead of int. \"\n"
          ]
        },
        {
          "metadata": {
            "tags": null
          },
          "name": "stdout",
          "output_type": "stream",
          "text": [
            "Train Epoch: 33 [240/8498 (3%)]\tLoss: 0.302265, Learning rate: 0.001000\n",
            "Train Epoch: 33 [480/8498 (6%)]\tLoss: 0.369309, Learning rate: 0.001000\n",
            "Train Epoch: 33 [720/8498 (8%)]\tLoss: 0.344987, Learning rate: 0.001000\n",
            "Train Epoch: 33 [960/8498 (11%)]\tLoss: 0.371412, Learning rate: 0.001000\n",
            "Train Epoch: 33 [1200/8498 (14%)]\tLoss: 0.526475, Learning rate: 0.001000\n",
            "Train Epoch: 33 [1440/8498 (17%)]\tLoss: 0.503065, Learning rate: 0.001000\n",
            "Train Epoch: 33 [1680/8498 (20%)]\tLoss: 0.422046, Learning rate: 0.001000\n",
            "Train Epoch: 33 [1920/8498 (23%)]\tLoss: 0.311740, Learning rate: 0.001000\n",
            "Train Epoch: 33 [2160/8498 (25%)]\tLoss: 0.438442, Learning rate: 0.001000\n",
            "Train Epoch: 33 [2400/8498 (28%)]\tLoss: 0.395752, Learning rate: 0.001000\n",
            "Train Epoch: 33 [2640/8498 (31%)]\tLoss: 0.444817, Learning rate: 0.001000\n",
            "Train Epoch: 33 [2880/8498 (34%)]\tLoss: 0.400128, Learning rate: 0.001000\n",
            "Train Epoch: 33 [3120/8498 (37%)]\tLoss: 0.221833, Learning rate: 0.001000\n",
            "Train Epoch: 33 [3360/8498 (39%)]\tLoss: 0.318124, Learning rate: 0.001000\n",
            "Train Epoch: 33 [3600/8498 (42%)]\tLoss: 0.240414, Learning rate: 0.001000\n",
            "Train Epoch: 33 [3840/8498 (45%)]\tLoss: 0.229256, Learning rate: 0.001000\n",
            "Train Epoch: 33 [4080/8498 (48%)]\tLoss: 0.269940, Learning rate: 0.001000\n",
            "Train Epoch: 33 [4320/8498 (51%)]\tLoss: 0.268166, Learning rate: 0.001000\n",
            "Train Epoch: 33 [4560/8498 (54%)]\tLoss: 0.346307, Learning rate: 0.001000\n",
            "Train Epoch: 33 [4800/8498 (56%)]\tLoss: 0.241703, Learning rate: 0.001000\n",
            "Train Epoch: 33 [5040/8498 (59%)]\tLoss: 0.392785, Learning rate: 0.001000\n",
            "Train Epoch: 33 [5280/8498 (62%)]\tLoss: 0.586065, Learning rate: 0.001000\n",
            "Train Epoch: 33 [5520/8498 (65%)]\tLoss: 0.283205, Learning rate: 0.001000\n",
            "Train Epoch: 33 [5760/8498 (68%)]\tLoss: 0.345688, Learning rate: 0.001000\n",
            "Train Epoch: 33 [6000/8498 (70%)]\tLoss: 0.271088, Learning rate: 0.001000\n",
            "Train Epoch: 33 [6240/8498 (73%)]\tLoss: 0.252297, Learning rate: 0.001000\n",
            "Train Epoch: 33 [6480/8498 (76%)]\tLoss: 0.275645, Learning rate: 0.001000\n",
            "Train Epoch: 33 [6720/8498 (79%)]\tLoss: 0.378933, Learning rate: 0.001000\n",
            "Train Epoch: 33 [6960/8498 (82%)]\tLoss: 0.315625, Learning rate: 0.001000\n",
            "Train Epoch: 33 [7200/8498 (85%)]\tLoss: 0.385590, Learning rate: 0.001000\n",
            "Train Epoch: 33 [7440/8498 (87%)]\tLoss: 0.421537, Learning rate: 0.001000\n",
            "Train Epoch: 33 [7680/8498 (90%)]\tLoss: 0.283974, Learning rate: 0.001000\n",
            "Train Epoch: 33 [7920/8498 (93%)]\tLoss: 0.230752, Learning rate: 0.001000\n",
            "Train Epoch: 33 [8160/8498 (96%)]\tLoss: 0.435655, Learning rate: 0.001000\n",
            "Train Epoch: 33 [8400/8498 (99%)]\tLoss: 0.329935, Learning rate: 0.001000\n"
          ]
        },
        {
          "metadata": {
            "tags": null
          },
          "name": "stderr",
          "output_type": "stream",
          "text": [
            "/usr/local/lib/python3.7/dist-packages/torchvision/transforms/transforms.py:288: UserWarning: Argument interpolation should be of type InterpolationMode instead of int. Please, use InterpolationMode enum.\n",
            "  \"Argument interpolation should be of type InterpolationMode instead of int. \"\n",
            "/usr/local/lib/python3.7/dist-packages/torchvision/transforms/transforms.py:288: UserWarning: Argument interpolation should be of type InterpolationMode instead of int. Please, use InterpolationMode enum.\n",
            "  \"Argument interpolation should be of type InterpolationMode instead of int. \"\n",
            "/usr/local/lib/python3.7/dist-packages/torchvision/transforms/transforms.py:288: UserWarning: Argument interpolation should be of type InterpolationMode instead of int. Please, use InterpolationMode enum.\n",
            "  \"Argument interpolation should be of type InterpolationMode instead of int. \"\n",
            "/usr/local/lib/python3.7/dist-packages/torchvision/transforms/transforms.py:288: UserWarning: Argument interpolation should be of type InterpolationMode instead of int. Please, use InterpolationMode enum.\n",
            "  \"Argument interpolation should be of type InterpolationMode instead of int. \"\n",
            "/usr/local/lib/python3.7/dist-packages/torchvision/transforms/transforms.py:288: UserWarning: Argument interpolation should be of type InterpolationMode instead of int. Please, use InterpolationMode enum.\n",
            "  \"Argument interpolation should be of type InterpolationMode instead of int. \"\n",
            "/usr/local/lib/python3.7/dist-packages/torchvision/transforms/transforms.py:288: UserWarning: Argument interpolation should be of type InterpolationMode instead of int. Please, use InterpolationMode enum.\n",
            "  \"Argument interpolation should be of type InterpolationMode instead of int. \"\n",
            "/usr/local/lib/python3.7/dist-packages/torchvision/transforms/transforms.py:288: UserWarning: Argument interpolation should be of type InterpolationMode instead of int. Please, use InterpolationMode enum.\n",
            "  \"Argument interpolation should be of type InterpolationMode instead of int. \"\n",
            "/usr/local/lib/python3.7/dist-packages/torchvision/transforms/transforms.py:288: UserWarning: Argument interpolation should be of type InterpolationMode instead of int. Please, use InterpolationMode enum.\n",
            "  \"Argument interpolation should be of type InterpolationMode instead of int. \"\n"
          ]
        },
        {
          "metadata": {
            "tags": null
          },
          "name": "stdout",
          "output_type": "stream",
          "text": [
            "\n",
            "Test set (736): Average loss: 0.6354, mIoU: 0.5820\n",
            "\n",
            "PSPnetLite training, epoch 34\n"
          ]
        },
        {
          "metadata": {
            "tags": null
          },
          "name": "stderr",
          "output_type": "stream",
          "text": [
            "/usr/local/lib/python3.7/dist-packages/torchvision/transforms/transforms.py:288: UserWarning: Argument interpolation should be of type InterpolationMode instead of int. Please, use InterpolationMode enum.\n",
            "  \"Argument interpolation should be of type InterpolationMode instead of int. \"\n",
            "/usr/local/lib/python3.7/dist-packages/torchvision/transforms/transforms.py:288: UserWarning: Argument interpolation should be of type InterpolationMode instead of int. Please, use InterpolationMode enum.\n",
            "  \"Argument interpolation should be of type InterpolationMode instead of int. \"\n",
            "/usr/local/lib/python3.7/dist-packages/torchvision/transforms/transforms.py:288: UserWarning: Argument interpolation should be of type InterpolationMode instead of int. Please, use InterpolationMode enum.\n",
            "  \"Argument interpolation should be of type InterpolationMode instead of int. \"\n",
            "/usr/local/lib/python3.7/dist-packages/torchvision/transforms/transforms.py:288: UserWarning: Argument interpolation should be of type InterpolationMode instead of int. Please, use InterpolationMode enum.\n",
            "  \"Argument interpolation should be of type InterpolationMode instead of int. \"\n",
            "/usr/local/lib/python3.7/dist-packages/torchvision/transforms/transforms.py:288: UserWarning: Argument interpolation should be of type InterpolationMode instead of int. Please, use InterpolationMode enum.\n",
            "  \"Argument interpolation should be of type InterpolationMode instead of int. \"\n",
            "/usr/local/lib/python3.7/dist-packages/torchvision/transforms/transforms.py:288: UserWarning: Argument interpolation should be of type InterpolationMode instead of int. Please, use InterpolationMode enum.\n",
            "  \"Argument interpolation should be of type InterpolationMode instead of int. \"\n",
            "/usr/local/lib/python3.7/dist-packages/torchvision/transforms/transforms.py:288: UserWarning: Argument interpolation should be of type InterpolationMode instead of int. Please, use InterpolationMode enum.\n",
            "  \"Argument interpolation should be of type InterpolationMode instead of int. \"\n",
            "/usr/local/lib/python3.7/dist-packages/torchvision/transforms/transforms.py:288: UserWarning: Argument interpolation should be of type InterpolationMode instead of int. Please, use InterpolationMode enum.\n",
            "  \"Argument interpolation should be of type InterpolationMode instead of int. \"\n"
          ]
        },
        {
          "metadata": {
            "tags": null
          },
          "name": "stdout",
          "output_type": "stream",
          "text": [
            "Train Epoch: 34 [240/8498 (3%)]\tLoss: 0.431057, Learning rate: 0.001000\n",
            "Train Epoch: 34 [480/8498 (6%)]\tLoss: 0.379691, Learning rate: 0.001000\n",
            "Train Epoch: 34 [720/8498 (8%)]\tLoss: 0.456853, Learning rate: 0.001000\n",
            "Train Epoch: 34 [960/8498 (11%)]\tLoss: 0.244996, Learning rate: 0.001000\n",
            "Train Epoch: 34 [1200/8498 (14%)]\tLoss: 0.278824, Learning rate: 0.001000\n",
            "Train Epoch: 34 [1440/8498 (17%)]\tLoss: 0.330447, Learning rate: 0.001000\n",
            "Train Epoch: 34 [1680/8498 (20%)]\tLoss: 0.278493, Learning rate: 0.001000\n",
            "Train Epoch: 34 [1920/8498 (23%)]\tLoss: 0.556927, Learning rate: 0.001000\n",
            "Train Epoch: 34 [2160/8498 (25%)]\tLoss: 0.306776, Learning rate: 0.001000\n",
            "Train Epoch: 34 [2400/8498 (28%)]\tLoss: 0.238514, Learning rate: 0.001000\n",
            "Train Epoch: 34 [2640/8498 (31%)]\tLoss: 0.206151, Learning rate: 0.001000\n",
            "Train Epoch: 34 [2880/8498 (34%)]\tLoss: 0.284756, Learning rate: 0.001000\n",
            "Train Epoch: 34 [3120/8498 (37%)]\tLoss: 0.359390, Learning rate: 0.001000\n",
            "Train Epoch: 34 [3360/8498 (39%)]\tLoss: 0.275760, Learning rate: 0.001000\n",
            "Train Epoch: 34 [3600/8498 (42%)]\tLoss: 0.329924, Learning rate: 0.001000\n",
            "Train Epoch: 34 [3840/8498 (45%)]\tLoss: 0.427709, Learning rate: 0.001000\n",
            "Train Epoch: 34 [4080/8498 (48%)]\tLoss: 0.447040, Learning rate: 0.001000\n",
            "Train Epoch: 34 [4320/8498 (51%)]\tLoss: 0.247245, Learning rate: 0.001000\n",
            "Train Epoch: 34 [4560/8498 (54%)]\tLoss: 0.215863, Learning rate: 0.001000\n",
            "Train Epoch: 34 [4800/8498 (56%)]\tLoss: 0.366429, Learning rate: 0.001000\n",
            "Train Epoch: 34 [5040/8498 (59%)]\tLoss: 0.253071, Learning rate: 0.001000\n",
            "Train Epoch: 34 [5280/8498 (62%)]\tLoss: 0.314589, Learning rate: 0.001000\n",
            "Train Epoch: 34 [5520/8498 (65%)]\tLoss: 0.401184, Learning rate: 0.001000\n",
            "Train Epoch: 34 [5760/8498 (68%)]\tLoss: 0.260503, Learning rate: 0.001000\n",
            "Train Epoch: 34 [6000/8498 (70%)]\tLoss: 0.278696, Learning rate: 0.001000\n",
            "Train Epoch: 34 [6240/8498 (73%)]\tLoss: 0.462516, Learning rate: 0.001000\n",
            "Train Epoch: 34 [6480/8498 (76%)]\tLoss: 0.283966, Learning rate: 0.001000\n",
            "Train Epoch: 34 [6720/8498 (79%)]\tLoss: 0.352276, Learning rate: 0.001000\n",
            "Train Epoch: 34 [6960/8498 (82%)]\tLoss: 0.271588, Learning rate: 0.001000\n",
            "Train Epoch: 34 [7200/8498 (85%)]\tLoss: 0.173375, Learning rate: 0.001000\n",
            "Train Epoch: 34 [7440/8498 (87%)]\tLoss: 0.276754, Learning rate: 0.001000\n",
            "Train Epoch: 34 [7680/8498 (90%)]\tLoss: 0.250443, Learning rate: 0.001000\n",
            "Train Epoch: 34 [7920/8498 (93%)]\tLoss: 0.393143, Learning rate: 0.001000\n",
            "Train Epoch: 34 [8160/8498 (96%)]\tLoss: 0.325996, Learning rate: 0.001000\n",
            "Train Epoch: 34 [8400/8498 (99%)]\tLoss: 0.350026, Learning rate: 0.001000\n"
          ]
        },
        {
          "metadata": {
            "tags": null
          },
          "name": "stderr",
          "output_type": "stream",
          "text": [
            "/usr/local/lib/python3.7/dist-packages/torchvision/transforms/transforms.py:288: UserWarning: Argument interpolation should be of type InterpolationMode instead of int. Please, use InterpolationMode enum.\n",
            "  \"Argument interpolation should be of type InterpolationMode instead of int. \"\n",
            "/usr/local/lib/python3.7/dist-packages/torchvision/transforms/transforms.py:288: UserWarning: Argument interpolation should be of type InterpolationMode instead of int. Please, use InterpolationMode enum.\n",
            "  \"Argument interpolation should be of type InterpolationMode instead of int. \"\n",
            "/usr/local/lib/python3.7/dist-packages/torchvision/transforms/transforms.py:288: UserWarning: Argument interpolation should be of type InterpolationMode instead of int. Please, use InterpolationMode enum.\n",
            "  \"Argument interpolation should be of type InterpolationMode instead of int. \"\n",
            "/usr/local/lib/python3.7/dist-packages/torchvision/transforms/transforms.py:288: UserWarning: Argument interpolation should be of type InterpolationMode instead of int. Please, use InterpolationMode enum.\n",
            "  \"Argument interpolation should be of type InterpolationMode instead of int. \"\n",
            "/usr/local/lib/python3.7/dist-packages/torchvision/transforms/transforms.py:288: UserWarning: Argument interpolation should be of type InterpolationMode instead of int. Please, use InterpolationMode enum.\n",
            "  \"Argument interpolation should be of type InterpolationMode instead of int. \"\n",
            "/usr/local/lib/python3.7/dist-packages/torchvision/transforms/transforms.py:288: UserWarning: Argument interpolation should be of type InterpolationMode instead of int. Please, use InterpolationMode enum.\n",
            "  \"Argument interpolation should be of type InterpolationMode instead of int. \"\n",
            "/usr/local/lib/python3.7/dist-packages/torchvision/transforms/transforms.py:288: UserWarning: Argument interpolation should be of type InterpolationMode instead of int. Please, use InterpolationMode enum.\n",
            "  \"Argument interpolation should be of type InterpolationMode instead of int. \"\n",
            "/usr/local/lib/python3.7/dist-packages/torchvision/transforms/transforms.py:288: UserWarning: Argument interpolation should be of type InterpolationMode instead of int. Please, use InterpolationMode enum.\n",
            "  \"Argument interpolation should be of type InterpolationMode instead of int. \"\n"
          ]
        },
        {
          "metadata": {
            "tags": null
          },
          "name": "stdout",
          "output_type": "stream",
          "text": [
            "\n",
            "Test set (736): Average loss: 0.6403, mIoU: 0.5824\n",
            "\n",
            "PSPnetLite training, epoch 35\n"
          ]
        },
        {
          "metadata": {
            "tags": null
          },
          "name": "stderr",
          "output_type": "stream",
          "text": [
            "/usr/local/lib/python3.7/dist-packages/torchvision/transforms/transforms.py:288: UserWarning: Argument interpolation should be of type InterpolationMode instead of int. Please, use InterpolationMode enum.\n",
            "  \"Argument interpolation should be of type InterpolationMode instead of int. \"\n",
            "/usr/local/lib/python3.7/dist-packages/torchvision/transforms/transforms.py:288: UserWarning: Argument interpolation should be of type InterpolationMode instead of int. Please, use InterpolationMode enum.\n",
            "  \"Argument interpolation should be of type InterpolationMode instead of int. \"\n",
            "/usr/local/lib/python3.7/dist-packages/torchvision/transforms/transforms.py:288: UserWarning: Argument interpolation should be of type InterpolationMode instead of int. Please, use InterpolationMode enum.\n",
            "  \"Argument interpolation should be of type InterpolationMode instead of int. \"\n",
            "/usr/local/lib/python3.7/dist-packages/torchvision/transforms/transforms.py:288: UserWarning: Argument interpolation should be of type InterpolationMode instead of int. Please, use InterpolationMode enum.\n",
            "  \"Argument interpolation should be of type InterpolationMode instead of int. \"\n",
            "/usr/local/lib/python3.7/dist-packages/torchvision/transforms/transforms.py:288: UserWarning: Argument interpolation should be of type InterpolationMode instead of int. Please, use InterpolationMode enum.\n",
            "  \"Argument interpolation should be of type InterpolationMode instead of int. \"\n",
            "/usr/local/lib/python3.7/dist-packages/torchvision/transforms/transforms.py:288: UserWarning: Argument interpolation should be of type InterpolationMode instead of int. Please, use InterpolationMode enum.\n",
            "  \"Argument interpolation should be of type InterpolationMode instead of int. \"\n",
            "/usr/local/lib/python3.7/dist-packages/torchvision/transforms/transforms.py:288: UserWarning: Argument interpolation should be of type InterpolationMode instead of int. Please, use InterpolationMode enum.\n",
            "  \"Argument interpolation should be of type InterpolationMode instead of int. \"\n",
            "/usr/local/lib/python3.7/dist-packages/torchvision/transforms/transforms.py:288: UserWarning: Argument interpolation should be of type InterpolationMode instead of int. Please, use InterpolationMode enum.\n",
            "  \"Argument interpolation should be of type InterpolationMode instead of int. \"\n"
          ]
        },
        {
          "metadata": {
            "tags": null
          },
          "name": "stdout",
          "output_type": "stream",
          "text": [
            "Train Epoch: 35 [240/8498 (3%)]\tLoss: 0.314744, Learning rate: 0.001000\n",
            "Train Epoch: 35 [480/8498 (6%)]\tLoss: 0.217123, Learning rate: 0.001000\n",
            "Train Epoch: 35 [720/8498 (8%)]\tLoss: 0.383232, Learning rate: 0.001000\n",
            "Train Epoch: 35 [960/8498 (11%)]\tLoss: 0.320095, Learning rate: 0.001000\n",
            "Train Epoch: 35 [1200/8498 (14%)]\tLoss: 0.297093, Learning rate: 0.001000\n",
            "Train Epoch: 35 [1440/8498 (17%)]\tLoss: 0.297456, Learning rate: 0.001000\n",
            "Train Epoch: 35 [1680/8498 (20%)]\tLoss: 0.310239, Learning rate: 0.001000\n",
            "Train Epoch: 35 [1920/8498 (23%)]\tLoss: 0.549371, Learning rate: 0.001000\n",
            "Train Epoch: 35 [2160/8498 (25%)]\tLoss: 0.357395, Learning rate: 0.001000\n",
            "Train Epoch: 35 [2400/8498 (28%)]\tLoss: 0.261214, Learning rate: 0.001000\n",
            "Train Epoch: 35 [2640/8498 (31%)]\tLoss: 0.305311, Learning rate: 0.001000\n",
            "Train Epoch: 35 [2880/8498 (34%)]\tLoss: 0.425130, Learning rate: 0.001000\n",
            "Train Epoch: 35 [3120/8498 (37%)]\tLoss: 0.309945, Learning rate: 0.001000\n",
            "Train Epoch: 35 [3360/8498 (39%)]\tLoss: 0.291624, Learning rate: 0.001000\n",
            "Train Epoch: 35 [3600/8498 (42%)]\tLoss: 0.311733, Learning rate: 0.001000\n",
            "Train Epoch: 35 [3840/8498 (45%)]\tLoss: 0.262968, Learning rate: 0.001000\n",
            "Train Epoch: 35 [4080/8498 (48%)]\tLoss: 0.217611, Learning rate: 0.001000\n",
            "Train Epoch: 35 [4320/8498 (51%)]\tLoss: 0.249436, Learning rate: 0.001000\n",
            "Train Epoch: 35 [4560/8498 (54%)]\tLoss: 0.382890, Learning rate: 0.001000\n",
            "Train Epoch: 35 [4800/8498 (56%)]\tLoss: 0.381991, Learning rate: 0.001000\n",
            "Train Epoch: 35 [5040/8498 (59%)]\tLoss: 0.248516, Learning rate: 0.001000\n",
            "Train Epoch: 35 [5280/8498 (62%)]\tLoss: 0.272170, Learning rate: 0.001000\n",
            "Train Epoch: 35 [5520/8498 (65%)]\tLoss: 0.328824, Learning rate: 0.001000\n",
            "Train Epoch: 35 [5760/8498 (68%)]\tLoss: 0.265693, Learning rate: 0.001000\n",
            "Train Epoch: 35 [6000/8498 (70%)]\tLoss: 0.392716, Learning rate: 0.001000\n",
            "Train Epoch: 35 [6240/8498 (73%)]\tLoss: 0.319493, Learning rate: 0.001000\n",
            "Train Epoch: 35 [6480/8498 (76%)]\tLoss: 0.209384, Learning rate: 0.001000\n",
            "Train Epoch: 35 [6720/8498 (79%)]\tLoss: 0.240700, Learning rate: 0.001000\n",
            "Train Epoch: 35 [6960/8498 (82%)]\tLoss: 0.286509, Learning rate: 0.001000\n",
            "Train Epoch: 35 [7200/8498 (85%)]\tLoss: 0.419778, Learning rate: 0.001000\n",
            "Train Epoch: 35 [7440/8498 (87%)]\tLoss: 0.458919, Learning rate: 0.001000\n",
            "Train Epoch: 35 [7680/8498 (90%)]\tLoss: 0.267453, Learning rate: 0.001000\n",
            "Train Epoch: 35 [7920/8498 (93%)]\tLoss: 0.283382, Learning rate: 0.001000\n",
            "Train Epoch: 35 [8160/8498 (96%)]\tLoss: 0.320797, Learning rate: 0.001000\n",
            "Train Epoch: 35 [8400/8498 (99%)]\tLoss: 0.244590, Learning rate: 0.001000\n"
          ]
        },
        {
          "metadata": {
            "tags": null
          },
          "name": "stderr",
          "output_type": "stream",
          "text": [
            "/usr/local/lib/python3.7/dist-packages/torchvision/transforms/transforms.py:288: UserWarning: Argument interpolation should be of type InterpolationMode instead of int. Please, use InterpolationMode enum.\n",
            "  \"Argument interpolation should be of type InterpolationMode instead of int. \"\n",
            "/usr/local/lib/python3.7/dist-packages/torchvision/transforms/transforms.py:288: UserWarning: Argument interpolation should be of type InterpolationMode instead of int. Please, use InterpolationMode enum.\n",
            "  \"Argument interpolation should be of type InterpolationMode instead of int. \"\n",
            "/usr/local/lib/python3.7/dist-packages/torchvision/transforms/transforms.py:288: UserWarning: Argument interpolation should be of type InterpolationMode instead of int. Please, use InterpolationMode enum.\n",
            "  \"Argument interpolation should be of type InterpolationMode instead of int. \"\n",
            "/usr/local/lib/python3.7/dist-packages/torchvision/transforms/transforms.py:288: UserWarning: Argument interpolation should be of type InterpolationMode instead of int. Please, use InterpolationMode enum.\n",
            "  \"Argument interpolation should be of type InterpolationMode instead of int. \"\n",
            "/usr/local/lib/python3.7/dist-packages/torchvision/transforms/transforms.py:288: UserWarning: Argument interpolation should be of type InterpolationMode instead of int. Please, use InterpolationMode enum.\n",
            "  \"Argument interpolation should be of type InterpolationMode instead of int. \"\n",
            "/usr/local/lib/python3.7/dist-packages/torchvision/transforms/transforms.py:288: UserWarning: Argument interpolation should be of type InterpolationMode instead of int. Please, use InterpolationMode enum.\n",
            "  \"Argument interpolation should be of type InterpolationMode instead of int. \"\n",
            "/usr/local/lib/python3.7/dist-packages/torchvision/transforms/transforms.py:288: UserWarning: Argument interpolation should be of type InterpolationMode instead of int. Please, use InterpolationMode enum.\n",
            "  \"Argument interpolation should be of type InterpolationMode instead of int. \"\n",
            "/usr/local/lib/python3.7/dist-packages/torchvision/transforms/transforms.py:288: UserWarning: Argument interpolation should be of type InterpolationMode instead of int. Please, use InterpolationMode enum.\n",
            "  \"Argument interpolation should be of type InterpolationMode instead of int. \"\n"
          ]
        },
        {
          "metadata": {
            "tags": null
          },
          "name": "stdout",
          "output_type": "stream",
          "text": [
            "\n",
            "Test set (736): Average loss: 0.5968, mIoU: 0.5860\n",
            "\n",
            "PSPnetLite training, epoch 36\n"
          ]
        },
        {
          "metadata": {
            "tags": null
          },
          "name": "stderr",
          "output_type": "stream",
          "text": [
            "/usr/local/lib/python3.7/dist-packages/torchvision/transforms/transforms.py:288: UserWarning: Argument interpolation should be of type InterpolationMode instead of int. Please, use InterpolationMode enum.\n",
            "  \"Argument interpolation should be of type InterpolationMode instead of int. \"\n",
            "/usr/local/lib/python3.7/dist-packages/torchvision/transforms/transforms.py:288: UserWarning: Argument interpolation should be of type InterpolationMode instead of int. Please, use InterpolationMode enum.\n",
            "  \"Argument interpolation should be of type InterpolationMode instead of int. \"\n",
            "/usr/local/lib/python3.7/dist-packages/torchvision/transforms/transforms.py:288: UserWarning: Argument interpolation should be of type InterpolationMode instead of int. Please, use InterpolationMode enum.\n",
            "  \"Argument interpolation should be of type InterpolationMode instead of int. \"\n",
            "/usr/local/lib/python3.7/dist-packages/torchvision/transforms/transforms.py:288: UserWarning: Argument interpolation should be of type InterpolationMode instead of int. Please, use InterpolationMode enum.\n",
            "  \"Argument interpolation should be of type InterpolationMode instead of int. \"\n",
            "/usr/local/lib/python3.7/dist-packages/torchvision/transforms/transforms.py:288: UserWarning: Argument interpolation should be of type InterpolationMode instead of int. Please, use InterpolationMode enum.\n",
            "  \"Argument interpolation should be of type InterpolationMode instead of int. \"\n",
            "/usr/local/lib/python3.7/dist-packages/torchvision/transforms/transforms.py:288: UserWarning: Argument interpolation should be of type InterpolationMode instead of int. Please, use InterpolationMode enum.\n",
            "  \"Argument interpolation should be of type InterpolationMode instead of int. \"\n",
            "/usr/local/lib/python3.7/dist-packages/torchvision/transforms/transforms.py:288: UserWarning: Argument interpolation should be of type InterpolationMode instead of int. Please, use InterpolationMode enum.\n",
            "  \"Argument interpolation should be of type InterpolationMode instead of int. \"\n",
            "/usr/local/lib/python3.7/dist-packages/torchvision/transforms/transforms.py:288: UserWarning: Argument interpolation should be of type InterpolationMode instead of int. Please, use InterpolationMode enum.\n",
            "  \"Argument interpolation should be of type InterpolationMode instead of int. \"\n"
          ]
        },
        {
          "metadata": {
            "tags": null
          },
          "name": "stdout",
          "output_type": "stream",
          "text": [
            "Train Epoch: 36 [240/8498 (3%)]\tLoss: 0.336039, Learning rate: 0.001000\n",
            "Train Epoch: 36 [480/8498 (6%)]\tLoss: 0.287306, Learning rate: 0.001000\n",
            "Train Epoch: 36 [720/8498 (8%)]\tLoss: 0.402437, Learning rate: 0.001000\n",
            "Train Epoch: 36 [960/8498 (11%)]\tLoss: 0.287470, Learning rate: 0.001000\n",
            "Train Epoch: 36 [1200/8498 (14%)]\tLoss: 0.393275, Learning rate: 0.001000\n",
            "Train Epoch: 36 [1440/8498 (17%)]\tLoss: 0.221786, Learning rate: 0.001000\n",
            "Train Epoch: 36 [1680/8498 (20%)]\tLoss: 0.289274, Learning rate: 0.001000\n",
            "Train Epoch: 36 [1920/8498 (23%)]\tLoss: 0.336642, Learning rate: 0.001000\n",
            "Train Epoch: 36 [2160/8498 (25%)]\tLoss: 0.391555, Learning rate: 0.001000\n",
            "Train Epoch: 36 [2400/8498 (28%)]\tLoss: 0.379740, Learning rate: 0.001000\n",
            "Train Epoch: 36 [2640/8498 (31%)]\tLoss: 0.298283, Learning rate: 0.001000\n",
            "Train Epoch: 36 [2880/8498 (34%)]\tLoss: 0.227894, Learning rate: 0.001000\n",
            "Train Epoch: 36 [3120/8498 (37%)]\tLoss: 0.232216, Learning rate: 0.001000\n",
            "Train Epoch: 36 [3360/8498 (39%)]\tLoss: 0.270147, Learning rate: 0.001000\n",
            "Train Epoch: 36 [3600/8498 (42%)]\tLoss: 0.361279, Learning rate: 0.001000\n",
            "Train Epoch: 36 [3840/8498 (45%)]\tLoss: 0.182260, Learning rate: 0.001000\n",
            "Train Epoch: 36 [4080/8498 (48%)]\tLoss: 0.302972, Learning rate: 0.001000\n",
            "Train Epoch: 36 [4320/8498 (51%)]\tLoss: 0.231493, Learning rate: 0.001000\n",
            "Train Epoch: 36 [4560/8498 (54%)]\tLoss: 0.238620, Learning rate: 0.001000\n",
            "Train Epoch: 36 [4800/8498 (56%)]\tLoss: 0.289051, Learning rate: 0.001000\n",
            "Train Epoch: 36 [5040/8498 (59%)]\tLoss: 0.306210, Learning rate: 0.001000\n",
            "Train Epoch: 36 [5280/8498 (62%)]\tLoss: 0.327534, Learning rate: 0.001000\n",
            "Train Epoch: 36 [5520/8498 (65%)]\tLoss: 0.572003, Learning rate: 0.001000\n",
            "Train Epoch: 36 [5760/8498 (68%)]\tLoss: 0.258656, Learning rate: 0.001000\n",
            "Train Epoch: 36 [6000/8498 (70%)]\tLoss: 0.358243, Learning rate: 0.001000\n",
            "Train Epoch: 36 [6240/8498 (73%)]\tLoss: 0.300599, Learning rate: 0.001000\n",
            "Train Epoch: 36 [6480/8498 (76%)]\tLoss: 0.182799, Learning rate: 0.001000\n",
            "Train Epoch: 36 [6720/8498 (79%)]\tLoss: 0.334004, Learning rate: 0.001000\n",
            "Train Epoch: 36 [6960/8498 (82%)]\tLoss: 0.337931, Learning rate: 0.001000\n",
            "Train Epoch: 36 [7200/8498 (85%)]\tLoss: 0.375202, Learning rate: 0.001000\n",
            "Train Epoch: 36 [7440/8498 (87%)]\tLoss: 0.332198, Learning rate: 0.001000\n",
            "Train Epoch: 36 [7680/8498 (90%)]\tLoss: 0.308711, Learning rate: 0.001000\n",
            "Train Epoch: 36 [7920/8498 (93%)]\tLoss: 0.197815, Learning rate: 0.001000\n",
            "Train Epoch: 36 [8160/8498 (96%)]\tLoss: 0.213059, Learning rate: 0.001000\n",
            "Train Epoch: 36 [8400/8498 (99%)]\tLoss: 0.227427, Learning rate: 0.001000\n"
          ]
        },
        {
          "metadata": {
            "tags": null
          },
          "name": "stderr",
          "output_type": "stream",
          "text": [
            "/usr/local/lib/python3.7/dist-packages/torchvision/transforms/transforms.py:288: UserWarning: Argument interpolation should be of type InterpolationMode instead of int. Please, use InterpolationMode enum.\n",
            "  \"Argument interpolation should be of type InterpolationMode instead of int. \"\n",
            "/usr/local/lib/python3.7/dist-packages/torchvision/transforms/transforms.py:288: UserWarning: Argument interpolation should be of type InterpolationMode instead of int. Please, use InterpolationMode enum.\n",
            "  \"Argument interpolation should be of type InterpolationMode instead of int. \"\n",
            "/usr/local/lib/python3.7/dist-packages/torchvision/transforms/transforms.py:288: UserWarning: Argument interpolation should be of type InterpolationMode instead of int. Please, use InterpolationMode enum.\n",
            "  \"Argument interpolation should be of type InterpolationMode instead of int. \"\n",
            "/usr/local/lib/python3.7/dist-packages/torchvision/transforms/transforms.py:288: UserWarning: Argument interpolation should be of type InterpolationMode instead of int. Please, use InterpolationMode enum.\n",
            "  \"Argument interpolation should be of type InterpolationMode instead of int. \"\n",
            "/usr/local/lib/python3.7/dist-packages/torchvision/transforms/transforms.py:288: UserWarning: Argument interpolation should be of type InterpolationMode instead of int. Please, use InterpolationMode enum.\n",
            "  \"Argument interpolation should be of type InterpolationMode instead of int. \"\n",
            "/usr/local/lib/python3.7/dist-packages/torchvision/transforms/transforms.py:288: UserWarning: Argument interpolation should be of type InterpolationMode instead of int. Please, use InterpolationMode enum.\n",
            "  \"Argument interpolation should be of type InterpolationMode instead of int. \"\n",
            "/usr/local/lib/python3.7/dist-packages/torchvision/transforms/transforms.py:288: UserWarning: Argument interpolation should be of type InterpolationMode instead of int. Please, use InterpolationMode enum.\n",
            "  \"Argument interpolation should be of type InterpolationMode instead of int. \"\n",
            "/usr/local/lib/python3.7/dist-packages/torchvision/transforms/transforms.py:288: UserWarning: Argument interpolation should be of type InterpolationMode instead of int. Please, use InterpolationMode enum.\n",
            "  \"Argument interpolation should be of type InterpolationMode instead of int. \"\n"
          ]
        },
        {
          "metadata": {
            "tags": null
          },
          "name": "stdout",
          "output_type": "stream",
          "text": [
            "\n",
            "Test set (736): Average loss: 0.6257, mIoU: 0.5805\n",
            "\n",
            "PSPnetLite training, epoch 37\n"
          ]
        },
        {
          "metadata": {
            "tags": null
          },
          "name": "stderr",
          "output_type": "stream",
          "text": [
            "/usr/local/lib/python3.7/dist-packages/torchvision/transforms/transforms.py:288: UserWarning: Argument interpolation should be of type InterpolationMode instead of int. Please, use InterpolationMode enum.\n",
            "  \"Argument interpolation should be of type InterpolationMode instead of int. \"\n",
            "/usr/local/lib/python3.7/dist-packages/torchvision/transforms/transforms.py:288: UserWarning: Argument interpolation should be of type InterpolationMode instead of int. Please, use InterpolationMode enum.\n",
            "  \"Argument interpolation should be of type InterpolationMode instead of int. \"\n",
            "/usr/local/lib/python3.7/dist-packages/torchvision/transforms/transforms.py:288: UserWarning: Argument interpolation should be of type InterpolationMode instead of int. Please, use InterpolationMode enum.\n",
            "  \"Argument interpolation should be of type InterpolationMode instead of int. \"\n",
            "/usr/local/lib/python3.7/dist-packages/torchvision/transforms/transforms.py:288: UserWarning: Argument interpolation should be of type InterpolationMode instead of int. Please, use InterpolationMode enum.\n",
            "  \"Argument interpolation should be of type InterpolationMode instead of int. \"\n",
            "/usr/local/lib/python3.7/dist-packages/torchvision/transforms/transforms.py:288: UserWarning: Argument interpolation should be of type InterpolationMode instead of int. Please, use InterpolationMode enum.\n",
            "  \"Argument interpolation should be of type InterpolationMode instead of int. \"\n",
            "/usr/local/lib/python3.7/dist-packages/torchvision/transforms/transforms.py:288: UserWarning: Argument interpolation should be of type InterpolationMode instead of int. Please, use InterpolationMode enum.\n",
            "  \"Argument interpolation should be of type InterpolationMode instead of int. \"\n",
            "/usr/local/lib/python3.7/dist-packages/torchvision/transforms/transforms.py:288: UserWarning: Argument interpolation should be of type InterpolationMode instead of int. Please, use InterpolationMode enum.\n",
            "  \"Argument interpolation should be of type InterpolationMode instead of int. \"\n",
            "/usr/local/lib/python3.7/dist-packages/torchvision/transforms/transforms.py:288: UserWarning: Argument interpolation should be of type InterpolationMode instead of int. Please, use InterpolationMode enum.\n",
            "  \"Argument interpolation should be of type InterpolationMode instead of int. \"\n"
          ]
        },
        {
          "metadata": {
            "tags": null
          },
          "name": "stdout",
          "output_type": "stream",
          "text": [
            "Train Epoch: 37 [240/8498 (3%)]\tLoss: 0.538394, Learning rate: 0.001000\n",
            "Train Epoch: 37 [480/8498 (6%)]\tLoss: 0.318965, Learning rate: 0.001000\n",
            "Train Epoch: 37 [720/8498 (8%)]\tLoss: 0.305740, Learning rate: 0.001000\n",
            "Train Epoch: 37 [960/8498 (11%)]\tLoss: 0.497333, Learning rate: 0.001000\n",
            "Train Epoch: 37 [1200/8498 (14%)]\tLoss: 0.330848, Learning rate: 0.001000\n",
            "Train Epoch: 37 [1440/8498 (17%)]\tLoss: 0.287044, Learning rate: 0.001000\n",
            "Train Epoch: 37 [1680/8498 (20%)]\tLoss: 0.282935, Learning rate: 0.001000\n",
            "Train Epoch: 37 [1920/8498 (23%)]\tLoss: 0.269844, Learning rate: 0.001000\n",
            "Train Epoch: 37 [2160/8498 (25%)]\tLoss: 0.352078, Learning rate: 0.001000\n",
            "Train Epoch: 37 [2400/8498 (28%)]\tLoss: 0.327577, Learning rate: 0.001000\n",
            "Train Epoch: 37 [2640/8498 (31%)]\tLoss: 0.248373, Learning rate: 0.001000\n",
            "Train Epoch: 37 [2880/8498 (34%)]\tLoss: 0.256929, Learning rate: 0.001000\n",
            "Train Epoch: 37 [3120/8498 (37%)]\tLoss: 0.303629, Learning rate: 0.001000\n",
            "Train Epoch: 37 [3360/8498 (39%)]\tLoss: 0.284641, Learning rate: 0.001000\n",
            "Train Epoch: 37 [3600/8498 (42%)]\tLoss: 0.298823, Learning rate: 0.001000\n",
            "Train Epoch: 37 [3840/8498 (45%)]\tLoss: 0.285245, Learning rate: 0.001000\n",
            "Train Epoch: 37 [4080/8498 (48%)]\tLoss: 0.295051, Learning rate: 0.001000\n",
            "Train Epoch: 37 [4320/8498 (51%)]\tLoss: 0.247961, Learning rate: 0.001000\n",
            "Train Epoch: 37 [4560/8498 (54%)]\tLoss: 0.276667, Learning rate: 0.001000\n",
            "Train Epoch: 37 [4800/8498 (56%)]\tLoss: 0.410207, Learning rate: 0.001000\n",
            "Train Epoch: 37 [5040/8498 (59%)]\tLoss: 0.240170, Learning rate: 0.001000\n",
            "Train Epoch: 37 [5280/8498 (62%)]\tLoss: 0.266148, Learning rate: 0.001000\n",
            "Train Epoch: 37 [5520/8498 (65%)]\tLoss: 0.344540, Learning rate: 0.001000\n",
            "Train Epoch: 37 [5760/8498 (68%)]\tLoss: 0.235973, Learning rate: 0.001000\n",
            "Train Epoch: 37 [6000/8498 (70%)]\tLoss: 0.376587, Learning rate: 0.001000\n",
            "Train Epoch: 37 [6240/8498 (73%)]\tLoss: 0.301089, Learning rate: 0.001000\n",
            "Train Epoch: 37 [6480/8498 (76%)]\tLoss: 0.276371, Learning rate: 0.001000\n",
            "Train Epoch: 37 [6720/8498 (79%)]\tLoss: 0.335947, Learning rate: 0.001000\n",
            "Train Epoch: 37 [6960/8498 (82%)]\tLoss: 0.359567, Learning rate: 0.001000\n",
            "Train Epoch: 37 [7200/8498 (85%)]\tLoss: 0.203566, Learning rate: 0.001000\n",
            "Train Epoch: 37 [7440/8498 (87%)]\tLoss: 0.407070, Learning rate: 0.001000\n",
            "Train Epoch: 37 [7680/8498 (90%)]\tLoss: 0.269947, Learning rate: 0.001000\n",
            "Train Epoch: 37 [7920/8498 (93%)]\tLoss: 0.351424, Learning rate: 0.001000\n",
            "Train Epoch: 37 [8160/8498 (96%)]\tLoss: 0.464328, Learning rate: 0.001000\n",
            "Train Epoch: 37 [8400/8498 (99%)]\tLoss: 0.344156, Learning rate: 0.001000\n"
          ]
        },
        {
          "metadata": {
            "tags": null
          },
          "name": "stderr",
          "output_type": "stream",
          "text": [
            "/usr/local/lib/python3.7/dist-packages/torchvision/transforms/transforms.py:288: UserWarning: Argument interpolation should be of type InterpolationMode instead of int. Please, use InterpolationMode enum.\n",
            "  \"Argument interpolation should be of type InterpolationMode instead of int. \"\n",
            "/usr/local/lib/python3.7/dist-packages/torchvision/transforms/transforms.py:288: UserWarning: Argument interpolation should be of type InterpolationMode instead of int. Please, use InterpolationMode enum.\n",
            "  \"Argument interpolation should be of type InterpolationMode instead of int. \"\n",
            "/usr/local/lib/python3.7/dist-packages/torchvision/transforms/transforms.py:288: UserWarning: Argument interpolation should be of type InterpolationMode instead of int. Please, use InterpolationMode enum.\n",
            "  \"Argument interpolation should be of type InterpolationMode instead of int. \"\n",
            "/usr/local/lib/python3.7/dist-packages/torchvision/transforms/transforms.py:288: UserWarning: Argument interpolation should be of type InterpolationMode instead of int. Please, use InterpolationMode enum.\n",
            "  \"Argument interpolation should be of type InterpolationMode instead of int. \"\n",
            "/usr/local/lib/python3.7/dist-packages/torchvision/transforms/transforms.py:288: UserWarning: Argument interpolation should be of type InterpolationMode instead of int. Please, use InterpolationMode enum.\n",
            "  \"Argument interpolation should be of type InterpolationMode instead of int. \"\n",
            "/usr/local/lib/python3.7/dist-packages/torchvision/transforms/transforms.py:288: UserWarning: Argument interpolation should be of type InterpolationMode instead of int. Please, use InterpolationMode enum.\n",
            "  \"Argument interpolation should be of type InterpolationMode instead of int. \"\n",
            "/usr/local/lib/python3.7/dist-packages/torchvision/transforms/transforms.py:288: UserWarning: Argument interpolation should be of type InterpolationMode instead of int. Please, use InterpolationMode enum.\n",
            "  \"Argument interpolation should be of type InterpolationMode instead of int. \"\n",
            "/usr/local/lib/python3.7/dist-packages/torchvision/transforms/transforms.py:288: UserWarning: Argument interpolation should be of type InterpolationMode instead of int. Please, use InterpolationMode enum.\n",
            "  \"Argument interpolation should be of type InterpolationMode instead of int. \"\n"
          ]
        },
        {
          "metadata": {
            "tags": null
          },
          "name": "stdout",
          "output_type": "stream",
          "text": [
            "\n",
            "Test set (736): Average loss: 0.6211, mIoU: 0.5884\n",
            "\n",
            "PSPnetLite training, epoch 38\n"
          ]
        },
        {
          "metadata": {
            "tags": null
          },
          "name": "stderr",
          "output_type": "stream",
          "text": [
            "/usr/local/lib/python3.7/dist-packages/torchvision/transforms/transforms.py:288: UserWarning: Argument interpolation should be of type InterpolationMode instead of int. Please, use InterpolationMode enum.\n",
            "  \"Argument interpolation should be of type InterpolationMode instead of int. \"\n",
            "/usr/local/lib/python3.7/dist-packages/torchvision/transforms/transforms.py:288: UserWarning: Argument interpolation should be of type InterpolationMode instead of int. Please, use InterpolationMode enum.\n",
            "  \"Argument interpolation should be of type InterpolationMode instead of int. \"\n",
            "/usr/local/lib/python3.7/dist-packages/torchvision/transforms/transforms.py:288: UserWarning: Argument interpolation should be of type InterpolationMode instead of int. Please, use InterpolationMode enum.\n",
            "  \"Argument interpolation should be of type InterpolationMode instead of int. \"\n",
            "/usr/local/lib/python3.7/dist-packages/torchvision/transforms/transforms.py:288: UserWarning: Argument interpolation should be of type InterpolationMode instead of int. Please, use InterpolationMode enum.\n",
            "  \"Argument interpolation should be of type InterpolationMode instead of int. \"\n",
            "/usr/local/lib/python3.7/dist-packages/torchvision/transforms/transforms.py:288: UserWarning: Argument interpolation should be of type InterpolationMode instead of int. Please, use InterpolationMode enum.\n",
            "  \"Argument interpolation should be of type InterpolationMode instead of int. \"\n",
            "/usr/local/lib/python3.7/dist-packages/torchvision/transforms/transforms.py:288: UserWarning: Argument interpolation should be of type InterpolationMode instead of int. Please, use InterpolationMode enum.\n",
            "  \"Argument interpolation should be of type InterpolationMode instead of int. \"\n",
            "/usr/local/lib/python3.7/dist-packages/torchvision/transforms/transforms.py:288: UserWarning: Argument interpolation should be of type InterpolationMode instead of int. Please, use InterpolationMode enum.\n",
            "  \"Argument interpolation should be of type InterpolationMode instead of int. \"\n",
            "/usr/local/lib/python3.7/dist-packages/torchvision/transforms/transforms.py:288: UserWarning: Argument interpolation should be of type InterpolationMode instead of int. Please, use InterpolationMode enum.\n",
            "  \"Argument interpolation should be of type InterpolationMode instead of int. \"\n"
          ]
        },
        {
          "metadata": {
            "tags": null
          },
          "name": "stdout",
          "output_type": "stream",
          "text": [
            "Train Epoch: 38 [240/8498 (3%)]\tLoss: 0.288896, Learning rate: 0.001000\n",
            "Train Epoch: 38 [480/8498 (6%)]\tLoss: 0.326743, Learning rate: 0.001000\n",
            "Train Epoch: 38 [720/8498 (8%)]\tLoss: 0.290252, Learning rate: 0.001000\n",
            "Train Epoch: 38 [960/8498 (11%)]\tLoss: 0.292395, Learning rate: 0.001000\n",
            "Train Epoch: 38 [1200/8498 (14%)]\tLoss: 0.216334, Learning rate: 0.001000\n",
            "Train Epoch: 38 [1440/8498 (17%)]\tLoss: 0.265037, Learning rate: 0.001000\n",
            "Train Epoch: 38 [1680/8498 (20%)]\tLoss: 0.277709, Learning rate: 0.001000\n",
            "Train Epoch: 38 [1920/8498 (23%)]\tLoss: 0.357298, Learning rate: 0.001000\n",
            "Train Epoch: 38 [2160/8498 (25%)]\tLoss: 0.362510, Learning rate: 0.001000\n",
            "Train Epoch: 38 [2400/8498 (28%)]\tLoss: 0.239272, Learning rate: 0.001000\n",
            "Train Epoch: 38 [2640/8498 (31%)]\tLoss: 0.340274, Learning rate: 0.001000\n",
            "Train Epoch: 38 [2880/8498 (34%)]\tLoss: 0.270187, Learning rate: 0.001000\n",
            "Train Epoch: 38 [3120/8498 (37%)]\tLoss: 0.241067, Learning rate: 0.001000\n",
            "Train Epoch: 38 [3360/8498 (39%)]\tLoss: 0.249905, Learning rate: 0.001000\n",
            "Train Epoch: 38 [3600/8498 (42%)]\tLoss: 0.275398, Learning rate: 0.001000\n",
            "Train Epoch: 38 [3840/8498 (45%)]\tLoss: 0.218623, Learning rate: 0.001000\n",
            "Train Epoch: 38 [4080/8498 (48%)]\tLoss: 0.255939, Learning rate: 0.001000\n",
            "Train Epoch: 38 [4320/8498 (51%)]\tLoss: 0.378023, Learning rate: 0.001000\n",
            "Train Epoch: 38 [4560/8498 (54%)]\tLoss: 0.242913, Learning rate: 0.001000\n",
            "Train Epoch: 38 [4800/8498 (56%)]\tLoss: 0.408686, Learning rate: 0.001000\n",
            "Train Epoch: 38 [5040/8498 (59%)]\tLoss: 0.178863, Learning rate: 0.001000\n",
            "Train Epoch: 38 [5280/8498 (62%)]\tLoss: 0.380686, Learning rate: 0.001000\n",
            "Train Epoch: 38 [5520/8498 (65%)]\tLoss: 0.290548, Learning rate: 0.001000\n",
            "Train Epoch: 38 [5760/8498 (68%)]\tLoss: 0.413616, Learning rate: 0.001000\n",
            "Train Epoch: 38 [6000/8498 (70%)]\tLoss: 0.304424, Learning rate: 0.001000\n",
            "Train Epoch: 38 [6240/8498 (73%)]\tLoss: 0.346487, Learning rate: 0.001000\n",
            "Train Epoch: 38 [6480/8498 (76%)]\tLoss: 0.250316, Learning rate: 0.001000\n",
            "Train Epoch: 38 [6720/8498 (79%)]\tLoss: 0.292069, Learning rate: 0.001000\n",
            "Train Epoch: 38 [6960/8498 (82%)]\tLoss: 0.254163, Learning rate: 0.001000\n",
            "Train Epoch: 38 [7200/8498 (85%)]\tLoss: 0.446110, Learning rate: 0.001000\n",
            "Train Epoch: 38 [7440/8498 (87%)]\tLoss: 0.229329, Learning rate: 0.001000\n",
            "Train Epoch: 38 [7680/8498 (90%)]\tLoss: 0.384485, Learning rate: 0.001000\n",
            "Train Epoch: 38 [7920/8498 (93%)]\tLoss: 0.210653, Learning rate: 0.001000\n",
            "Train Epoch: 38 [8160/8498 (96%)]\tLoss: 0.204579, Learning rate: 0.001000\n",
            "Train Epoch: 38 [8400/8498 (99%)]\tLoss: 0.252642, Learning rate: 0.001000\n"
          ]
        },
        {
          "metadata": {
            "tags": null
          },
          "name": "stderr",
          "output_type": "stream",
          "text": [
            "/usr/local/lib/python3.7/dist-packages/torchvision/transforms/transforms.py:288: UserWarning: Argument interpolation should be of type InterpolationMode instead of int. Please, use InterpolationMode enum.\n",
            "  \"Argument interpolation should be of type InterpolationMode instead of int. \"\n",
            "/usr/local/lib/python3.7/dist-packages/torchvision/transforms/transforms.py:288: UserWarning: Argument interpolation should be of type InterpolationMode instead of int. Please, use InterpolationMode enum.\n",
            "  \"Argument interpolation should be of type InterpolationMode instead of int. \"\n",
            "/usr/local/lib/python3.7/dist-packages/torchvision/transforms/transforms.py:288: UserWarning: Argument interpolation should be of type InterpolationMode instead of int. Please, use InterpolationMode enum.\n",
            "  \"Argument interpolation should be of type InterpolationMode instead of int. \"\n",
            "/usr/local/lib/python3.7/dist-packages/torchvision/transforms/transforms.py:288: UserWarning: Argument interpolation should be of type InterpolationMode instead of int. Please, use InterpolationMode enum.\n",
            "  \"Argument interpolation should be of type InterpolationMode instead of int. \"\n",
            "/usr/local/lib/python3.7/dist-packages/torchvision/transforms/transforms.py:288: UserWarning: Argument interpolation should be of type InterpolationMode instead of int. Please, use InterpolationMode enum.\n",
            "  \"Argument interpolation should be of type InterpolationMode instead of int. \"\n",
            "/usr/local/lib/python3.7/dist-packages/torchvision/transforms/transforms.py:288: UserWarning: Argument interpolation should be of type InterpolationMode instead of int. Please, use InterpolationMode enum.\n",
            "  \"Argument interpolation should be of type InterpolationMode instead of int. \"\n",
            "/usr/local/lib/python3.7/dist-packages/torchvision/transforms/transforms.py:288: UserWarning: Argument interpolation should be of type InterpolationMode instead of int. Please, use InterpolationMode enum.\n",
            "  \"Argument interpolation should be of type InterpolationMode instead of int. \"\n",
            "/usr/local/lib/python3.7/dist-packages/torchvision/transforms/transforms.py:288: UserWarning: Argument interpolation should be of type InterpolationMode instead of int. Please, use InterpolationMode enum.\n",
            "  \"Argument interpolation should be of type InterpolationMode instead of int. \"\n"
          ]
        },
        {
          "metadata": {
            "tags": null
          },
          "name": "stdout",
          "output_type": "stream",
          "text": [
            "\n",
            "Test set (736): Average loss: 0.5960, mIoU: 0.5999\n",
            "\n",
            "PSPnetLite training, epoch 39\n"
          ]
        },
        {
          "metadata": {
            "tags": null
          },
          "name": "stderr",
          "output_type": "stream",
          "text": [
            "/usr/local/lib/python3.7/dist-packages/torchvision/transforms/transforms.py:288: UserWarning: Argument interpolation should be of type InterpolationMode instead of int. Please, use InterpolationMode enum.\n",
            "  \"Argument interpolation should be of type InterpolationMode instead of int. \"\n",
            "/usr/local/lib/python3.7/dist-packages/torchvision/transforms/transforms.py:288: UserWarning: Argument interpolation should be of type InterpolationMode instead of int. Please, use InterpolationMode enum.\n",
            "  \"Argument interpolation should be of type InterpolationMode instead of int. \"\n",
            "/usr/local/lib/python3.7/dist-packages/torchvision/transforms/transforms.py:288: UserWarning: Argument interpolation should be of type InterpolationMode instead of int. Please, use InterpolationMode enum.\n",
            "  \"Argument interpolation should be of type InterpolationMode instead of int. \"\n",
            "/usr/local/lib/python3.7/dist-packages/torchvision/transforms/transforms.py:288: UserWarning: Argument interpolation should be of type InterpolationMode instead of int. Please, use InterpolationMode enum.\n",
            "  \"Argument interpolation should be of type InterpolationMode instead of int. \"\n",
            "/usr/local/lib/python3.7/dist-packages/torchvision/transforms/transforms.py:288: UserWarning: Argument interpolation should be of type InterpolationMode instead of int. Please, use InterpolationMode enum.\n",
            "  \"Argument interpolation should be of type InterpolationMode instead of int. \"\n",
            "/usr/local/lib/python3.7/dist-packages/torchvision/transforms/transforms.py:288: UserWarning: Argument interpolation should be of type InterpolationMode instead of int. Please, use InterpolationMode enum.\n",
            "  \"Argument interpolation should be of type InterpolationMode instead of int. \"\n",
            "/usr/local/lib/python3.7/dist-packages/torchvision/transforms/transforms.py:288: UserWarning: Argument interpolation should be of type InterpolationMode instead of int. Please, use InterpolationMode enum.\n",
            "  \"Argument interpolation should be of type InterpolationMode instead of int. \"\n",
            "/usr/local/lib/python3.7/dist-packages/torchvision/transforms/transforms.py:288: UserWarning: Argument interpolation should be of type InterpolationMode instead of int. Please, use InterpolationMode enum.\n",
            "  \"Argument interpolation should be of type InterpolationMode instead of int. \"\n"
          ]
        },
        {
          "metadata": {
            "tags": null
          },
          "name": "stdout",
          "output_type": "stream",
          "text": [
            "Train Epoch: 39 [240/8498 (3%)]\tLoss: 0.277237, Learning rate: 0.001000\n",
            "Train Epoch: 39 [480/8498 (6%)]\tLoss: 0.361362, Learning rate: 0.001000\n",
            "Train Epoch: 39 [720/8498 (8%)]\tLoss: 0.320324, Learning rate: 0.001000\n",
            "Train Epoch: 39 [960/8498 (11%)]\tLoss: 0.309424, Learning rate: 0.001000\n",
            "Train Epoch: 39 [1200/8498 (14%)]\tLoss: 0.303586, Learning rate: 0.001000\n",
            "Train Epoch: 39 [1440/8498 (17%)]\tLoss: 0.454735, Learning rate: 0.001000\n",
            "Train Epoch: 39 [1680/8498 (20%)]\tLoss: 0.202047, Learning rate: 0.001000\n",
            "Train Epoch: 39 [1920/8498 (23%)]\tLoss: 0.352169, Learning rate: 0.001000\n",
            "Train Epoch: 39 [2160/8498 (25%)]\tLoss: 0.381534, Learning rate: 0.001000\n",
            "Train Epoch: 39 [2400/8498 (28%)]\tLoss: 0.395218, Learning rate: 0.001000\n",
            "Train Epoch: 39 [2640/8498 (31%)]\tLoss: 0.378280, Learning rate: 0.001000\n",
            "Train Epoch: 39 [2880/8498 (34%)]\tLoss: 0.255302, Learning rate: 0.001000\n",
            "Train Epoch: 39 [3120/8498 (37%)]\tLoss: 0.282945, Learning rate: 0.001000\n",
            "Train Epoch: 39 [3360/8498 (39%)]\tLoss: 0.301383, Learning rate: 0.001000\n",
            "Train Epoch: 39 [3600/8498 (42%)]\tLoss: 0.216868, Learning rate: 0.001000\n",
            "Train Epoch: 39 [3840/8498 (45%)]\tLoss: 0.193599, Learning rate: 0.001000\n",
            "Train Epoch: 39 [4080/8498 (48%)]\tLoss: 0.354272, Learning rate: 0.001000\n",
            "Train Epoch: 39 [4320/8498 (51%)]\tLoss: 0.262572, Learning rate: 0.001000\n",
            "Train Epoch: 39 [4560/8498 (54%)]\tLoss: 0.480625, Learning rate: 0.001000\n",
            "Train Epoch: 39 [4800/8498 (56%)]\tLoss: 0.337675, Learning rate: 0.001000\n",
            "Train Epoch: 39 [5040/8498 (59%)]\tLoss: 0.347268, Learning rate: 0.001000\n",
            "Train Epoch: 39 [5280/8498 (62%)]\tLoss: 0.362571, Learning rate: 0.001000\n",
            "Train Epoch: 39 [5520/8498 (65%)]\tLoss: 0.286113, Learning rate: 0.001000\n",
            "Train Epoch: 39 [5760/8498 (68%)]\tLoss: 0.297446, Learning rate: 0.001000\n",
            "Train Epoch: 39 [6000/8498 (70%)]\tLoss: 0.351458, Learning rate: 0.001000\n",
            "Train Epoch: 39 [6240/8498 (73%)]\tLoss: 0.330722, Learning rate: 0.001000\n",
            "Train Epoch: 39 [6480/8498 (76%)]\tLoss: 0.274297, Learning rate: 0.001000\n",
            "Train Epoch: 39 [6720/8498 (79%)]\tLoss: 0.321129, Learning rate: 0.001000\n",
            "Train Epoch: 39 [6960/8498 (82%)]\tLoss: 0.269422, Learning rate: 0.001000\n",
            "Train Epoch: 39 [7200/8498 (85%)]\tLoss: 0.286081, Learning rate: 0.001000\n",
            "Train Epoch: 39 [7440/8498 (87%)]\tLoss: 0.204330, Learning rate: 0.001000\n",
            "Train Epoch: 39 [7680/8498 (90%)]\tLoss: 0.209505, Learning rate: 0.001000\n",
            "Train Epoch: 39 [7920/8498 (93%)]\tLoss: 0.379158, Learning rate: 0.001000\n",
            "Train Epoch: 39 [8160/8498 (96%)]\tLoss: 0.437432, Learning rate: 0.001000\n",
            "Train Epoch: 39 [8400/8498 (99%)]\tLoss: 0.306561, Learning rate: 0.001000\n"
          ]
        },
        {
          "metadata": {
            "tags": null
          },
          "name": "stderr",
          "output_type": "stream",
          "text": [
            "/usr/local/lib/python3.7/dist-packages/torchvision/transforms/transforms.py:288: UserWarning: Argument interpolation should be of type InterpolationMode instead of int. Please, use InterpolationMode enum.\n",
            "  \"Argument interpolation should be of type InterpolationMode instead of int. \"\n",
            "/usr/local/lib/python3.7/dist-packages/torchvision/transforms/transforms.py:288: UserWarning: Argument interpolation should be of type InterpolationMode instead of int. Please, use InterpolationMode enum.\n",
            "  \"Argument interpolation should be of type InterpolationMode instead of int. \"\n",
            "/usr/local/lib/python3.7/dist-packages/torchvision/transforms/transforms.py:288: UserWarning: Argument interpolation should be of type InterpolationMode instead of int. Please, use InterpolationMode enum.\n",
            "  \"Argument interpolation should be of type InterpolationMode instead of int. \"\n",
            "/usr/local/lib/python3.7/dist-packages/torchvision/transforms/transforms.py:288: UserWarning: Argument interpolation should be of type InterpolationMode instead of int. Please, use InterpolationMode enum.\n",
            "  \"Argument interpolation should be of type InterpolationMode instead of int. \"\n",
            "/usr/local/lib/python3.7/dist-packages/torchvision/transforms/transforms.py:288: UserWarning: Argument interpolation should be of type InterpolationMode instead of int. Please, use InterpolationMode enum.\n",
            "  \"Argument interpolation should be of type InterpolationMode instead of int. \"\n",
            "/usr/local/lib/python3.7/dist-packages/torchvision/transforms/transforms.py:288: UserWarning: Argument interpolation should be of type InterpolationMode instead of int. Please, use InterpolationMode enum.\n",
            "  \"Argument interpolation should be of type InterpolationMode instead of int. \"\n",
            "/usr/local/lib/python3.7/dist-packages/torchvision/transforms/transforms.py:288: UserWarning: Argument interpolation should be of type InterpolationMode instead of int. Please, use InterpolationMode enum.\n",
            "  \"Argument interpolation should be of type InterpolationMode instead of int. \"\n",
            "/usr/local/lib/python3.7/dist-packages/torchvision/transforms/transforms.py:288: UserWarning: Argument interpolation should be of type InterpolationMode instead of int. Please, use InterpolationMode enum.\n",
            "  \"Argument interpolation should be of type InterpolationMode instead of int. \"\n"
          ]
        },
        {
          "metadata": {
            "tags": null
          },
          "name": "stdout",
          "output_type": "stream",
          "text": [
            "\n",
            "Test set (736): Average loss: 0.6735, mIoU: 0.5700\n",
            "\n",
            "PSPnetLite training, epoch 40\n"
          ]
        },
        {
          "metadata": {
            "tags": null
          },
          "name": "stderr",
          "output_type": "stream",
          "text": [
            "/usr/local/lib/python3.7/dist-packages/torchvision/transforms/transforms.py:288: UserWarning: Argument interpolation should be of type InterpolationMode instead of int. Please, use InterpolationMode enum.\n",
            "  \"Argument interpolation should be of type InterpolationMode instead of int. \"\n",
            "/usr/local/lib/python3.7/dist-packages/torchvision/transforms/transforms.py:288: UserWarning: Argument interpolation should be of type InterpolationMode instead of int. Please, use InterpolationMode enum.\n",
            "  \"Argument interpolation should be of type InterpolationMode instead of int. \"\n",
            "/usr/local/lib/python3.7/dist-packages/torchvision/transforms/transforms.py:288: UserWarning: Argument interpolation should be of type InterpolationMode instead of int. Please, use InterpolationMode enum.\n",
            "  \"Argument interpolation should be of type InterpolationMode instead of int. \"\n",
            "/usr/local/lib/python3.7/dist-packages/torchvision/transforms/transforms.py:288: UserWarning: Argument interpolation should be of type InterpolationMode instead of int. Please, use InterpolationMode enum.\n",
            "  \"Argument interpolation should be of type InterpolationMode instead of int. \"\n",
            "/usr/local/lib/python3.7/dist-packages/torchvision/transforms/transforms.py:288: UserWarning: Argument interpolation should be of type InterpolationMode instead of int. Please, use InterpolationMode enum.\n",
            "  \"Argument interpolation should be of type InterpolationMode instead of int. \"\n",
            "/usr/local/lib/python3.7/dist-packages/torchvision/transforms/transforms.py:288: UserWarning: Argument interpolation should be of type InterpolationMode instead of int. Please, use InterpolationMode enum.\n",
            "  \"Argument interpolation should be of type InterpolationMode instead of int. \"\n",
            "/usr/local/lib/python3.7/dist-packages/torchvision/transforms/transforms.py:288: UserWarning: Argument interpolation should be of type InterpolationMode instead of int. Please, use InterpolationMode enum.\n",
            "  \"Argument interpolation should be of type InterpolationMode instead of int. \"\n",
            "/usr/local/lib/python3.7/dist-packages/torchvision/transforms/transforms.py:288: UserWarning: Argument interpolation should be of type InterpolationMode instead of int. Please, use InterpolationMode enum.\n",
            "  \"Argument interpolation should be of type InterpolationMode instead of int. \"\n"
          ]
        },
        {
          "metadata": {
            "tags": null
          },
          "name": "stdout",
          "output_type": "stream",
          "text": [
            "Train Epoch: 40 [240/8498 (3%)]\tLoss: 0.210855, Learning rate: 0.001000\n",
            "Train Epoch: 40 [480/8498 (6%)]\tLoss: 0.267645, Learning rate: 0.001000\n",
            "Train Epoch: 40 [720/8498 (8%)]\tLoss: 0.206362, Learning rate: 0.001000\n",
            "Train Epoch: 40 [960/8498 (11%)]\tLoss: 0.243479, Learning rate: 0.001000\n",
            "Train Epoch: 40 [1200/8498 (14%)]\tLoss: 0.261276, Learning rate: 0.001000\n",
            "Train Epoch: 40 [1440/8498 (17%)]\tLoss: 0.259277, Learning rate: 0.001000\n",
            "Train Epoch: 40 [1680/8498 (20%)]\tLoss: 0.363199, Learning rate: 0.001000\n",
            "Train Epoch: 40 [1920/8498 (23%)]\tLoss: 0.251827, Learning rate: 0.001000\n",
            "Train Epoch: 40 [2160/8498 (25%)]\tLoss: 0.254019, Learning rate: 0.001000\n",
            "Train Epoch: 40 [2400/8498 (28%)]\tLoss: 0.230821, Learning rate: 0.001000\n",
            "Train Epoch: 40 [2640/8498 (31%)]\tLoss: 0.326772, Learning rate: 0.001000\n",
            "Train Epoch: 40 [2880/8498 (34%)]\tLoss: 0.228986, Learning rate: 0.001000\n",
            "Train Epoch: 40 [3120/8498 (37%)]\tLoss: 0.439560, Learning rate: 0.001000\n",
            "Train Epoch: 40 [3360/8498 (39%)]\tLoss: 0.332331, Learning rate: 0.001000\n",
            "Train Epoch: 40 [3600/8498 (42%)]\tLoss: 0.387099, Learning rate: 0.001000\n",
            "Train Epoch: 40 [3840/8498 (45%)]\tLoss: 0.247973, Learning rate: 0.001000\n",
            "Train Epoch: 40 [4080/8498 (48%)]\tLoss: 0.327961, Learning rate: 0.001000\n",
            "Train Epoch: 40 [4320/8498 (51%)]\tLoss: 0.290496, Learning rate: 0.001000\n",
            "Train Epoch: 40 [4560/8498 (54%)]\tLoss: 0.279998, Learning rate: 0.001000\n",
            "Train Epoch: 40 [4800/8498 (56%)]\tLoss: 0.334547, Learning rate: 0.001000\n",
            "Train Epoch: 40 [5040/8498 (59%)]\tLoss: 0.376448, Learning rate: 0.001000\n",
            "Train Epoch: 40 [5280/8498 (62%)]\tLoss: 0.355753, Learning rate: 0.001000\n",
            "Train Epoch: 40 [5520/8498 (65%)]\tLoss: 0.250528, Learning rate: 0.001000\n",
            "Train Epoch: 40 [5760/8498 (68%)]\tLoss: 0.306473, Learning rate: 0.001000\n",
            "Train Epoch: 40 [6000/8498 (70%)]\tLoss: 0.345502, Learning rate: 0.001000\n",
            "Train Epoch: 40 [6240/8498 (73%)]\tLoss: 0.398368, Learning rate: 0.001000\n",
            "Train Epoch: 40 [6480/8498 (76%)]\tLoss: 0.342938, Learning rate: 0.001000\n",
            "Train Epoch: 40 [6720/8498 (79%)]\tLoss: 0.234391, Learning rate: 0.001000\n",
            "Train Epoch: 40 [6960/8498 (82%)]\tLoss: 0.324378, Learning rate: 0.001000\n",
            "Train Epoch: 40 [7200/8498 (85%)]\tLoss: 0.244687, Learning rate: 0.001000\n",
            "Train Epoch: 40 [7440/8498 (87%)]\tLoss: 0.243860, Learning rate: 0.001000\n",
            "Train Epoch: 40 [7680/8498 (90%)]\tLoss: 0.320919, Learning rate: 0.001000\n",
            "Train Epoch: 40 [7920/8498 (93%)]\tLoss: 0.245014, Learning rate: 0.001000\n",
            "Train Epoch: 40 [8160/8498 (96%)]\tLoss: 0.188608, Learning rate: 0.001000\n",
            "Train Epoch: 40 [8400/8498 (99%)]\tLoss: 0.446755, Learning rate: 0.001000\n"
          ]
        },
        {
          "metadata": {
            "tags": null
          },
          "name": "stderr",
          "output_type": "stream",
          "text": [
            "/usr/local/lib/python3.7/dist-packages/torchvision/transforms/transforms.py:288: UserWarning: Argument interpolation should be of type InterpolationMode instead of int. Please, use InterpolationMode enum.\n",
            "  \"Argument interpolation should be of type InterpolationMode instead of int. \"\n",
            "/usr/local/lib/python3.7/dist-packages/torchvision/transforms/transforms.py:288: UserWarning: Argument interpolation should be of type InterpolationMode instead of int. Please, use InterpolationMode enum.\n",
            "  \"Argument interpolation should be of type InterpolationMode instead of int. \"\n",
            "/usr/local/lib/python3.7/dist-packages/torchvision/transforms/transforms.py:288: UserWarning: Argument interpolation should be of type InterpolationMode instead of int. Please, use InterpolationMode enum.\n",
            "  \"Argument interpolation should be of type InterpolationMode instead of int. \"\n",
            "/usr/local/lib/python3.7/dist-packages/torchvision/transforms/transforms.py:288: UserWarning: Argument interpolation should be of type InterpolationMode instead of int. Please, use InterpolationMode enum.\n",
            "  \"Argument interpolation should be of type InterpolationMode instead of int. \"\n",
            "/usr/local/lib/python3.7/dist-packages/torchvision/transforms/transforms.py:288: UserWarning: Argument interpolation should be of type InterpolationMode instead of int. Please, use InterpolationMode enum.\n",
            "  \"Argument interpolation should be of type InterpolationMode instead of int. \"\n",
            "/usr/local/lib/python3.7/dist-packages/torchvision/transforms/transforms.py:288: UserWarning: Argument interpolation should be of type InterpolationMode instead of int. Please, use InterpolationMode enum.\n",
            "  \"Argument interpolation should be of type InterpolationMode instead of int. \"\n",
            "/usr/local/lib/python3.7/dist-packages/torchvision/transforms/transforms.py:288: UserWarning: Argument interpolation should be of type InterpolationMode instead of int. Please, use InterpolationMode enum.\n",
            "  \"Argument interpolation should be of type InterpolationMode instead of int. \"\n",
            "/usr/local/lib/python3.7/dist-packages/torchvision/transforms/transforms.py:288: UserWarning: Argument interpolation should be of type InterpolationMode instead of int. Please, use InterpolationMode enum.\n",
            "  \"Argument interpolation should be of type InterpolationMode instead of int. \"\n"
          ]
        },
        {
          "metadata": {
            "tags": null
          },
          "name": "stdout",
          "output_type": "stream",
          "text": [
            "\n",
            "Test set (736): Average loss: 0.6307, mIoU: 0.5916\n",
            "\n",
            "PSPnetLite training, epoch 41\n"
          ]
        },
        {
          "metadata": {
            "tags": null
          },
          "name": "stderr",
          "output_type": "stream",
          "text": [
            "/usr/local/lib/python3.7/dist-packages/torchvision/transforms/transforms.py:288: UserWarning: Argument interpolation should be of type InterpolationMode instead of int. Please, use InterpolationMode enum.\n",
            "  \"Argument interpolation should be of type InterpolationMode instead of int. \"\n",
            "/usr/local/lib/python3.7/dist-packages/torchvision/transforms/transforms.py:288: UserWarning: Argument interpolation should be of type InterpolationMode instead of int. Please, use InterpolationMode enum.\n",
            "  \"Argument interpolation should be of type InterpolationMode instead of int. \"\n",
            "/usr/local/lib/python3.7/dist-packages/torchvision/transforms/transforms.py:288: UserWarning: Argument interpolation should be of type InterpolationMode instead of int. Please, use InterpolationMode enum.\n",
            "  \"Argument interpolation should be of type InterpolationMode instead of int. \"\n",
            "/usr/local/lib/python3.7/dist-packages/torchvision/transforms/transforms.py:288: UserWarning: Argument interpolation should be of type InterpolationMode instead of int. Please, use InterpolationMode enum.\n",
            "  \"Argument interpolation should be of type InterpolationMode instead of int. \"\n",
            "/usr/local/lib/python3.7/dist-packages/torchvision/transforms/transforms.py:288: UserWarning: Argument interpolation should be of type InterpolationMode instead of int. Please, use InterpolationMode enum.\n",
            "  \"Argument interpolation should be of type InterpolationMode instead of int. \"\n",
            "/usr/local/lib/python3.7/dist-packages/torchvision/transforms/transforms.py:288: UserWarning: Argument interpolation should be of type InterpolationMode instead of int. Please, use InterpolationMode enum.\n",
            "  \"Argument interpolation should be of type InterpolationMode instead of int. \"\n",
            "/usr/local/lib/python3.7/dist-packages/torchvision/transforms/transforms.py:288: UserWarning: Argument interpolation should be of type InterpolationMode instead of int. Please, use InterpolationMode enum.\n",
            "  \"Argument interpolation should be of type InterpolationMode instead of int. \"\n",
            "/usr/local/lib/python3.7/dist-packages/torchvision/transforms/transforms.py:288: UserWarning: Argument interpolation should be of type InterpolationMode instead of int. Please, use InterpolationMode enum.\n",
            "  \"Argument interpolation should be of type InterpolationMode instead of int. \"\n"
          ]
        },
        {
          "metadata": {
            "tags": null
          },
          "name": "stdout",
          "output_type": "stream",
          "text": [
            "Train Epoch: 41 [240/8498 (3%)]\tLoss: 0.321339, Learning rate: 0.001000\n",
            "Train Epoch: 41 [480/8498 (6%)]\tLoss: 0.321975, Learning rate: 0.001000\n",
            "Train Epoch: 41 [720/8498 (8%)]\tLoss: 0.286589, Learning rate: 0.001000\n",
            "Train Epoch: 41 [960/8498 (11%)]\tLoss: 0.234454, Learning rate: 0.001000\n",
            "Train Epoch: 41 [1200/8498 (14%)]\tLoss: 0.519406, Learning rate: 0.001000\n",
            "Train Epoch: 41 [1440/8498 (17%)]\tLoss: 0.206703, Learning rate: 0.001000\n",
            "Train Epoch: 41 [1680/8498 (20%)]\tLoss: 0.317544, Learning rate: 0.001000\n",
            "Train Epoch: 41 [1920/8498 (23%)]\tLoss: 0.354692, Learning rate: 0.001000\n",
            "Train Epoch: 41 [2160/8498 (25%)]\tLoss: 0.280498, Learning rate: 0.001000\n",
            "Train Epoch: 41 [2400/8498 (28%)]\tLoss: 0.418604, Learning rate: 0.001000\n",
            "Train Epoch: 41 [2640/8498 (31%)]\tLoss: 0.294561, Learning rate: 0.001000\n",
            "Train Epoch: 41 [2880/8498 (34%)]\tLoss: 0.287951, Learning rate: 0.001000\n",
            "Train Epoch: 41 [3120/8498 (37%)]\tLoss: 0.374664, Learning rate: 0.001000\n",
            "Train Epoch: 41 [3360/8498 (39%)]\tLoss: 0.264805, Learning rate: 0.001000\n",
            "Train Epoch: 41 [3600/8498 (42%)]\tLoss: 0.213981, Learning rate: 0.001000\n",
            "Train Epoch: 41 [3840/8498 (45%)]\tLoss: 0.265602, Learning rate: 0.001000\n",
            "Train Epoch: 41 [4080/8498 (48%)]\tLoss: 0.351508, Learning rate: 0.001000\n",
            "Train Epoch: 41 [4320/8498 (51%)]\tLoss: 0.229152, Learning rate: 0.001000\n",
            "Train Epoch: 41 [4560/8498 (54%)]\tLoss: 0.411587, Learning rate: 0.001000\n",
            "Train Epoch: 41 [4800/8498 (56%)]\tLoss: 0.338704, Learning rate: 0.001000\n",
            "Train Epoch: 41 [5040/8498 (59%)]\tLoss: 0.258134, Learning rate: 0.001000\n",
            "Train Epoch: 41 [5280/8498 (62%)]\tLoss: 0.355583, Learning rate: 0.001000\n",
            "Train Epoch: 41 [5520/8498 (65%)]\tLoss: 0.394681, Learning rate: 0.001000\n",
            "Train Epoch: 41 [5760/8498 (68%)]\tLoss: 0.260115, Learning rate: 0.001000\n",
            "Train Epoch: 41 [6000/8498 (70%)]\tLoss: 0.331605, Learning rate: 0.001000\n",
            "Train Epoch: 41 [6240/8498 (73%)]\tLoss: 0.265482, Learning rate: 0.001000\n",
            "Train Epoch: 41 [6480/8498 (76%)]\tLoss: 0.290762, Learning rate: 0.001000\n",
            "Train Epoch: 41 [6720/8498 (79%)]\tLoss: 0.393088, Learning rate: 0.001000\n",
            "Train Epoch: 41 [6960/8498 (82%)]\tLoss: 0.196904, Learning rate: 0.001000\n",
            "Train Epoch: 41 [7200/8498 (85%)]\tLoss: 0.282746, Learning rate: 0.001000\n",
            "Train Epoch: 41 [7440/8498 (87%)]\tLoss: 0.534811, Learning rate: 0.001000\n",
            "Train Epoch: 41 [7680/8498 (90%)]\tLoss: 0.314652, Learning rate: 0.001000\n",
            "Train Epoch: 41 [7920/8498 (93%)]\tLoss: 0.227940, Learning rate: 0.001000\n",
            "Train Epoch: 41 [8160/8498 (96%)]\tLoss: 0.249606, Learning rate: 0.001000\n",
            "Train Epoch: 41 [8400/8498 (99%)]\tLoss: 0.284830, Learning rate: 0.001000\n"
          ]
        },
        {
          "metadata": {
            "tags": null
          },
          "name": "stderr",
          "output_type": "stream",
          "text": [
            "/usr/local/lib/python3.7/dist-packages/torchvision/transforms/transforms.py:288: UserWarning: Argument interpolation should be of type InterpolationMode instead of int. Please, use InterpolationMode enum.\n",
            "  \"Argument interpolation should be of type InterpolationMode instead of int. \"\n",
            "/usr/local/lib/python3.7/dist-packages/torchvision/transforms/transforms.py:288: UserWarning: Argument interpolation should be of type InterpolationMode instead of int. Please, use InterpolationMode enum.\n",
            "  \"Argument interpolation should be of type InterpolationMode instead of int. \"\n",
            "/usr/local/lib/python3.7/dist-packages/torchvision/transforms/transforms.py:288: UserWarning: Argument interpolation should be of type InterpolationMode instead of int. Please, use InterpolationMode enum.\n",
            "  \"Argument interpolation should be of type InterpolationMode instead of int. \"\n",
            "/usr/local/lib/python3.7/dist-packages/torchvision/transforms/transforms.py:288: UserWarning: Argument interpolation should be of type InterpolationMode instead of int. Please, use InterpolationMode enum.\n",
            "  \"Argument interpolation should be of type InterpolationMode instead of int. \"\n",
            "/usr/local/lib/python3.7/dist-packages/torchvision/transforms/transforms.py:288: UserWarning: Argument interpolation should be of type InterpolationMode instead of int. Please, use InterpolationMode enum.\n",
            "  \"Argument interpolation should be of type InterpolationMode instead of int. \"\n",
            "/usr/local/lib/python3.7/dist-packages/torchvision/transforms/transforms.py:288: UserWarning: Argument interpolation should be of type InterpolationMode instead of int. Please, use InterpolationMode enum.\n",
            "  \"Argument interpolation should be of type InterpolationMode instead of int. \"\n",
            "/usr/local/lib/python3.7/dist-packages/torchvision/transforms/transforms.py:288: UserWarning: Argument interpolation should be of type InterpolationMode instead of int. Please, use InterpolationMode enum.\n",
            "  \"Argument interpolation should be of type InterpolationMode instead of int. \"\n",
            "/usr/local/lib/python3.7/dist-packages/torchvision/transforms/transforms.py:288: UserWarning: Argument interpolation should be of type InterpolationMode instead of int. Please, use InterpolationMode enum.\n",
            "  \"Argument interpolation should be of type InterpolationMode instead of int. \"\n"
          ]
        },
        {
          "metadata": {
            "tags": null
          },
          "name": "stdout",
          "output_type": "stream",
          "text": [
            "\n",
            "Test set (736): Average loss: 0.6074, mIoU: 0.5902\n",
            "\n",
            "PSPnetLite training, epoch 42\n"
          ]
        },
        {
          "metadata": {
            "tags": null
          },
          "name": "stderr",
          "output_type": "stream",
          "text": [
            "/usr/local/lib/python3.7/dist-packages/torchvision/transforms/transforms.py:288: UserWarning: Argument interpolation should be of type InterpolationMode instead of int. Please, use InterpolationMode enum.\n",
            "  \"Argument interpolation should be of type InterpolationMode instead of int. \"\n",
            "/usr/local/lib/python3.7/dist-packages/torchvision/transforms/transforms.py:288: UserWarning: Argument interpolation should be of type InterpolationMode instead of int. Please, use InterpolationMode enum.\n",
            "  \"Argument interpolation should be of type InterpolationMode instead of int. \"\n",
            "/usr/local/lib/python3.7/dist-packages/torchvision/transforms/transforms.py:288: UserWarning: Argument interpolation should be of type InterpolationMode instead of int. Please, use InterpolationMode enum.\n",
            "  \"Argument interpolation should be of type InterpolationMode instead of int. \"\n",
            "/usr/local/lib/python3.7/dist-packages/torchvision/transforms/transforms.py:288: UserWarning: Argument interpolation should be of type InterpolationMode instead of int. Please, use InterpolationMode enum.\n",
            "  \"Argument interpolation should be of type InterpolationMode instead of int. \"\n",
            "/usr/local/lib/python3.7/dist-packages/torchvision/transforms/transforms.py:288: UserWarning: Argument interpolation should be of type InterpolationMode instead of int. Please, use InterpolationMode enum.\n",
            "  \"Argument interpolation should be of type InterpolationMode instead of int. \"\n",
            "/usr/local/lib/python3.7/dist-packages/torchvision/transforms/transforms.py:288: UserWarning: Argument interpolation should be of type InterpolationMode instead of int. Please, use InterpolationMode enum.\n",
            "  \"Argument interpolation should be of type InterpolationMode instead of int. \"\n",
            "/usr/local/lib/python3.7/dist-packages/torchvision/transforms/transforms.py:288: UserWarning: Argument interpolation should be of type InterpolationMode instead of int. Please, use InterpolationMode enum.\n",
            "  \"Argument interpolation should be of type InterpolationMode instead of int. \"\n",
            "/usr/local/lib/python3.7/dist-packages/torchvision/transforms/transforms.py:288: UserWarning: Argument interpolation should be of type InterpolationMode instead of int. Please, use InterpolationMode enum.\n",
            "  \"Argument interpolation should be of type InterpolationMode instead of int. \"\n"
          ]
        },
        {
          "metadata": {
            "tags": null
          },
          "name": "stdout",
          "output_type": "stream",
          "text": [
            "Train Epoch: 42 [240/8498 (3%)]\tLoss: 0.275606, Learning rate: 0.001000\n",
            "Train Epoch: 42 [480/8498 (6%)]\tLoss: 0.326140, Learning rate: 0.001000\n",
            "Train Epoch: 42 [720/8498 (8%)]\tLoss: 0.267431, Learning rate: 0.001000\n",
            "Train Epoch: 42 [960/8498 (11%)]\tLoss: 0.274556, Learning rate: 0.001000\n",
            "Train Epoch: 42 [1200/8498 (14%)]\tLoss: 0.223029, Learning rate: 0.001000\n",
            "Train Epoch: 42 [1440/8498 (17%)]\tLoss: 0.338285, Learning rate: 0.001000\n",
            "Train Epoch: 42 [1680/8498 (20%)]\tLoss: 0.209453, Learning rate: 0.001000\n",
            "Train Epoch: 42 [1920/8498 (23%)]\tLoss: 0.216438, Learning rate: 0.001000\n",
            "Train Epoch: 42 [2160/8498 (25%)]\tLoss: 0.230083, Learning rate: 0.001000\n",
            "Train Epoch: 42 [2400/8498 (28%)]\tLoss: 0.264891, Learning rate: 0.001000\n",
            "Train Epoch: 42 [2640/8498 (31%)]\tLoss: 0.392816, Learning rate: 0.001000\n",
            "Train Epoch: 42 [2880/8498 (34%)]\tLoss: 0.214356, Learning rate: 0.001000\n",
            "Train Epoch: 42 [3120/8498 (37%)]\tLoss: 0.173043, Learning rate: 0.001000\n",
            "Train Epoch: 42 [3360/8498 (39%)]\tLoss: 0.314792, Learning rate: 0.001000\n",
            "Train Epoch: 42 [3600/8498 (42%)]\tLoss: 0.388801, Learning rate: 0.001000\n",
            "Train Epoch: 42 [3840/8498 (45%)]\tLoss: 0.295161, Learning rate: 0.001000\n",
            "Train Epoch: 42 [4080/8498 (48%)]\tLoss: 0.507507, Learning rate: 0.001000\n",
            "Train Epoch: 42 [4320/8498 (51%)]\tLoss: 0.325591, Learning rate: 0.001000\n",
            "Train Epoch: 42 [4560/8498 (54%)]\tLoss: 0.291535, Learning rate: 0.001000\n",
            "Train Epoch: 42 [4800/8498 (56%)]\tLoss: 0.334660, Learning rate: 0.001000\n",
            "Train Epoch: 42 [5040/8498 (59%)]\tLoss: 0.297945, Learning rate: 0.001000\n",
            "Train Epoch: 42 [5280/8498 (62%)]\tLoss: 0.268818, Learning rate: 0.001000\n",
            "Train Epoch: 42 [5520/8498 (65%)]\tLoss: 0.294135, Learning rate: 0.001000\n",
            "Train Epoch: 42 [5760/8498 (68%)]\tLoss: 0.256234, Learning rate: 0.001000\n",
            "Train Epoch: 42 [6000/8498 (70%)]\tLoss: 0.233012, Learning rate: 0.001000\n",
            "Train Epoch: 42 [6240/8498 (73%)]\tLoss: 0.349888, Learning rate: 0.001000\n",
            "Train Epoch: 42 [6480/8498 (76%)]\tLoss: 0.206605, Learning rate: 0.001000\n",
            "Train Epoch: 42 [6720/8498 (79%)]\tLoss: 0.277061, Learning rate: 0.001000\n",
            "Train Epoch: 42 [6960/8498 (82%)]\tLoss: 0.344868, Learning rate: 0.001000\n",
            "Train Epoch: 42 [7200/8498 (85%)]\tLoss: 0.301248, Learning rate: 0.001000\n",
            "Train Epoch: 42 [7440/8498 (87%)]\tLoss: 0.257630, Learning rate: 0.001000\n",
            "Train Epoch: 42 [7680/8498 (90%)]\tLoss: 0.281549, Learning rate: 0.001000\n",
            "Train Epoch: 42 [7920/8498 (93%)]\tLoss: 0.344489, Learning rate: 0.001000\n",
            "Train Epoch: 42 [8160/8498 (96%)]\tLoss: 0.202399, Learning rate: 0.001000\n",
            "Train Epoch: 42 [8400/8498 (99%)]\tLoss: 0.339041, Learning rate: 0.001000\n"
          ]
        },
        {
          "metadata": {
            "tags": null
          },
          "name": "stderr",
          "output_type": "stream",
          "text": [
            "/usr/local/lib/python3.7/dist-packages/torchvision/transforms/transforms.py:288: UserWarning: Argument interpolation should be of type InterpolationMode instead of int. Please, use InterpolationMode enum.\n",
            "  \"Argument interpolation should be of type InterpolationMode instead of int. \"\n",
            "/usr/local/lib/python3.7/dist-packages/torchvision/transforms/transforms.py:288: UserWarning: Argument interpolation should be of type InterpolationMode instead of int. Please, use InterpolationMode enum.\n",
            "  \"Argument interpolation should be of type InterpolationMode instead of int. \"\n",
            "/usr/local/lib/python3.7/dist-packages/torchvision/transforms/transforms.py:288: UserWarning: Argument interpolation should be of type InterpolationMode instead of int. Please, use InterpolationMode enum.\n",
            "  \"Argument interpolation should be of type InterpolationMode instead of int. \"\n",
            "/usr/local/lib/python3.7/dist-packages/torchvision/transforms/transforms.py:288: UserWarning: Argument interpolation should be of type InterpolationMode instead of int. Please, use InterpolationMode enum.\n",
            "  \"Argument interpolation should be of type InterpolationMode instead of int. \"\n",
            "/usr/local/lib/python3.7/dist-packages/torchvision/transforms/transforms.py:288: UserWarning: Argument interpolation should be of type InterpolationMode instead of int. Please, use InterpolationMode enum.\n",
            "  \"Argument interpolation should be of type InterpolationMode instead of int. \"\n",
            "/usr/local/lib/python3.7/dist-packages/torchvision/transforms/transforms.py:288: UserWarning: Argument interpolation should be of type InterpolationMode instead of int. Please, use InterpolationMode enum.\n",
            "  \"Argument interpolation should be of type InterpolationMode instead of int. \"\n",
            "/usr/local/lib/python3.7/dist-packages/torchvision/transforms/transforms.py:288: UserWarning: Argument interpolation should be of type InterpolationMode instead of int. Please, use InterpolationMode enum.\n",
            "  \"Argument interpolation should be of type InterpolationMode instead of int. \"\n",
            "/usr/local/lib/python3.7/dist-packages/torchvision/transforms/transforms.py:288: UserWarning: Argument interpolation should be of type InterpolationMode instead of int. Please, use InterpolationMode enum.\n",
            "  \"Argument interpolation should be of type InterpolationMode instead of int. \"\n"
          ]
        },
        {
          "metadata": {
            "tags": null
          },
          "name": "stdout",
          "output_type": "stream",
          "text": [
            "\n",
            "Test set (736): Average loss: 0.5861, mIoU: 0.5954\n",
            "\n",
            "PSPnetLite training, epoch 43\n"
          ]
        },
        {
          "metadata": {
            "tags": null
          },
          "name": "stderr",
          "output_type": "stream",
          "text": [
            "/usr/local/lib/python3.7/dist-packages/torchvision/transforms/transforms.py:288: UserWarning: Argument interpolation should be of type InterpolationMode instead of int. Please, use InterpolationMode enum.\n",
            "  \"Argument interpolation should be of type InterpolationMode instead of int. \"\n",
            "/usr/local/lib/python3.7/dist-packages/torchvision/transforms/transforms.py:288: UserWarning: Argument interpolation should be of type InterpolationMode instead of int. Please, use InterpolationMode enum.\n",
            "  \"Argument interpolation should be of type InterpolationMode instead of int. \"\n",
            "/usr/local/lib/python3.7/dist-packages/torchvision/transforms/transforms.py:288: UserWarning: Argument interpolation should be of type InterpolationMode instead of int. Please, use InterpolationMode enum.\n",
            "  \"Argument interpolation should be of type InterpolationMode instead of int. \"\n",
            "/usr/local/lib/python3.7/dist-packages/torchvision/transforms/transforms.py:288: UserWarning: Argument interpolation should be of type InterpolationMode instead of int. Please, use InterpolationMode enum.\n",
            "  \"Argument interpolation should be of type InterpolationMode instead of int. \"\n",
            "/usr/local/lib/python3.7/dist-packages/torchvision/transforms/transforms.py:288: UserWarning: Argument interpolation should be of type InterpolationMode instead of int. Please, use InterpolationMode enum.\n",
            "  \"Argument interpolation should be of type InterpolationMode instead of int. \"\n",
            "/usr/local/lib/python3.7/dist-packages/torchvision/transforms/transforms.py:288: UserWarning: Argument interpolation should be of type InterpolationMode instead of int. Please, use InterpolationMode enum.\n",
            "  \"Argument interpolation should be of type InterpolationMode instead of int. \"\n",
            "/usr/local/lib/python3.7/dist-packages/torchvision/transforms/transforms.py:288: UserWarning: Argument interpolation should be of type InterpolationMode instead of int. Please, use InterpolationMode enum.\n",
            "  \"Argument interpolation should be of type InterpolationMode instead of int. \"\n",
            "/usr/local/lib/python3.7/dist-packages/torchvision/transforms/transforms.py:288: UserWarning: Argument interpolation should be of type InterpolationMode instead of int. Please, use InterpolationMode enum.\n",
            "  \"Argument interpolation should be of type InterpolationMode instead of int. \"\n"
          ]
        },
        {
          "metadata": {
            "tags": null
          },
          "name": "stdout",
          "output_type": "stream",
          "text": [
            "Train Epoch: 43 [240/8498 (3%)]\tLoss: 0.251898, Learning rate: 0.001000\n",
            "Train Epoch: 43 [480/8498 (6%)]\tLoss: 0.258162, Learning rate: 0.001000\n",
            "Train Epoch: 43 [720/8498 (8%)]\tLoss: 0.273221, Learning rate: 0.001000\n",
            "Train Epoch: 43 [960/8498 (11%)]\tLoss: 0.338806, Learning rate: 0.001000\n",
            "Train Epoch: 43 [1200/8498 (14%)]\tLoss: 0.313111, Learning rate: 0.001000\n",
            "Train Epoch: 43 [1440/8498 (17%)]\tLoss: 0.228934, Learning rate: 0.001000\n",
            "Train Epoch: 43 [1680/8498 (20%)]\tLoss: 0.228169, Learning rate: 0.001000\n",
            "Train Epoch: 43 [1920/8498 (23%)]\tLoss: 0.353256, Learning rate: 0.001000\n",
            "Train Epoch: 43 [2160/8498 (25%)]\tLoss: 0.279776, Learning rate: 0.001000\n",
            "Train Epoch: 43 [2400/8498 (28%)]\tLoss: 0.303823, Learning rate: 0.001000\n",
            "Train Epoch: 43 [2640/8498 (31%)]\tLoss: 0.311355, Learning rate: 0.001000\n",
            "Train Epoch: 43 [2880/8498 (34%)]\tLoss: 0.261639, Learning rate: 0.001000\n",
            "Train Epoch: 43 [3120/8498 (37%)]\tLoss: 0.270021, Learning rate: 0.001000\n",
            "Train Epoch: 43 [3360/8498 (39%)]\tLoss: 0.244356, Learning rate: 0.001000\n",
            "Train Epoch: 43 [3600/8498 (42%)]\tLoss: 0.250426, Learning rate: 0.001000\n",
            "Train Epoch: 43 [3840/8498 (45%)]\tLoss: 0.256464, Learning rate: 0.001000\n",
            "Train Epoch: 43 [4080/8498 (48%)]\tLoss: 0.255187, Learning rate: 0.001000\n",
            "Train Epoch: 43 [4320/8498 (51%)]\tLoss: 0.204201, Learning rate: 0.001000\n",
            "Train Epoch: 43 [4560/8498 (54%)]\tLoss: 0.409475, Learning rate: 0.001000\n",
            "Train Epoch: 43 [4800/8498 (56%)]\tLoss: 0.319250, Learning rate: 0.001000\n",
            "Train Epoch: 43 [5040/8498 (59%)]\tLoss: 0.210611, Learning rate: 0.001000\n",
            "Train Epoch: 43 [5280/8498 (62%)]\tLoss: 0.258834, Learning rate: 0.001000\n",
            "Train Epoch: 43 [5520/8498 (65%)]\tLoss: 0.235381, Learning rate: 0.001000\n",
            "Train Epoch: 43 [5760/8498 (68%)]\tLoss: 0.489873, Learning rate: 0.001000\n",
            "Train Epoch: 43 [6000/8498 (70%)]\tLoss: 0.293748, Learning rate: 0.001000\n",
            "Train Epoch: 43 [6240/8498 (73%)]\tLoss: 0.266013, Learning rate: 0.001000\n",
            "Train Epoch: 43 [6480/8498 (76%)]\tLoss: 0.328381, Learning rate: 0.001000\n",
            "Train Epoch: 43 [6720/8498 (79%)]\tLoss: 0.236969, Learning rate: 0.001000\n",
            "Train Epoch: 43 [6960/8498 (82%)]\tLoss: 0.248384, Learning rate: 0.001000\n",
            "Train Epoch: 43 [7200/8498 (85%)]\tLoss: 0.252626, Learning rate: 0.001000\n",
            "Train Epoch: 43 [7440/8498 (87%)]\tLoss: 0.269574, Learning rate: 0.001000\n",
            "Train Epoch: 43 [7680/8498 (90%)]\tLoss: 0.230055, Learning rate: 0.001000\n",
            "Train Epoch: 43 [7920/8498 (93%)]\tLoss: 0.392753, Learning rate: 0.001000\n",
            "Train Epoch: 43 [8160/8498 (96%)]\tLoss: 0.161102, Learning rate: 0.001000\n",
            "Train Epoch: 43 [8400/8498 (99%)]\tLoss: 0.310063, Learning rate: 0.001000\n"
          ]
        },
        {
          "metadata": {
            "tags": null
          },
          "name": "stderr",
          "output_type": "stream",
          "text": [
            "/usr/local/lib/python3.7/dist-packages/torchvision/transforms/transforms.py:288: UserWarning: Argument interpolation should be of type InterpolationMode instead of int. Please, use InterpolationMode enum.\n",
            "  \"Argument interpolation should be of type InterpolationMode instead of int. \"\n",
            "/usr/local/lib/python3.7/dist-packages/torchvision/transforms/transforms.py:288: UserWarning: Argument interpolation should be of type InterpolationMode instead of int. Please, use InterpolationMode enum.\n",
            "  \"Argument interpolation should be of type InterpolationMode instead of int. \"\n",
            "/usr/local/lib/python3.7/dist-packages/torchvision/transforms/transforms.py:288: UserWarning: Argument interpolation should be of type InterpolationMode instead of int. Please, use InterpolationMode enum.\n",
            "  \"Argument interpolation should be of type InterpolationMode instead of int. \"\n",
            "/usr/local/lib/python3.7/dist-packages/torchvision/transforms/transforms.py:288: UserWarning: Argument interpolation should be of type InterpolationMode instead of int. Please, use InterpolationMode enum.\n",
            "  \"Argument interpolation should be of type InterpolationMode instead of int. \"\n",
            "/usr/local/lib/python3.7/dist-packages/torchvision/transforms/transforms.py:288: UserWarning: Argument interpolation should be of type InterpolationMode instead of int. Please, use InterpolationMode enum.\n",
            "  \"Argument interpolation should be of type InterpolationMode instead of int. \"\n",
            "/usr/local/lib/python3.7/dist-packages/torchvision/transforms/transforms.py:288: UserWarning: Argument interpolation should be of type InterpolationMode instead of int. Please, use InterpolationMode enum.\n",
            "  \"Argument interpolation should be of type InterpolationMode instead of int. \"\n",
            "/usr/local/lib/python3.7/dist-packages/torchvision/transforms/transforms.py:288: UserWarning: Argument interpolation should be of type InterpolationMode instead of int. Please, use InterpolationMode enum.\n",
            "  \"Argument interpolation should be of type InterpolationMode instead of int. \"\n",
            "/usr/local/lib/python3.7/dist-packages/torchvision/transforms/transforms.py:288: UserWarning: Argument interpolation should be of type InterpolationMode instead of int. Please, use InterpolationMode enum.\n",
            "  \"Argument interpolation should be of type InterpolationMode instead of int. \"\n"
          ]
        },
        {
          "metadata": {
            "tags": null
          },
          "name": "stdout",
          "output_type": "stream",
          "text": [
            "\n",
            "Test set (736): Average loss: 0.5796, mIoU: 0.6032\n",
            "\n",
            "PSPnetLite training, epoch 44\n"
          ]
        },
        {
          "metadata": {
            "tags": null
          },
          "name": "stderr",
          "output_type": "stream",
          "text": [
            "/usr/local/lib/python3.7/dist-packages/torchvision/transforms/transforms.py:288: UserWarning: Argument interpolation should be of type InterpolationMode instead of int. Please, use InterpolationMode enum.\n",
            "  \"Argument interpolation should be of type InterpolationMode instead of int. \"\n",
            "/usr/local/lib/python3.7/dist-packages/torchvision/transforms/transforms.py:288: UserWarning: Argument interpolation should be of type InterpolationMode instead of int. Please, use InterpolationMode enum.\n",
            "  \"Argument interpolation should be of type InterpolationMode instead of int. \"\n",
            "/usr/local/lib/python3.7/dist-packages/torchvision/transforms/transforms.py:288: UserWarning: Argument interpolation should be of type InterpolationMode instead of int. Please, use InterpolationMode enum.\n",
            "  \"Argument interpolation should be of type InterpolationMode instead of int. \"\n",
            "/usr/local/lib/python3.7/dist-packages/torchvision/transforms/transforms.py:288: UserWarning: Argument interpolation should be of type InterpolationMode instead of int. Please, use InterpolationMode enum.\n",
            "  \"Argument interpolation should be of type InterpolationMode instead of int. \"\n",
            "/usr/local/lib/python3.7/dist-packages/torchvision/transforms/transforms.py:288: UserWarning: Argument interpolation should be of type InterpolationMode instead of int. Please, use InterpolationMode enum.\n",
            "  \"Argument interpolation should be of type InterpolationMode instead of int. \"\n",
            "/usr/local/lib/python3.7/dist-packages/torchvision/transforms/transforms.py:288: UserWarning: Argument interpolation should be of type InterpolationMode instead of int. Please, use InterpolationMode enum.\n",
            "  \"Argument interpolation should be of type InterpolationMode instead of int. \"\n",
            "/usr/local/lib/python3.7/dist-packages/torchvision/transforms/transforms.py:288: UserWarning: Argument interpolation should be of type InterpolationMode instead of int. Please, use InterpolationMode enum.\n",
            "  \"Argument interpolation should be of type InterpolationMode instead of int. \"\n",
            "/usr/local/lib/python3.7/dist-packages/torchvision/transforms/transforms.py:288: UserWarning: Argument interpolation should be of type InterpolationMode instead of int. Please, use InterpolationMode enum.\n",
            "  \"Argument interpolation should be of type InterpolationMode instead of int. \"\n"
          ]
        },
        {
          "metadata": {
            "tags": null
          },
          "name": "stdout",
          "output_type": "stream",
          "text": [
            "Train Epoch: 44 [240/8498 (3%)]\tLoss: 0.452764, Learning rate: 0.001000\n",
            "Train Epoch: 44 [480/8498 (6%)]\tLoss: 0.210318, Learning rate: 0.001000\n",
            "Train Epoch: 44 [720/8498 (8%)]\tLoss: 0.268172, Learning rate: 0.001000\n",
            "Train Epoch: 44 [960/8498 (11%)]\tLoss: 0.316754, Learning rate: 0.001000\n",
            "Train Epoch: 44 [1200/8498 (14%)]\tLoss: 0.398013, Learning rate: 0.001000\n",
            "Train Epoch: 44 [1440/8498 (17%)]\tLoss: 0.342564, Learning rate: 0.001000\n",
            "Train Epoch: 44 [1680/8498 (20%)]\tLoss: 0.257887, Learning rate: 0.001000\n",
            "Train Epoch: 44 [1920/8498 (23%)]\tLoss: 0.366200, Learning rate: 0.001000\n",
            "Train Epoch: 44 [2160/8498 (25%)]\tLoss: 0.406210, Learning rate: 0.001000\n",
            "Train Epoch: 44 [2400/8498 (28%)]\tLoss: 0.258535, Learning rate: 0.001000\n",
            "Train Epoch: 44 [2640/8498 (31%)]\tLoss: 0.224645, Learning rate: 0.001000\n",
            "Train Epoch: 44 [2880/8498 (34%)]\tLoss: 0.172791, Learning rate: 0.001000\n",
            "Train Epoch: 44 [3120/8498 (37%)]\tLoss: 0.429085, Learning rate: 0.001000\n",
            "Train Epoch: 44 [3360/8498 (39%)]\tLoss: 0.359552, Learning rate: 0.001000\n",
            "Train Epoch: 44 [3600/8498 (42%)]\tLoss: 0.324050, Learning rate: 0.001000\n",
            "Train Epoch: 44 [3840/8498 (45%)]\tLoss: 0.310227, Learning rate: 0.001000\n",
            "Train Epoch: 44 [4080/8498 (48%)]\tLoss: 0.300369, Learning rate: 0.001000\n",
            "Train Epoch: 44 [4320/8498 (51%)]\tLoss: 0.285310, Learning rate: 0.001000\n",
            "Train Epoch: 44 [4560/8498 (54%)]\tLoss: 0.359692, Learning rate: 0.001000\n",
            "Train Epoch: 44 [4800/8498 (56%)]\tLoss: 0.355859, Learning rate: 0.001000\n",
            "Train Epoch: 44 [5040/8498 (59%)]\tLoss: 0.376925, Learning rate: 0.001000\n",
            "Train Epoch: 44 [5280/8498 (62%)]\tLoss: 0.323473, Learning rate: 0.001000\n",
            "Train Epoch: 44 [5520/8498 (65%)]\tLoss: 0.279612, Learning rate: 0.001000\n",
            "Train Epoch: 44 [5760/8498 (68%)]\tLoss: 0.253106, Learning rate: 0.001000\n",
            "Train Epoch: 44 [6000/8498 (70%)]\tLoss: 0.258531, Learning rate: 0.001000\n",
            "Train Epoch: 44 [6240/8498 (73%)]\tLoss: 0.322173, Learning rate: 0.001000\n",
            "Train Epoch: 44 [6480/8498 (76%)]\tLoss: 0.312339, Learning rate: 0.001000\n",
            "Train Epoch: 44 [6720/8498 (79%)]\tLoss: 0.236415, Learning rate: 0.001000\n",
            "Train Epoch: 44 [6960/8498 (82%)]\tLoss: 0.295710, Learning rate: 0.001000\n",
            "Train Epoch: 44 [7200/8498 (85%)]\tLoss: 0.257134, Learning rate: 0.001000\n",
            "Train Epoch: 44 [7440/8498 (87%)]\tLoss: 0.242931, Learning rate: 0.001000\n",
            "Train Epoch: 44 [7680/8498 (90%)]\tLoss: 0.203204, Learning rate: 0.001000\n",
            "Train Epoch: 44 [7920/8498 (93%)]\tLoss: 0.221034, Learning rate: 0.001000\n",
            "Train Epoch: 44 [8160/8498 (96%)]\tLoss: 0.228095, Learning rate: 0.001000\n",
            "Train Epoch: 44 [8400/8498 (99%)]\tLoss: 0.305858, Learning rate: 0.001000\n"
          ]
        },
        {
          "metadata": {
            "tags": null
          },
          "name": "stderr",
          "output_type": "stream",
          "text": [
            "/usr/local/lib/python3.7/dist-packages/torchvision/transforms/transforms.py:288: UserWarning: Argument interpolation should be of type InterpolationMode instead of int. Please, use InterpolationMode enum.\n",
            "  \"Argument interpolation should be of type InterpolationMode instead of int. \"\n",
            "/usr/local/lib/python3.7/dist-packages/torchvision/transforms/transforms.py:288: UserWarning: Argument interpolation should be of type InterpolationMode instead of int. Please, use InterpolationMode enum.\n",
            "  \"Argument interpolation should be of type InterpolationMode instead of int. \"\n",
            "/usr/local/lib/python3.7/dist-packages/torchvision/transforms/transforms.py:288: UserWarning: Argument interpolation should be of type InterpolationMode instead of int. Please, use InterpolationMode enum.\n",
            "  \"Argument interpolation should be of type InterpolationMode instead of int. \"\n",
            "/usr/local/lib/python3.7/dist-packages/torchvision/transforms/transforms.py:288: UserWarning: Argument interpolation should be of type InterpolationMode instead of int. Please, use InterpolationMode enum.\n",
            "  \"Argument interpolation should be of type InterpolationMode instead of int. \"\n",
            "/usr/local/lib/python3.7/dist-packages/torchvision/transforms/transforms.py:288: UserWarning: Argument interpolation should be of type InterpolationMode instead of int. Please, use InterpolationMode enum.\n",
            "  \"Argument interpolation should be of type InterpolationMode instead of int. \"\n",
            "/usr/local/lib/python3.7/dist-packages/torchvision/transforms/transforms.py:288: UserWarning: Argument interpolation should be of type InterpolationMode instead of int. Please, use InterpolationMode enum.\n",
            "  \"Argument interpolation should be of type InterpolationMode instead of int. \"\n",
            "/usr/local/lib/python3.7/dist-packages/torchvision/transforms/transforms.py:288: UserWarning: Argument interpolation should be of type InterpolationMode instead of int. Please, use InterpolationMode enum.\n",
            "  \"Argument interpolation should be of type InterpolationMode instead of int. \"\n",
            "/usr/local/lib/python3.7/dist-packages/torchvision/transforms/transforms.py:288: UserWarning: Argument interpolation should be of type InterpolationMode instead of int. Please, use InterpolationMode enum.\n",
            "  \"Argument interpolation should be of type InterpolationMode instead of int. \"\n"
          ]
        },
        {
          "metadata": {
            "tags": null
          },
          "name": "stdout",
          "output_type": "stream",
          "text": [
            "\n",
            "Test set (736): Average loss: 0.6210, mIoU: 0.5808\n",
            "\n",
            "PSPnetLite training, epoch 45\n"
          ]
        },
        {
          "metadata": {
            "tags": null
          },
          "name": "stderr",
          "output_type": "stream",
          "text": [
            "/usr/local/lib/python3.7/dist-packages/torchvision/transforms/transforms.py:288: UserWarning: Argument interpolation should be of type InterpolationMode instead of int. Please, use InterpolationMode enum.\n",
            "  \"Argument interpolation should be of type InterpolationMode instead of int. \"\n",
            "/usr/local/lib/python3.7/dist-packages/torchvision/transforms/transforms.py:288: UserWarning: Argument interpolation should be of type InterpolationMode instead of int. Please, use InterpolationMode enum.\n",
            "  \"Argument interpolation should be of type InterpolationMode instead of int. \"\n",
            "/usr/local/lib/python3.7/dist-packages/torchvision/transforms/transforms.py:288: UserWarning: Argument interpolation should be of type InterpolationMode instead of int. Please, use InterpolationMode enum.\n",
            "  \"Argument interpolation should be of type InterpolationMode instead of int. \"\n",
            "/usr/local/lib/python3.7/dist-packages/torchvision/transforms/transforms.py:288: UserWarning: Argument interpolation should be of type InterpolationMode instead of int. Please, use InterpolationMode enum.\n",
            "  \"Argument interpolation should be of type InterpolationMode instead of int. \"\n",
            "/usr/local/lib/python3.7/dist-packages/torchvision/transforms/transforms.py:288: UserWarning: Argument interpolation should be of type InterpolationMode instead of int. Please, use InterpolationMode enum.\n",
            "  \"Argument interpolation should be of type InterpolationMode instead of int. \"\n",
            "/usr/local/lib/python3.7/dist-packages/torchvision/transforms/transforms.py:288: UserWarning: Argument interpolation should be of type InterpolationMode instead of int. Please, use InterpolationMode enum.\n",
            "  \"Argument interpolation should be of type InterpolationMode instead of int. \"\n",
            "/usr/local/lib/python3.7/dist-packages/torchvision/transforms/transforms.py:288: UserWarning: Argument interpolation should be of type InterpolationMode instead of int. Please, use InterpolationMode enum.\n",
            "  \"Argument interpolation should be of type InterpolationMode instead of int. \"\n",
            "/usr/local/lib/python3.7/dist-packages/torchvision/transforms/transforms.py:288: UserWarning: Argument interpolation should be of type InterpolationMode instead of int. Please, use InterpolationMode enum.\n",
            "  \"Argument interpolation should be of type InterpolationMode instead of int. \"\n"
          ]
        },
        {
          "metadata": {
            "tags": null
          },
          "name": "stdout",
          "output_type": "stream",
          "text": [
            "Train Epoch: 45 [240/8498 (3%)]\tLoss: 0.229894, Learning rate: 0.001000\n",
            "Train Epoch: 45 [480/8498 (6%)]\tLoss: 0.258695, Learning rate: 0.001000\n",
            "Train Epoch: 45 [720/8498 (8%)]\tLoss: 0.265265, Learning rate: 0.001000\n",
            "Train Epoch: 45 [960/8498 (11%)]\tLoss: 0.290621, Learning rate: 0.001000\n",
            "Train Epoch: 45 [1200/8498 (14%)]\tLoss: 0.189287, Learning rate: 0.001000\n",
            "Train Epoch: 45 [1440/8498 (17%)]\tLoss: 0.289056, Learning rate: 0.001000\n",
            "Train Epoch: 45 [1680/8498 (20%)]\tLoss: 0.494277, Learning rate: 0.001000\n",
            "Train Epoch: 45 [1920/8498 (23%)]\tLoss: 0.447559, Learning rate: 0.001000\n",
            "Train Epoch: 45 [2160/8498 (25%)]\tLoss: 0.204824, Learning rate: 0.001000\n",
            "Train Epoch: 45 [2400/8498 (28%)]\tLoss: 0.311739, Learning rate: 0.001000\n",
            "Train Epoch: 45 [2640/8498 (31%)]\tLoss: 0.248678, Learning rate: 0.001000\n",
            "Train Epoch: 45 [2880/8498 (34%)]\tLoss: 0.294223, Learning rate: 0.001000\n",
            "Train Epoch: 45 [3120/8498 (37%)]\tLoss: 0.272138, Learning rate: 0.001000\n",
            "Train Epoch: 45 [3360/8498 (39%)]\tLoss: 0.246844, Learning rate: 0.001000\n",
            "Train Epoch: 45 [3600/8498 (42%)]\tLoss: 0.266228, Learning rate: 0.001000\n",
            "Train Epoch: 45 [3840/8498 (45%)]\tLoss: 0.441372, Learning rate: 0.001000\n",
            "Train Epoch: 45 [4080/8498 (48%)]\tLoss: 0.153053, Learning rate: 0.001000\n",
            "Train Epoch: 45 [4320/8498 (51%)]\tLoss: 0.239802, Learning rate: 0.001000\n",
            "Train Epoch: 45 [4560/8498 (54%)]\tLoss: 0.310934, Learning rate: 0.001000\n",
            "Train Epoch: 45 [4800/8498 (56%)]\tLoss: 0.304162, Learning rate: 0.001000\n",
            "Train Epoch: 45 [5040/8498 (59%)]\tLoss: 0.354302, Learning rate: 0.001000\n",
            "Train Epoch: 45 [5280/8498 (62%)]\tLoss: 0.352991, Learning rate: 0.001000\n",
            "Train Epoch: 45 [5520/8498 (65%)]\tLoss: 0.301781, Learning rate: 0.001000\n",
            "Train Epoch: 45 [5760/8498 (68%)]\tLoss: 0.232256, Learning rate: 0.001000\n",
            "Train Epoch: 45 [6000/8498 (70%)]\tLoss: 0.334940, Learning rate: 0.001000\n",
            "Train Epoch: 45 [6240/8498 (73%)]\tLoss: 0.400449, Learning rate: 0.001000\n",
            "Train Epoch: 45 [6480/8498 (76%)]\tLoss: 0.291333, Learning rate: 0.001000\n",
            "Train Epoch: 45 [6720/8498 (79%)]\tLoss: 0.212224, Learning rate: 0.001000\n",
            "Train Epoch: 45 [6960/8498 (82%)]\tLoss: 0.284816, Learning rate: 0.001000\n",
            "Train Epoch: 45 [7200/8498 (85%)]\tLoss: 0.323411, Learning rate: 0.001000\n",
            "Train Epoch: 45 [7440/8498 (87%)]\tLoss: 0.286427, Learning rate: 0.001000\n",
            "Train Epoch: 45 [7680/8498 (90%)]\tLoss: 0.349289, Learning rate: 0.001000\n",
            "Train Epoch: 45 [7920/8498 (93%)]\tLoss: 0.292543, Learning rate: 0.001000\n",
            "Train Epoch: 45 [8160/8498 (96%)]\tLoss: 0.365750, Learning rate: 0.001000\n",
            "Train Epoch: 45 [8400/8498 (99%)]\tLoss: 0.364934, Learning rate: 0.001000\n"
          ]
        },
        {
          "metadata": {
            "tags": null
          },
          "name": "stderr",
          "output_type": "stream",
          "text": [
            "/usr/local/lib/python3.7/dist-packages/torchvision/transforms/transforms.py:288: UserWarning: Argument interpolation should be of type InterpolationMode instead of int. Please, use InterpolationMode enum.\n",
            "  \"Argument interpolation should be of type InterpolationMode instead of int. \"\n",
            "/usr/local/lib/python3.7/dist-packages/torchvision/transforms/transforms.py:288: UserWarning: Argument interpolation should be of type InterpolationMode instead of int. Please, use InterpolationMode enum.\n",
            "  \"Argument interpolation should be of type InterpolationMode instead of int. \"\n",
            "/usr/local/lib/python3.7/dist-packages/torchvision/transforms/transforms.py:288: UserWarning: Argument interpolation should be of type InterpolationMode instead of int. Please, use InterpolationMode enum.\n",
            "  \"Argument interpolation should be of type InterpolationMode instead of int. \"\n",
            "/usr/local/lib/python3.7/dist-packages/torchvision/transforms/transforms.py:288: UserWarning: Argument interpolation should be of type InterpolationMode instead of int. Please, use InterpolationMode enum.\n",
            "  \"Argument interpolation should be of type InterpolationMode instead of int. \"\n",
            "/usr/local/lib/python3.7/dist-packages/torchvision/transforms/transforms.py:288: UserWarning: Argument interpolation should be of type InterpolationMode instead of int. Please, use InterpolationMode enum.\n",
            "  \"Argument interpolation should be of type InterpolationMode instead of int. \"\n",
            "/usr/local/lib/python3.7/dist-packages/torchvision/transforms/transforms.py:288: UserWarning: Argument interpolation should be of type InterpolationMode instead of int. Please, use InterpolationMode enum.\n",
            "  \"Argument interpolation should be of type InterpolationMode instead of int. \"\n",
            "/usr/local/lib/python3.7/dist-packages/torchvision/transforms/transforms.py:288: UserWarning: Argument interpolation should be of type InterpolationMode instead of int. Please, use InterpolationMode enum.\n",
            "  \"Argument interpolation should be of type InterpolationMode instead of int. \"\n",
            "/usr/local/lib/python3.7/dist-packages/torchvision/transforms/transforms.py:288: UserWarning: Argument interpolation should be of type InterpolationMode instead of int. Please, use InterpolationMode enum.\n",
            "  \"Argument interpolation should be of type InterpolationMode instead of int. \"\n"
          ]
        },
        {
          "metadata": {
            "tags": null
          },
          "name": "stdout",
          "output_type": "stream",
          "text": [
            "\n",
            "Test set (736): Average loss: 0.6607, mIoU: 0.5803\n",
            "\n",
            "PSPnetLite training, epoch 46\n"
          ]
        },
        {
          "metadata": {
            "tags": null
          },
          "name": "stderr",
          "output_type": "stream",
          "text": [
            "/usr/local/lib/python3.7/dist-packages/torchvision/transforms/transforms.py:288: UserWarning: Argument interpolation should be of type InterpolationMode instead of int. Please, use InterpolationMode enum.\n",
            "  \"Argument interpolation should be of type InterpolationMode instead of int. \"\n",
            "/usr/local/lib/python3.7/dist-packages/torchvision/transforms/transforms.py:288: UserWarning: Argument interpolation should be of type InterpolationMode instead of int. Please, use InterpolationMode enum.\n",
            "  \"Argument interpolation should be of type InterpolationMode instead of int. \"\n",
            "/usr/local/lib/python3.7/dist-packages/torchvision/transforms/transforms.py:288: UserWarning: Argument interpolation should be of type InterpolationMode instead of int. Please, use InterpolationMode enum.\n",
            "  \"Argument interpolation should be of type InterpolationMode instead of int. \"\n",
            "/usr/local/lib/python3.7/dist-packages/torchvision/transforms/transforms.py:288: UserWarning: Argument interpolation should be of type InterpolationMode instead of int. Please, use InterpolationMode enum.\n",
            "  \"Argument interpolation should be of type InterpolationMode instead of int. \"\n",
            "/usr/local/lib/python3.7/dist-packages/torchvision/transforms/transforms.py:288: UserWarning: Argument interpolation should be of type InterpolationMode instead of int. Please, use InterpolationMode enum.\n",
            "  \"Argument interpolation should be of type InterpolationMode instead of int. \"\n",
            "/usr/local/lib/python3.7/dist-packages/torchvision/transforms/transforms.py:288: UserWarning: Argument interpolation should be of type InterpolationMode instead of int. Please, use InterpolationMode enum.\n",
            "  \"Argument interpolation should be of type InterpolationMode instead of int. \"\n",
            "/usr/local/lib/python3.7/dist-packages/torchvision/transforms/transforms.py:288: UserWarning: Argument interpolation should be of type InterpolationMode instead of int. Please, use InterpolationMode enum.\n",
            "  \"Argument interpolation should be of type InterpolationMode instead of int. \"\n",
            "/usr/local/lib/python3.7/dist-packages/torchvision/transforms/transforms.py:288: UserWarning: Argument interpolation should be of type InterpolationMode instead of int. Please, use InterpolationMode enum.\n",
            "  \"Argument interpolation should be of type InterpolationMode instead of int. \"\n"
          ]
        },
        {
          "metadata": {
            "tags": null
          },
          "name": "stdout",
          "output_type": "stream",
          "text": [
            "Train Epoch: 46 [240/8498 (3%)]\tLoss: 0.297644, Learning rate: 0.001000\n",
            "Train Epoch: 46 [480/8498 (6%)]\tLoss: 0.328302, Learning rate: 0.001000\n",
            "Train Epoch: 46 [720/8498 (8%)]\tLoss: 0.330760, Learning rate: 0.001000\n",
            "Train Epoch: 46 [960/8498 (11%)]\tLoss: 0.350617, Learning rate: 0.001000\n",
            "Train Epoch: 46 [1200/8498 (14%)]\tLoss: 0.390501, Learning rate: 0.001000\n",
            "Train Epoch: 46 [1440/8498 (17%)]\tLoss: 0.325190, Learning rate: 0.001000\n",
            "Train Epoch: 46 [1680/8498 (20%)]\tLoss: 0.317569, Learning rate: 0.001000\n",
            "Train Epoch: 46 [1920/8498 (23%)]\tLoss: 0.244415, Learning rate: 0.001000\n",
            "Train Epoch: 46 [2160/8498 (25%)]\tLoss: 0.299411, Learning rate: 0.001000\n",
            "Train Epoch: 46 [2400/8498 (28%)]\tLoss: 0.527292, Learning rate: 0.001000\n",
            "Train Epoch: 46 [2640/8498 (31%)]\tLoss: 0.334909, Learning rate: 0.001000\n",
            "Train Epoch: 46 [2880/8498 (34%)]\tLoss: 0.248181, Learning rate: 0.001000\n",
            "Train Epoch: 46 [3120/8498 (37%)]\tLoss: 0.341013, Learning rate: 0.001000\n",
            "Train Epoch: 46 [3360/8498 (39%)]\tLoss: 0.300309, Learning rate: 0.001000\n",
            "Train Epoch: 46 [3600/8498 (42%)]\tLoss: 0.305497, Learning rate: 0.001000\n",
            "Train Epoch: 46 [3840/8498 (45%)]\tLoss: 0.327419, Learning rate: 0.001000\n",
            "Train Epoch: 46 [4080/8498 (48%)]\tLoss: 0.297468, Learning rate: 0.001000\n",
            "Train Epoch: 46 [4320/8498 (51%)]\tLoss: 0.209188, Learning rate: 0.001000\n",
            "Train Epoch: 46 [4560/8498 (54%)]\tLoss: 0.325421, Learning rate: 0.001000\n",
            "Train Epoch: 46 [4800/8498 (56%)]\tLoss: 0.373613, Learning rate: 0.001000\n",
            "Train Epoch: 46 [5040/8498 (59%)]\tLoss: 0.260593, Learning rate: 0.001000\n",
            "Train Epoch: 46 [5280/8498 (62%)]\tLoss: 0.311230, Learning rate: 0.001000\n",
            "Train Epoch: 46 [5520/8498 (65%)]\tLoss: 0.244360, Learning rate: 0.001000\n",
            "Train Epoch: 46 [5760/8498 (68%)]\tLoss: 0.165539, Learning rate: 0.001000\n",
            "Train Epoch: 46 [6000/8498 (70%)]\tLoss: 0.301814, Learning rate: 0.001000\n",
            "Train Epoch: 46 [6240/8498 (73%)]\tLoss: 0.217764, Learning rate: 0.001000\n",
            "Train Epoch: 46 [6480/8498 (76%)]\tLoss: 0.366820, Learning rate: 0.001000\n",
            "Train Epoch: 46 [6720/8498 (79%)]\tLoss: 0.438535, Learning rate: 0.001000\n",
            "Train Epoch: 46 [6960/8498 (82%)]\tLoss: 0.377283, Learning rate: 0.001000\n",
            "Train Epoch: 46 [7200/8498 (85%)]\tLoss: 0.340151, Learning rate: 0.001000\n",
            "Train Epoch: 46 [7440/8498 (87%)]\tLoss: 0.292550, Learning rate: 0.001000\n",
            "Train Epoch: 46 [7680/8498 (90%)]\tLoss: 0.322016, Learning rate: 0.001000\n",
            "Train Epoch: 46 [7920/8498 (93%)]\tLoss: 0.266004, Learning rate: 0.001000\n",
            "Train Epoch: 46 [8160/8498 (96%)]\tLoss: 0.338175, Learning rate: 0.001000\n",
            "Train Epoch: 46 [8400/8498 (99%)]\tLoss: 0.167056, Learning rate: 0.001000\n"
          ]
        },
        {
          "metadata": {
            "tags": null
          },
          "name": "stderr",
          "output_type": "stream",
          "text": [
            "/usr/local/lib/python3.7/dist-packages/torchvision/transforms/transforms.py:288: UserWarning: Argument interpolation should be of type InterpolationMode instead of int. Please, use InterpolationMode enum.\n",
            "  \"Argument interpolation should be of type InterpolationMode instead of int. \"\n",
            "/usr/local/lib/python3.7/dist-packages/torchvision/transforms/transforms.py:288: UserWarning: Argument interpolation should be of type InterpolationMode instead of int. Please, use InterpolationMode enum.\n",
            "  \"Argument interpolation should be of type InterpolationMode instead of int. \"\n",
            "/usr/local/lib/python3.7/dist-packages/torchvision/transforms/transforms.py:288: UserWarning: Argument interpolation should be of type InterpolationMode instead of int. Please, use InterpolationMode enum.\n",
            "  \"Argument interpolation should be of type InterpolationMode instead of int. \"\n",
            "/usr/local/lib/python3.7/dist-packages/torchvision/transforms/transforms.py:288: UserWarning: Argument interpolation should be of type InterpolationMode instead of int. Please, use InterpolationMode enum.\n",
            "  \"Argument interpolation should be of type InterpolationMode instead of int. \"\n",
            "/usr/local/lib/python3.7/dist-packages/torchvision/transforms/transforms.py:288: UserWarning: Argument interpolation should be of type InterpolationMode instead of int. Please, use InterpolationMode enum.\n",
            "  \"Argument interpolation should be of type InterpolationMode instead of int. \"\n",
            "/usr/local/lib/python3.7/dist-packages/torchvision/transforms/transforms.py:288: UserWarning: Argument interpolation should be of type InterpolationMode instead of int. Please, use InterpolationMode enum.\n",
            "  \"Argument interpolation should be of type InterpolationMode instead of int. \"\n",
            "/usr/local/lib/python3.7/dist-packages/torchvision/transforms/transforms.py:288: UserWarning: Argument interpolation should be of type InterpolationMode instead of int. Please, use InterpolationMode enum.\n",
            "  \"Argument interpolation should be of type InterpolationMode instead of int. \"\n",
            "/usr/local/lib/python3.7/dist-packages/torchvision/transforms/transforms.py:288: UserWarning: Argument interpolation should be of type InterpolationMode instead of int. Please, use InterpolationMode enum.\n",
            "  \"Argument interpolation should be of type InterpolationMode instead of int. \"\n"
          ]
        },
        {
          "metadata": {
            "tags": null
          },
          "name": "stdout",
          "output_type": "stream",
          "text": [
            "\n",
            "Test set (736): Average loss: 0.6133, mIoU: 0.5963\n",
            "\n",
            "PSPnetLite training, epoch 47\n"
          ]
        },
        {
          "metadata": {
            "tags": null
          },
          "name": "stderr",
          "output_type": "stream",
          "text": [
            "/usr/local/lib/python3.7/dist-packages/torchvision/transforms/transforms.py:288: UserWarning: Argument interpolation should be of type InterpolationMode instead of int. Please, use InterpolationMode enum.\n",
            "  \"Argument interpolation should be of type InterpolationMode instead of int. \"\n",
            "/usr/local/lib/python3.7/dist-packages/torchvision/transforms/transforms.py:288: UserWarning: Argument interpolation should be of type InterpolationMode instead of int. Please, use InterpolationMode enum.\n",
            "  \"Argument interpolation should be of type InterpolationMode instead of int. \"\n",
            "/usr/local/lib/python3.7/dist-packages/torchvision/transforms/transforms.py:288: UserWarning: Argument interpolation should be of type InterpolationMode instead of int. Please, use InterpolationMode enum.\n",
            "  \"Argument interpolation should be of type InterpolationMode instead of int. \"\n",
            "/usr/local/lib/python3.7/dist-packages/torchvision/transforms/transforms.py:288: UserWarning: Argument interpolation should be of type InterpolationMode instead of int. Please, use InterpolationMode enum.\n",
            "  \"Argument interpolation should be of type InterpolationMode instead of int. \"\n",
            "/usr/local/lib/python3.7/dist-packages/torchvision/transforms/transforms.py:288: UserWarning: Argument interpolation should be of type InterpolationMode instead of int. Please, use InterpolationMode enum.\n",
            "  \"Argument interpolation should be of type InterpolationMode instead of int. \"\n",
            "/usr/local/lib/python3.7/dist-packages/torchvision/transforms/transforms.py:288: UserWarning: Argument interpolation should be of type InterpolationMode instead of int. Please, use InterpolationMode enum.\n",
            "  \"Argument interpolation should be of type InterpolationMode instead of int. \"\n",
            "/usr/local/lib/python3.7/dist-packages/torchvision/transforms/transforms.py:288: UserWarning: Argument interpolation should be of type InterpolationMode instead of int. Please, use InterpolationMode enum.\n",
            "  \"Argument interpolation should be of type InterpolationMode instead of int. \"\n",
            "/usr/local/lib/python3.7/dist-packages/torchvision/transforms/transforms.py:288: UserWarning: Argument interpolation should be of type InterpolationMode instead of int. Please, use InterpolationMode enum.\n",
            "  \"Argument interpolation should be of type InterpolationMode instead of int. \"\n"
          ]
        },
        {
          "metadata": {
            "tags": null
          },
          "name": "stdout",
          "output_type": "stream",
          "text": [
            "Train Epoch: 47 [240/8498 (3%)]\tLoss: 0.264685, Learning rate: 0.001000\n",
            "Train Epoch: 47 [480/8498 (6%)]\tLoss: 0.211575, Learning rate: 0.001000\n",
            "Train Epoch: 47 [720/8498 (8%)]\tLoss: 0.539468, Learning rate: 0.001000\n",
            "Train Epoch: 47 [960/8498 (11%)]\tLoss: 0.289369, Learning rate: 0.001000\n",
            "Train Epoch: 47 [1200/8498 (14%)]\tLoss: 0.259906, Learning rate: 0.001000\n",
            "Train Epoch: 47 [1440/8498 (17%)]\tLoss: 0.237857, Learning rate: 0.001000\n",
            "Train Epoch: 47 [1680/8498 (20%)]\tLoss: 0.242052, Learning rate: 0.001000\n",
            "Train Epoch: 47 [1920/8498 (23%)]\tLoss: 0.261627, Learning rate: 0.001000\n",
            "Train Epoch: 47 [2160/8498 (25%)]\tLoss: 0.248632, Learning rate: 0.001000\n",
            "Train Epoch: 47 [2400/8498 (28%)]\tLoss: 0.231858, Learning rate: 0.001000\n",
            "Train Epoch: 47 [2640/8498 (31%)]\tLoss: 0.304790, Learning rate: 0.001000\n",
            "Train Epoch: 47 [2880/8498 (34%)]\tLoss: 0.284877, Learning rate: 0.001000\n",
            "Train Epoch: 47 [3120/8498 (37%)]\tLoss: 0.256985, Learning rate: 0.001000\n",
            "Train Epoch: 47 [3360/8498 (39%)]\tLoss: 0.339244, Learning rate: 0.001000\n",
            "Train Epoch: 47 [3600/8498 (42%)]\tLoss: 0.247078, Learning rate: 0.001000\n",
            "Train Epoch: 47 [3840/8498 (45%)]\tLoss: 0.248580, Learning rate: 0.001000\n",
            "Train Epoch: 47 [4080/8498 (48%)]\tLoss: 0.289832, Learning rate: 0.001000\n",
            "Train Epoch: 47 [4320/8498 (51%)]\tLoss: 0.301402, Learning rate: 0.001000\n",
            "Train Epoch: 47 [4560/8498 (54%)]\tLoss: 0.359909, Learning rate: 0.001000\n",
            "Train Epoch: 47 [4800/8498 (56%)]\tLoss: 0.187456, Learning rate: 0.001000\n",
            "Train Epoch: 47 [5040/8498 (59%)]\tLoss: 0.361509, Learning rate: 0.001000\n",
            "Train Epoch: 47 [5280/8498 (62%)]\tLoss: 0.216911, Learning rate: 0.001000\n",
            "Train Epoch: 47 [5520/8498 (65%)]\tLoss: 0.188238, Learning rate: 0.001000\n",
            "Train Epoch: 47 [5760/8498 (68%)]\tLoss: 0.262408, Learning rate: 0.001000\n",
            "Train Epoch: 47 [6000/8498 (70%)]\tLoss: 0.357355, Learning rate: 0.001000\n",
            "Train Epoch: 47 [6240/8498 (73%)]\tLoss: 0.228922, Learning rate: 0.001000\n",
            "Train Epoch: 47 [6480/8498 (76%)]\tLoss: 0.203578, Learning rate: 0.001000\n",
            "Train Epoch: 47 [6720/8498 (79%)]\tLoss: 0.186137, Learning rate: 0.001000\n",
            "Train Epoch: 47 [6960/8498 (82%)]\tLoss: 0.295541, Learning rate: 0.001000\n",
            "Train Epoch: 47 [7200/8498 (85%)]\tLoss: 0.199847, Learning rate: 0.001000\n",
            "Train Epoch: 47 [7440/8498 (87%)]\tLoss: 0.229524, Learning rate: 0.001000\n",
            "Train Epoch: 47 [7680/8498 (90%)]\tLoss: 0.290694, Learning rate: 0.001000\n",
            "Train Epoch: 47 [7920/8498 (93%)]\tLoss: 0.317649, Learning rate: 0.001000\n",
            "Train Epoch: 47 [8160/8498 (96%)]\tLoss: 0.420288, Learning rate: 0.001000\n",
            "Train Epoch: 47 [8400/8498 (99%)]\tLoss: 0.222452, Learning rate: 0.001000\n"
          ]
        },
        {
          "metadata": {
            "tags": null
          },
          "name": "stderr",
          "output_type": "stream",
          "text": [
            "/usr/local/lib/python3.7/dist-packages/torchvision/transforms/transforms.py:288: UserWarning: Argument interpolation should be of type InterpolationMode instead of int. Please, use InterpolationMode enum.\n",
            "  \"Argument interpolation should be of type InterpolationMode instead of int. \"\n",
            "/usr/local/lib/python3.7/dist-packages/torchvision/transforms/transforms.py:288: UserWarning: Argument interpolation should be of type InterpolationMode instead of int. Please, use InterpolationMode enum.\n",
            "  \"Argument interpolation should be of type InterpolationMode instead of int. \"\n",
            "/usr/local/lib/python3.7/dist-packages/torchvision/transforms/transforms.py:288: UserWarning: Argument interpolation should be of type InterpolationMode instead of int. Please, use InterpolationMode enum.\n",
            "  \"Argument interpolation should be of type InterpolationMode instead of int. \"\n",
            "/usr/local/lib/python3.7/dist-packages/torchvision/transforms/transforms.py:288: UserWarning: Argument interpolation should be of type InterpolationMode instead of int. Please, use InterpolationMode enum.\n",
            "  \"Argument interpolation should be of type InterpolationMode instead of int. \"\n",
            "/usr/local/lib/python3.7/dist-packages/torchvision/transforms/transforms.py:288: UserWarning: Argument interpolation should be of type InterpolationMode instead of int. Please, use InterpolationMode enum.\n",
            "  \"Argument interpolation should be of type InterpolationMode instead of int. \"\n",
            "/usr/local/lib/python3.7/dist-packages/torchvision/transforms/transforms.py:288: UserWarning: Argument interpolation should be of type InterpolationMode instead of int. Please, use InterpolationMode enum.\n",
            "  \"Argument interpolation should be of type InterpolationMode instead of int. \"\n",
            "/usr/local/lib/python3.7/dist-packages/torchvision/transforms/transforms.py:288: UserWarning: Argument interpolation should be of type InterpolationMode instead of int. Please, use InterpolationMode enum.\n",
            "  \"Argument interpolation should be of type InterpolationMode instead of int. \"\n",
            "/usr/local/lib/python3.7/dist-packages/torchvision/transforms/transforms.py:288: UserWarning: Argument interpolation should be of type InterpolationMode instead of int. Please, use InterpolationMode enum.\n",
            "  \"Argument interpolation should be of type InterpolationMode instead of int. \"\n"
          ]
        },
        {
          "metadata": {
            "tags": null
          },
          "name": "stdout",
          "output_type": "stream",
          "text": [
            "\n",
            "Test set (736): Average loss: 0.5995, mIoU: 0.6019\n",
            "\n",
            "PSPnetLite training, epoch 48\n"
          ]
        },
        {
          "metadata": {
            "tags": null
          },
          "name": "stderr",
          "output_type": "stream",
          "text": [
            "/usr/local/lib/python3.7/dist-packages/torchvision/transforms/transforms.py:288: UserWarning: Argument interpolation should be of type InterpolationMode instead of int. Please, use InterpolationMode enum.\n",
            "  \"Argument interpolation should be of type InterpolationMode instead of int. \"\n",
            "/usr/local/lib/python3.7/dist-packages/torchvision/transforms/transforms.py:288: UserWarning: Argument interpolation should be of type InterpolationMode instead of int. Please, use InterpolationMode enum.\n",
            "  \"Argument interpolation should be of type InterpolationMode instead of int. \"\n",
            "/usr/local/lib/python3.7/dist-packages/torchvision/transforms/transforms.py:288: UserWarning: Argument interpolation should be of type InterpolationMode instead of int. Please, use InterpolationMode enum.\n",
            "  \"Argument interpolation should be of type InterpolationMode instead of int. \"\n",
            "/usr/local/lib/python3.7/dist-packages/torchvision/transforms/transforms.py:288: UserWarning: Argument interpolation should be of type InterpolationMode instead of int. Please, use InterpolationMode enum.\n",
            "  \"Argument interpolation should be of type InterpolationMode instead of int. \"\n",
            "/usr/local/lib/python3.7/dist-packages/torchvision/transforms/transforms.py:288: UserWarning: Argument interpolation should be of type InterpolationMode instead of int. Please, use InterpolationMode enum.\n",
            "  \"Argument interpolation should be of type InterpolationMode instead of int. \"\n",
            "/usr/local/lib/python3.7/dist-packages/torchvision/transforms/transforms.py:288: UserWarning: Argument interpolation should be of type InterpolationMode instead of int. Please, use InterpolationMode enum.\n",
            "  \"Argument interpolation should be of type InterpolationMode instead of int. \"\n",
            "/usr/local/lib/python3.7/dist-packages/torchvision/transforms/transforms.py:288: UserWarning: Argument interpolation should be of type InterpolationMode instead of int. Please, use InterpolationMode enum.\n",
            "  \"Argument interpolation should be of type InterpolationMode instead of int. \"\n",
            "/usr/local/lib/python3.7/dist-packages/torchvision/transforms/transforms.py:288: UserWarning: Argument interpolation should be of type InterpolationMode instead of int. Please, use InterpolationMode enum.\n",
            "  \"Argument interpolation should be of type InterpolationMode instead of int. \"\n"
          ]
        },
        {
          "metadata": {
            "tags": null
          },
          "name": "stdout",
          "output_type": "stream",
          "text": [
            "Train Epoch: 48 [240/8498 (3%)]\tLoss: 0.321887, Learning rate: 0.001000\n",
            "Train Epoch: 48 [480/8498 (6%)]\tLoss: 0.224102, Learning rate: 0.001000\n",
            "Train Epoch: 48 [720/8498 (8%)]\tLoss: 0.254426, Learning rate: 0.001000\n",
            "Train Epoch: 48 [960/8498 (11%)]\tLoss: 0.317171, Learning rate: 0.001000\n",
            "Train Epoch: 48 [1200/8498 (14%)]\tLoss: 0.194442, Learning rate: 0.001000\n",
            "Train Epoch: 48 [1440/8498 (17%)]\tLoss: 0.309719, Learning rate: 0.001000\n",
            "Train Epoch: 48 [1680/8498 (20%)]\tLoss: 0.344548, Learning rate: 0.001000\n",
            "Train Epoch: 48 [1920/8498 (23%)]\tLoss: 0.449327, Learning rate: 0.001000\n",
            "Train Epoch: 48 [2160/8498 (25%)]\tLoss: 0.266932, Learning rate: 0.001000\n",
            "Train Epoch: 48 [2400/8498 (28%)]\tLoss: 0.278254, Learning rate: 0.001000\n",
            "Train Epoch: 48 [2640/8498 (31%)]\tLoss: 0.257693, Learning rate: 0.001000\n",
            "Train Epoch: 48 [2880/8498 (34%)]\tLoss: 0.258028, Learning rate: 0.001000\n",
            "Train Epoch: 48 [3120/8498 (37%)]\tLoss: 0.248229, Learning rate: 0.001000\n",
            "Train Epoch: 48 [3360/8498 (39%)]\tLoss: 0.410577, Learning rate: 0.001000\n",
            "Train Epoch: 48 [3600/8498 (42%)]\tLoss: 0.291895, Learning rate: 0.001000\n",
            "Train Epoch: 48 [3840/8498 (45%)]\tLoss: 0.338213, Learning rate: 0.001000\n",
            "Train Epoch: 48 [4080/8498 (48%)]\tLoss: 0.313765, Learning rate: 0.001000\n",
            "Train Epoch: 48 [4320/8498 (51%)]\tLoss: 0.404922, Learning rate: 0.001000\n",
            "Train Epoch: 48 [4560/8498 (54%)]\tLoss: 0.358620, Learning rate: 0.001000\n",
            "Train Epoch: 48 [4800/8498 (56%)]\tLoss: 0.232589, Learning rate: 0.001000\n",
            "Train Epoch: 48 [5040/8498 (59%)]\tLoss: 0.331112, Learning rate: 0.001000\n",
            "Train Epoch: 48 [5280/8498 (62%)]\tLoss: 0.255055, Learning rate: 0.001000\n",
            "Train Epoch: 48 [5520/8498 (65%)]\tLoss: 0.235155, Learning rate: 0.001000\n",
            "Train Epoch: 48 [5760/8498 (68%)]\tLoss: 0.219711, Learning rate: 0.001000\n",
            "Train Epoch: 48 [6000/8498 (70%)]\tLoss: 0.209581, Learning rate: 0.001000\n",
            "Train Epoch: 48 [6240/8498 (73%)]\tLoss: 0.333406, Learning rate: 0.001000\n",
            "Train Epoch: 48 [6480/8498 (76%)]\tLoss: 0.239845, Learning rate: 0.001000\n",
            "Train Epoch: 48 [6720/8498 (79%)]\tLoss: 0.240820, Learning rate: 0.001000\n",
            "Train Epoch: 48 [6960/8498 (82%)]\tLoss: 0.274426, Learning rate: 0.001000\n",
            "Train Epoch: 48 [7200/8498 (85%)]\tLoss: 0.304610, Learning rate: 0.001000\n",
            "Train Epoch: 48 [7440/8498 (87%)]\tLoss: 0.295108, Learning rate: 0.001000\n",
            "Train Epoch: 48 [7680/8498 (90%)]\tLoss: 0.184955, Learning rate: 0.001000\n",
            "Train Epoch: 48 [7920/8498 (93%)]\tLoss: 0.279418, Learning rate: 0.001000\n",
            "Train Epoch: 48 [8160/8498 (96%)]\tLoss: 0.260991, Learning rate: 0.001000\n",
            "Train Epoch: 48 [8400/8498 (99%)]\tLoss: 0.229282, Learning rate: 0.001000\n"
          ]
        },
        {
          "metadata": {
            "tags": null
          },
          "name": "stderr",
          "output_type": "stream",
          "text": [
            "/usr/local/lib/python3.7/dist-packages/torchvision/transforms/transforms.py:288: UserWarning: Argument interpolation should be of type InterpolationMode instead of int. Please, use InterpolationMode enum.\n",
            "  \"Argument interpolation should be of type InterpolationMode instead of int. \"\n",
            "/usr/local/lib/python3.7/dist-packages/torchvision/transforms/transforms.py:288: UserWarning: Argument interpolation should be of type InterpolationMode instead of int. Please, use InterpolationMode enum.\n",
            "  \"Argument interpolation should be of type InterpolationMode instead of int. \"\n",
            "/usr/local/lib/python3.7/dist-packages/torchvision/transforms/transforms.py:288: UserWarning: Argument interpolation should be of type InterpolationMode instead of int. Please, use InterpolationMode enum.\n",
            "  \"Argument interpolation should be of type InterpolationMode instead of int. \"\n",
            "/usr/local/lib/python3.7/dist-packages/torchvision/transforms/transforms.py:288: UserWarning: Argument interpolation should be of type InterpolationMode instead of int. Please, use InterpolationMode enum.\n",
            "  \"Argument interpolation should be of type InterpolationMode instead of int. \"\n",
            "/usr/local/lib/python3.7/dist-packages/torchvision/transforms/transforms.py:288: UserWarning: Argument interpolation should be of type InterpolationMode instead of int. Please, use InterpolationMode enum.\n",
            "  \"Argument interpolation should be of type InterpolationMode instead of int. \"\n",
            "/usr/local/lib/python3.7/dist-packages/torchvision/transforms/transforms.py:288: UserWarning: Argument interpolation should be of type InterpolationMode instead of int. Please, use InterpolationMode enum.\n",
            "  \"Argument interpolation should be of type InterpolationMode instead of int. \"\n",
            "/usr/local/lib/python3.7/dist-packages/torchvision/transforms/transforms.py:288: UserWarning: Argument interpolation should be of type InterpolationMode instead of int. Please, use InterpolationMode enum.\n",
            "  \"Argument interpolation should be of type InterpolationMode instead of int. \"\n",
            "/usr/local/lib/python3.7/dist-packages/torchvision/transforms/transforms.py:288: UserWarning: Argument interpolation should be of type InterpolationMode instead of int. Please, use InterpolationMode enum.\n",
            "  \"Argument interpolation should be of type InterpolationMode instead of int. \"\n"
          ]
        },
        {
          "metadata": {
            "tags": null
          },
          "name": "stdout",
          "output_type": "stream",
          "text": [
            "\n",
            "Test set (736): Average loss: 0.6275, mIoU: 0.5854\n",
            "\n",
            "PSPnetLite training, epoch 49\n"
          ]
        },
        {
          "metadata": {
            "tags": null
          },
          "name": "stderr",
          "output_type": "stream",
          "text": [
            "/usr/local/lib/python3.7/dist-packages/torchvision/transforms/transforms.py:288: UserWarning: Argument interpolation should be of type InterpolationMode instead of int. Please, use InterpolationMode enum.\n",
            "  \"Argument interpolation should be of type InterpolationMode instead of int. \"\n",
            "/usr/local/lib/python3.7/dist-packages/torchvision/transforms/transforms.py:288: UserWarning: Argument interpolation should be of type InterpolationMode instead of int. Please, use InterpolationMode enum.\n",
            "  \"Argument interpolation should be of type InterpolationMode instead of int. \"\n",
            "/usr/local/lib/python3.7/dist-packages/torchvision/transforms/transforms.py:288: UserWarning: Argument interpolation should be of type InterpolationMode instead of int. Please, use InterpolationMode enum.\n",
            "  \"Argument interpolation should be of type InterpolationMode instead of int. \"\n",
            "/usr/local/lib/python3.7/dist-packages/torchvision/transforms/transforms.py:288: UserWarning: Argument interpolation should be of type InterpolationMode instead of int. Please, use InterpolationMode enum.\n",
            "  \"Argument interpolation should be of type InterpolationMode instead of int. \"\n",
            "/usr/local/lib/python3.7/dist-packages/torchvision/transforms/transforms.py:288: UserWarning: Argument interpolation should be of type InterpolationMode instead of int. Please, use InterpolationMode enum.\n",
            "  \"Argument interpolation should be of type InterpolationMode instead of int. \"\n",
            "/usr/local/lib/python3.7/dist-packages/torchvision/transforms/transforms.py:288: UserWarning: Argument interpolation should be of type InterpolationMode instead of int. Please, use InterpolationMode enum.\n",
            "  \"Argument interpolation should be of type InterpolationMode instead of int. \"\n",
            "/usr/local/lib/python3.7/dist-packages/torchvision/transforms/transforms.py:288: UserWarning: Argument interpolation should be of type InterpolationMode instead of int. Please, use InterpolationMode enum.\n",
            "  \"Argument interpolation should be of type InterpolationMode instead of int. \"\n",
            "/usr/local/lib/python3.7/dist-packages/torchvision/transforms/transforms.py:288: UserWarning: Argument interpolation should be of type InterpolationMode instead of int. Please, use InterpolationMode enum.\n",
            "  \"Argument interpolation should be of type InterpolationMode instead of int. \"\n"
          ]
        },
        {
          "metadata": {
            "tags": null
          },
          "name": "stdout",
          "output_type": "stream",
          "text": [
            "Train Epoch: 49 [240/8498 (3%)]\tLoss: 0.474038, Learning rate: 0.001000\n",
            "Train Epoch: 49 [480/8498 (6%)]\tLoss: 0.249007, Learning rate: 0.001000\n",
            "Train Epoch: 49 [720/8498 (8%)]\tLoss: 0.272853, Learning rate: 0.001000\n",
            "Train Epoch: 49 [960/8498 (11%)]\tLoss: 0.277099, Learning rate: 0.001000\n",
            "Train Epoch: 49 [1200/8498 (14%)]\tLoss: 0.241179, Learning rate: 0.001000\n",
            "Train Epoch: 49 [1440/8498 (17%)]\tLoss: 0.272336, Learning rate: 0.001000\n",
            "Train Epoch: 49 [1680/8498 (20%)]\tLoss: 0.414432, Learning rate: 0.001000\n",
            "Train Epoch: 49 [1920/8498 (23%)]\tLoss: 0.303472, Learning rate: 0.001000\n",
            "Train Epoch: 49 [2160/8498 (25%)]\tLoss: 0.246327, Learning rate: 0.001000\n",
            "Train Epoch: 49 [2400/8498 (28%)]\tLoss: 0.327920, Learning rate: 0.001000\n",
            "Train Epoch: 49 [2640/8498 (31%)]\tLoss: 0.263614, Learning rate: 0.001000\n",
            "Train Epoch: 49 [2880/8498 (34%)]\tLoss: 0.250096, Learning rate: 0.001000\n",
            "Train Epoch: 49 [3120/8498 (37%)]\tLoss: 0.316832, Learning rate: 0.001000\n",
            "Train Epoch: 49 [3360/8498 (39%)]\tLoss: 0.261841, Learning rate: 0.001000\n",
            "Train Epoch: 49 [3600/8498 (42%)]\tLoss: 0.222213, Learning rate: 0.001000\n",
            "Train Epoch: 49 [3840/8498 (45%)]\tLoss: 0.389506, Learning rate: 0.001000\n",
            "Train Epoch: 49 [4080/8498 (48%)]\tLoss: 0.241365, Learning rate: 0.001000\n",
            "Train Epoch: 49 [4320/8498 (51%)]\tLoss: 0.250796, Learning rate: 0.001000\n",
            "Train Epoch: 49 [4560/8498 (54%)]\tLoss: 0.255458, Learning rate: 0.001000\n",
            "Train Epoch: 49 [4800/8498 (56%)]\tLoss: 0.189891, Learning rate: 0.001000\n",
            "Train Epoch: 49 [5040/8498 (59%)]\tLoss: 0.280972, Learning rate: 0.001000\n",
            "Train Epoch: 49 [5280/8498 (62%)]\tLoss: 0.226022, Learning rate: 0.001000\n",
            "Train Epoch: 49 [5520/8498 (65%)]\tLoss: 0.309866, Learning rate: 0.001000\n",
            "Train Epoch: 49 [5760/8498 (68%)]\tLoss: 0.188679, Learning rate: 0.001000\n",
            "Train Epoch: 49 [6000/8498 (70%)]\tLoss: 0.245844, Learning rate: 0.001000\n",
            "Train Epoch: 49 [6240/8498 (73%)]\tLoss: 0.373050, Learning rate: 0.001000\n",
            "Train Epoch: 49 [6480/8498 (76%)]\tLoss: 0.293997, Learning rate: 0.001000\n",
            "Train Epoch: 49 [6720/8498 (79%)]\tLoss: 0.298790, Learning rate: 0.001000\n",
            "Train Epoch: 49 [6960/8498 (82%)]\tLoss: 0.308606, Learning rate: 0.001000\n",
            "Train Epoch: 49 [7200/8498 (85%)]\tLoss: 0.184306, Learning rate: 0.001000\n",
            "Train Epoch: 49 [7440/8498 (87%)]\tLoss: 0.210788, Learning rate: 0.001000\n",
            "Train Epoch: 49 [7680/8498 (90%)]\tLoss: 0.240015, Learning rate: 0.001000\n",
            "Train Epoch: 49 [7920/8498 (93%)]\tLoss: 0.370079, Learning rate: 0.001000\n",
            "Train Epoch: 49 [8160/8498 (96%)]\tLoss: 0.308149, Learning rate: 0.001000\n",
            "Train Epoch: 49 [8400/8498 (99%)]\tLoss: 0.266368, Learning rate: 0.001000\n"
          ]
        },
        {
          "metadata": {
            "tags": null
          },
          "name": "stderr",
          "output_type": "stream",
          "text": [
            "/usr/local/lib/python3.7/dist-packages/torchvision/transforms/transforms.py:288: UserWarning: Argument interpolation should be of type InterpolationMode instead of int. Please, use InterpolationMode enum.\n",
            "  \"Argument interpolation should be of type InterpolationMode instead of int. \"\n",
            "/usr/local/lib/python3.7/dist-packages/torchvision/transforms/transforms.py:288: UserWarning: Argument interpolation should be of type InterpolationMode instead of int. Please, use InterpolationMode enum.\n",
            "  \"Argument interpolation should be of type InterpolationMode instead of int. \"\n",
            "/usr/local/lib/python3.7/dist-packages/torchvision/transforms/transforms.py:288: UserWarning: Argument interpolation should be of type InterpolationMode instead of int. Please, use InterpolationMode enum.\n",
            "  \"Argument interpolation should be of type InterpolationMode instead of int. \"\n",
            "/usr/local/lib/python3.7/dist-packages/torchvision/transforms/transforms.py:288: UserWarning: Argument interpolation should be of type InterpolationMode instead of int. Please, use InterpolationMode enum.\n",
            "  \"Argument interpolation should be of type InterpolationMode instead of int. \"\n",
            "/usr/local/lib/python3.7/dist-packages/torchvision/transforms/transforms.py:288: UserWarning: Argument interpolation should be of type InterpolationMode instead of int. Please, use InterpolationMode enum.\n",
            "  \"Argument interpolation should be of type InterpolationMode instead of int. \"\n",
            "/usr/local/lib/python3.7/dist-packages/torchvision/transforms/transforms.py:288: UserWarning: Argument interpolation should be of type InterpolationMode instead of int. Please, use InterpolationMode enum.\n",
            "  \"Argument interpolation should be of type InterpolationMode instead of int. \"\n",
            "/usr/local/lib/python3.7/dist-packages/torchvision/transforms/transforms.py:288: UserWarning: Argument interpolation should be of type InterpolationMode instead of int. Please, use InterpolationMode enum.\n",
            "  \"Argument interpolation should be of type InterpolationMode instead of int. \"\n",
            "/usr/local/lib/python3.7/dist-packages/torchvision/transforms/transforms.py:288: UserWarning: Argument interpolation should be of type InterpolationMode instead of int. Please, use InterpolationMode enum.\n",
            "  \"Argument interpolation should be of type InterpolationMode instead of int. \"\n"
          ]
        },
        {
          "metadata": {
            "tags": null
          },
          "name": "stdout",
          "output_type": "stream",
          "text": [
            "\n",
            "Test set (736): Average loss: 0.6465, mIoU: 0.5782\n",
            "\n",
            "PSPnetLite training, epoch 50\n"
          ]
        },
        {
          "metadata": {
            "tags": null
          },
          "name": "stderr",
          "output_type": "stream",
          "text": [
            "/usr/local/lib/python3.7/dist-packages/torchvision/transforms/transforms.py:288: UserWarning: Argument interpolation should be of type InterpolationMode instead of int. Please, use InterpolationMode enum.\n",
            "  \"Argument interpolation should be of type InterpolationMode instead of int. \"\n",
            "/usr/local/lib/python3.7/dist-packages/torchvision/transforms/transforms.py:288: UserWarning: Argument interpolation should be of type InterpolationMode instead of int. Please, use InterpolationMode enum.\n",
            "  \"Argument interpolation should be of type InterpolationMode instead of int. \"\n",
            "/usr/local/lib/python3.7/dist-packages/torchvision/transforms/transforms.py:288: UserWarning: Argument interpolation should be of type InterpolationMode instead of int. Please, use InterpolationMode enum.\n",
            "  \"Argument interpolation should be of type InterpolationMode instead of int. \"\n",
            "/usr/local/lib/python3.7/dist-packages/torchvision/transforms/transforms.py:288: UserWarning: Argument interpolation should be of type InterpolationMode instead of int. Please, use InterpolationMode enum.\n",
            "  \"Argument interpolation should be of type InterpolationMode instead of int. \"\n",
            "/usr/local/lib/python3.7/dist-packages/torchvision/transforms/transforms.py:288: UserWarning: Argument interpolation should be of type InterpolationMode instead of int. Please, use InterpolationMode enum.\n",
            "  \"Argument interpolation should be of type InterpolationMode instead of int. \"\n",
            "/usr/local/lib/python3.7/dist-packages/torchvision/transforms/transforms.py:288: UserWarning: Argument interpolation should be of type InterpolationMode instead of int. Please, use InterpolationMode enum.\n",
            "  \"Argument interpolation should be of type InterpolationMode instead of int. \"\n",
            "/usr/local/lib/python3.7/dist-packages/torchvision/transforms/transforms.py:288: UserWarning: Argument interpolation should be of type InterpolationMode instead of int. Please, use InterpolationMode enum.\n",
            "  \"Argument interpolation should be of type InterpolationMode instead of int. \"\n",
            "/usr/local/lib/python3.7/dist-packages/torchvision/transforms/transforms.py:288: UserWarning: Argument interpolation should be of type InterpolationMode instead of int. Please, use InterpolationMode enum.\n",
            "  \"Argument interpolation should be of type InterpolationMode instead of int. \"\n"
          ]
        },
        {
          "metadata": {
            "tags": null
          },
          "name": "stdout",
          "output_type": "stream",
          "text": [
            "Train Epoch: 50 [240/8498 (3%)]\tLoss: 0.342654, Learning rate: 0.001000\n",
            "Train Epoch: 50 [480/8498 (6%)]\tLoss: 0.209686, Learning rate: 0.001000\n",
            "Train Epoch: 50 [720/8498 (8%)]\tLoss: 0.346345, Learning rate: 0.001000\n",
            "Train Epoch: 50 [960/8498 (11%)]\tLoss: 0.238270, Learning rate: 0.001000\n",
            "Train Epoch: 50 [1200/8498 (14%)]\tLoss: 0.315117, Learning rate: 0.001000\n",
            "Train Epoch: 50 [1440/8498 (17%)]\tLoss: 0.232487, Learning rate: 0.001000\n",
            "Train Epoch: 50 [1680/8498 (20%)]\tLoss: 0.245169, Learning rate: 0.001000\n",
            "Train Epoch: 50 [1920/8498 (23%)]\tLoss: 0.222932, Learning rate: 0.001000\n",
            "Train Epoch: 50 [2160/8498 (25%)]\tLoss: 0.204304, Learning rate: 0.001000\n",
            "Train Epoch: 50 [2400/8498 (28%)]\tLoss: 0.392357, Learning rate: 0.001000\n",
            "Train Epoch: 50 [2640/8498 (31%)]\tLoss: 0.195335, Learning rate: 0.001000\n",
            "Train Epoch: 50 [2880/8498 (34%)]\tLoss: 0.259459, Learning rate: 0.001000\n",
            "Train Epoch: 50 [3120/8498 (37%)]\tLoss: 0.221944, Learning rate: 0.001000\n",
            "Train Epoch: 50 [3360/8498 (39%)]\tLoss: 0.299113, Learning rate: 0.001000\n",
            "Train Epoch: 50 [3600/8498 (42%)]\tLoss: 0.216429, Learning rate: 0.001000\n",
            "Train Epoch: 50 [3840/8498 (45%)]\tLoss: 0.264146, Learning rate: 0.001000\n",
            "Train Epoch: 50 [4080/8498 (48%)]\tLoss: 0.307034, Learning rate: 0.001000\n",
            "Train Epoch: 50 [4320/8498 (51%)]\tLoss: 0.354369, Learning rate: 0.001000\n",
            "Train Epoch: 50 [4560/8498 (54%)]\tLoss: 0.283447, Learning rate: 0.001000\n",
            "Train Epoch: 50 [4800/8498 (56%)]\tLoss: 0.436101, Learning rate: 0.001000\n",
            "Train Epoch: 50 [5040/8498 (59%)]\tLoss: 0.217073, Learning rate: 0.001000\n",
            "Train Epoch: 50 [5280/8498 (62%)]\tLoss: 0.209233, Learning rate: 0.001000\n",
            "Train Epoch: 50 [5520/8498 (65%)]\tLoss: 0.274986, Learning rate: 0.001000\n",
            "Train Epoch: 50 [5760/8498 (68%)]\tLoss: 0.320352, Learning rate: 0.001000\n",
            "Train Epoch: 50 [6000/8498 (70%)]\tLoss: 0.237409, Learning rate: 0.001000\n",
            "Train Epoch: 50 [6240/8498 (73%)]\tLoss: 0.284883, Learning rate: 0.001000\n",
            "Train Epoch: 50 [6480/8498 (76%)]\tLoss: 0.303878, Learning rate: 0.001000\n",
            "Train Epoch: 50 [6720/8498 (79%)]\tLoss: 0.300005, Learning rate: 0.001000\n",
            "Train Epoch: 50 [6960/8498 (82%)]\tLoss: 0.311292, Learning rate: 0.001000\n",
            "Train Epoch: 50 [7200/8498 (85%)]\tLoss: 0.489173, Learning rate: 0.001000\n",
            "Train Epoch: 50 [7440/8498 (87%)]\tLoss: 0.244773, Learning rate: 0.001000\n",
            "Train Epoch: 50 [7680/8498 (90%)]\tLoss: 0.266168, Learning rate: 0.001000\n",
            "Train Epoch: 50 [7920/8498 (93%)]\tLoss: 0.207077, Learning rate: 0.001000\n",
            "Train Epoch: 50 [8160/8498 (96%)]\tLoss: 0.174685, Learning rate: 0.001000\n",
            "Train Epoch: 50 [8400/8498 (99%)]\tLoss: 0.547797, Learning rate: 0.001000\n"
          ]
        },
        {
          "metadata": {
            "tags": null
          },
          "name": "stderr",
          "output_type": "stream",
          "text": [
            "/usr/local/lib/python3.7/dist-packages/torchvision/transforms/transforms.py:288: UserWarning: Argument interpolation should be of type InterpolationMode instead of int. Please, use InterpolationMode enum.\n",
            "  \"Argument interpolation should be of type InterpolationMode instead of int. \"\n",
            "/usr/local/lib/python3.7/dist-packages/torchvision/transforms/transforms.py:288: UserWarning: Argument interpolation should be of type InterpolationMode instead of int. Please, use InterpolationMode enum.\n",
            "  \"Argument interpolation should be of type InterpolationMode instead of int. \"\n",
            "/usr/local/lib/python3.7/dist-packages/torchvision/transforms/transforms.py:288: UserWarning: Argument interpolation should be of type InterpolationMode instead of int. Please, use InterpolationMode enum.\n",
            "  \"Argument interpolation should be of type InterpolationMode instead of int. \"\n",
            "/usr/local/lib/python3.7/dist-packages/torchvision/transforms/transforms.py:288: UserWarning: Argument interpolation should be of type InterpolationMode instead of int. Please, use InterpolationMode enum.\n",
            "  \"Argument interpolation should be of type InterpolationMode instead of int. \"\n",
            "/usr/local/lib/python3.7/dist-packages/torchvision/transforms/transforms.py:288: UserWarning: Argument interpolation should be of type InterpolationMode instead of int. Please, use InterpolationMode enum.\n",
            "  \"Argument interpolation should be of type InterpolationMode instead of int. \"\n",
            "/usr/local/lib/python3.7/dist-packages/torchvision/transforms/transforms.py:288: UserWarning: Argument interpolation should be of type InterpolationMode instead of int. Please, use InterpolationMode enum.\n",
            "  \"Argument interpolation should be of type InterpolationMode instead of int. \"\n",
            "/usr/local/lib/python3.7/dist-packages/torchvision/transforms/transforms.py:288: UserWarning: Argument interpolation should be of type InterpolationMode instead of int. Please, use InterpolationMode enum.\n",
            "  \"Argument interpolation should be of type InterpolationMode instead of int. \"\n",
            "/usr/local/lib/python3.7/dist-packages/torchvision/transforms/transforms.py:288: UserWarning: Argument interpolation should be of type InterpolationMode instead of int. Please, use InterpolationMode enum.\n",
            "  \"Argument interpolation should be of type InterpolationMode instead of int. \"\n"
          ]
        },
        {
          "metadata": {
            "tags": null
          },
          "name": "stdout",
          "output_type": "stream",
          "text": [
            "\n",
            "Test set (736): Average loss: 0.6485, mIoU: 0.5810\n",
            "\n",
            "PSPnetLite training, epoch 51\n"
          ]
        },
        {
          "metadata": {
            "tags": null
          },
          "name": "stderr",
          "output_type": "stream",
          "text": [
            "/usr/local/lib/python3.7/dist-packages/torchvision/transforms/transforms.py:288: UserWarning: Argument interpolation should be of type InterpolationMode instead of int. Please, use InterpolationMode enum.\n",
            "  \"Argument interpolation should be of type InterpolationMode instead of int. \"\n",
            "/usr/local/lib/python3.7/dist-packages/torchvision/transforms/transforms.py:288: UserWarning: Argument interpolation should be of type InterpolationMode instead of int. Please, use InterpolationMode enum.\n",
            "  \"Argument interpolation should be of type InterpolationMode instead of int. \"\n",
            "/usr/local/lib/python3.7/dist-packages/torchvision/transforms/transforms.py:288: UserWarning: Argument interpolation should be of type InterpolationMode instead of int. Please, use InterpolationMode enum.\n",
            "  \"Argument interpolation should be of type InterpolationMode instead of int. \"\n",
            "/usr/local/lib/python3.7/dist-packages/torchvision/transforms/transforms.py:288: UserWarning: Argument interpolation should be of type InterpolationMode instead of int. Please, use InterpolationMode enum.\n",
            "  \"Argument interpolation should be of type InterpolationMode instead of int. \"\n",
            "/usr/local/lib/python3.7/dist-packages/torchvision/transforms/transforms.py:288: UserWarning: Argument interpolation should be of type InterpolationMode instead of int. Please, use InterpolationMode enum.\n",
            "  \"Argument interpolation should be of type InterpolationMode instead of int. \"\n",
            "/usr/local/lib/python3.7/dist-packages/torchvision/transforms/transforms.py:288: UserWarning: Argument interpolation should be of type InterpolationMode instead of int. Please, use InterpolationMode enum.\n",
            "  \"Argument interpolation should be of type InterpolationMode instead of int. \"\n",
            "/usr/local/lib/python3.7/dist-packages/torchvision/transforms/transforms.py:288: UserWarning: Argument interpolation should be of type InterpolationMode instead of int. Please, use InterpolationMode enum.\n",
            "  \"Argument interpolation should be of type InterpolationMode instead of int. \"\n",
            "/usr/local/lib/python3.7/dist-packages/torchvision/transforms/transforms.py:288: UserWarning: Argument interpolation should be of type InterpolationMode instead of int. Please, use InterpolationMode enum.\n",
            "  \"Argument interpolation should be of type InterpolationMode instead of int. \"\n"
          ]
        },
        {
          "metadata": {
            "tags": null
          },
          "name": "stdout",
          "output_type": "stream",
          "text": [
            "Train Epoch: 51 [240/8498 (3%)]\tLoss: 0.353435, Learning rate: 0.001000\n",
            "Train Epoch: 51 [480/8498 (6%)]\tLoss: 0.276887, Learning rate: 0.001000\n",
            "Train Epoch: 51 [720/8498 (8%)]\tLoss: 0.331379, Learning rate: 0.001000\n",
            "Train Epoch: 51 [960/8498 (11%)]\tLoss: 0.327526, Learning rate: 0.001000\n",
            "Train Epoch: 51 [1200/8498 (14%)]\tLoss: 0.256140, Learning rate: 0.001000\n",
            "Train Epoch: 51 [1440/8498 (17%)]\tLoss: 0.376842, Learning rate: 0.001000\n",
            "Train Epoch: 51 [1680/8498 (20%)]\tLoss: 0.206951, Learning rate: 0.001000\n",
            "Train Epoch: 51 [1920/8498 (23%)]\tLoss: 0.329066, Learning rate: 0.001000\n",
            "Train Epoch: 51 [2160/8498 (25%)]\tLoss: 0.202618, Learning rate: 0.001000\n",
            "Train Epoch: 51 [2400/8498 (28%)]\tLoss: 0.265256, Learning rate: 0.001000\n",
            "Train Epoch: 51 [2640/8498 (31%)]\tLoss: 0.223536, Learning rate: 0.001000\n",
            "Train Epoch: 51 [2880/8498 (34%)]\tLoss: 0.400117, Learning rate: 0.001000\n",
            "Train Epoch: 51 [3120/8498 (37%)]\tLoss: 0.274124, Learning rate: 0.001000\n",
            "Train Epoch: 51 [3360/8498 (39%)]\tLoss: 0.285107, Learning rate: 0.001000\n",
            "Train Epoch: 51 [3600/8498 (42%)]\tLoss: 0.269410, Learning rate: 0.001000\n",
            "Train Epoch: 51 [3840/8498 (45%)]\tLoss: 0.339981, Learning rate: 0.001000\n",
            "Train Epoch: 51 [4080/8498 (48%)]\tLoss: 0.243812, Learning rate: 0.001000\n",
            "Train Epoch: 51 [4320/8498 (51%)]\tLoss: 0.250180, Learning rate: 0.001000\n",
            "Train Epoch: 51 [4560/8498 (54%)]\tLoss: 0.365911, Learning rate: 0.001000\n",
            "Train Epoch: 51 [4800/8498 (56%)]\tLoss: 0.286367, Learning rate: 0.001000\n",
            "Train Epoch: 51 [5040/8498 (59%)]\tLoss: 0.333180, Learning rate: 0.001000\n",
            "Train Epoch: 51 [5280/8498 (62%)]\tLoss: 0.293167, Learning rate: 0.001000\n",
            "Train Epoch: 51 [5520/8498 (65%)]\tLoss: 0.379279, Learning rate: 0.001000\n",
            "Train Epoch: 51 [5760/8498 (68%)]\tLoss: 0.311949, Learning rate: 0.001000\n",
            "Train Epoch: 51 [6000/8498 (70%)]\tLoss: 0.316567, Learning rate: 0.001000\n",
            "Train Epoch: 51 [6240/8498 (73%)]\tLoss: 0.263035, Learning rate: 0.001000\n",
            "Train Epoch: 51 [6480/8498 (76%)]\tLoss: 0.290637, Learning rate: 0.001000\n",
            "Train Epoch: 51 [6720/8498 (79%)]\tLoss: 0.243835, Learning rate: 0.001000\n",
            "Train Epoch: 51 [6960/8498 (82%)]\tLoss: 0.347651, Learning rate: 0.001000\n",
            "Train Epoch: 51 [7200/8498 (85%)]\tLoss: 0.344329, Learning rate: 0.001000\n",
            "Train Epoch: 51 [7440/8498 (87%)]\tLoss: 0.259615, Learning rate: 0.001000\n",
            "Train Epoch: 51 [7680/8498 (90%)]\tLoss: 0.244142, Learning rate: 0.001000\n",
            "Train Epoch: 51 [7920/8498 (93%)]\tLoss: 0.328486, Learning rate: 0.001000\n",
            "Train Epoch: 51 [8160/8498 (96%)]\tLoss: 0.275186, Learning rate: 0.001000\n",
            "Train Epoch: 51 [8400/8498 (99%)]\tLoss: 0.258605, Learning rate: 0.001000\n"
          ]
        },
        {
          "metadata": {
            "tags": null
          },
          "name": "stderr",
          "output_type": "stream",
          "text": [
            "/usr/local/lib/python3.7/dist-packages/torchvision/transforms/transforms.py:288: UserWarning: Argument interpolation should be of type InterpolationMode instead of int. Please, use InterpolationMode enum.\n",
            "  \"Argument interpolation should be of type InterpolationMode instead of int. \"\n",
            "/usr/local/lib/python3.7/dist-packages/torchvision/transforms/transforms.py:288: UserWarning: Argument interpolation should be of type InterpolationMode instead of int. Please, use InterpolationMode enum.\n",
            "  \"Argument interpolation should be of type InterpolationMode instead of int. \"\n",
            "/usr/local/lib/python3.7/dist-packages/torchvision/transforms/transforms.py:288: UserWarning: Argument interpolation should be of type InterpolationMode instead of int. Please, use InterpolationMode enum.\n",
            "  \"Argument interpolation should be of type InterpolationMode instead of int. \"\n",
            "/usr/local/lib/python3.7/dist-packages/torchvision/transforms/transforms.py:288: UserWarning: Argument interpolation should be of type InterpolationMode instead of int. Please, use InterpolationMode enum.\n",
            "  \"Argument interpolation should be of type InterpolationMode instead of int. \"\n",
            "/usr/local/lib/python3.7/dist-packages/torchvision/transforms/transforms.py:288: UserWarning: Argument interpolation should be of type InterpolationMode instead of int. Please, use InterpolationMode enum.\n",
            "  \"Argument interpolation should be of type InterpolationMode instead of int. \"\n",
            "/usr/local/lib/python3.7/dist-packages/torchvision/transforms/transforms.py:288: UserWarning: Argument interpolation should be of type InterpolationMode instead of int. Please, use InterpolationMode enum.\n",
            "  \"Argument interpolation should be of type InterpolationMode instead of int. \"\n",
            "/usr/local/lib/python3.7/dist-packages/torchvision/transforms/transforms.py:288: UserWarning: Argument interpolation should be of type InterpolationMode instead of int. Please, use InterpolationMode enum.\n",
            "  \"Argument interpolation should be of type InterpolationMode instead of int. \"\n",
            "/usr/local/lib/python3.7/dist-packages/torchvision/transforms/transforms.py:288: UserWarning: Argument interpolation should be of type InterpolationMode instead of int. Please, use InterpolationMode enum.\n",
            "  \"Argument interpolation should be of type InterpolationMode instead of int. \"\n"
          ]
        },
        {
          "metadata": {
            "tags": null
          },
          "name": "stdout",
          "output_type": "stream",
          "text": [
            "\n",
            "Test set (736): Average loss: 0.6309, mIoU: 0.5795\n",
            "\n",
            "PSPnetLite training, epoch 52\n"
          ]
        },
        {
          "metadata": {
            "tags": null
          },
          "name": "stderr",
          "output_type": "stream",
          "text": [
            "/usr/local/lib/python3.7/dist-packages/torchvision/transforms/transforms.py:288: UserWarning: Argument interpolation should be of type InterpolationMode instead of int. Please, use InterpolationMode enum.\n",
            "  \"Argument interpolation should be of type InterpolationMode instead of int. \"\n",
            "/usr/local/lib/python3.7/dist-packages/torchvision/transforms/transforms.py:288: UserWarning: Argument interpolation should be of type InterpolationMode instead of int. Please, use InterpolationMode enum.\n",
            "  \"Argument interpolation should be of type InterpolationMode instead of int. \"\n",
            "/usr/local/lib/python3.7/dist-packages/torchvision/transforms/transforms.py:288: UserWarning: Argument interpolation should be of type InterpolationMode instead of int. Please, use InterpolationMode enum.\n",
            "  \"Argument interpolation should be of type InterpolationMode instead of int. \"\n",
            "/usr/local/lib/python3.7/dist-packages/torchvision/transforms/transforms.py:288: UserWarning: Argument interpolation should be of type InterpolationMode instead of int. Please, use InterpolationMode enum.\n",
            "  \"Argument interpolation should be of type InterpolationMode instead of int. \"\n",
            "/usr/local/lib/python3.7/dist-packages/torchvision/transforms/transforms.py:288: UserWarning: Argument interpolation should be of type InterpolationMode instead of int. Please, use InterpolationMode enum.\n",
            "  \"Argument interpolation should be of type InterpolationMode instead of int. \"\n",
            "/usr/local/lib/python3.7/dist-packages/torchvision/transforms/transforms.py:288: UserWarning: Argument interpolation should be of type InterpolationMode instead of int. Please, use InterpolationMode enum.\n",
            "  \"Argument interpolation should be of type InterpolationMode instead of int. \"\n",
            "/usr/local/lib/python3.7/dist-packages/torchvision/transforms/transforms.py:288: UserWarning: Argument interpolation should be of type InterpolationMode instead of int. Please, use InterpolationMode enum.\n",
            "  \"Argument interpolation should be of type InterpolationMode instead of int. \"\n",
            "/usr/local/lib/python3.7/dist-packages/torchvision/transforms/transforms.py:288: UserWarning: Argument interpolation should be of type InterpolationMode instead of int. Please, use InterpolationMode enum.\n",
            "  \"Argument interpolation should be of type InterpolationMode instead of int. \"\n"
          ]
        },
        {
          "metadata": {
            "tags": null
          },
          "name": "stdout",
          "output_type": "stream",
          "text": [
            "Train Epoch: 52 [240/8498 (3%)]\tLoss: 0.321382, Learning rate: 0.001000\n",
            "Train Epoch: 52 [480/8498 (6%)]\tLoss: 0.289289, Learning rate: 0.001000\n",
            "Train Epoch: 52 [720/8498 (8%)]\tLoss: 0.331892, Learning rate: 0.001000\n",
            "Train Epoch: 52 [960/8498 (11%)]\tLoss: 0.213477, Learning rate: 0.001000\n",
            "Train Epoch: 52 [1200/8498 (14%)]\tLoss: 0.207491, Learning rate: 0.001000\n",
            "Train Epoch: 52 [1440/8498 (17%)]\tLoss: 0.201115, Learning rate: 0.001000\n",
            "Train Epoch: 52 [1680/8498 (20%)]\tLoss: 0.239727, Learning rate: 0.001000\n",
            "Train Epoch: 52 [1920/8498 (23%)]\tLoss: 0.219924, Learning rate: 0.001000\n",
            "Train Epoch: 52 [2160/8498 (25%)]\tLoss: 0.283671, Learning rate: 0.001000\n",
            "Train Epoch: 52 [2400/8498 (28%)]\tLoss: 0.373157, Learning rate: 0.001000\n",
            "Train Epoch: 52 [2640/8498 (31%)]\tLoss: 0.289410, Learning rate: 0.001000\n",
            "Train Epoch: 52 [2880/8498 (34%)]\tLoss: 0.291333, Learning rate: 0.001000\n",
            "Train Epoch: 52 [3120/8498 (37%)]\tLoss: 0.210691, Learning rate: 0.001000\n",
            "Train Epoch: 52 [3360/8498 (39%)]\tLoss: 0.201419, Learning rate: 0.001000\n",
            "Train Epoch: 52 [3600/8498 (42%)]\tLoss: 0.221956, Learning rate: 0.001000\n",
            "Train Epoch: 52 [3840/8498 (45%)]\tLoss: 0.250877, Learning rate: 0.001000\n",
            "Train Epoch: 52 [4080/8498 (48%)]\tLoss: 0.317900, Learning rate: 0.001000\n",
            "Train Epoch: 52 [4320/8498 (51%)]\tLoss: 0.313602, Learning rate: 0.001000\n",
            "Train Epoch: 52 [4560/8498 (54%)]\tLoss: 0.268127, Learning rate: 0.001000\n",
            "Train Epoch: 52 [4800/8498 (56%)]\tLoss: 0.339563, Learning rate: 0.001000\n",
            "Train Epoch: 52 [5040/8498 (59%)]\tLoss: 0.301239, Learning rate: 0.001000\n",
            "Train Epoch: 52 [5280/8498 (62%)]\tLoss: 0.255232, Learning rate: 0.001000\n",
            "Train Epoch: 52 [5520/8498 (65%)]\tLoss: 0.389310, Learning rate: 0.001000\n",
            "Train Epoch: 52 [5760/8498 (68%)]\tLoss: 0.301934, Learning rate: 0.001000\n",
            "Train Epoch: 52 [6000/8498 (70%)]\tLoss: 0.251682, Learning rate: 0.001000\n",
            "Train Epoch: 52 [6240/8498 (73%)]\tLoss: 0.164847, Learning rate: 0.001000\n",
            "Train Epoch: 52 [6480/8498 (76%)]\tLoss: 0.287273, Learning rate: 0.001000\n",
            "Train Epoch: 52 [6720/8498 (79%)]\tLoss: 0.279917, Learning rate: 0.001000\n",
            "Train Epoch: 52 [6960/8498 (82%)]\tLoss: 0.271800, Learning rate: 0.001000\n",
            "Train Epoch: 52 [7200/8498 (85%)]\tLoss: 0.305738, Learning rate: 0.001000\n",
            "Train Epoch: 52 [7440/8498 (87%)]\tLoss: 0.302683, Learning rate: 0.001000\n",
            "Train Epoch: 52 [7680/8498 (90%)]\tLoss: 0.250490, Learning rate: 0.001000\n",
            "Train Epoch: 52 [7920/8498 (93%)]\tLoss: 0.298735, Learning rate: 0.001000\n",
            "Train Epoch: 52 [8160/8498 (96%)]\tLoss: 0.200958, Learning rate: 0.001000\n",
            "Train Epoch: 52 [8400/8498 (99%)]\tLoss: 0.249703, Learning rate: 0.001000\n"
          ]
        },
        {
          "metadata": {
            "tags": null
          },
          "name": "stderr",
          "output_type": "stream",
          "text": [
            "/usr/local/lib/python3.7/dist-packages/torchvision/transforms/transforms.py:288: UserWarning: Argument interpolation should be of type InterpolationMode instead of int. Please, use InterpolationMode enum.\n",
            "  \"Argument interpolation should be of type InterpolationMode instead of int. \"\n",
            "/usr/local/lib/python3.7/dist-packages/torchvision/transforms/transforms.py:288: UserWarning: Argument interpolation should be of type InterpolationMode instead of int. Please, use InterpolationMode enum.\n",
            "  \"Argument interpolation should be of type InterpolationMode instead of int. \"\n",
            "/usr/local/lib/python3.7/dist-packages/torchvision/transforms/transforms.py:288: UserWarning: Argument interpolation should be of type InterpolationMode instead of int. Please, use InterpolationMode enum.\n",
            "  \"Argument interpolation should be of type InterpolationMode instead of int. \"\n",
            "/usr/local/lib/python3.7/dist-packages/torchvision/transforms/transforms.py:288: UserWarning: Argument interpolation should be of type InterpolationMode instead of int. Please, use InterpolationMode enum.\n",
            "  \"Argument interpolation should be of type InterpolationMode instead of int. \"\n",
            "/usr/local/lib/python3.7/dist-packages/torchvision/transforms/transforms.py:288: UserWarning: Argument interpolation should be of type InterpolationMode instead of int. Please, use InterpolationMode enum.\n",
            "  \"Argument interpolation should be of type InterpolationMode instead of int. \"\n",
            "/usr/local/lib/python3.7/dist-packages/torchvision/transforms/transforms.py:288: UserWarning: Argument interpolation should be of type InterpolationMode instead of int. Please, use InterpolationMode enum.\n",
            "  \"Argument interpolation should be of type InterpolationMode instead of int. \"\n",
            "/usr/local/lib/python3.7/dist-packages/torchvision/transforms/transforms.py:288: UserWarning: Argument interpolation should be of type InterpolationMode instead of int. Please, use InterpolationMode enum.\n",
            "  \"Argument interpolation should be of type InterpolationMode instead of int. \"\n",
            "/usr/local/lib/python3.7/dist-packages/torchvision/transforms/transforms.py:288: UserWarning: Argument interpolation should be of type InterpolationMode instead of int. Please, use InterpolationMode enum.\n",
            "  \"Argument interpolation should be of type InterpolationMode instead of int. \"\n"
          ]
        },
        {
          "metadata": {
            "tags": null
          },
          "name": "stdout",
          "output_type": "stream",
          "text": [
            "\n",
            "Test set (736): Average loss: 0.6625, mIoU: 0.5824\n",
            "\n",
            "PSPnetLite training, epoch 53\n"
          ]
        },
        {
          "metadata": {
            "tags": null
          },
          "name": "stderr",
          "output_type": "stream",
          "text": [
            "/usr/local/lib/python3.7/dist-packages/torchvision/transforms/transforms.py:288: UserWarning: Argument interpolation should be of type InterpolationMode instead of int. Please, use InterpolationMode enum.\n",
            "  \"Argument interpolation should be of type InterpolationMode instead of int. \"\n",
            "/usr/local/lib/python3.7/dist-packages/torchvision/transforms/transforms.py:288: UserWarning: Argument interpolation should be of type InterpolationMode instead of int. Please, use InterpolationMode enum.\n",
            "  \"Argument interpolation should be of type InterpolationMode instead of int. \"\n",
            "/usr/local/lib/python3.7/dist-packages/torchvision/transforms/transforms.py:288: UserWarning: Argument interpolation should be of type InterpolationMode instead of int. Please, use InterpolationMode enum.\n",
            "  \"Argument interpolation should be of type InterpolationMode instead of int. \"\n",
            "/usr/local/lib/python3.7/dist-packages/torchvision/transforms/transforms.py:288: UserWarning: Argument interpolation should be of type InterpolationMode instead of int. Please, use InterpolationMode enum.\n",
            "  \"Argument interpolation should be of type InterpolationMode instead of int. \"\n",
            "/usr/local/lib/python3.7/dist-packages/torchvision/transforms/transforms.py:288: UserWarning: Argument interpolation should be of type InterpolationMode instead of int. Please, use InterpolationMode enum.\n",
            "  \"Argument interpolation should be of type InterpolationMode instead of int. \"\n",
            "/usr/local/lib/python3.7/dist-packages/torchvision/transforms/transforms.py:288: UserWarning: Argument interpolation should be of type InterpolationMode instead of int. Please, use InterpolationMode enum.\n",
            "  \"Argument interpolation should be of type InterpolationMode instead of int. \"\n",
            "/usr/local/lib/python3.7/dist-packages/torchvision/transforms/transforms.py:288: UserWarning: Argument interpolation should be of type InterpolationMode instead of int. Please, use InterpolationMode enum.\n",
            "  \"Argument interpolation should be of type InterpolationMode instead of int. \"\n",
            "/usr/local/lib/python3.7/dist-packages/torchvision/transforms/transforms.py:288: UserWarning: Argument interpolation should be of type InterpolationMode instead of int. Please, use InterpolationMode enum.\n",
            "  \"Argument interpolation should be of type InterpolationMode instead of int. \"\n"
          ]
        },
        {
          "metadata": {
            "tags": null
          },
          "name": "stdout",
          "output_type": "stream",
          "text": [
            "Train Epoch: 53 [240/8498 (3%)]\tLoss: 0.345917, Learning rate: 0.001000\n",
            "Train Epoch: 53 [480/8498 (6%)]\tLoss: 0.267870, Learning rate: 0.001000\n",
            "Train Epoch: 53 [720/8498 (8%)]\tLoss: 0.250821, Learning rate: 0.001000\n",
            "Train Epoch: 53 [960/8498 (11%)]\tLoss: 0.263046, Learning rate: 0.001000\n",
            "Train Epoch: 53 [1200/8498 (14%)]\tLoss: 0.237043, Learning rate: 0.001000\n",
            "Train Epoch: 53 [1440/8498 (17%)]\tLoss: 0.225833, Learning rate: 0.001000\n",
            "Train Epoch: 53 [1680/8498 (20%)]\tLoss: 0.362878, Learning rate: 0.001000\n",
            "Train Epoch: 53 [1920/8498 (23%)]\tLoss: 0.325292, Learning rate: 0.001000\n",
            "Train Epoch: 53 [2160/8498 (25%)]\tLoss: 0.231626, Learning rate: 0.001000\n",
            "Train Epoch: 53 [2400/8498 (28%)]\tLoss: 0.300800, Learning rate: 0.001000\n",
            "Train Epoch: 53 [2640/8498 (31%)]\tLoss: 0.267022, Learning rate: 0.001000\n",
            "Train Epoch: 53 [2880/8498 (34%)]\tLoss: 0.270936, Learning rate: 0.001000\n",
            "Train Epoch: 53 [3120/8498 (37%)]\tLoss: 0.233803, Learning rate: 0.001000\n",
            "Train Epoch: 53 [3360/8498 (39%)]\tLoss: 0.262622, Learning rate: 0.001000\n",
            "Train Epoch: 53 [3600/8498 (42%)]\tLoss: 0.174578, Learning rate: 0.001000\n",
            "Train Epoch: 53 [3840/8498 (45%)]\tLoss: 0.365669, Learning rate: 0.001000\n",
            "Train Epoch: 53 [4080/8498 (48%)]\tLoss: 0.245191, Learning rate: 0.001000\n",
            "Train Epoch: 53 [4320/8498 (51%)]\tLoss: 0.213876, Learning rate: 0.001000\n",
            "Train Epoch: 53 [4560/8498 (54%)]\tLoss: 0.244147, Learning rate: 0.001000\n",
            "Train Epoch: 53 [4800/8498 (56%)]\tLoss: 0.266717, Learning rate: 0.001000\n",
            "Train Epoch: 53 [5040/8498 (59%)]\tLoss: 0.243853, Learning rate: 0.001000\n",
            "Train Epoch: 53 [5280/8498 (62%)]\tLoss: 0.227610, Learning rate: 0.001000\n",
            "Train Epoch: 53 [5520/8498 (65%)]\tLoss: 0.296699, Learning rate: 0.001000\n",
            "Train Epoch: 53 [5760/8498 (68%)]\tLoss: 0.384141, Learning rate: 0.001000\n",
            "Train Epoch: 53 [6000/8498 (70%)]\tLoss: 0.206957, Learning rate: 0.001000\n",
            "Train Epoch: 53 [6240/8498 (73%)]\tLoss: 0.261565, Learning rate: 0.001000\n",
            "Train Epoch: 53 [6480/8498 (76%)]\tLoss: 0.211537, Learning rate: 0.001000\n",
            "Train Epoch: 53 [6720/8498 (79%)]\tLoss: 0.272197, Learning rate: 0.001000\n",
            "Train Epoch: 53 [6960/8498 (82%)]\tLoss: 0.274275, Learning rate: 0.001000\n",
            "Train Epoch: 53 [7200/8498 (85%)]\tLoss: 0.332543, Learning rate: 0.001000\n",
            "Train Epoch: 53 [7440/8498 (87%)]\tLoss: 0.211331, Learning rate: 0.001000\n",
            "Train Epoch: 53 [7680/8498 (90%)]\tLoss: 0.297164, Learning rate: 0.001000\n",
            "Train Epoch: 53 [7920/8498 (93%)]\tLoss: 0.271592, Learning rate: 0.001000\n",
            "Train Epoch: 53 [8160/8498 (96%)]\tLoss: 0.240507, Learning rate: 0.001000\n",
            "Train Epoch: 53 [8400/8498 (99%)]\tLoss: 0.306155, Learning rate: 0.001000\n"
          ]
        },
        {
          "metadata": {
            "tags": null
          },
          "name": "stderr",
          "output_type": "stream",
          "text": [
            "/usr/local/lib/python3.7/dist-packages/torchvision/transforms/transforms.py:288: UserWarning: Argument interpolation should be of type InterpolationMode instead of int. Please, use InterpolationMode enum.\n",
            "  \"Argument interpolation should be of type InterpolationMode instead of int. \"\n",
            "/usr/local/lib/python3.7/dist-packages/torchvision/transforms/transforms.py:288: UserWarning: Argument interpolation should be of type InterpolationMode instead of int. Please, use InterpolationMode enum.\n",
            "  \"Argument interpolation should be of type InterpolationMode instead of int. \"\n",
            "/usr/local/lib/python3.7/dist-packages/torchvision/transforms/transforms.py:288: UserWarning: Argument interpolation should be of type InterpolationMode instead of int. Please, use InterpolationMode enum.\n",
            "  \"Argument interpolation should be of type InterpolationMode instead of int. \"\n",
            "/usr/local/lib/python3.7/dist-packages/torchvision/transforms/transforms.py:288: UserWarning: Argument interpolation should be of type InterpolationMode instead of int. Please, use InterpolationMode enum.\n",
            "  \"Argument interpolation should be of type InterpolationMode instead of int. \"\n",
            "/usr/local/lib/python3.7/dist-packages/torchvision/transforms/transforms.py:288: UserWarning: Argument interpolation should be of type InterpolationMode instead of int. Please, use InterpolationMode enum.\n",
            "  \"Argument interpolation should be of type InterpolationMode instead of int. \"\n",
            "/usr/local/lib/python3.7/dist-packages/torchvision/transforms/transforms.py:288: UserWarning: Argument interpolation should be of type InterpolationMode instead of int. Please, use InterpolationMode enum.\n",
            "  \"Argument interpolation should be of type InterpolationMode instead of int. \"\n",
            "/usr/local/lib/python3.7/dist-packages/torchvision/transforms/transforms.py:288: UserWarning: Argument interpolation should be of type InterpolationMode instead of int. Please, use InterpolationMode enum.\n",
            "  \"Argument interpolation should be of type InterpolationMode instead of int. \"\n",
            "/usr/local/lib/python3.7/dist-packages/torchvision/transforms/transforms.py:288: UserWarning: Argument interpolation should be of type InterpolationMode instead of int. Please, use InterpolationMode enum.\n",
            "  \"Argument interpolation should be of type InterpolationMode instead of int. \"\n"
          ]
        },
        {
          "metadata": {
            "tags": null
          },
          "name": "stdout",
          "output_type": "stream",
          "text": [
            "\n",
            "Test set (736): Average loss: 0.6519, mIoU: 0.5795\n",
            "\n",
            "PSPnetLite training, epoch 54\n"
          ]
        },
        {
          "metadata": {
            "tags": null
          },
          "name": "stderr",
          "output_type": "stream",
          "text": [
            "/usr/local/lib/python3.7/dist-packages/torchvision/transforms/transforms.py:288: UserWarning: Argument interpolation should be of type InterpolationMode instead of int. Please, use InterpolationMode enum.\n",
            "  \"Argument interpolation should be of type InterpolationMode instead of int. \"\n",
            "/usr/local/lib/python3.7/dist-packages/torchvision/transforms/transforms.py:288: UserWarning: Argument interpolation should be of type InterpolationMode instead of int. Please, use InterpolationMode enum.\n",
            "  \"Argument interpolation should be of type InterpolationMode instead of int. \"\n",
            "/usr/local/lib/python3.7/dist-packages/torchvision/transforms/transforms.py:288: UserWarning: Argument interpolation should be of type InterpolationMode instead of int. Please, use InterpolationMode enum.\n",
            "  \"Argument interpolation should be of type InterpolationMode instead of int. \"\n",
            "/usr/local/lib/python3.7/dist-packages/torchvision/transforms/transforms.py:288: UserWarning: Argument interpolation should be of type InterpolationMode instead of int. Please, use InterpolationMode enum.\n",
            "  \"Argument interpolation should be of type InterpolationMode instead of int. \"\n",
            "/usr/local/lib/python3.7/dist-packages/torchvision/transforms/transforms.py:288: UserWarning: Argument interpolation should be of type InterpolationMode instead of int. Please, use InterpolationMode enum.\n",
            "  \"Argument interpolation should be of type InterpolationMode instead of int. \"\n",
            "/usr/local/lib/python3.7/dist-packages/torchvision/transforms/transforms.py:288: UserWarning: Argument interpolation should be of type InterpolationMode instead of int. Please, use InterpolationMode enum.\n",
            "  \"Argument interpolation should be of type InterpolationMode instead of int. \"\n",
            "/usr/local/lib/python3.7/dist-packages/torchvision/transforms/transforms.py:288: UserWarning: Argument interpolation should be of type InterpolationMode instead of int. Please, use InterpolationMode enum.\n",
            "  \"Argument interpolation should be of type InterpolationMode instead of int. \"\n",
            "/usr/local/lib/python3.7/dist-packages/torchvision/transforms/transforms.py:288: UserWarning: Argument interpolation should be of type InterpolationMode instead of int. Please, use InterpolationMode enum.\n",
            "  \"Argument interpolation should be of type InterpolationMode instead of int. \"\n"
          ]
        },
        {
          "metadata": {
            "tags": null
          },
          "name": "stdout",
          "output_type": "stream",
          "text": [
            "Train Epoch: 54 [240/8498 (3%)]\tLoss: 0.281833, Learning rate: 0.001000\n",
            "Train Epoch: 54 [480/8498 (6%)]\tLoss: 0.301707, Learning rate: 0.001000\n",
            "Train Epoch: 54 [720/8498 (8%)]\tLoss: 0.227274, Learning rate: 0.001000\n",
            "Train Epoch: 54 [960/8498 (11%)]\tLoss: 0.342562, Learning rate: 0.001000\n",
            "Train Epoch: 54 [1200/8498 (14%)]\tLoss: 0.261690, Learning rate: 0.001000\n",
            "Train Epoch: 54 [1440/8498 (17%)]\tLoss: 0.187630, Learning rate: 0.001000\n",
            "Train Epoch: 54 [1680/8498 (20%)]\tLoss: 0.223998, Learning rate: 0.001000\n",
            "Train Epoch: 54 [1920/8498 (23%)]\tLoss: 0.224698, Learning rate: 0.001000\n",
            "Train Epoch: 54 [2160/8498 (25%)]\tLoss: 0.300688, Learning rate: 0.001000\n",
            "Train Epoch: 54 [2400/8498 (28%)]\tLoss: 0.441672, Learning rate: 0.001000\n",
            "Train Epoch: 54 [2640/8498 (31%)]\tLoss: 0.235148, Learning rate: 0.001000\n",
            "Train Epoch: 54 [2880/8498 (34%)]\tLoss: 0.281746, Learning rate: 0.001000\n",
            "Train Epoch: 54 [3120/8498 (37%)]\tLoss: 0.214956, Learning rate: 0.001000\n",
            "Train Epoch: 54 [3360/8498 (39%)]\tLoss: 0.207576, Learning rate: 0.001000\n",
            "Train Epoch: 54 [3600/8498 (42%)]\tLoss: 0.263030, Learning rate: 0.001000\n",
            "Train Epoch: 54 [3840/8498 (45%)]\tLoss: 0.207617, Learning rate: 0.001000\n",
            "Train Epoch: 54 [4080/8498 (48%)]\tLoss: 0.255857, Learning rate: 0.001000\n",
            "Train Epoch: 54 [4320/8498 (51%)]\tLoss: 0.265088, Learning rate: 0.001000\n",
            "Train Epoch: 54 [4560/8498 (54%)]\tLoss: 0.237523, Learning rate: 0.001000\n",
            "Train Epoch: 54 [4800/8498 (56%)]\tLoss: 0.195822, Learning rate: 0.001000\n",
            "Train Epoch: 54 [5040/8498 (59%)]\tLoss: 0.286808, Learning rate: 0.001000\n",
            "Train Epoch: 54 [5280/8498 (62%)]\tLoss: 0.333657, Learning rate: 0.001000\n",
            "Train Epoch: 54 [5520/8498 (65%)]\tLoss: 0.299083, Learning rate: 0.001000\n",
            "Train Epoch: 54 [5760/8498 (68%)]\tLoss: 0.239148, Learning rate: 0.001000\n",
            "Train Epoch: 54 [6000/8498 (70%)]\tLoss: 0.277096, Learning rate: 0.001000\n",
            "Train Epoch: 54 [6240/8498 (73%)]\tLoss: 0.264606, Learning rate: 0.001000\n",
            "Train Epoch: 54 [6480/8498 (76%)]\tLoss: 0.542230, Learning rate: 0.001000\n",
            "Train Epoch: 54 [6720/8498 (79%)]\tLoss: 0.219388, Learning rate: 0.001000\n",
            "Train Epoch: 54 [6960/8498 (82%)]\tLoss: 0.184466, Learning rate: 0.001000\n",
            "Train Epoch: 54 [7200/8498 (85%)]\tLoss: 0.220715, Learning rate: 0.001000\n",
            "Train Epoch: 54 [7440/8498 (87%)]\tLoss: 0.361451, Learning rate: 0.001000\n",
            "Train Epoch: 54 [7680/8498 (90%)]\tLoss: 0.203251, Learning rate: 0.001000\n",
            "Train Epoch: 54 [7920/8498 (93%)]\tLoss: 0.223117, Learning rate: 0.001000\n",
            "Train Epoch: 54 [8160/8498 (96%)]\tLoss: 0.343172, Learning rate: 0.001000\n",
            "Train Epoch: 54 [8400/8498 (99%)]\tLoss: 0.301680, Learning rate: 0.001000\n"
          ]
        },
        {
          "metadata": {
            "tags": null
          },
          "name": "stderr",
          "output_type": "stream",
          "text": [
            "/usr/local/lib/python3.7/dist-packages/torchvision/transforms/transforms.py:288: UserWarning: Argument interpolation should be of type InterpolationMode instead of int. Please, use InterpolationMode enum.\n",
            "  \"Argument interpolation should be of type InterpolationMode instead of int. \"\n",
            "/usr/local/lib/python3.7/dist-packages/torchvision/transforms/transforms.py:288: UserWarning: Argument interpolation should be of type InterpolationMode instead of int. Please, use InterpolationMode enum.\n",
            "  \"Argument interpolation should be of type InterpolationMode instead of int. \"\n",
            "/usr/local/lib/python3.7/dist-packages/torchvision/transforms/transforms.py:288: UserWarning: Argument interpolation should be of type InterpolationMode instead of int. Please, use InterpolationMode enum.\n",
            "  \"Argument interpolation should be of type InterpolationMode instead of int. \"\n",
            "/usr/local/lib/python3.7/dist-packages/torchvision/transforms/transforms.py:288: UserWarning: Argument interpolation should be of type InterpolationMode instead of int. Please, use InterpolationMode enum.\n",
            "  \"Argument interpolation should be of type InterpolationMode instead of int. \"\n",
            "/usr/local/lib/python3.7/dist-packages/torchvision/transforms/transforms.py:288: UserWarning: Argument interpolation should be of type InterpolationMode instead of int. Please, use InterpolationMode enum.\n",
            "  \"Argument interpolation should be of type InterpolationMode instead of int. \"\n",
            "/usr/local/lib/python3.7/dist-packages/torchvision/transforms/transforms.py:288: UserWarning: Argument interpolation should be of type InterpolationMode instead of int. Please, use InterpolationMode enum.\n",
            "  \"Argument interpolation should be of type InterpolationMode instead of int. \"\n",
            "/usr/local/lib/python3.7/dist-packages/torchvision/transforms/transforms.py:288: UserWarning: Argument interpolation should be of type InterpolationMode instead of int. Please, use InterpolationMode enum.\n",
            "  \"Argument interpolation should be of type InterpolationMode instead of int. \"\n",
            "/usr/local/lib/python3.7/dist-packages/torchvision/transforms/transforms.py:288: UserWarning: Argument interpolation should be of type InterpolationMode instead of int. Please, use InterpolationMode enum.\n",
            "  \"Argument interpolation should be of type InterpolationMode instead of int. \"\n"
          ]
        },
        {
          "metadata": {
            "tags": null
          },
          "name": "stdout",
          "output_type": "stream",
          "text": [
            "\n",
            "Test set (736): Average loss: 0.5859, mIoU: 0.5983\n",
            "\n",
            "PSPnetLite training, epoch 55\n"
          ]
        },
        {
          "metadata": {
            "tags": null
          },
          "name": "stderr",
          "output_type": "stream",
          "text": [
            "/usr/local/lib/python3.7/dist-packages/torchvision/transforms/transforms.py:288: UserWarning: Argument interpolation should be of type InterpolationMode instead of int. Please, use InterpolationMode enum.\n",
            "  \"Argument interpolation should be of type InterpolationMode instead of int. \"\n",
            "/usr/local/lib/python3.7/dist-packages/torchvision/transforms/transforms.py:288: UserWarning: Argument interpolation should be of type InterpolationMode instead of int. Please, use InterpolationMode enum.\n",
            "  \"Argument interpolation should be of type InterpolationMode instead of int. \"\n",
            "/usr/local/lib/python3.7/dist-packages/torchvision/transforms/transforms.py:288: UserWarning: Argument interpolation should be of type InterpolationMode instead of int. Please, use InterpolationMode enum.\n",
            "  \"Argument interpolation should be of type InterpolationMode instead of int. \"\n",
            "/usr/local/lib/python3.7/dist-packages/torchvision/transforms/transforms.py:288: UserWarning: Argument interpolation should be of type InterpolationMode instead of int. Please, use InterpolationMode enum.\n",
            "  \"Argument interpolation should be of type InterpolationMode instead of int. \"\n",
            "/usr/local/lib/python3.7/dist-packages/torchvision/transforms/transforms.py:288: UserWarning: Argument interpolation should be of type InterpolationMode instead of int. Please, use InterpolationMode enum.\n",
            "  \"Argument interpolation should be of type InterpolationMode instead of int. \"\n",
            "/usr/local/lib/python3.7/dist-packages/torchvision/transforms/transforms.py:288: UserWarning: Argument interpolation should be of type InterpolationMode instead of int. Please, use InterpolationMode enum.\n",
            "  \"Argument interpolation should be of type InterpolationMode instead of int. \"\n",
            "/usr/local/lib/python3.7/dist-packages/torchvision/transforms/transforms.py:288: UserWarning: Argument interpolation should be of type InterpolationMode instead of int. Please, use InterpolationMode enum.\n",
            "  \"Argument interpolation should be of type InterpolationMode instead of int. \"\n",
            "/usr/local/lib/python3.7/dist-packages/torchvision/transforms/transforms.py:288: UserWarning: Argument interpolation should be of type InterpolationMode instead of int. Please, use InterpolationMode enum.\n",
            "  \"Argument interpolation should be of type InterpolationMode instead of int. \"\n"
          ]
        },
        {
          "metadata": {
            "tags": null
          },
          "name": "stdout",
          "output_type": "stream",
          "text": [
            "Train Epoch: 55 [240/8498 (3%)]\tLoss: 0.265671, Learning rate: 0.001000\n",
            "Train Epoch: 55 [480/8498 (6%)]\tLoss: 0.277383, Learning rate: 0.001000\n",
            "Train Epoch: 55 [720/8498 (8%)]\tLoss: 0.298996, Learning rate: 0.001000\n",
            "Train Epoch: 55 [960/8498 (11%)]\tLoss: 0.258320, Learning rate: 0.001000\n",
            "Train Epoch: 55 [1200/8498 (14%)]\tLoss: 0.269216, Learning rate: 0.001000\n",
            "Train Epoch: 55 [1440/8498 (17%)]\tLoss: 0.529201, Learning rate: 0.001000\n",
            "Train Epoch: 55 [1680/8498 (20%)]\tLoss: 0.205738, Learning rate: 0.001000\n",
            "Train Epoch: 55 [1920/8498 (23%)]\tLoss: 0.293906, Learning rate: 0.001000\n",
            "Train Epoch: 55 [2160/8498 (25%)]\tLoss: 0.235478, Learning rate: 0.001000\n",
            "Train Epoch: 55 [2400/8498 (28%)]\tLoss: 0.225197, Learning rate: 0.001000\n",
            "Train Epoch: 55 [2640/8498 (31%)]\tLoss: 0.263101, Learning rate: 0.001000\n",
            "Train Epoch: 55 [2880/8498 (34%)]\tLoss: 0.337701, Learning rate: 0.001000\n",
            "Train Epoch: 55 [3120/8498 (37%)]\tLoss: 0.391073, Learning rate: 0.001000\n",
            "Train Epoch: 55 [3360/8498 (39%)]\tLoss: 0.335775, Learning rate: 0.001000\n",
            "Train Epoch: 55 [3600/8498 (42%)]\tLoss: 0.245754, Learning rate: 0.001000\n",
            "Train Epoch: 55 [3840/8498 (45%)]\tLoss: 0.278032, Learning rate: 0.001000\n",
            "Train Epoch: 55 [4080/8498 (48%)]\tLoss: 0.288169, Learning rate: 0.001000\n",
            "Train Epoch: 55 [4320/8498 (51%)]\tLoss: 0.280939, Learning rate: 0.001000\n",
            "Train Epoch: 55 [4560/8498 (54%)]\tLoss: 0.190003, Learning rate: 0.001000\n",
            "Train Epoch: 55 [4800/8498 (56%)]\tLoss: 0.272362, Learning rate: 0.001000\n",
            "Train Epoch: 55 [5040/8498 (59%)]\tLoss: 0.254815, Learning rate: 0.001000\n",
            "Train Epoch: 55 [5280/8498 (62%)]\tLoss: 0.310778, Learning rate: 0.001000\n",
            "Train Epoch: 55 [5520/8498 (65%)]\tLoss: 0.368206, Learning rate: 0.001000\n",
            "Train Epoch: 55 [5760/8498 (68%)]\tLoss: 0.341706, Learning rate: 0.001000\n",
            "Train Epoch: 55 [6000/8498 (70%)]\tLoss: 0.302610, Learning rate: 0.001000\n",
            "Train Epoch: 55 [6240/8498 (73%)]\tLoss: 0.264446, Learning rate: 0.001000\n",
            "Train Epoch: 55 [6480/8498 (76%)]\tLoss: 0.197829, Learning rate: 0.001000\n",
            "Train Epoch: 55 [6720/8498 (79%)]\tLoss: 0.307078, Learning rate: 0.001000\n",
            "Train Epoch: 55 [6960/8498 (82%)]\tLoss: 0.252798, Learning rate: 0.001000\n",
            "Train Epoch: 55 [7200/8498 (85%)]\tLoss: 0.280781, Learning rate: 0.001000\n",
            "Train Epoch: 55 [7440/8498 (87%)]\tLoss: 0.213641, Learning rate: 0.001000\n",
            "Train Epoch: 55 [7680/8498 (90%)]\tLoss: 0.189552, Learning rate: 0.001000\n",
            "Train Epoch: 55 [7920/8498 (93%)]\tLoss: 0.269235, Learning rate: 0.001000\n",
            "Train Epoch: 55 [8160/8498 (96%)]\tLoss: 0.322679, Learning rate: 0.001000\n",
            "Train Epoch: 55 [8400/8498 (99%)]\tLoss: 0.254905, Learning rate: 0.001000\n"
          ]
        },
        {
          "metadata": {
            "tags": null
          },
          "name": "stderr",
          "output_type": "stream",
          "text": [
            "/usr/local/lib/python3.7/dist-packages/torchvision/transforms/transforms.py:288: UserWarning: Argument interpolation should be of type InterpolationMode instead of int. Please, use InterpolationMode enum.\n",
            "  \"Argument interpolation should be of type InterpolationMode instead of int. \"\n",
            "/usr/local/lib/python3.7/dist-packages/torchvision/transforms/transforms.py:288: UserWarning: Argument interpolation should be of type InterpolationMode instead of int. Please, use InterpolationMode enum.\n",
            "  \"Argument interpolation should be of type InterpolationMode instead of int. \"\n",
            "/usr/local/lib/python3.7/dist-packages/torchvision/transforms/transforms.py:288: UserWarning: Argument interpolation should be of type InterpolationMode instead of int. Please, use InterpolationMode enum.\n",
            "  \"Argument interpolation should be of type InterpolationMode instead of int. \"\n",
            "/usr/local/lib/python3.7/dist-packages/torchvision/transforms/transforms.py:288: UserWarning: Argument interpolation should be of type InterpolationMode instead of int. Please, use InterpolationMode enum.\n",
            "  \"Argument interpolation should be of type InterpolationMode instead of int. \"\n",
            "/usr/local/lib/python3.7/dist-packages/torchvision/transforms/transforms.py:288: UserWarning: Argument interpolation should be of type InterpolationMode instead of int. Please, use InterpolationMode enum.\n",
            "  \"Argument interpolation should be of type InterpolationMode instead of int. \"\n",
            "/usr/local/lib/python3.7/dist-packages/torchvision/transforms/transforms.py:288: UserWarning: Argument interpolation should be of type InterpolationMode instead of int. Please, use InterpolationMode enum.\n",
            "  \"Argument interpolation should be of type InterpolationMode instead of int. \"\n",
            "/usr/local/lib/python3.7/dist-packages/torchvision/transforms/transforms.py:288: UserWarning: Argument interpolation should be of type InterpolationMode instead of int. Please, use InterpolationMode enum.\n",
            "  \"Argument interpolation should be of type InterpolationMode instead of int. \"\n",
            "/usr/local/lib/python3.7/dist-packages/torchvision/transforms/transforms.py:288: UserWarning: Argument interpolation should be of type InterpolationMode instead of int. Please, use InterpolationMode enum.\n",
            "  \"Argument interpolation should be of type InterpolationMode instead of int. \"\n"
          ]
        },
        {
          "metadata": {
            "tags": null
          },
          "name": "stdout",
          "output_type": "stream",
          "text": [
            "\n",
            "Test set (736): Average loss: 0.6265, mIoU: 0.5972\n",
            "\n",
            "PSPnetLite training, epoch 56\n"
          ]
        },
        {
          "metadata": {
            "tags": null
          },
          "name": "stderr",
          "output_type": "stream",
          "text": [
            "/usr/local/lib/python3.7/dist-packages/torchvision/transforms/transforms.py:288: UserWarning: Argument interpolation should be of type InterpolationMode instead of int. Please, use InterpolationMode enum.\n",
            "  \"Argument interpolation should be of type InterpolationMode instead of int. \"\n",
            "/usr/local/lib/python3.7/dist-packages/torchvision/transforms/transforms.py:288: UserWarning: Argument interpolation should be of type InterpolationMode instead of int. Please, use InterpolationMode enum.\n",
            "  \"Argument interpolation should be of type InterpolationMode instead of int. \"\n",
            "/usr/local/lib/python3.7/dist-packages/torchvision/transforms/transforms.py:288: UserWarning: Argument interpolation should be of type InterpolationMode instead of int. Please, use InterpolationMode enum.\n",
            "  \"Argument interpolation should be of type InterpolationMode instead of int. \"\n",
            "/usr/local/lib/python3.7/dist-packages/torchvision/transforms/transforms.py:288: UserWarning: Argument interpolation should be of type InterpolationMode instead of int. Please, use InterpolationMode enum.\n",
            "  \"Argument interpolation should be of type InterpolationMode instead of int. \"\n",
            "/usr/local/lib/python3.7/dist-packages/torchvision/transforms/transforms.py:288: UserWarning: Argument interpolation should be of type InterpolationMode instead of int. Please, use InterpolationMode enum.\n",
            "  \"Argument interpolation should be of type InterpolationMode instead of int. \"\n",
            "/usr/local/lib/python3.7/dist-packages/torchvision/transforms/transforms.py:288: UserWarning: Argument interpolation should be of type InterpolationMode instead of int. Please, use InterpolationMode enum.\n",
            "  \"Argument interpolation should be of type InterpolationMode instead of int. \"\n",
            "/usr/local/lib/python3.7/dist-packages/torchvision/transforms/transforms.py:288: UserWarning: Argument interpolation should be of type InterpolationMode instead of int. Please, use InterpolationMode enum.\n",
            "  \"Argument interpolation should be of type InterpolationMode instead of int. \"\n",
            "/usr/local/lib/python3.7/dist-packages/torchvision/transforms/transforms.py:288: UserWarning: Argument interpolation should be of type InterpolationMode instead of int. Please, use InterpolationMode enum.\n",
            "  \"Argument interpolation should be of type InterpolationMode instead of int. \"\n"
          ]
        },
        {
          "metadata": {
            "tags": null
          },
          "name": "stdout",
          "output_type": "stream",
          "text": [
            "Train Epoch: 56 [240/8498 (3%)]\tLoss: 0.175248, Learning rate: 0.001000\n",
            "Train Epoch: 56 [480/8498 (6%)]\tLoss: 0.282320, Learning rate: 0.001000\n",
            "Train Epoch: 56 [720/8498 (8%)]\tLoss: 0.288290, Learning rate: 0.001000\n",
            "Train Epoch: 56 [960/8498 (11%)]\tLoss: 0.244671, Learning rate: 0.001000\n",
            "Train Epoch: 56 [1200/8498 (14%)]\tLoss: 0.246510, Learning rate: 0.001000\n",
            "Train Epoch: 56 [1440/8498 (17%)]\tLoss: 0.279948, Learning rate: 0.001000\n",
            "Train Epoch: 56 [1680/8498 (20%)]\tLoss: 0.244531, Learning rate: 0.001000\n",
            "Train Epoch: 56 [1920/8498 (23%)]\tLoss: 0.269408, Learning rate: 0.001000\n",
            "Train Epoch: 56 [2160/8498 (25%)]\tLoss: 0.256536, Learning rate: 0.001000\n",
            "Train Epoch: 56 [2400/8498 (28%)]\tLoss: 0.168819, Learning rate: 0.001000\n",
            "Train Epoch: 56 [2640/8498 (31%)]\tLoss: 0.304719, Learning rate: 0.001000\n",
            "Train Epoch: 56 [2880/8498 (34%)]\tLoss: 0.304472, Learning rate: 0.001000\n",
            "Train Epoch: 56 [3120/8498 (37%)]\tLoss: 0.366440, Learning rate: 0.001000\n",
            "Train Epoch: 56 [3360/8498 (39%)]\tLoss: 0.215939, Learning rate: 0.001000\n",
            "Train Epoch: 56 [3600/8498 (42%)]\tLoss: 0.251688, Learning rate: 0.001000\n",
            "Train Epoch: 56 [3840/8498 (45%)]\tLoss: 0.211813, Learning rate: 0.001000\n",
            "Train Epoch: 56 [4080/8498 (48%)]\tLoss: 0.284037, Learning rate: 0.001000\n",
            "Train Epoch: 56 [4320/8498 (51%)]\tLoss: 0.320573, Learning rate: 0.001000\n",
            "Train Epoch: 56 [4560/8498 (54%)]\tLoss: 0.289842, Learning rate: 0.001000\n",
            "Train Epoch: 56 [4800/8498 (56%)]\tLoss: 0.196800, Learning rate: 0.001000\n",
            "Train Epoch: 56 [5040/8498 (59%)]\tLoss: 0.197297, Learning rate: 0.001000\n",
            "Train Epoch: 56 [5280/8498 (62%)]\tLoss: 0.224914, Learning rate: 0.001000\n",
            "Train Epoch: 56 [5520/8498 (65%)]\tLoss: 0.380577, Learning rate: 0.001000\n",
            "Train Epoch: 56 [5760/8498 (68%)]\tLoss: 0.249933, Learning rate: 0.001000\n",
            "Train Epoch: 56 [6000/8498 (70%)]\tLoss: 0.157343, Learning rate: 0.001000\n",
            "Train Epoch: 56 [6240/8498 (73%)]\tLoss: 0.216752, Learning rate: 0.001000\n",
            "Train Epoch: 56 [6480/8498 (76%)]\tLoss: 0.321663, Learning rate: 0.001000\n",
            "Train Epoch: 56 [6720/8498 (79%)]\tLoss: 0.201769, Learning rate: 0.001000\n",
            "Train Epoch: 56 [6960/8498 (82%)]\tLoss: 0.198158, Learning rate: 0.001000\n",
            "Train Epoch: 56 [7200/8498 (85%)]\tLoss: 0.222836, Learning rate: 0.001000\n",
            "Train Epoch: 56 [7440/8498 (87%)]\tLoss: 0.233328, Learning rate: 0.001000\n",
            "Train Epoch: 56 [7680/8498 (90%)]\tLoss: 0.230637, Learning rate: 0.001000\n",
            "Train Epoch: 56 [7920/8498 (93%)]\tLoss: 0.274766, Learning rate: 0.001000\n",
            "Train Epoch: 56 [8160/8498 (96%)]\tLoss: 0.369497, Learning rate: 0.001000\n",
            "Train Epoch: 56 [8400/8498 (99%)]\tLoss: 0.276592, Learning rate: 0.001000\n"
          ]
        },
        {
          "metadata": {
            "tags": null
          },
          "name": "stderr",
          "output_type": "stream",
          "text": [
            "/usr/local/lib/python3.7/dist-packages/torchvision/transforms/transforms.py:288: UserWarning: Argument interpolation should be of type InterpolationMode instead of int. Please, use InterpolationMode enum.\n",
            "  \"Argument interpolation should be of type InterpolationMode instead of int. \"\n",
            "/usr/local/lib/python3.7/dist-packages/torchvision/transforms/transforms.py:288: UserWarning: Argument interpolation should be of type InterpolationMode instead of int. Please, use InterpolationMode enum.\n",
            "  \"Argument interpolation should be of type InterpolationMode instead of int. \"\n",
            "/usr/local/lib/python3.7/dist-packages/torchvision/transforms/transforms.py:288: UserWarning: Argument interpolation should be of type InterpolationMode instead of int. Please, use InterpolationMode enum.\n",
            "  \"Argument interpolation should be of type InterpolationMode instead of int. \"\n",
            "/usr/local/lib/python3.7/dist-packages/torchvision/transforms/transforms.py:288: UserWarning: Argument interpolation should be of type InterpolationMode instead of int. Please, use InterpolationMode enum.\n",
            "  \"Argument interpolation should be of type InterpolationMode instead of int. \"\n",
            "/usr/local/lib/python3.7/dist-packages/torchvision/transforms/transforms.py:288: UserWarning: Argument interpolation should be of type InterpolationMode instead of int. Please, use InterpolationMode enum.\n",
            "  \"Argument interpolation should be of type InterpolationMode instead of int. \"\n",
            "/usr/local/lib/python3.7/dist-packages/torchvision/transforms/transforms.py:288: UserWarning: Argument interpolation should be of type InterpolationMode instead of int. Please, use InterpolationMode enum.\n",
            "  \"Argument interpolation should be of type InterpolationMode instead of int. \"\n",
            "/usr/local/lib/python3.7/dist-packages/torchvision/transforms/transforms.py:288: UserWarning: Argument interpolation should be of type InterpolationMode instead of int. Please, use InterpolationMode enum.\n",
            "  \"Argument interpolation should be of type InterpolationMode instead of int. \"\n",
            "/usr/local/lib/python3.7/dist-packages/torchvision/transforms/transforms.py:288: UserWarning: Argument interpolation should be of type InterpolationMode instead of int. Please, use InterpolationMode enum.\n",
            "  \"Argument interpolation should be of type InterpolationMode instead of int. \"\n"
          ]
        },
        {
          "metadata": {
            "tags": null
          },
          "name": "stdout",
          "output_type": "stream",
          "text": [
            "\n",
            "Test set (736): Average loss: 0.6123, mIoU: 0.5973\n",
            "\n",
            "PSPnetLite training, epoch 57\n"
          ]
        },
        {
          "metadata": {
            "tags": null
          },
          "name": "stderr",
          "output_type": "stream",
          "text": [
            "/usr/local/lib/python3.7/dist-packages/torchvision/transforms/transforms.py:288: UserWarning: Argument interpolation should be of type InterpolationMode instead of int. Please, use InterpolationMode enum.\n",
            "  \"Argument interpolation should be of type InterpolationMode instead of int. \"\n",
            "/usr/local/lib/python3.7/dist-packages/torchvision/transforms/transforms.py:288: UserWarning: Argument interpolation should be of type InterpolationMode instead of int. Please, use InterpolationMode enum.\n",
            "  \"Argument interpolation should be of type InterpolationMode instead of int. \"\n",
            "/usr/local/lib/python3.7/dist-packages/torchvision/transforms/transforms.py:288: UserWarning: Argument interpolation should be of type InterpolationMode instead of int. Please, use InterpolationMode enum.\n",
            "  \"Argument interpolation should be of type InterpolationMode instead of int. \"\n",
            "/usr/local/lib/python3.7/dist-packages/torchvision/transforms/transforms.py:288: UserWarning: Argument interpolation should be of type InterpolationMode instead of int. Please, use InterpolationMode enum.\n",
            "  \"Argument interpolation should be of type InterpolationMode instead of int. \"\n",
            "/usr/local/lib/python3.7/dist-packages/torchvision/transforms/transforms.py:288: UserWarning: Argument interpolation should be of type InterpolationMode instead of int. Please, use InterpolationMode enum.\n",
            "  \"Argument interpolation should be of type InterpolationMode instead of int. \"\n",
            "/usr/local/lib/python3.7/dist-packages/torchvision/transforms/transforms.py:288: UserWarning: Argument interpolation should be of type InterpolationMode instead of int. Please, use InterpolationMode enum.\n",
            "  \"Argument interpolation should be of type InterpolationMode instead of int. \"\n",
            "/usr/local/lib/python3.7/dist-packages/torchvision/transforms/transforms.py:288: UserWarning: Argument interpolation should be of type InterpolationMode instead of int. Please, use InterpolationMode enum.\n",
            "  \"Argument interpolation should be of type InterpolationMode instead of int. \"\n",
            "/usr/local/lib/python3.7/dist-packages/torchvision/transforms/transforms.py:288: UserWarning: Argument interpolation should be of type InterpolationMode instead of int. Please, use InterpolationMode enum.\n",
            "  \"Argument interpolation should be of type InterpolationMode instead of int. \"\n"
          ]
        },
        {
          "metadata": {
            "tags": null
          },
          "name": "stdout",
          "output_type": "stream",
          "text": [
            "Train Epoch: 57 [240/8498 (3%)]\tLoss: 0.279036, Learning rate: 0.001000\n",
            "Train Epoch: 57 [480/8498 (6%)]\tLoss: 0.255334, Learning rate: 0.001000\n",
            "Train Epoch: 57 [720/8498 (8%)]\tLoss: 0.260492, Learning rate: 0.001000\n",
            "Train Epoch: 57 [960/8498 (11%)]\tLoss: 0.275490, Learning rate: 0.001000\n",
            "Train Epoch: 57 [1200/8498 (14%)]\tLoss: 0.219295, Learning rate: 0.001000\n",
            "Train Epoch: 57 [1440/8498 (17%)]\tLoss: 0.278378, Learning rate: 0.001000\n",
            "Train Epoch: 57 [1680/8498 (20%)]\tLoss: 0.271134, Learning rate: 0.001000\n",
            "Train Epoch: 57 [1920/8498 (23%)]\tLoss: 0.215043, Learning rate: 0.001000\n",
            "Train Epoch: 57 [2160/8498 (25%)]\tLoss: 0.194108, Learning rate: 0.001000\n",
            "Train Epoch: 57 [2400/8498 (28%)]\tLoss: 0.334683, Learning rate: 0.001000\n",
            "Train Epoch: 57 [2640/8498 (31%)]\tLoss: 0.286485, Learning rate: 0.001000\n",
            "Train Epoch: 57 [2880/8498 (34%)]\tLoss: 0.370201, Learning rate: 0.001000\n",
            "Train Epoch: 57 [3120/8498 (37%)]\tLoss: 0.211371, Learning rate: 0.001000\n",
            "Train Epoch: 57 [3360/8498 (39%)]\tLoss: 0.220760, Learning rate: 0.001000\n",
            "Train Epoch: 57 [3600/8498 (42%)]\tLoss: 0.228368, Learning rate: 0.001000\n",
            "Train Epoch: 57 [3840/8498 (45%)]\tLoss: 0.288074, Learning rate: 0.001000\n",
            "Train Epoch: 57 [4080/8498 (48%)]\tLoss: 0.336653, Learning rate: 0.001000\n",
            "Train Epoch: 57 [4320/8498 (51%)]\tLoss: 0.248752, Learning rate: 0.001000\n",
            "Train Epoch: 57 [4560/8498 (54%)]\tLoss: 0.290945, Learning rate: 0.001000\n",
            "Train Epoch: 57 [4800/8498 (56%)]\tLoss: 0.214075, Learning rate: 0.001000\n",
            "Train Epoch: 57 [5040/8498 (59%)]\tLoss: 0.229490, Learning rate: 0.001000\n",
            "Train Epoch: 57 [5280/8498 (62%)]\tLoss: 0.246722, Learning rate: 0.001000\n",
            "Train Epoch: 57 [5520/8498 (65%)]\tLoss: 0.249466, Learning rate: 0.001000\n",
            "Train Epoch: 57 [5760/8498 (68%)]\tLoss: 0.229502, Learning rate: 0.001000\n",
            "Train Epoch: 57 [6000/8498 (70%)]\tLoss: 0.227111, Learning rate: 0.001000\n",
            "Train Epoch: 57 [6240/8498 (73%)]\tLoss: 0.299074, Learning rate: 0.001000\n",
            "Train Epoch: 57 [6480/8498 (76%)]\tLoss: 0.300359, Learning rate: 0.001000\n",
            "Train Epoch: 57 [6720/8498 (79%)]\tLoss: 0.197840, Learning rate: 0.001000\n",
            "Train Epoch: 57 [6960/8498 (82%)]\tLoss: 0.275089, Learning rate: 0.001000\n",
            "Train Epoch: 57 [7200/8498 (85%)]\tLoss: 0.395487, Learning rate: 0.001000\n",
            "Train Epoch: 57 [7440/8498 (87%)]\tLoss: 0.269928, Learning rate: 0.001000\n",
            "Train Epoch: 57 [7680/8498 (90%)]\tLoss: 0.264573, Learning rate: 0.001000\n",
            "Train Epoch: 57 [7920/8498 (93%)]\tLoss: 0.219844, Learning rate: 0.001000\n",
            "Train Epoch: 57 [8160/8498 (96%)]\tLoss: 0.430626, Learning rate: 0.001000\n",
            "Train Epoch: 57 [8400/8498 (99%)]\tLoss: 0.481597, Learning rate: 0.001000\n"
          ]
        },
        {
          "metadata": {
            "tags": null
          },
          "name": "stderr",
          "output_type": "stream",
          "text": [
            "/usr/local/lib/python3.7/dist-packages/torchvision/transforms/transforms.py:288: UserWarning: Argument interpolation should be of type InterpolationMode instead of int. Please, use InterpolationMode enum.\n",
            "  \"Argument interpolation should be of type InterpolationMode instead of int. \"\n",
            "/usr/local/lib/python3.7/dist-packages/torchvision/transforms/transforms.py:288: UserWarning: Argument interpolation should be of type InterpolationMode instead of int. Please, use InterpolationMode enum.\n",
            "  \"Argument interpolation should be of type InterpolationMode instead of int. \"\n",
            "/usr/local/lib/python3.7/dist-packages/torchvision/transforms/transforms.py:288: UserWarning: Argument interpolation should be of type InterpolationMode instead of int. Please, use InterpolationMode enum.\n",
            "  \"Argument interpolation should be of type InterpolationMode instead of int. \"\n",
            "/usr/local/lib/python3.7/dist-packages/torchvision/transforms/transforms.py:288: UserWarning: Argument interpolation should be of type InterpolationMode instead of int. Please, use InterpolationMode enum.\n",
            "  \"Argument interpolation should be of type InterpolationMode instead of int. \"\n",
            "/usr/local/lib/python3.7/dist-packages/torchvision/transforms/transforms.py:288: UserWarning: Argument interpolation should be of type InterpolationMode instead of int. Please, use InterpolationMode enum.\n",
            "  \"Argument interpolation should be of type InterpolationMode instead of int. \"\n",
            "/usr/local/lib/python3.7/dist-packages/torchvision/transforms/transforms.py:288: UserWarning: Argument interpolation should be of type InterpolationMode instead of int. Please, use InterpolationMode enum.\n",
            "  \"Argument interpolation should be of type InterpolationMode instead of int. \"\n",
            "/usr/local/lib/python3.7/dist-packages/torchvision/transforms/transforms.py:288: UserWarning: Argument interpolation should be of type InterpolationMode instead of int. Please, use InterpolationMode enum.\n",
            "  \"Argument interpolation should be of type InterpolationMode instead of int. \"\n",
            "/usr/local/lib/python3.7/dist-packages/torchvision/transforms/transforms.py:288: UserWarning: Argument interpolation should be of type InterpolationMode instead of int. Please, use InterpolationMode enum.\n",
            "  \"Argument interpolation should be of type InterpolationMode instead of int. \"\n"
          ]
        },
        {
          "metadata": {
            "tags": null
          },
          "name": "stdout",
          "output_type": "stream",
          "text": [
            "\n",
            "Test set (736): Average loss: 0.6080, mIoU: 0.6028\n",
            "\n",
            "PSPnetLite training, epoch 58\n"
          ]
        },
        {
          "metadata": {
            "tags": null
          },
          "name": "stderr",
          "output_type": "stream",
          "text": [
            "/usr/local/lib/python3.7/dist-packages/torchvision/transforms/transforms.py:288: UserWarning: Argument interpolation should be of type InterpolationMode instead of int. Please, use InterpolationMode enum.\n",
            "  \"Argument interpolation should be of type InterpolationMode instead of int. \"\n",
            "/usr/local/lib/python3.7/dist-packages/torchvision/transforms/transforms.py:288: UserWarning: Argument interpolation should be of type InterpolationMode instead of int. Please, use InterpolationMode enum.\n",
            "  \"Argument interpolation should be of type InterpolationMode instead of int. \"\n",
            "/usr/local/lib/python3.7/dist-packages/torchvision/transforms/transforms.py:288: UserWarning: Argument interpolation should be of type InterpolationMode instead of int. Please, use InterpolationMode enum.\n",
            "  \"Argument interpolation should be of type InterpolationMode instead of int. \"\n",
            "/usr/local/lib/python3.7/dist-packages/torchvision/transforms/transforms.py:288: UserWarning: Argument interpolation should be of type InterpolationMode instead of int. Please, use InterpolationMode enum.\n",
            "  \"Argument interpolation should be of type InterpolationMode instead of int. \"\n",
            "/usr/local/lib/python3.7/dist-packages/torchvision/transforms/transforms.py:288: UserWarning: Argument interpolation should be of type InterpolationMode instead of int. Please, use InterpolationMode enum.\n",
            "  \"Argument interpolation should be of type InterpolationMode instead of int. \"\n",
            "/usr/local/lib/python3.7/dist-packages/torchvision/transforms/transforms.py:288: UserWarning: Argument interpolation should be of type InterpolationMode instead of int. Please, use InterpolationMode enum.\n",
            "  \"Argument interpolation should be of type InterpolationMode instead of int. \"\n",
            "/usr/local/lib/python3.7/dist-packages/torchvision/transforms/transforms.py:288: UserWarning: Argument interpolation should be of type InterpolationMode instead of int. Please, use InterpolationMode enum.\n",
            "  \"Argument interpolation should be of type InterpolationMode instead of int. \"\n",
            "/usr/local/lib/python3.7/dist-packages/torchvision/transforms/transforms.py:288: UserWarning: Argument interpolation should be of type InterpolationMode instead of int. Please, use InterpolationMode enum.\n",
            "  \"Argument interpolation should be of type InterpolationMode instead of int. \"\n"
          ]
        },
        {
          "metadata": {
            "tags": null
          },
          "name": "stdout",
          "output_type": "stream",
          "text": [
            "Train Epoch: 58 [240/8498 (3%)]\tLoss: 0.218703, Learning rate: 0.001000\n",
            "Train Epoch: 58 [480/8498 (6%)]\tLoss: 0.178857, Learning rate: 0.001000\n",
            "Train Epoch: 58 [720/8498 (8%)]\tLoss: 0.248646, Learning rate: 0.001000\n",
            "Train Epoch: 58 [960/8498 (11%)]\tLoss: 0.354324, Learning rate: 0.001000\n",
            "Train Epoch: 58 [1200/8498 (14%)]\tLoss: 0.257843, Learning rate: 0.001000\n",
            "Train Epoch: 58 [1440/8498 (17%)]\tLoss: 0.300875, Learning rate: 0.001000\n",
            "Train Epoch: 58 [1680/8498 (20%)]\tLoss: 0.213858, Learning rate: 0.001000\n",
            "Train Epoch: 58 [1920/8498 (23%)]\tLoss: 0.194474, Learning rate: 0.001000\n",
            "Train Epoch: 58 [2160/8498 (25%)]\tLoss: 0.253440, Learning rate: 0.001000\n",
            "Train Epoch: 58 [2400/8498 (28%)]\tLoss: 0.249519, Learning rate: 0.001000\n",
            "Train Epoch: 58 [2640/8498 (31%)]\tLoss: 0.321377, Learning rate: 0.001000\n",
            "Train Epoch: 58 [2880/8498 (34%)]\tLoss: 0.184064, Learning rate: 0.001000\n",
            "Train Epoch: 58 [3120/8498 (37%)]\tLoss: 0.257520, Learning rate: 0.001000\n",
            "Train Epoch: 58 [3360/8498 (39%)]\tLoss: 0.272543, Learning rate: 0.001000\n",
            "Train Epoch: 58 [3600/8498 (42%)]\tLoss: 0.194564, Learning rate: 0.001000\n",
            "Train Epoch: 58 [3840/8498 (45%)]\tLoss: 0.252315, Learning rate: 0.001000\n",
            "Train Epoch: 58 [4080/8498 (48%)]\tLoss: 0.267536, Learning rate: 0.001000\n",
            "Train Epoch: 58 [4320/8498 (51%)]\tLoss: 0.268916, Learning rate: 0.001000\n",
            "Train Epoch: 58 [4560/8498 (54%)]\tLoss: 0.249687, Learning rate: 0.001000\n",
            "Train Epoch: 58 [4800/8498 (56%)]\tLoss: 0.186625, Learning rate: 0.001000\n",
            "Train Epoch: 58 [5040/8498 (59%)]\tLoss: 0.324498, Learning rate: 0.001000\n",
            "Train Epoch: 58 [5280/8498 (62%)]\tLoss: 0.246753, Learning rate: 0.001000\n",
            "Train Epoch: 58 [5520/8498 (65%)]\tLoss: 0.229070, Learning rate: 0.001000\n",
            "Train Epoch: 58 [5760/8498 (68%)]\tLoss: 0.306143, Learning rate: 0.001000\n",
            "Train Epoch: 58 [6000/8498 (70%)]\tLoss: 0.253910, Learning rate: 0.001000\n",
            "Train Epoch: 58 [6240/8498 (73%)]\tLoss: 0.270931, Learning rate: 0.001000\n",
            "Train Epoch: 58 [6480/8498 (76%)]\tLoss: 0.322183, Learning rate: 0.001000\n",
            "Train Epoch: 58 [6720/8498 (79%)]\tLoss: 0.287506, Learning rate: 0.001000\n",
            "Train Epoch: 58 [6960/8498 (82%)]\tLoss: 0.240707, Learning rate: 0.001000\n",
            "Train Epoch: 58 [7200/8498 (85%)]\tLoss: 0.187390, Learning rate: 0.001000\n",
            "Train Epoch: 58 [7440/8498 (87%)]\tLoss: 0.332002, Learning rate: 0.001000\n",
            "Train Epoch: 58 [7680/8498 (90%)]\tLoss: 0.239788, Learning rate: 0.001000\n",
            "Train Epoch: 58 [7920/8498 (93%)]\tLoss: 0.321385, Learning rate: 0.001000\n",
            "Train Epoch: 58 [8160/8498 (96%)]\tLoss: 0.223542, Learning rate: 0.001000\n",
            "Train Epoch: 58 [8400/8498 (99%)]\tLoss: 0.347280, Learning rate: 0.001000\n"
          ]
        },
        {
          "metadata": {
            "tags": null
          },
          "name": "stderr",
          "output_type": "stream",
          "text": [
            "/usr/local/lib/python3.7/dist-packages/torchvision/transforms/transforms.py:288: UserWarning: Argument interpolation should be of type InterpolationMode instead of int. Please, use InterpolationMode enum.\n",
            "  \"Argument interpolation should be of type InterpolationMode instead of int. \"\n",
            "/usr/local/lib/python3.7/dist-packages/torchvision/transforms/transforms.py:288: UserWarning: Argument interpolation should be of type InterpolationMode instead of int. Please, use InterpolationMode enum.\n",
            "  \"Argument interpolation should be of type InterpolationMode instead of int. \"\n",
            "/usr/local/lib/python3.7/dist-packages/torchvision/transforms/transforms.py:288: UserWarning: Argument interpolation should be of type InterpolationMode instead of int. Please, use InterpolationMode enum.\n",
            "  \"Argument interpolation should be of type InterpolationMode instead of int. \"\n",
            "/usr/local/lib/python3.7/dist-packages/torchvision/transforms/transforms.py:288: UserWarning: Argument interpolation should be of type InterpolationMode instead of int. Please, use InterpolationMode enum.\n",
            "  \"Argument interpolation should be of type InterpolationMode instead of int. \"\n",
            "/usr/local/lib/python3.7/dist-packages/torchvision/transforms/transforms.py:288: UserWarning: Argument interpolation should be of type InterpolationMode instead of int. Please, use InterpolationMode enum.\n",
            "  \"Argument interpolation should be of type InterpolationMode instead of int. \"\n",
            "/usr/local/lib/python3.7/dist-packages/torchvision/transforms/transforms.py:288: UserWarning: Argument interpolation should be of type InterpolationMode instead of int. Please, use InterpolationMode enum.\n",
            "  \"Argument interpolation should be of type InterpolationMode instead of int. \"\n",
            "/usr/local/lib/python3.7/dist-packages/torchvision/transforms/transforms.py:288: UserWarning: Argument interpolation should be of type InterpolationMode instead of int. Please, use InterpolationMode enum.\n",
            "  \"Argument interpolation should be of type InterpolationMode instead of int. \"\n",
            "/usr/local/lib/python3.7/dist-packages/torchvision/transforms/transforms.py:288: UserWarning: Argument interpolation should be of type InterpolationMode instead of int. Please, use InterpolationMode enum.\n",
            "  \"Argument interpolation should be of type InterpolationMode instead of int. \"\n"
          ]
        },
        {
          "metadata": {
            "tags": null
          },
          "name": "stdout",
          "output_type": "stream",
          "text": [
            "\n",
            "Test set (736): Average loss: 0.6651, mIoU: 0.5867\n",
            "\n",
            "PSPnetLite training, epoch 59\n"
          ]
        },
        {
          "metadata": {
            "tags": null
          },
          "name": "stderr",
          "output_type": "stream",
          "text": [
            "/usr/local/lib/python3.7/dist-packages/torchvision/transforms/transforms.py:288: UserWarning: Argument interpolation should be of type InterpolationMode instead of int. Please, use InterpolationMode enum.\n",
            "  \"Argument interpolation should be of type InterpolationMode instead of int. \"\n",
            "/usr/local/lib/python3.7/dist-packages/torchvision/transforms/transforms.py:288: UserWarning: Argument interpolation should be of type InterpolationMode instead of int. Please, use InterpolationMode enum.\n",
            "  \"Argument interpolation should be of type InterpolationMode instead of int. \"\n",
            "/usr/local/lib/python3.7/dist-packages/torchvision/transforms/transforms.py:288: UserWarning: Argument interpolation should be of type InterpolationMode instead of int. Please, use InterpolationMode enum.\n",
            "  \"Argument interpolation should be of type InterpolationMode instead of int. \"\n",
            "/usr/local/lib/python3.7/dist-packages/torchvision/transforms/transforms.py:288: UserWarning: Argument interpolation should be of type InterpolationMode instead of int. Please, use InterpolationMode enum.\n",
            "  \"Argument interpolation should be of type InterpolationMode instead of int. \"\n",
            "/usr/local/lib/python3.7/dist-packages/torchvision/transforms/transforms.py:288: UserWarning: Argument interpolation should be of type InterpolationMode instead of int. Please, use InterpolationMode enum.\n",
            "  \"Argument interpolation should be of type InterpolationMode instead of int. \"\n",
            "/usr/local/lib/python3.7/dist-packages/torchvision/transforms/transforms.py:288: UserWarning: Argument interpolation should be of type InterpolationMode instead of int. Please, use InterpolationMode enum.\n",
            "  \"Argument interpolation should be of type InterpolationMode instead of int. \"\n",
            "/usr/local/lib/python3.7/dist-packages/torchvision/transforms/transforms.py:288: UserWarning: Argument interpolation should be of type InterpolationMode instead of int. Please, use InterpolationMode enum.\n",
            "  \"Argument interpolation should be of type InterpolationMode instead of int. \"\n",
            "/usr/local/lib/python3.7/dist-packages/torchvision/transforms/transforms.py:288: UserWarning: Argument interpolation should be of type InterpolationMode instead of int. Please, use InterpolationMode enum.\n",
            "  \"Argument interpolation should be of type InterpolationMode instead of int. \"\n"
          ]
        },
        {
          "metadata": {
            "tags": null
          },
          "name": "stdout",
          "output_type": "stream",
          "text": [
            "Train Epoch: 59 [240/8498 (3%)]\tLoss: 0.316428, Learning rate: 0.001000\n",
            "Train Epoch: 59 [480/8498 (6%)]\tLoss: 0.316809, Learning rate: 0.001000\n",
            "Train Epoch: 59 [720/8498 (8%)]\tLoss: 0.314124, Learning rate: 0.001000\n",
            "Train Epoch: 59 [960/8498 (11%)]\tLoss: 0.281771, Learning rate: 0.001000\n",
            "Train Epoch: 59 [1200/8498 (14%)]\tLoss: 0.387042, Learning rate: 0.001000\n",
            "Train Epoch: 59 [1440/8498 (17%)]\tLoss: 0.376785, Learning rate: 0.001000\n",
            "Train Epoch: 59 [1680/8498 (20%)]\tLoss: 0.227961, Learning rate: 0.001000\n",
            "Train Epoch: 59 [1920/8498 (23%)]\tLoss: 0.283380, Learning rate: 0.001000\n",
            "Train Epoch: 59 [2160/8498 (25%)]\tLoss: 0.248284, Learning rate: 0.001000\n",
            "Train Epoch: 59 [2400/8498 (28%)]\tLoss: 0.211044, Learning rate: 0.001000\n",
            "Train Epoch: 59 [2640/8498 (31%)]\tLoss: 0.368977, Learning rate: 0.001000\n",
            "Train Epoch: 59 [2880/8498 (34%)]\tLoss: 0.231683, Learning rate: 0.001000\n",
            "Train Epoch: 59 [3120/8498 (37%)]\tLoss: 0.231425, Learning rate: 0.001000\n",
            "Train Epoch: 59 [3360/8498 (39%)]\tLoss: 0.271264, Learning rate: 0.001000\n",
            "Train Epoch: 59 [3600/8498 (42%)]\tLoss: 0.221991, Learning rate: 0.001000\n",
            "Train Epoch: 59 [3840/8498 (45%)]\tLoss: 0.253715, Learning rate: 0.001000\n",
            "Train Epoch: 59 [4080/8498 (48%)]\tLoss: 0.271196, Learning rate: 0.001000\n",
            "Train Epoch: 59 [4320/8498 (51%)]\tLoss: 0.266395, Learning rate: 0.001000\n",
            "Train Epoch: 59 [4560/8498 (54%)]\tLoss: 0.220591, Learning rate: 0.001000\n",
            "Train Epoch: 59 [4800/8498 (56%)]\tLoss: 0.240616, Learning rate: 0.001000\n",
            "Train Epoch: 59 [5040/8498 (59%)]\tLoss: 0.555855, Learning rate: 0.001000\n",
            "Train Epoch: 59 [5280/8498 (62%)]\tLoss: 0.345599, Learning rate: 0.001000\n",
            "Train Epoch: 59 [5520/8498 (65%)]\tLoss: 0.293076, Learning rate: 0.001000\n",
            "Train Epoch: 59 [5760/8498 (68%)]\tLoss: 0.297555, Learning rate: 0.001000\n",
            "Train Epoch: 59 [6000/8498 (70%)]\tLoss: 0.263344, Learning rate: 0.001000\n",
            "Train Epoch: 59 [6240/8498 (73%)]\tLoss: 0.219948, Learning rate: 0.001000\n",
            "Train Epoch: 59 [6480/8498 (76%)]\tLoss: 0.288157, Learning rate: 0.001000\n",
            "Train Epoch: 59 [6720/8498 (79%)]\tLoss: 0.230593, Learning rate: 0.001000\n",
            "Train Epoch: 59 [6960/8498 (82%)]\tLoss: 0.303597, Learning rate: 0.001000\n",
            "Train Epoch: 59 [7200/8498 (85%)]\tLoss: 0.204811, Learning rate: 0.001000\n",
            "Train Epoch: 59 [7440/8498 (87%)]\tLoss: 0.251517, Learning rate: 0.001000\n",
            "Train Epoch: 59 [7680/8498 (90%)]\tLoss: 0.178911, Learning rate: 0.001000\n",
            "Train Epoch: 59 [7920/8498 (93%)]\tLoss: 0.275620, Learning rate: 0.001000\n",
            "Train Epoch: 59 [8160/8498 (96%)]\tLoss: 0.267290, Learning rate: 0.001000\n",
            "Train Epoch: 59 [8400/8498 (99%)]\tLoss: 0.211779, Learning rate: 0.001000\n"
          ]
        },
        {
          "metadata": {
            "tags": null
          },
          "name": "stderr",
          "output_type": "stream",
          "text": [
            "/usr/local/lib/python3.7/dist-packages/torchvision/transforms/transforms.py:288: UserWarning: Argument interpolation should be of type InterpolationMode instead of int. Please, use InterpolationMode enum.\n",
            "  \"Argument interpolation should be of type InterpolationMode instead of int. \"\n",
            "/usr/local/lib/python3.7/dist-packages/torchvision/transforms/transforms.py:288: UserWarning: Argument interpolation should be of type InterpolationMode instead of int. Please, use InterpolationMode enum.\n",
            "  \"Argument interpolation should be of type InterpolationMode instead of int. \"\n",
            "/usr/local/lib/python3.7/dist-packages/torchvision/transforms/transforms.py:288: UserWarning: Argument interpolation should be of type InterpolationMode instead of int. Please, use InterpolationMode enum.\n",
            "  \"Argument interpolation should be of type InterpolationMode instead of int. \"\n",
            "/usr/local/lib/python3.7/dist-packages/torchvision/transforms/transforms.py:288: UserWarning: Argument interpolation should be of type InterpolationMode instead of int. Please, use InterpolationMode enum.\n",
            "  \"Argument interpolation should be of type InterpolationMode instead of int. \"\n",
            "/usr/local/lib/python3.7/dist-packages/torchvision/transforms/transforms.py:288: UserWarning: Argument interpolation should be of type InterpolationMode instead of int. Please, use InterpolationMode enum.\n",
            "  \"Argument interpolation should be of type InterpolationMode instead of int. \"\n",
            "/usr/local/lib/python3.7/dist-packages/torchvision/transforms/transforms.py:288: UserWarning: Argument interpolation should be of type InterpolationMode instead of int. Please, use InterpolationMode enum.\n",
            "  \"Argument interpolation should be of type InterpolationMode instead of int. \"\n",
            "/usr/local/lib/python3.7/dist-packages/torchvision/transforms/transforms.py:288: UserWarning: Argument interpolation should be of type InterpolationMode instead of int. Please, use InterpolationMode enum.\n",
            "  \"Argument interpolation should be of type InterpolationMode instead of int. \"\n",
            "/usr/local/lib/python3.7/dist-packages/torchvision/transforms/transforms.py:288: UserWarning: Argument interpolation should be of type InterpolationMode instead of int. Please, use InterpolationMode enum.\n",
            "  \"Argument interpolation should be of type InterpolationMode instead of int. \"\n"
          ]
        },
        {
          "metadata": {
            "tags": null
          },
          "name": "stdout",
          "output_type": "stream",
          "text": [
            "\n",
            "Test set (736): Average loss: 0.6059, mIoU: 0.5991\n",
            "\n",
            "PSPnetLite training, epoch 60\n"
          ]
        },
        {
          "metadata": {
            "tags": null
          },
          "name": "stderr",
          "output_type": "stream",
          "text": [
            "/usr/local/lib/python3.7/dist-packages/torchvision/transforms/transforms.py:288: UserWarning: Argument interpolation should be of type InterpolationMode instead of int. Please, use InterpolationMode enum.\n",
            "  \"Argument interpolation should be of type InterpolationMode instead of int. \"\n",
            "/usr/local/lib/python3.7/dist-packages/torchvision/transforms/transforms.py:288: UserWarning: Argument interpolation should be of type InterpolationMode instead of int. Please, use InterpolationMode enum.\n",
            "  \"Argument interpolation should be of type InterpolationMode instead of int. \"\n",
            "/usr/local/lib/python3.7/dist-packages/torchvision/transforms/transforms.py:288: UserWarning: Argument interpolation should be of type InterpolationMode instead of int. Please, use InterpolationMode enum.\n",
            "  \"Argument interpolation should be of type InterpolationMode instead of int. \"\n",
            "/usr/local/lib/python3.7/dist-packages/torchvision/transforms/transforms.py:288: UserWarning: Argument interpolation should be of type InterpolationMode instead of int. Please, use InterpolationMode enum.\n",
            "  \"Argument interpolation should be of type InterpolationMode instead of int. \"\n",
            "/usr/local/lib/python3.7/dist-packages/torchvision/transforms/transforms.py:288: UserWarning: Argument interpolation should be of type InterpolationMode instead of int. Please, use InterpolationMode enum.\n",
            "  \"Argument interpolation should be of type InterpolationMode instead of int. \"\n",
            "/usr/local/lib/python3.7/dist-packages/torchvision/transforms/transforms.py:288: UserWarning: Argument interpolation should be of type InterpolationMode instead of int. Please, use InterpolationMode enum.\n",
            "  \"Argument interpolation should be of type InterpolationMode instead of int. \"\n",
            "/usr/local/lib/python3.7/dist-packages/torchvision/transforms/transforms.py:288: UserWarning: Argument interpolation should be of type InterpolationMode instead of int. Please, use InterpolationMode enum.\n",
            "  \"Argument interpolation should be of type InterpolationMode instead of int. \"\n",
            "/usr/local/lib/python3.7/dist-packages/torchvision/transforms/transforms.py:288: UserWarning: Argument interpolation should be of type InterpolationMode instead of int. Please, use InterpolationMode enum.\n",
            "  \"Argument interpolation should be of type InterpolationMode instead of int. \"\n"
          ]
        },
        {
          "metadata": {
            "tags": null
          },
          "name": "stdout",
          "output_type": "stream",
          "text": [
            "Train Epoch: 60 [240/8498 (3%)]\tLoss: 0.201515, Learning rate: 0.001000\n",
            "Train Epoch: 60 [480/8498 (6%)]\tLoss: 0.317162, Learning rate: 0.001000\n",
            "Train Epoch: 60 [720/8498 (8%)]\tLoss: 0.262099, Learning rate: 0.001000\n",
            "Train Epoch: 60 [960/8498 (11%)]\tLoss: 0.164267, Learning rate: 0.001000\n",
            "Train Epoch: 60 [1200/8498 (14%)]\tLoss: 0.285703, Learning rate: 0.001000\n",
            "Train Epoch: 60 [1440/8498 (17%)]\tLoss: 0.256139, Learning rate: 0.001000\n",
            "Train Epoch: 60 [1680/8498 (20%)]\tLoss: 0.241492, Learning rate: 0.001000\n",
            "Train Epoch: 60 [1920/8498 (23%)]\tLoss: 0.280453, Learning rate: 0.001000\n",
            "Train Epoch: 60 [2160/8498 (25%)]\tLoss: 0.185712, Learning rate: 0.001000\n",
            "Train Epoch: 60 [2400/8498 (28%)]\tLoss: 0.293970, Learning rate: 0.001000\n",
            "Train Epoch: 60 [2640/8498 (31%)]\tLoss: 0.296990, Learning rate: 0.001000\n",
            "Train Epoch: 60 [2880/8498 (34%)]\tLoss: 0.227595, Learning rate: 0.001000\n",
            "Train Epoch: 60 [3120/8498 (37%)]\tLoss: 0.308233, Learning rate: 0.001000\n",
            "Train Epoch: 60 [3360/8498 (39%)]\tLoss: 0.295333, Learning rate: 0.001000\n",
            "Train Epoch: 60 [3600/8498 (42%)]\tLoss: 0.258027, Learning rate: 0.001000\n",
            "Train Epoch: 60 [3840/8498 (45%)]\tLoss: 0.263060, Learning rate: 0.001000\n",
            "Train Epoch: 60 [4080/8498 (48%)]\tLoss: 0.236980, Learning rate: 0.001000\n",
            "Train Epoch: 60 [4320/8498 (51%)]\tLoss: 0.334407, Learning rate: 0.001000\n",
            "Train Epoch: 60 [4560/8498 (54%)]\tLoss: 0.242708, Learning rate: 0.001000\n",
            "Train Epoch: 60 [4800/8498 (56%)]\tLoss: 0.220254, Learning rate: 0.001000\n",
            "Train Epoch: 60 [5040/8498 (59%)]\tLoss: 0.338525, Learning rate: 0.001000\n",
            "Train Epoch: 60 [5280/8498 (62%)]\tLoss: 0.286407, Learning rate: 0.001000\n",
            "Train Epoch: 60 [5520/8498 (65%)]\tLoss: 0.172015, Learning rate: 0.001000\n",
            "Train Epoch: 60 [5760/8498 (68%)]\tLoss: 0.195447, Learning rate: 0.001000\n",
            "Train Epoch: 60 [6000/8498 (70%)]\tLoss: 0.256139, Learning rate: 0.001000\n",
            "Train Epoch: 60 [6240/8498 (73%)]\tLoss: 0.237693, Learning rate: 0.001000\n",
            "Train Epoch: 60 [6480/8498 (76%)]\tLoss: 0.249486, Learning rate: 0.001000\n",
            "Train Epoch: 60 [6720/8498 (79%)]\tLoss: 0.325691, Learning rate: 0.001000\n",
            "Train Epoch: 60 [6960/8498 (82%)]\tLoss: 0.360247, Learning rate: 0.001000\n",
            "Train Epoch: 60 [7200/8498 (85%)]\tLoss: 0.226411, Learning rate: 0.001000\n",
            "Train Epoch: 60 [7440/8498 (87%)]\tLoss: 0.216818, Learning rate: 0.001000\n",
            "Train Epoch: 60 [7680/8498 (90%)]\tLoss: 0.216526, Learning rate: 0.001000\n",
            "Train Epoch: 60 [7920/8498 (93%)]\tLoss: 0.234981, Learning rate: 0.001000\n",
            "Train Epoch: 60 [8160/8498 (96%)]\tLoss: 0.198531, Learning rate: 0.001000\n",
            "Train Epoch: 60 [8400/8498 (99%)]\tLoss: 0.265120, Learning rate: 0.001000\n"
          ]
        },
        {
          "metadata": {
            "tags": null
          },
          "name": "stderr",
          "output_type": "stream",
          "text": [
            "/usr/local/lib/python3.7/dist-packages/torchvision/transforms/transforms.py:288: UserWarning: Argument interpolation should be of type InterpolationMode instead of int. Please, use InterpolationMode enum.\n",
            "  \"Argument interpolation should be of type InterpolationMode instead of int. \"\n",
            "/usr/local/lib/python3.7/dist-packages/torchvision/transforms/transforms.py:288: UserWarning: Argument interpolation should be of type InterpolationMode instead of int. Please, use InterpolationMode enum.\n",
            "  \"Argument interpolation should be of type InterpolationMode instead of int. \"\n",
            "/usr/local/lib/python3.7/dist-packages/torchvision/transforms/transforms.py:288: UserWarning: Argument interpolation should be of type InterpolationMode instead of int. Please, use InterpolationMode enum.\n",
            "  \"Argument interpolation should be of type InterpolationMode instead of int. \"\n",
            "/usr/local/lib/python3.7/dist-packages/torchvision/transforms/transforms.py:288: UserWarning: Argument interpolation should be of type InterpolationMode instead of int. Please, use InterpolationMode enum.\n",
            "  \"Argument interpolation should be of type InterpolationMode instead of int. \"\n",
            "/usr/local/lib/python3.7/dist-packages/torchvision/transforms/transforms.py:288: UserWarning: Argument interpolation should be of type InterpolationMode instead of int. Please, use InterpolationMode enum.\n",
            "  \"Argument interpolation should be of type InterpolationMode instead of int. \"\n",
            "/usr/local/lib/python3.7/dist-packages/torchvision/transforms/transforms.py:288: UserWarning: Argument interpolation should be of type InterpolationMode instead of int. Please, use InterpolationMode enum.\n",
            "  \"Argument interpolation should be of type InterpolationMode instead of int. \"\n",
            "/usr/local/lib/python3.7/dist-packages/torchvision/transforms/transforms.py:288: UserWarning: Argument interpolation should be of type InterpolationMode instead of int. Please, use InterpolationMode enum.\n",
            "  \"Argument interpolation should be of type InterpolationMode instead of int. \"\n",
            "/usr/local/lib/python3.7/dist-packages/torchvision/transforms/transforms.py:288: UserWarning: Argument interpolation should be of type InterpolationMode instead of int. Please, use InterpolationMode enum.\n",
            "  \"Argument interpolation should be of type InterpolationMode instead of int. \"\n"
          ]
        },
        {
          "metadata": {
            "tags": null
          },
          "name": "stdout",
          "output_type": "stream",
          "text": [
            "\n",
            "Test set (736): Average loss: 0.6190, mIoU: 0.5904\n",
            "\n",
            "PSPnetLite training, epoch 61\n"
          ]
        },
        {
          "metadata": {
            "tags": null
          },
          "name": "stderr",
          "output_type": "stream",
          "text": [
            "/usr/local/lib/python3.7/dist-packages/torchvision/transforms/transforms.py:288: UserWarning: Argument interpolation should be of type InterpolationMode instead of int. Please, use InterpolationMode enum.\n",
            "  \"Argument interpolation should be of type InterpolationMode instead of int. \"\n",
            "/usr/local/lib/python3.7/dist-packages/torchvision/transforms/transforms.py:288: UserWarning: Argument interpolation should be of type InterpolationMode instead of int. Please, use InterpolationMode enum.\n",
            "  \"Argument interpolation should be of type InterpolationMode instead of int. \"\n",
            "/usr/local/lib/python3.7/dist-packages/torchvision/transforms/transforms.py:288: UserWarning: Argument interpolation should be of type InterpolationMode instead of int. Please, use InterpolationMode enum.\n",
            "  \"Argument interpolation should be of type InterpolationMode instead of int. \"\n",
            "/usr/local/lib/python3.7/dist-packages/torchvision/transforms/transforms.py:288: UserWarning: Argument interpolation should be of type InterpolationMode instead of int. Please, use InterpolationMode enum.\n",
            "  \"Argument interpolation should be of type InterpolationMode instead of int. \"\n",
            "/usr/local/lib/python3.7/dist-packages/torchvision/transforms/transforms.py:288: UserWarning: Argument interpolation should be of type InterpolationMode instead of int. Please, use InterpolationMode enum.\n",
            "  \"Argument interpolation should be of type InterpolationMode instead of int. \"\n",
            "/usr/local/lib/python3.7/dist-packages/torchvision/transforms/transforms.py:288: UserWarning: Argument interpolation should be of type InterpolationMode instead of int. Please, use InterpolationMode enum.\n",
            "  \"Argument interpolation should be of type InterpolationMode instead of int. \"\n",
            "/usr/local/lib/python3.7/dist-packages/torchvision/transforms/transforms.py:288: UserWarning: Argument interpolation should be of type InterpolationMode instead of int. Please, use InterpolationMode enum.\n",
            "  \"Argument interpolation should be of type InterpolationMode instead of int. \"\n",
            "/usr/local/lib/python3.7/dist-packages/torchvision/transforms/transforms.py:288: UserWarning: Argument interpolation should be of type InterpolationMode instead of int. Please, use InterpolationMode enum.\n",
            "  \"Argument interpolation should be of type InterpolationMode instead of int. \"\n"
          ]
        },
        {
          "metadata": {
            "tags": null
          },
          "name": "stdout",
          "output_type": "stream",
          "text": [
            "Train Epoch: 61 [240/8498 (3%)]\tLoss: 0.205743, Learning rate: 0.001000\n",
            "Train Epoch: 61 [480/8498 (6%)]\tLoss: 0.421797, Learning rate: 0.001000\n",
            "Train Epoch: 61 [720/8498 (8%)]\tLoss: 0.222138, Learning rate: 0.001000\n",
            "Train Epoch: 61 [960/8498 (11%)]\tLoss: 0.283764, Learning rate: 0.001000\n",
            "Train Epoch: 61 [1200/8498 (14%)]\tLoss: 0.298089, Learning rate: 0.001000\n",
            "Train Epoch: 61 [1440/8498 (17%)]\tLoss: 0.211415, Learning rate: 0.001000\n",
            "Train Epoch: 61 [1680/8498 (20%)]\tLoss: 0.247712, Learning rate: 0.001000\n",
            "Train Epoch: 61 [1920/8498 (23%)]\tLoss: 0.276896, Learning rate: 0.001000\n",
            "Train Epoch: 61 [2160/8498 (25%)]\tLoss: 0.215989, Learning rate: 0.001000\n",
            "Train Epoch: 61 [2400/8498 (28%)]\tLoss: 0.319618, Learning rate: 0.001000\n",
            "Train Epoch: 61 [2640/8498 (31%)]\tLoss: 0.425170, Learning rate: 0.001000\n",
            "Train Epoch: 61 [2880/8498 (34%)]\tLoss: 0.246252, Learning rate: 0.001000\n",
            "Train Epoch: 61 [3120/8498 (37%)]\tLoss: 0.185771, Learning rate: 0.001000\n",
            "Train Epoch: 61 [3360/8498 (39%)]\tLoss: 0.208980, Learning rate: 0.001000\n",
            "Train Epoch: 61 [3600/8498 (42%)]\tLoss: 0.250544, Learning rate: 0.001000\n",
            "Train Epoch: 61 [3840/8498 (45%)]\tLoss: 0.250132, Learning rate: 0.001000\n",
            "Train Epoch: 61 [4080/8498 (48%)]\tLoss: 0.310398, Learning rate: 0.001000\n",
            "Train Epoch: 61 [4320/8498 (51%)]\tLoss: 0.227311, Learning rate: 0.001000\n",
            "Train Epoch: 61 [4560/8498 (54%)]\tLoss: 0.286778, Learning rate: 0.001000\n",
            "Train Epoch: 61 [4800/8498 (56%)]\tLoss: 0.153485, Learning rate: 0.001000\n",
            "Train Epoch: 61 [5040/8498 (59%)]\tLoss: 0.289967, Learning rate: 0.001000\n",
            "Train Epoch: 61 [5280/8498 (62%)]\tLoss: 0.331887, Learning rate: 0.001000\n",
            "Train Epoch: 61 [5520/8498 (65%)]\tLoss: 0.291630, Learning rate: 0.001000\n",
            "Train Epoch: 61 [5760/8498 (68%)]\tLoss: 0.393240, Learning rate: 0.001000\n",
            "Train Epoch: 61 [6000/8498 (70%)]\tLoss: 0.271209, Learning rate: 0.001000\n",
            "Train Epoch: 61 [6240/8498 (73%)]\tLoss: 0.381225, Learning rate: 0.001000\n",
            "Train Epoch: 61 [6480/8498 (76%)]\tLoss: 0.431457, Learning rate: 0.001000\n",
            "Train Epoch: 61 [6720/8498 (79%)]\tLoss: 0.310722, Learning rate: 0.001000\n",
            "Train Epoch: 61 [6960/8498 (82%)]\tLoss: 0.353725, Learning rate: 0.001000\n",
            "Train Epoch: 61 [7200/8498 (85%)]\tLoss: 0.330668, Learning rate: 0.001000\n",
            "Train Epoch: 61 [7440/8498 (87%)]\tLoss: 0.172365, Learning rate: 0.001000\n",
            "Train Epoch: 61 [7680/8498 (90%)]\tLoss: 0.270539, Learning rate: 0.001000\n",
            "Train Epoch: 61 [7920/8498 (93%)]\tLoss: 0.344836, Learning rate: 0.001000\n",
            "Train Epoch: 61 [8160/8498 (96%)]\tLoss: 0.215989, Learning rate: 0.001000\n",
            "Train Epoch: 61 [8400/8498 (99%)]\tLoss: 0.234198, Learning rate: 0.001000\n"
          ]
        },
        {
          "metadata": {
            "tags": null
          },
          "name": "stderr",
          "output_type": "stream",
          "text": [
            "/usr/local/lib/python3.7/dist-packages/torchvision/transforms/transforms.py:288: UserWarning: Argument interpolation should be of type InterpolationMode instead of int. Please, use InterpolationMode enum.\n",
            "  \"Argument interpolation should be of type InterpolationMode instead of int. \"\n",
            "/usr/local/lib/python3.7/dist-packages/torchvision/transforms/transforms.py:288: UserWarning: Argument interpolation should be of type InterpolationMode instead of int. Please, use InterpolationMode enum.\n",
            "  \"Argument interpolation should be of type InterpolationMode instead of int. \"\n",
            "/usr/local/lib/python3.7/dist-packages/torchvision/transforms/transforms.py:288: UserWarning: Argument interpolation should be of type InterpolationMode instead of int. Please, use InterpolationMode enum.\n",
            "  \"Argument interpolation should be of type InterpolationMode instead of int. \"\n",
            "/usr/local/lib/python3.7/dist-packages/torchvision/transforms/transforms.py:288: UserWarning: Argument interpolation should be of type InterpolationMode instead of int. Please, use InterpolationMode enum.\n",
            "  \"Argument interpolation should be of type InterpolationMode instead of int. \"\n",
            "/usr/local/lib/python3.7/dist-packages/torchvision/transforms/transforms.py:288: UserWarning: Argument interpolation should be of type InterpolationMode instead of int. Please, use InterpolationMode enum.\n",
            "  \"Argument interpolation should be of type InterpolationMode instead of int. \"\n",
            "/usr/local/lib/python3.7/dist-packages/torchvision/transforms/transforms.py:288: UserWarning: Argument interpolation should be of type InterpolationMode instead of int. Please, use InterpolationMode enum.\n",
            "  \"Argument interpolation should be of type InterpolationMode instead of int. \"\n",
            "/usr/local/lib/python3.7/dist-packages/torchvision/transforms/transforms.py:288: UserWarning: Argument interpolation should be of type InterpolationMode instead of int. Please, use InterpolationMode enum.\n",
            "  \"Argument interpolation should be of type InterpolationMode instead of int. \"\n",
            "/usr/local/lib/python3.7/dist-packages/torchvision/transforms/transforms.py:288: UserWarning: Argument interpolation should be of type InterpolationMode instead of int. Please, use InterpolationMode enum.\n",
            "  \"Argument interpolation should be of type InterpolationMode instead of int. \"\n"
          ]
        },
        {
          "metadata": {
            "tags": null
          },
          "name": "stdout",
          "output_type": "stream",
          "text": [
            "\n",
            "Test set (736): Average loss: 0.6356, mIoU: 0.5926\n",
            "\n",
            "PSPnetLite training, epoch 62\n"
          ]
        },
        {
          "metadata": {
            "tags": null
          },
          "name": "stderr",
          "output_type": "stream",
          "text": [
            "/usr/local/lib/python3.7/dist-packages/torchvision/transforms/transforms.py:288: UserWarning: Argument interpolation should be of type InterpolationMode instead of int. Please, use InterpolationMode enum.\n",
            "  \"Argument interpolation should be of type InterpolationMode instead of int. \"\n",
            "/usr/local/lib/python3.7/dist-packages/torchvision/transforms/transforms.py:288: UserWarning: Argument interpolation should be of type InterpolationMode instead of int. Please, use InterpolationMode enum.\n",
            "  \"Argument interpolation should be of type InterpolationMode instead of int. \"\n",
            "/usr/local/lib/python3.7/dist-packages/torchvision/transforms/transforms.py:288: UserWarning: Argument interpolation should be of type InterpolationMode instead of int. Please, use InterpolationMode enum.\n",
            "  \"Argument interpolation should be of type InterpolationMode instead of int. \"\n",
            "/usr/local/lib/python3.7/dist-packages/torchvision/transforms/transforms.py:288: UserWarning: Argument interpolation should be of type InterpolationMode instead of int. Please, use InterpolationMode enum.\n",
            "  \"Argument interpolation should be of type InterpolationMode instead of int. \"\n",
            "/usr/local/lib/python3.7/dist-packages/torchvision/transforms/transforms.py:288: UserWarning: Argument interpolation should be of type InterpolationMode instead of int. Please, use InterpolationMode enum.\n",
            "  \"Argument interpolation should be of type InterpolationMode instead of int. \"\n",
            "/usr/local/lib/python3.7/dist-packages/torchvision/transforms/transforms.py:288: UserWarning: Argument interpolation should be of type InterpolationMode instead of int. Please, use InterpolationMode enum.\n",
            "  \"Argument interpolation should be of type InterpolationMode instead of int. \"\n",
            "/usr/local/lib/python3.7/dist-packages/torchvision/transforms/transforms.py:288: UserWarning: Argument interpolation should be of type InterpolationMode instead of int. Please, use InterpolationMode enum.\n",
            "  \"Argument interpolation should be of type InterpolationMode instead of int. \"\n",
            "/usr/local/lib/python3.7/dist-packages/torchvision/transforms/transforms.py:288: UserWarning: Argument interpolation should be of type InterpolationMode instead of int. Please, use InterpolationMode enum.\n",
            "  \"Argument interpolation should be of type InterpolationMode instead of int. \"\n"
          ]
        },
        {
          "metadata": {
            "tags": null
          },
          "name": "stdout",
          "output_type": "stream",
          "text": [
            "Train Epoch: 62 [240/8498 (3%)]\tLoss: 0.273255, Learning rate: 0.001000\n",
            "Train Epoch: 62 [480/8498 (6%)]\tLoss: 0.229221, Learning rate: 0.001000\n",
            "Train Epoch: 62 [720/8498 (8%)]\tLoss: 0.159092, Learning rate: 0.001000\n",
            "Train Epoch: 62 [960/8498 (11%)]\tLoss: 0.164550, Learning rate: 0.001000\n",
            "Train Epoch: 62 [1200/8498 (14%)]\tLoss: 0.317039, Learning rate: 0.001000\n",
            "Train Epoch: 62 [1440/8498 (17%)]\tLoss: 0.254212, Learning rate: 0.001000\n",
            "Train Epoch: 62 [1680/8498 (20%)]\tLoss: 0.194160, Learning rate: 0.001000\n",
            "Train Epoch: 62 [1920/8498 (23%)]\tLoss: 0.281422, Learning rate: 0.001000\n",
            "Train Epoch: 62 [2160/8498 (25%)]\tLoss: 0.198696, Learning rate: 0.001000\n",
            "Train Epoch: 62 [2400/8498 (28%)]\tLoss: 0.205931, Learning rate: 0.001000\n",
            "Train Epoch: 62 [2640/8498 (31%)]\tLoss: 0.175586, Learning rate: 0.001000\n",
            "Train Epoch: 62 [2880/8498 (34%)]\tLoss: 0.325883, Learning rate: 0.001000\n",
            "Train Epoch: 62 [3120/8498 (37%)]\tLoss: 0.217640, Learning rate: 0.001000\n",
            "Train Epoch: 62 [3360/8498 (39%)]\tLoss: 0.272886, Learning rate: 0.001000\n",
            "Train Epoch: 62 [3600/8498 (42%)]\tLoss: 0.310511, Learning rate: 0.001000\n",
            "Train Epoch: 62 [3840/8498 (45%)]\tLoss: 0.309727, Learning rate: 0.001000\n",
            "Train Epoch: 62 [4080/8498 (48%)]\tLoss: 0.320139, Learning rate: 0.001000\n",
            "Train Epoch: 62 [4320/8498 (51%)]\tLoss: 0.272355, Learning rate: 0.001000\n",
            "Train Epoch: 62 [4560/8498 (54%)]\tLoss: 0.277777, Learning rate: 0.001000\n",
            "Train Epoch: 62 [4800/8498 (56%)]\tLoss: 0.266907, Learning rate: 0.001000\n",
            "Train Epoch: 62 [5040/8498 (59%)]\tLoss: 0.274812, Learning rate: 0.001000\n",
            "Train Epoch: 62 [5280/8498 (62%)]\tLoss: 0.243866, Learning rate: 0.001000\n",
            "Train Epoch: 62 [5520/8498 (65%)]\tLoss: 0.172034, Learning rate: 0.001000\n",
            "Train Epoch: 62 [5760/8498 (68%)]\tLoss: 0.216494, Learning rate: 0.001000\n",
            "Train Epoch: 62 [6000/8498 (70%)]\tLoss: 0.222773, Learning rate: 0.001000\n",
            "Train Epoch: 62 [6240/8498 (73%)]\tLoss: 0.287021, Learning rate: 0.001000\n",
            "Train Epoch: 62 [6480/8498 (76%)]\tLoss: 0.372401, Learning rate: 0.001000\n",
            "Train Epoch: 62 [6720/8498 (79%)]\tLoss: 0.197007, Learning rate: 0.001000\n",
            "Train Epoch: 62 [6960/8498 (82%)]\tLoss: 0.237460, Learning rate: 0.001000\n",
            "Train Epoch: 62 [7200/8498 (85%)]\tLoss: 0.247863, Learning rate: 0.001000\n",
            "Train Epoch: 62 [7440/8498 (87%)]\tLoss: 0.272736, Learning rate: 0.001000\n",
            "Train Epoch: 62 [7680/8498 (90%)]\tLoss: 0.385227, Learning rate: 0.001000\n",
            "Train Epoch: 62 [7920/8498 (93%)]\tLoss: 0.249376, Learning rate: 0.001000\n",
            "Train Epoch: 62 [8160/8498 (96%)]\tLoss: 0.279196, Learning rate: 0.001000\n",
            "Train Epoch: 62 [8400/8498 (99%)]\tLoss: 0.309588, Learning rate: 0.001000\n"
          ]
        },
        {
          "metadata": {
            "tags": null
          },
          "name": "stderr",
          "output_type": "stream",
          "text": [
            "/usr/local/lib/python3.7/dist-packages/torchvision/transforms/transforms.py:288: UserWarning: Argument interpolation should be of type InterpolationMode instead of int. Please, use InterpolationMode enum.\n",
            "  \"Argument interpolation should be of type InterpolationMode instead of int. \"\n",
            "/usr/local/lib/python3.7/dist-packages/torchvision/transforms/transforms.py:288: UserWarning: Argument interpolation should be of type InterpolationMode instead of int. Please, use InterpolationMode enum.\n",
            "  \"Argument interpolation should be of type InterpolationMode instead of int. \"\n",
            "/usr/local/lib/python3.7/dist-packages/torchvision/transforms/transforms.py:288: UserWarning: Argument interpolation should be of type InterpolationMode instead of int. Please, use InterpolationMode enum.\n",
            "  \"Argument interpolation should be of type InterpolationMode instead of int. \"\n",
            "/usr/local/lib/python3.7/dist-packages/torchvision/transforms/transforms.py:288: UserWarning: Argument interpolation should be of type InterpolationMode instead of int. Please, use InterpolationMode enum.\n",
            "  \"Argument interpolation should be of type InterpolationMode instead of int. \"\n",
            "/usr/local/lib/python3.7/dist-packages/torchvision/transforms/transforms.py:288: UserWarning: Argument interpolation should be of type InterpolationMode instead of int. Please, use InterpolationMode enum.\n",
            "  \"Argument interpolation should be of type InterpolationMode instead of int. \"\n",
            "/usr/local/lib/python3.7/dist-packages/torchvision/transforms/transforms.py:288: UserWarning: Argument interpolation should be of type InterpolationMode instead of int. Please, use InterpolationMode enum.\n",
            "  \"Argument interpolation should be of type InterpolationMode instead of int. \"\n",
            "/usr/local/lib/python3.7/dist-packages/torchvision/transforms/transforms.py:288: UserWarning: Argument interpolation should be of type InterpolationMode instead of int. Please, use InterpolationMode enum.\n",
            "  \"Argument interpolation should be of type InterpolationMode instead of int. \"\n",
            "/usr/local/lib/python3.7/dist-packages/torchvision/transforms/transforms.py:288: UserWarning: Argument interpolation should be of type InterpolationMode instead of int. Please, use InterpolationMode enum.\n",
            "  \"Argument interpolation should be of type InterpolationMode instead of int. \"\n"
          ]
        },
        {
          "metadata": {
            "tags": null
          },
          "name": "stdout",
          "output_type": "stream",
          "text": [
            "\n",
            "Test set (736): Average loss: 0.6094, mIoU: 0.6049\n",
            "\n",
            "PSPnetLite training, epoch 63\n"
          ]
        },
        {
          "metadata": {
            "tags": null
          },
          "name": "stderr",
          "output_type": "stream",
          "text": [
            "/usr/local/lib/python3.7/dist-packages/torchvision/transforms/transforms.py:288: UserWarning: Argument interpolation should be of type InterpolationMode instead of int. Please, use InterpolationMode enum.\n",
            "  \"Argument interpolation should be of type InterpolationMode instead of int. \"\n",
            "/usr/local/lib/python3.7/dist-packages/torchvision/transforms/transforms.py:288: UserWarning: Argument interpolation should be of type InterpolationMode instead of int. Please, use InterpolationMode enum.\n",
            "  \"Argument interpolation should be of type InterpolationMode instead of int. \"\n",
            "/usr/local/lib/python3.7/dist-packages/torchvision/transforms/transforms.py:288: UserWarning: Argument interpolation should be of type InterpolationMode instead of int. Please, use InterpolationMode enum.\n",
            "  \"Argument interpolation should be of type InterpolationMode instead of int. \"\n",
            "/usr/local/lib/python3.7/dist-packages/torchvision/transforms/transforms.py:288: UserWarning: Argument interpolation should be of type InterpolationMode instead of int. Please, use InterpolationMode enum.\n",
            "  \"Argument interpolation should be of type InterpolationMode instead of int. \"\n",
            "/usr/local/lib/python3.7/dist-packages/torchvision/transforms/transforms.py:288: UserWarning: Argument interpolation should be of type InterpolationMode instead of int. Please, use InterpolationMode enum.\n",
            "  \"Argument interpolation should be of type InterpolationMode instead of int. \"\n",
            "/usr/local/lib/python3.7/dist-packages/torchvision/transforms/transforms.py:288: UserWarning: Argument interpolation should be of type InterpolationMode instead of int. Please, use InterpolationMode enum.\n",
            "  \"Argument interpolation should be of type InterpolationMode instead of int. \"\n",
            "/usr/local/lib/python3.7/dist-packages/torchvision/transforms/transforms.py:288: UserWarning: Argument interpolation should be of type InterpolationMode instead of int. Please, use InterpolationMode enum.\n",
            "  \"Argument interpolation should be of type InterpolationMode instead of int. \"\n",
            "/usr/local/lib/python3.7/dist-packages/torchvision/transforms/transforms.py:288: UserWarning: Argument interpolation should be of type InterpolationMode instead of int. Please, use InterpolationMode enum.\n",
            "  \"Argument interpolation should be of type InterpolationMode instead of int. \"\n"
          ]
        },
        {
          "output_type": "stream",
          "name": "stdout",
          "text": [
            "Train Epoch: 63 [240/8498 (3%)]\tLoss: 0.255971, Learning rate: 0.001000\n",
            "Train Epoch: 63 [480/8498 (6%)]\tLoss: 0.340603, Learning rate: 0.001000\n",
            "Train Epoch: 63 [720/8498 (8%)]\tLoss: 0.249673, Learning rate: 0.001000\n",
            "Train Epoch: 63 [960/8498 (11%)]\tLoss: 0.196851, Learning rate: 0.001000\n",
            "Train Epoch: 63 [1200/8498 (14%)]\tLoss: 0.188091, Learning rate: 0.001000\n",
            "Train Epoch: 63 [1440/8498 (17%)]\tLoss: 0.165140, Learning rate: 0.001000\n",
            "Train Epoch: 63 [1680/8498 (20%)]\tLoss: 0.262458, Learning rate: 0.001000\n",
            "Train Epoch: 63 [1920/8498 (23%)]\tLoss: 0.278540, Learning rate: 0.001000\n",
            "Train Epoch: 63 [2160/8498 (25%)]\tLoss: 0.243286, Learning rate: 0.001000\n",
            "Train Epoch: 63 [2400/8498 (28%)]\tLoss: 0.267922, Learning rate: 0.001000\n",
            "Train Epoch: 63 [2640/8498 (31%)]\tLoss: 0.396493, Learning rate: 0.001000\n",
            "Train Epoch: 63 [2880/8498 (34%)]\tLoss: 0.194129, Learning rate: 0.001000\n",
            "Train Epoch: 63 [3120/8498 (37%)]\tLoss: 0.275021, Learning rate: 0.001000\n",
            "Train Epoch: 63 [3360/8498 (39%)]\tLoss: 0.340812, Learning rate: 0.001000\n",
            "Train Epoch: 63 [3600/8498 (42%)]\tLoss: 0.280250, Learning rate: 0.001000\n",
            "Train Epoch: 63 [3840/8498 (45%)]\tLoss: 0.291600, Learning rate: 0.001000\n",
            "Train Epoch: 63 [4080/8498 (48%)]\tLoss: 0.294695, Learning rate: 0.001000\n",
            "Train Epoch: 63 [4320/8498 (51%)]\tLoss: 0.290970, Learning rate: 0.001000\n",
            "Train Epoch: 63 [4560/8498 (54%)]\tLoss: 0.325271, Learning rate: 0.001000\n",
            "Train Epoch: 63 [4800/8498 (56%)]\tLoss: 0.239229, Learning rate: 0.001000\n",
            "Train Epoch: 63 [5040/8498 (59%)]\tLoss: 0.270535, Learning rate: 0.001000\n",
            "Train Epoch: 63 [5280/8498 (62%)]\tLoss: 0.181710, Learning rate: 0.001000\n",
            "Train Epoch: 63 [5520/8498 (65%)]\tLoss: 0.292638, Learning rate: 0.001000\n",
            "Train Epoch: 63 [5760/8498 (68%)]\tLoss: 0.283245, Learning rate: 0.001000\n",
            "Train Epoch: 63 [6000/8498 (70%)]\tLoss: 0.269062, Learning rate: 0.001000\n",
            "Train Epoch: 63 [6240/8498 (73%)]\tLoss: 0.241702, Learning rate: 0.001000\n",
            "Train Epoch: 63 [6480/8498 (76%)]\tLoss: 0.301171, Learning rate: 0.001000\n",
            "Train Epoch: 63 [6720/8498 (79%)]\tLoss: 0.306088, Learning rate: 0.001000\n",
            "Train Epoch: 63 [6960/8498 (82%)]\tLoss: 0.271745, Learning rate: 0.001000\n",
            "Train Epoch: 63 [7200/8498 (85%)]\tLoss: 0.326629, Learning rate: 0.001000\n",
            "Train Epoch: 63 [7440/8498 (87%)]\tLoss: 0.291304, Learning rate: 0.001000\n",
            "Train Epoch: 63 [7680/8498 (90%)]\tLoss: 0.217927, Learning rate: 0.001000\n",
            "Train Epoch: 63 [7920/8498 (93%)]\tLoss: 0.342216, Learning rate: 0.001000\n",
            "Train Epoch: 63 [8160/8498 (96%)]\tLoss: 0.258132, Learning rate: 0.001000\n",
            "Train Epoch: 63 [8400/8498 (99%)]\tLoss: 0.289729, Learning rate: 0.001000\n"
          ]
        },
        {
          "output_type": "stream",
          "name": "stderr",
          "text": [
            "/usr/local/lib/python3.7/dist-packages/torchvision/transforms/transforms.py:288: UserWarning: Argument interpolation should be of type InterpolationMode instead of int. Please, use InterpolationMode enum.\n",
            "  \"Argument interpolation should be of type InterpolationMode instead of int. \"\n",
            "/usr/local/lib/python3.7/dist-packages/torchvision/transforms/transforms.py:288: UserWarning: Argument interpolation should be of type InterpolationMode instead of int. Please, use InterpolationMode enum.\n",
            "  \"Argument interpolation should be of type InterpolationMode instead of int. \"\n",
            "/usr/local/lib/python3.7/dist-packages/torchvision/transforms/transforms.py:288: UserWarning: Argument interpolation should be of type InterpolationMode instead of int. Please, use InterpolationMode enum.\n",
            "  \"Argument interpolation should be of type InterpolationMode instead of int. \"\n",
            "/usr/local/lib/python3.7/dist-packages/torchvision/transforms/transforms.py:288: UserWarning: Argument interpolation should be of type InterpolationMode instead of int. Please, use InterpolationMode enum.\n",
            "  \"Argument interpolation should be of type InterpolationMode instead of int. \"\n",
            "/usr/local/lib/python3.7/dist-packages/torchvision/transforms/transforms.py:288: UserWarning: Argument interpolation should be of type InterpolationMode instead of int. Please, use InterpolationMode enum.\n",
            "  \"Argument interpolation should be of type InterpolationMode instead of int. \"\n",
            "/usr/local/lib/python3.7/dist-packages/torchvision/transforms/transforms.py:288: UserWarning: Argument interpolation should be of type InterpolationMode instead of int. Please, use InterpolationMode enum.\n",
            "  \"Argument interpolation should be of type InterpolationMode instead of int. \"\n",
            "/usr/local/lib/python3.7/dist-packages/torchvision/transforms/transforms.py:288: UserWarning: Argument interpolation should be of type InterpolationMode instead of int. Please, use InterpolationMode enum.\n",
            "  \"Argument interpolation should be of type InterpolationMode instead of int. \"\n",
            "/usr/local/lib/python3.7/dist-packages/torchvision/transforms/transforms.py:288: UserWarning: Argument interpolation should be of type InterpolationMode instead of int. Please, use InterpolationMode enum.\n",
            "  \"Argument interpolation should be of type InterpolationMode instead of int. \"\n"
          ]
        }
      ]
    },
    {
      "cell_type": "markdown",
      "metadata": {
        "id": "Gz1loOGPfIp3"
      },
      "source": [
        "# Accuracy and loss curves"
      ]
    },
    {
      "cell_type": "code",
      "metadata": {
        "id": "2vV4z0GPfH72"
      },
      "source": [
        "##Accuracy\n",
        "acc_test = np.load(res_path + '/' + 'accuracy_per_epoch_val.npy')\n",
        "\n",
        "#Loss per epoch\n",
        "loss_train = np.load(res_path + '/' + 'LOSS_epoch_train.npy')\n",
        "loss_test = np.load(res_path + '/' + 'LOSS_epoch_val.npy')\n",
        "\n",
        "numEpochs = len(acc_test)\n",
        "epochs = range(numEpochs)\n",
        "\n",
        "plt.figure(1)\n",
        "plt.plot(epochs, acc_test, label='Test, max acc: ' + str(np.max(acc_test)))\n",
        "plt.ylabel('Accuracy')\n",
        "plt.xlabel('Epoch')\n",
        "plt.legend(loc='lower right')\n",
        "\n",
        "plt.figure(2)\n",
        "plt.plot(epochs, loss_test, label='Test, min loss: ' + str(np.min(loss_test)))\n",
        "plt.plot(epochs, loss_train, label='Train, min loss: ' + str(np.min(loss_train)))\n",
        "plt.ylabel('Loss')\n",
        "plt.xlabel('Epoch')\n",
        "plt.legend(loc='upper right')\n",
        "\n",
        "plt.show()"
      ],
      "execution_count": null,
      "outputs": []
    },
    {
      "cell_type": "markdown",
      "metadata": {
        "id": "6MJTPUlQl0po"
      },
      "source": [
        "# Visualize segmentation results\n",
        "Do not expect great results."
      ]
    },
    {
      "cell_type": "code",
      "metadata": {
        "id": "oEn3mGu3DE1Y"
      },
      "source": [
        "class DeNormalize(object):\n",
        "    def __init__(self, mean, std):\n",
        "        self.mean = mean\n",
        "        self.std = std\n",
        "\n",
        "    def __call__(self, tensor):\n",
        "        for t, m, s in zip(tensor, self.mean, self.std):\n",
        "            t.mul_(s).add_(m)\n",
        "        return tensor\n",
        "\n",
        "\n",
        "def visualizeSegmentation(args, model, device, test_loader, imageDenormalize, voc_palette):\n",
        "\n",
        "    # switch to train mode\n",
        "    model.eval()\n",
        "\n",
        "    with torch.no_grad():\n",
        "        for batch_idx, (images, mask) in enumerate(test_loader):\n",
        "\n",
        "            images, mask = images.to(device), mask.to(device)\n",
        "\n",
        "            outputs = model(images)\n",
        "\n",
        "            plt.figure(batch_idx)\n",
        "\n",
        "            for i in range(0, images.size(0)):\n",
        "\n",
        "\n",
        "                image_np = (255*(imageDenormalize(images[i,...]).data.permute(1,2,0).cpu().numpy())).astype(np.uint8)\n",
        "                gt_np = mask[i,...].squeeze().data.cpu().numpy()\n",
        "                pred_np = outputs[i,...].data.max(0)[1].squeeze_(0).byte().cpu().numpy()\n",
        "\n",
        "                img_pil = Image.fromarray(image_np)\n",
        "\n",
        "                gt_np_color = np.stack((gt_np.copy(), gt_np.copy(), gt_np.copy()), axis=2)\n",
        "                pred_np_color = np.stack((pred_np.copy(), pred_np.copy(), pred_np.copy()), axis=2)\n",
        "\n",
        "\n",
        "                for j in range(0, 21):\n",
        "                    idx_tuple = np.where(gt_np == j)\n",
        "                    gt_np_color[idx_tuple[0], idx_tuple[1], 0] = colors[j][0]\n",
        "                    gt_np_color[idx_tuple[0], idx_tuple[1], 1] = colors[j][1]\n",
        "                    gt_np_color[idx_tuple[0], idx_tuple[1], 2] = colors[j][2]\n",
        "\n",
        "                    idx_tuple2 = np.where(pred_np == j)\n",
        "                    pred_np_color[idx_tuple2[0], idx_tuple2[1], 0] = colors[j][0]\n",
        "                    pred_np_color[idx_tuple2[0], idx_tuple2[1], 1] = colors[j][1]\n",
        "                    pred_np_color[idx_tuple2[0], idx_tuple2[1], 2] = colors[j][2]\n",
        "\n",
        "\n",
        "                plt.subplot(args.test_batch_size, 3, i * 3 + 1)\n",
        "                plt.imshow(img_pil)\n",
        "                plt.subplot(args.test_batch_size, 3, i * 3 + 2)\n",
        "                plt.imshow(gt_np_color)\n",
        "                plt.subplot(args.test_batch_size, 3, i * 3 + 3)\n",
        "                plt.imshow(pred_np_color)\n",
        "\n",
        "                \n",
        "            if batch_idx>7:\n",
        "                plt.show()\n",
        "                break\n"
      ],
      "execution_count": null,
      "outputs": []
    },
    {
      "cell_type": "code",
      "metadata": {
        "id": "flk4NTlpokel"
      },
      "source": [
        "imageDenormalize = DeNormalize(mean,std)\n",
        "\n",
        "## Color palette for visualization of the 21 classes\n",
        "colors = np.array([[0, 0, 0], [128, 0, 0], [0, 128, 0], [128, 128, 0], [0, 0, 128], [128, 0, 128], [0, 128, 128],\n",
        "            [128, 128, 128], [64, 0, 0], [192, 0, 0], [64, 128, 0], [192, 128, 0], [64, 0, 128], [192, 0, 128],\n",
        "            [64, 128, 128], [192, 128, 128], [0, 64, 0], [128, 64, 0], [0, 192, 0], [128, 192, 0], [0, 64, 128]])\n",
        "\n",
        "model.load_state_dict(torch.load(\"mySemanticSegModelPreTrained.pth\"))\n",
        "#model.load_state_dict(torch.load(\"mySemanticSegModelScratch.pth\"))\n",
        "\n",
        "print('Total params: %2.fM' % (sum(p.numel() for p in model.parameters()) / 1000000.0))\n",
        "\n",
        "cont = 0\n",
        "\n",
        "visualizeSegmentation(args, model, device, test_loader, imageDenormalize, colors)"
      ],
      "execution_count": null,
      "outputs": []
    }
  ]
}