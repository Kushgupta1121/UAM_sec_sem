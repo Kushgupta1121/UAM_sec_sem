{
  "cells": [
    {
      "cell_type": "markdown",
      "id": "together-demographic",
      "metadata": {
        "id": "together-demographic"
      },
      "source": [
        "## Tensforwflow example with two hidden layers. The MNIST dataset"
      ]
    },
    {
      "cell_type": "markdown",
      "id": "material-middle",
      "metadata": {
        "id": "material-middle"
      },
      "source": [
        "### Import the relevant packages"
      ]
    },
    {
      "cell_type": "code",
      "execution_count": 93,
      "id": "accessory-navigation",
      "metadata": {
        "id": "accessory-navigation"
      },
      "outputs": [],
      "source": [
        "import numpy as np\n",
        "import tensorflow as tf\n",
        "import tensorflow_datasets as tfsd\n",
        "from datetime import datetime\n"
      ]
    },
    {
      "cell_type": "markdown",
      "id": "wooden-outside",
      "metadata": {
        "id": "wooden-outside"
      },
      "source": [
        "### Data"
      ]
    },
    {
      "cell_type": "code",
      "execution_count": 94,
      "id": "involved-fountain",
      "metadata": {
        "id": "involved-fountain"
      },
      "outputs": [],
      "source": [
        "mnist_dataset,mnist_info=tfsd.load(name='mnist',with_info=True, as_supervised=True, shuffle_files=True)"
      ]
    },
    {
      "cell_type": "code",
      "source": [
        "mnist_dataset"
      ],
      "metadata": {
        "colab": {
          "base_uri": "https://localhost:8080/"
        },
        "id": "kctup0mUv4LG",
        "outputId": "3029171b-3db2-4663-ae89-26242ebba24d"
      },
      "id": "kctup0mUv4LG",
      "execution_count": 95,
      "outputs": [
        {
          "output_type": "execute_result",
          "data": {
            "text/plain": [
              "{'test': <_OptionsDataset element_spec=(TensorSpec(shape=(28, 28, 1), dtype=tf.uint8, name=None), TensorSpec(shape=(), dtype=tf.int64, name=None))>,\n",
              " 'train': <_OptionsDataset element_spec=(TensorSpec(shape=(28, 28, 1), dtype=tf.uint8, name=None), TensorSpec(shape=(), dtype=tf.int64, name=None))>}"
            ]
          },
          "metadata": {},
          "execution_count": 95
        }
      ]
    },
    {
      "cell_type": "code",
      "source": [
        "mnist_info.splits['test'].num_examples"
      ],
      "metadata": {
        "colab": {
          "base_uri": "https://localhost:8080/"
        },
        "id": "6_cyJjsVwFe1",
        "outputId": "5930575e-eb6a-42f9-8e30-7429c9553b6b"
      },
      "id": "6_cyJjsVwFe1",
      "execution_count": 96,
      "outputs": [
        {
          "output_type": "execute_result",
          "data": {
            "text/plain": [
              "10000"
            ]
          },
          "metadata": {},
          "execution_count": 96
        }
      ]
    },
    {
      "cell_type": "markdown",
      "id": "needed-business",
      "metadata": {
        "id": "needed-business"
      },
      "source": [
        "### Train and test datasets"
      ]
    },
    {
      "cell_type": "code",
      "execution_count": 97,
      "id": "intense-usage",
      "metadata": {
        "id": "intense-usage"
      },
      "outputs": [],
      "source": [
        "mnist_train,mnist_test = mnist_dataset['train'],mnist_dataset['test']\n",
        "num_validation_samples = 0.1*mnist_info.splits['train'].num_examples\n",
        "num_validation_samples = tf.cast(num_validation_samples,tf.int64)"
      ]
    },
    {
      "cell_type": "code",
      "source": [
        "#mnist_train.element_spec\n",
        "#num_validation_samples"
      ],
      "metadata": {
        "id": "KcnSNCNxw9h-"
      },
      "id": "KcnSNCNxw9h-",
      "execution_count": 98,
      "outputs": []
    },
    {
      "cell_type": "code",
      "source": [
        "num_test_samples = mnist_info.splits['test'].num_examples\n",
        "num_test_samples = tf.cast(num_test_samples,tf.int64)"
      ],
      "metadata": {
        "id": "fcdoeVtmvty-"
      },
      "id": "fcdoeVtmvty-",
      "execution_count": 99,
      "outputs": []
    },
    {
      "cell_type": "code",
      "source": [
        "#num_test_samples"
      ],
      "metadata": {
        "id": "qrFrxamQxfmn"
      },
      "id": "qrFrxamQxfmn",
      "execution_count": 100,
      "outputs": []
    },
    {
      "cell_type": "markdown",
      "id": "worse-swaziland",
      "metadata": {
        "id": "worse-swaziland"
      },
      "source": [
        "### Normalize train and test datasets"
      ]
    },
    {
      "cell_type": "code",
      "execution_count": 101,
      "id": "cutting-original",
      "metadata": {
        "id": "cutting-original"
      },
      "outputs": [],
      "source": [
        "def scale(image,label):\n",
        "    image=tf.cast(image,tf.float32)\n",
        "    image/=255. #image=image/255\n",
        "    return image,label\n",
        "\n",
        "scaled_train_and_validation_data=mnist_train.map(scale)\n",
        "scaled_test_data = mnist_test.map(scale)"
      ]
    },
    {
      "cell_type": "markdown",
      "id": "absolute-elevation",
      "metadata": {
        "id": "absolute-elevation"
      },
      "source": [
        "### Shuffle Train dataset ang separate train and validation samples"
      ]
    },
    {
      "cell_type": "code",
      "execution_count": 102,
      "id": "disturbed-bibliography",
      "metadata": {
        "id": "disturbed-bibliography"
      },
      "outputs": [],
      "source": [
        "BUFFER_SIZE=10000\n",
        "\n",
        "shuffled_train_and_validation_data = scaled_train_and_validation_data.shuffle(BUFFER_SIZE)"
      ]
    },
    {
      "cell_type": "markdown",
      "id": "welsh-organization",
      "metadata": {
        "id": "welsh-organization"
      },
      "source": [
        "### Prepare for batching"
      ]
    },
    {
      "cell_type": "code",
      "execution_count": 103,
      "id": "international-experiment",
      "metadata": {
        "id": "international-experiment"
      },
      "outputs": [],
      "source": [
        "validation_data = shuffled_train_and_validation_data.take(num_validation_samples) #num_validation_samples = 6000\n",
        "train_data = shuffled_train_and_validation_data.skip(num_validation_samples)\n",
        "\n",
        "BATCH_SIZE= 100 #10000\n",
        "train_data=train_data.batch(BATCH_SIZE)\n",
        "validation_data = validation_data.batch(num_validation_samples)\n",
        "test_data = scaled_test_data.batch(num_test_samples)\n",
        "\n",
        "validation_inputs, validation_targets = next(iter(validation_data))"
      ]
    },
    {
      "cell_type": "code",
      "source": [
        "#validation_inputs.shape"
      ],
      "metadata": {
        "id": "ZlvZRu3N4Lny"
      },
      "id": "ZlvZRu3N4Lny",
      "execution_count": 104,
      "outputs": []
    },
    {
      "cell_type": "markdown",
      "id": "dental-membrane",
      "metadata": {
        "id": "dental-membrane"
      },
      "source": [
        "### Model"
      ]
    },
    {
      "cell_type": "code",
      "execution_count": 105,
      "id": "proof-extreme",
      "metadata": {
        "id": "proof-extreme"
      },
      "outputs": [],
      "source": [
        "#For 1st, 4th question\n",
        "\n",
        "input_size = 784\n",
        "output_size = 10\n",
        "hidden_layer_size = 100\n",
        "\n",
        "model = tf.keras.Sequential([\n",
        "    tf.keras.layers.Flatten(input_shape=(28,28,1)),\n",
        "    tf.keras.layers.Dense(hidden_layer_size,activation='relu'),\n",
        "    tf.keras.layers.Dense(hidden_layer_size,activation='relu'), \n",
        "    #tf.keras.layers.Dense(hidden_layer_size,activation='tanh'),\n",
        "    tf.keras.layers.Dense(output_size,activation='softmax')\n",
        "])"
      ]
    },
    {
      "cell_type": "code",
      "source": [
        "#For 2nd, 3rd Question \n",
        "'''\n",
        "input_size = 784\n",
        "output_size = 10\n",
        "hidden_layer_size = 70\n",
        "\n",
        "model = tf.keras.Sequential([\n",
        "    tf.keras.layers.Flatten(input_shape=(28,28,1)),\n",
        "    tf.keras.layers.Dense(hidden_layer_size,activation='relu'),\n",
        "    tf.keras.layers.Dense(hidden_layer_size,activation='relu'),\n",
        "    tf.keras.layers.Dense(hidden_layer_size,activation='relu'),\n",
        "    tf.keras.layers.Dense(hidden_layer_size,activation='relu'),\n",
        "    tf.keras.layers.Dense(hidden_layer_size,activation='relu'),\n",
        "    tf.keras.layers.Dense(output_size,activation='softmax')\n",
        "])\n",
        "'''"
      ],
      "metadata": {
        "colab": {
          "base_uri": "https://localhost:8080/",
          "height": 89
        },
        "id": "6oGRJwlD9kdl",
        "outputId": "bad97a73-ac8c-43dc-b7e0-735a1800e9f3"
      },
      "id": "6oGRJwlD9kdl",
      "execution_count": 106,
      "outputs": [
        {
          "output_type": "execute_result",
          "data": {
            "text/plain": [
              "\"\\ninput_size = 784\\noutput_size = 10\\nhidden_layer_size = 70\\n\\nmodel = tf.keras.Sequential([\\n    tf.keras.layers.Flatten(input_shape=(28,28,1)),\\n    tf.keras.layers.Dense(hidden_layer_size,activation='relu'),\\n    tf.keras.layers.Dense(hidden_layer_size,activation='relu'),\\n    tf.keras.layers.Dense(hidden_layer_size,activation='relu'),\\n    tf.keras.layers.Dense(hidden_layer_size,activation='relu'),\\n    tf.keras.layers.Dense(hidden_layer_size,activation='relu'),\\n    tf.keras.layers.Dense(output_size,activation='softmax')\\n])\\n\""
            ],
            "application/vnd.google.colaboratory.intrinsic+json": {
              "type": "string"
            }
          },
          "metadata": {},
          "execution_count": 106
        }
      ]
    },
    {
      "cell_type": "markdown",
      "id": "commercial-costs",
      "metadata": {
        "id": "commercial-costs"
      },
      "source": [
        "### Choose the optimizer and the loss function"
      ]
    },
    {
      "cell_type": "code",
      "execution_count": 107,
      "id": "portuguese-carnival",
      "metadata": {
        "id": "portuguese-carnival"
      },
      "outputs": [],
      "source": [
        "#model.compile(optimizer='adam',loss='sparse_categorical_crossentropy',metrics=['accuracy'])"
      ]
    },
    {
      "cell_type": "code",
      "source": [
        "custom_optimizer = tf.keras.optimizers.SGD(learning_rate= 0.02)\n",
        "model.compile(custom_optimizer,loss='sparse_categorical_crossentropy',metrics=['accuracy'])"
      ],
      "metadata": {
        "id": "CoOudMq_mfXP"
      },
      "id": "CoOudMq_mfXP",
      "execution_count": 108,
      "outputs": []
    },
    {
      "cell_type": "markdown",
      "id": "adaptive-heath",
      "metadata": {
        "id": "adaptive-heath"
      },
      "source": [
        "### Training"
      ]
    },
    {
      "cell_type": "code",
      "execution_count": 109,
      "id": "packed-mexico",
      "metadata": {
        "colab": {
          "base_uri": "https://localhost:8080/"
        },
        "id": "packed-mexico",
        "outputId": "2c1c22e7-c3ef-4029-c3e6-64f1bef04972"
      },
      "outputs": [
        {
          "output_type": "stream",
          "name": "stdout",
          "text": [
            "Epoch 1/10\n",
            "540/540 - 7s - loss: 0.8243 - accuracy: 0.7873 - val_loss: 0.4032 - val_accuracy: 0.8885 - 7s/epoch - 12ms/step\n",
            "Epoch 2/10\n",
            "540/540 - 3s - loss: 0.3545 - accuracy: 0.8999 - val_loss: 0.3141 - val_accuracy: 0.9097 - 3s/epoch - 6ms/step\n",
            "Epoch 3/10\n",
            "540/540 - 3s - loss: 0.2995 - accuracy: 0.9142 - val_loss: 0.2763 - val_accuracy: 0.9208 - 3s/epoch - 6ms/step\n",
            "Epoch 4/10\n",
            "540/540 - 3s - loss: 0.2656 - accuracy: 0.9242 - val_loss: 0.2487 - val_accuracy: 0.9260 - 3s/epoch - 6ms/step\n",
            "Epoch 5/10\n",
            "540/540 - 3s - loss: 0.2399 - accuracy: 0.9311 - val_loss: 0.2231 - val_accuracy: 0.9360 - 3s/epoch - 6ms/step\n",
            "Epoch 6/10\n",
            "540/540 - 3s - loss: 0.2198 - accuracy: 0.9373 - val_loss: 0.2008 - val_accuracy: 0.9405 - 3s/epoch - 6ms/step\n",
            "Epoch 7/10\n",
            "540/540 - 3s - loss: 0.2010 - accuracy: 0.9431 - val_loss: 0.1843 - val_accuracy: 0.9447 - 3s/epoch - 6ms/step\n",
            "Epoch 8/10\n",
            "540/540 - 3s - loss: 0.1880 - accuracy: 0.9465 - val_loss: 0.1741 - val_accuracy: 0.9488 - 3s/epoch - 6ms/step\n",
            "Epoch 9/10\n",
            "540/540 - 3s - loss: 0.1751 - accuracy: 0.9499 - val_loss: 0.1612 - val_accuracy: 0.9535 - 3s/epoch - 6ms/step\n",
            "Epoch 10/10\n",
            "540/540 - 3s - loss: 0.1635 - accuracy: 0.9532 - val_loss: 0.1527 - val_accuracy: 0.9557 - 3s/epoch - 6ms/step\n",
            "Time:  0:00:50.926011\n"
          ]
        }
      ],
      "source": [
        "NUM_EPOCHS=10\n",
        "start = datetime.now()\n",
        "model.fit(train_data,epochs=NUM_EPOCHS,validation_data=(validation_inputs, validation_targets),verbose=2)\n",
        "end = datetime.now()\n",
        "time_taken = end - start\n",
        "print('Time: ',time_taken) "
      ]
    },
    {
      "cell_type": "code",
      "source": [
        "#val_accuracy: 0.9557, val_loss: 0.1527, Train accuracy: 0.9532, accuracy: 0.9546 , Test loss: 0.1577"
      ],
      "metadata": {
        "id": "ZPrr7j3xBs-o"
      },
      "id": "ZPrr7j3xBs-o",
      "execution_count": 110,
      "outputs": []
    },
    {
      "cell_type": "markdown",
      "id": "similar-scheme",
      "metadata": {
        "id": "similar-scheme"
      },
      "source": [
        "### Test the model"
      ]
    },
    {
      "cell_type": "code",
      "execution_count": 111,
      "id": "remarkable-container",
      "metadata": {
        "colab": {
          "base_uri": "https://localhost:8080/"
        },
        "id": "remarkable-container",
        "outputId": "e0a86db9-9ca7-4d79-df36-c96a74793695"
      },
      "outputs": [
        {
          "output_type": "stream",
          "name": "stdout",
          "text": [
            "1/1 [==============================] - 1s 848ms/step - loss: 0.1577 - accuracy: 0.9546\n"
          ]
        }
      ],
      "source": [
        "test_loss,test_accuracy=model.evaluate(test_data)"
      ]
    }
  ],
  "metadata": {
    "kernelspec": {
      "display_name": "Python 3",
      "language": "python",
      "name": "python3"
    },
    "language_info": {
      "codemirror_mode": {
        "name": "ipython",
        "version": 3
      },
      "file_extension": ".py",
      "mimetype": "text/x-python",
      "name": "python",
      "nbconvert_exporter": "python",
      "pygments_lexer": "ipython3",
      "version": "3.8.8"
    },
    "colab": {
      "name": "DL with Tensorflow_Kush_Gupta.ipynb",
      "provenance": [],
      "collapsed_sections": []
    },
    "accelerator": "GPU"
  },
  "nbformat": 4,
  "nbformat_minor": 5
}