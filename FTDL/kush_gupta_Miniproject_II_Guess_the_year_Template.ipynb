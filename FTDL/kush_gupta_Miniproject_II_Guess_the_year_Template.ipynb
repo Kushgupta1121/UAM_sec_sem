{
  "cells": [
    {
      "cell_type": "markdown",
      "metadata": {
        "id": "nK8yeHW_oLjN"
      },
      "source": [
        "## Miniproject II, Guess the year !"
      ]
    },
    {
      "cell_type": "markdown",
      "metadata": {
        "id": "BGiQNyEfoLjQ"
      },
      "source": [
        "1.Import the Required Libraries"
      ]
    },
    {
      "cell_type": "code",
      "execution_count": 1,
      "metadata": {
        "id": "IRiLmNoToLjQ"
      },
      "outputs": [],
      "source": [
        "import pandas as pd\n",
        "import torch as t\n",
        "import torch.nn as nn\n",
        "from sklearn.model_selection import train_test_split\n",
        "import numpy as np\n",
        "from torch.utils.data import DataLoader\n",
        "import matplotlib.pyplot as plt\n"
      ]
    },
    {
      "cell_type": "markdown",
      "metadata": {
        "id": "QoRI5ELmoLjR"
      },
      "source": [
        "### 2.Using pandas, load the .csv file."
      ]
    },
    {
      "cell_type": "code",
      "execution_count": 2,
      "metadata": {
        "colab": {
          "base_uri": "https://localhost:8080/"
        },
        "id": "PI_AS6OWoLjR",
        "outputId": "52238229-94e0-469a-f15d-72c1143357ba"
      },
      "outputs": [
        {
          "output_type": "stream",
          "name": "stdout",
          "text": [
            "--2022-04-25 15:58:35--  https://raw.githubusercontent.com/sebinemeth/ftdl-data/main/YearPredictionMSD.csv\n",
            "Resolving raw.githubusercontent.com (raw.githubusercontent.com)... 185.199.108.133, 185.199.109.133, 185.199.110.133, ...\n",
            "Connecting to raw.githubusercontent.com (raw.githubusercontent.com)|185.199.108.133|:443... connected.\n",
            "HTTP request sent, awaiting response... 200 OK\n",
            "Length: 53937968 (51M) [text/plain]\n",
            "Saving to: ‘YearPredictionMSD.csv’\n",
            "\n",
            "YearPredictionMSD.c 100%[===================>]  51.44M   207MB/s    in 0.2s    \n",
            "\n",
            "2022-04-25 15:58:36 (207 MB/s) - ‘YearPredictionMSD.csv’ saved [53937968/53937968]\n",
            "\n"
          ]
        }
      ],
      "source": [
        "!wget https://raw.githubusercontent.com/sebinemeth/ftdl-data/main/YearPredictionMSD.csv -O YearPredictionMSD.csv"
      ]
    },
    {
      "cell_type": "code",
      "execution_count": 3,
      "metadata": {
        "colab": {
          "base_uri": "https://localhost:8080/",
          "height": 299
        },
        "id": "vg4RwIvvoLjR",
        "outputId": "6628585d-5905-4f4d-dadb-3d1e5ad5698b"
      },
      "outputs": [
        {
          "output_type": "execute_result",
          "data": {
            "text/plain": [
              "      0         1         2         3         4         5         6         7  \\\n",
              "0  2001  49.94357  21.47114  73.07750   8.74861 -17.40628 -13.09905 -25.01202   \n",
              "1  2001  48.73215  18.42930  70.32679  12.94636 -10.32437 -24.83777   8.76630   \n",
              "2  2001  50.95714  31.85602  55.81851  13.41693  -6.57898 -18.54940  -3.27872   \n",
              "3  2001  48.24750  -1.89837  36.29772   2.58776   0.97170 -26.21683   5.05097   \n",
              "4  2001  50.97020  42.20998  67.09964   8.46791 -15.85279 -16.81409 -12.48207   \n",
              "\n",
              "          8         9  ...        81         82        83        84        85  \\\n",
              "0 -12.23257   7.83089  ...  13.01620  -54.40548  58.99367  15.37344   1.11144   \n",
              "1  -0.92019  18.76548  ...   5.66812  -19.68073  33.04964  42.87836  -9.90378   \n",
              "2  -2.35035  16.07017  ...   3.03800   26.05866 -50.92779  10.93792  -0.07568   \n",
              "3 -10.34124   3.55005  ...  34.57337 -171.70734 -16.96705 -46.67617 -12.51516   \n",
              "4  -9.37636  12.63699  ...   9.92661  -55.95724  64.92712 -17.72522  -1.49237   \n",
              "\n",
              "         86         87        88         89        90  \n",
              "0 -23.08793   68.40795  -1.82223  -27.46348   2.26327  \n",
              "1 -32.22788   70.49388  12.04941   58.43453  26.92061  \n",
              "2  43.20130 -115.00698  -0.05859   39.67068  -0.66345  \n",
              "3  82.58061  -72.08993   9.90558  199.62971  18.85382  \n",
              "4  -7.50035   51.76631   7.88713   55.66926  28.74903  \n",
              "\n",
              "[5 rows x 91 columns]"
            ],
            "text/html": [
              "\n",
              "  <div id=\"df-2c1a62e0-bad0-48ee-a34b-90b088d87d85\">\n",
              "    <div class=\"colab-df-container\">\n",
              "      <div>\n",
              "<style scoped>\n",
              "    .dataframe tbody tr th:only-of-type {\n",
              "        vertical-align: middle;\n",
              "    }\n",
              "\n",
              "    .dataframe tbody tr th {\n",
              "        vertical-align: top;\n",
              "    }\n",
              "\n",
              "    .dataframe thead th {\n",
              "        text-align: right;\n",
              "    }\n",
              "</style>\n",
              "<table border=\"1\" class=\"dataframe\">\n",
              "  <thead>\n",
              "    <tr style=\"text-align: right;\">\n",
              "      <th></th>\n",
              "      <th>0</th>\n",
              "      <th>1</th>\n",
              "      <th>2</th>\n",
              "      <th>3</th>\n",
              "      <th>4</th>\n",
              "      <th>5</th>\n",
              "      <th>6</th>\n",
              "      <th>7</th>\n",
              "      <th>8</th>\n",
              "      <th>9</th>\n",
              "      <th>...</th>\n",
              "      <th>81</th>\n",
              "      <th>82</th>\n",
              "      <th>83</th>\n",
              "      <th>84</th>\n",
              "      <th>85</th>\n",
              "      <th>86</th>\n",
              "      <th>87</th>\n",
              "      <th>88</th>\n",
              "      <th>89</th>\n",
              "      <th>90</th>\n",
              "    </tr>\n",
              "  </thead>\n",
              "  <tbody>\n",
              "    <tr>\n",
              "      <th>0</th>\n",
              "      <td>2001</td>\n",
              "      <td>49.94357</td>\n",
              "      <td>21.47114</td>\n",
              "      <td>73.07750</td>\n",
              "      <td>8.74861</td>\n",
              "      <td>-17.40628</td>\n",
              "      <td>-13.09905</td>\n",
              "      <td>-25.01202</td>\n",
              "      <td>-12.23257</td>\n",
              "      <td>7.83089</td>\n",
              "      <td>...</td>\n",
              "      <td>13.01620</td>\n",
              "      <td>-54.40548</td>\n",
              "      <td>58.99367</td>\n",
              "      <td>15.37344</td>\n",
              "      <td>1.11144</td>\n",
              "      <td>-23.08793</td>\n",
              "      <td>68.40795</td>\n",
              "      <td>-1.82223</td>\n",
              "      <td>-27.46348</td>\n",
              "      <td>2.26327</td>\n",
              "    </tr>\n",
              "    <tr>\n",
              "      <th>1</th>\n",
              "      <td>2001</td>\n",
              "      <td>48.73215</td>\n",
              "      <td>18.42930</td>\n",
              "      <td>70.32679</td>\n",
              "      <td>12.94636</td>\n",
              "      <td>-10.32437</td>\n",
              "      <td>-24.83777</td>\n",
              "      <td>8.76630</td>\n",
              "      <td>-0.92019</td>\n",
              "      <td>18.76548</td>\n",
              "      <td>...</td>\n",
              "      <td>5.66812</td>\n",
              "      <td>-19.68073</td>\n",
              "      <td>33.04964</td>\n",
              "      <td>42.87836</td>\n",
              "      <td>-9.90378</td>\n",
              "      <td>-32.22788</td>\n",
              "      <td>70.49388</td>\n",
              "      <td>12.04941</td>\n",
              "      <td>58.43453</td>\n",
              "      <td>26.92061</td>\n",
              "    </tr>\n",
              "    <tr>\n",
              "      <th>2</th>\n",
              "      <td>2001</td>\n",
              "      <td>50.95714</td>\n",
              "      <td>31.85602</td>\n",
              "      <td>55.81851</td>\n",
              "      <td>13.41693</td>\n",
              "      <td>-6.57898</td>\n",
              "      <td>-18.54940</td>\n",
              "      <td>-3.27872</td>\n",
              "      <td>-2.35035</td>\n",
              "      <td>16.07017</td>\n",
              "      <td>...</td>\n",
              "      <td>3.03800</td>\n",
              "      <td>26.05866</td>\n",
              "      <td>-50.92779</td>\n",
              "      <td>10.93792</td>\n",
              "      <td>-0.07568</td>\n",
              "      <td>43.20130</td>\n",
              "      <td>-115.00698</td>\n",
              "      <td>-0.05859</td>\n",
              "      <td>39.67068</td>\n",
              "      <td>-0.66345</td>\n",
              "    </tr>\n",
              "    <tr>\n",
              "      <th>3</th>\n",
              "      <td>2001</td>\n",
              "      <td>48.24750</td>\n",
              "      <td>-1.89837</td>\n",
              "      <td>36.29772</td>\n",
              "      <td>2.58776</td>\n",
              "      <td>0.97170</td>\n",
              "      <td>-26.21683</td>\n",
              "      <td>5.05097</td>\n",
              "      <td>-10.34124</td>\n",
              "      <td>3.55005</td>\n",
              "      <td>...</td>\n",
              "      <td>34.57337</td>\n",
              "      <td>-171.70734</td>\n",
              "      <td>-16.96705</td>\n",
              "      <td>-46.67617</td>\n",
              "      <td>-12.51516</td>\n",
              "      <td>82.58061</td>\n",
              "      <td>-72.08993</td>\n",
              "      <td>9.90558</td>\n",
              "      <td>199.62971</td>\n",
              "      <td>18.85382</td>\n",
              "    </tr>\n",
              "    <tr>\n",
              "      <th>4</th>\n",
              "      <td>2001</td>\n",
              "      <td>50.97020</td>\n",
              "      <td>42.20998</td>\n",
              "      <td>67.09964</td>\n",
              "      <td>8.46791</td>\n",
              "      <td>-15.85279</td>\n",
              "      <td>-16.81409</td>\n",
              "      <td>-12.48207</td>\n",
              "      <td>-9.37636</td>\n",
              "      <td>12.63699</td>\n",
              "      <td>...</td>\n",
              "      <td>9.92661</td>\n",
              "      <td>-55.95724</td>\n",
              "      <td>64.92712</td>\n",
              "      <td>-17.72522</td>\n",
              "      <td>-1.49237</td>\n",
              "      <td>-7.50035</td>\n",
              "      <td>51.76631</td>\n",
              "      <td>7.88713</td>\n",
              "      <td>55.66926</td>\n",
              "      <td>28.74903</td>\n",
              "    </tr>\n",
              "  </tbody>\n",
              "</table>\n",
              "<p>5 rows × 91 columns</p>\n",
              "</div>\n",
              "      <button class=\"colab-df-convert\" onclick=\"convertToInteractive('df-2c1a62e0-bad0-48ee-a34b-90b088d87d85')\"\n",
              "              title=\"Convert this dataframe to an interactive table.\"\n",
              "              style=\"display:none;\">\n",
              "        \n",
              "  <svg xmlns=\"http://www.w3.org/2000/svg\" height=\"24px\"viewBox=\"0 0 24 24\"\n",
              "       width=\"24px\">\n",
              "    <path d=\"M0 0h24v24H0V0z\" fill=\"none\"/>\n",
              "    <path d=\"M18.56 5.44l.94 2.06.94-2.06 2.06-.94-2.06-.94-.94-2.06-.94 2.06-2.06.94zm-11 1L8.5 8.5l.94-2.06 2.06-.94-2.06-.94L8.5 2.5l-.94 2.06-2.06.94zm10 10l.94 2.06.94-2.06 2.06-.94-2.06-.94-.94-2.06-.94 2.06-2.06.94z\"/><path d=\"M17.41 7.96l-1.37-1.37c-.4-.4-.92-.59-1.43-.59-.52 0-1.04.2-1.43.59L10.3 9.45l-7.72 7.72c-.78.78-.78 2.05 0 2.83L4 21.41c.39.39.9.59 1.41.59.51 0 1.02-.2 1.41-.59l7.78-7.78 2.81-2.81c.8-.78.8-2.07 0-2.86zM5.41 20L4 18.59l7.72-7.72 1.47 1.35L5.41 20z\"/>\n",
              "  </svg>\n",
              "      </button>\n",
              "      \n",
              "  <style>\n",
              "    .colab-df-container {\n",
              "      display:flex;\n",
              "      flex-wrap:wrap;\n",
              "      gap: 12px;\n",
              "    }\n",
              "\n",
              "    .colab-df-convert {\n",
              "      background-color: #E8F0FE;\n",
              "      border: none;\n",
              "      border-radius: 50%;\n",
              "      cursor: pointer;\n",
              "      display: none;\n",
              "      fill: #1967D2;\n",
              "      height: 32px;\n",
              "      padding: 0 0 0 0;\n",
              "      width: 32px;\n",
              "    }\n",
              "\n",
              "    .colab-df-convert:hover {\n",
              "      background-color: #E2EBFA;\n",
              "      box-shadow: 0px 1px 2px rgba(60, 64, 67, 0.3), 0px 1px 3px 1px rgba(60, 64, 67, 0.15);\n",
              "      fill: #174EA6;\n",
              "    }\n",
              "\n",
              "    [theme=dark] .colab-df-convert {\n",
              "      background-color: #3B4455;\n",
              "      fill: #D2E3FC;\n",
              "    }\n",
              "\n",
              "    [theme=dark] .colab-df-convert:hover {\n",
              "      background-color: #434B5C;\n",
              "      box-shadow: 0px 1px 3px 1px rgba(0, 0, 0, 0.15);\n",
              "      filter: drop-shadow(0px 1px 2px rgba(0, 0, 0, 0.3));\n",
              "      fill: #FFFFFF;\n",
              "    }\n",
              "  </style>\n",
              "\n",
              "      <script>\n",
              "        const buttonEl =\n",
              "          document.querySelector('#df-2c1a62e0-bad0-48ee-a34b-90b088d87d85 button.colab-df-convert');\n",
              "        buttonEl.style.display =\n",
              "          google.colab.kernel.accessAllowed ? 'block' : 'none';\n",
              "\n",
              "        async function convertToInteractive(key) {\n",
              "          const element = document.querySelector('#df-2c1a62e0-bad0-48ee-a34b-90b088d87d85');\n",
              "          const dataTable =\n",
              "            await google.colab.kernel.invokeFunction('convertToInteractive',\n",
              "                                                     [key], {});\n",
              "          if (!dataTable) return;\n",
              "\n",
              "          const docLinkHtml = 'Like what you see? Visit the ' +\n",
              "            '<a target=\"_blank\" href=https://colab.research.google.com/notebooks/data_table.ipynb>data table notebook</a>'\n",
              "            + ' to learn more about interactive tables.';\n",
              "          element.innerHTML = '';\n",
              "          dataTable['output_type'] = 'display_data';\n",
              "          await google.colab.output.renderOutput(dataTable, element);\n",
              "          const docLink = document.createElement('div');\n",
              "          docLink.innerHTML = docLinkHtml;\n",
              "          element.appendChild(docLink);\n",
              "        }\n",
              "      </script>\n",
              "    </div>\n",
              "  </div>\n",
              "  "
            ]
          },
          "metadata": {},
          "execution_count": 3
        }
      ],
      "source": [
        "data = pd.read_csv('YearPredictionMSD.csv') #, nrows=50000\n",
        "data.head()\n"
      ]
    },
    {
      "cell_type": "code",
      "execution_count": 4,
      "metadata": {
        "colab": {
          "base_uri": "https://localhost:8080/"
        },
        "id": "mYdD8ip_p0je",
        "outputId": "ad79d831-6af7-48f8-df53-a02fcd375064"
      },
      "outputs": [
        {
          "output_type": "execute_result",
          "data": {
            "text/plain": [
              "91"
            ]
          },
          "metadata": {},
          "execution_count": 4
        }
      ],
      "source": [
        "data.shape[1]"
      ]
    },
    {
      "cell_type": "markdown",
      "metadata": {
        "id": "KjC3cmGKoLjR"
      },
      "source": [
        "### 3.Verify whether any qualitative data is present in the dataset."
      ]
    },
    {
      "cell_type": "code",
      "execution_count": 5,
      "metadata": {
        "colab": {
          "base_uri": "https://localhost:8080/"
        },
        "id": "HqWF2UblpdwY",
        "outputId": "28c9bebf-c6f2-4325-8b3a-916154157ece"
      },
      "outputs": [
        {
          "output_type": "stream",
          "name": "stdout",
          "text": [
            "[]\n"
          ]
        }
      ],
      "source": [
        "#Verifying qualitaitve data\n",
        "cols = data.columns\n",
        "num_cols = data._get_numeric_data().columns\n",
        "categorical=list(set(cols) - set(num_cols))\n",
        "print(categorical)"
      ]
    },
    {
      "cell_type": "code",
      "execution_count": 6,
      "metadata": {
        "colab": {
          "base_uri": "https://localhost:8080/"
        },
        "id": "CFTp52gPrRoU",
        "outputId": "ae3b1d44-4b6a-43a2-c8cb-d22098b5fe9e"
      },
      "outputs": [
        {
          "output_type": "execute_result",
          "data": {
            "text/plain": [
              "Index(['0', '1', '2', '3', '4', '5', '6', '7', '8', '9', '10', '11', '12',\n",
              "       '13', '14', '15', '16', '17', '18', '19', '20', '21', '22', '23', '24',\n",
              "       '25', '26', '27', '28', '29', '30', '31', '32', '33', '34', '35', '36',\n",
              "       '37', '38', '39', '40', '41', '42', '43', '44', '45', '46', '47', '48',\n",
              "       '49', '50', '51', '52', '53', '54', '55', '56', '57', '58', '59', '60',\n",
              "       '61', '62', '63', '64', '65', '66', '67', '68', '69', '70', '71', '72',\n",
              "       '73', '74', '75', '76', '77', '78', '79', '80', '81', '82', '83', '84',\n",
              "       '85', '86', '87', '88', '89', '90'],\n",
              "      dtype='object')"
            ]
          },
          "metadata": {},
          "execution_count": 6
        }
      ],
      "source": [
        "# Checking the columns having categorical values\n",
        "cols \n",
        "#num_cols"
      ]
    },
    {
      "cell_type": "markdown",
      "metadata": {
        "id": "IvHfkpVCoLjS"
      },
      "source": [
        "### 4.Check for missing values. "
      ]
    },
    {
      "cell_type": "code",
      "execution_count": 7,
      "metadata": {
        "colab": {
          "base_uri": "https://localhost:8080/"
        },
        "id": "cqlYOYQxoLjS",
        "outputId": "c69cae80-9805-4832-a06d-7ad122a33bc9"
      },
      "outputs": [
        {
          "output_type": "execute_result",
          "data": {
            "text/plain": [
              "0     0\n",
              "1     0\n",
              "2     0\n",
              "3     0\n",
              "4     0\n",
              "     ..\n",
              "86    0\n",
              "87    0\n",
              "88    0\n",
              "89    0\n",
              "90    0\n",
              "Length: 91, dtype: int64"
            ]
          },
          "metadata": {},
          "execution_count": 7
        }
      ],
      "source": [
        "## No missing values found\n",
        "data.isnull().sum()"
      ]
    },
    {
      "cell_type": "markdown",
      "metadata": {
        "id": "3nBZx-7eoLjS"
      },
      "source": [
        "### 5.Check for outliers."
      ]
    },
    {
      "cell_type": "code",
      "execution_count": 8,
      "metadata": {
        "colab": {
          "base_uri": "https://localhost:8080/"
        },
        "id": "64dvCZ73oLjT",
        "outputId": "670ef43c-7daa-4e2a-8ae5-e9e4111a3b22"
      },
      "outputs": [
        {
          "output_type": "execute_result",
          "data": {
            "text/plain": [
              "{'0': '0.019',\n",
              " '1': '0.010',\n",
              " '10': '0.005',\n",
              " '11': '0.010',\n",
              " '12': '0.010',\n",
              " '13': '0.015',\n",
              " '14': '0.017',\n",
              " '15': '0.016',\n",
              " '16': '0.016',\n",
              " '17': '0.014',\n",
              " '18': '0.016',\n",
              " '19': '0.013',\n",
              " '2': '0.011',\n",
              " '20': '0.016',\n",
              " '21': '0.015',\n",
              " '22': '0.013',\n",
              " '23': '0.015',\n",
              " '24': '0.013',\n",
              " '25': '0.018',\n",
              " '26': '0.017',\n",
              " '27': '0.017',\n",
              " '28': '0.018',\n",
              " '29': '0.017',\n",
              " '3': '0.011',\n",
              " '30': '0.016',\n",
              " '31': '0.015',\n",
              " '32': '0.017',\n",
              " '33': '0.016',\n",
              " '34': '0.015',\n",
              " '35': '0.016',\n",
              " '36': '0.017',\n",
              " '37': '0.017',\n",
              " '38': '0.016',\n",
              " '39': '0.015',\n",
              " '4': '0.015',\n",
              " '40': '0.017',\n",
              " '41': '0.017',\n",
              " '42': '0.015',\n",
              " '43': '0.014',\n",
              " '44': '0.016',\n",
              " '45': '0.015',\n",
              " '46': '0.017',\n",
              " '47': '0.017',\n",
              " '48': '0.017',\n",
              " '49': '0.015',\n",
              " '5': '0.008',\n",
              " '50': '0.016',\n",
              " '51': '0.015',\n",
              " '52': '0.015',\n",
              " '53': '0.015',\n",
              " '54': '0.016',\n",
              " '55': '0.018',\n",
              " '56': '0.017',\n",
              " '57': '0.016',\n",
              " '58': '0.013',\n",
              " '59': '0.016',\n",
              " '6': '0.010',\n",
              " '60': '0.016',\n",
              " '61': '0.015',\n",
              " '62': '0.016',\n",
              " '63': '0.017',\n",
              " '64': '0.017',\n",
              " '65': '0.016',\n",
              " '66': '0.018',\n",
              " '67': '0.015',\n",
              " '68': '0.018',\n",
              " '69': '0.016',\n",
              " '7': '0.010',\n",
              " '70': '0.017',\n",
              " '71': '0.016',\n",
              " '72': '0.018',\n",
              " '73': '0.015',\n",
              " '74': '0.016',\n",
              " '75': '0.015',\n",
              " '76': '0.017',\n",
              " '77': '0.018',\n",
              " '78': '0.015',\n",
              " '79': '0.014',\n",
              " '8': '0.010',\n",
              " '80': '0.015',\n",
              " '81': '0.018',\n",
              " '82': '0.017',\n",
              " '83': '0.015',\n",
              " '84': '0.016',\n",
              " '85': '0.015',\n",
              " '86': '0.016',\n",
              " '87': '0.015',\n",
              " '88': '0.015',\n",
              " '89': '0.017',\n",
              " '9': '0.011',\n",
              " '90': '0.018'}"
            ]
          },
          "metadata": {},
          "execution_count": 8
        }
      ],
      "source": [
        "#code to check the outliers in the data\n",
        "outliers={}\n",
        "for i in range(data.shape[1]):\n",
        "  t_min = (data.iloc[:,i].mean() - (3 * data.iloc[:,i].std()))\n",
        "  t_max = (data.iloc[:,i].mean() + (3 * data.iloc[:,i].std()))\n",
        "  count=0\n",
        "  for j in data.iloc[:,i]:\n",
        "    if j < t_min or j > t_max:\n",
        "      count=count+1\n",
        "  percentage = count/data.shape[0]\n",
        "  outliers[data.columns[i]]= \"%.3f\" % percentage\n",
        "outliers"
      ]
    },
    {
      "cell_type": "code",
      "execution_count": 9,
      "metadata": {
        "id": "cFzDiFAayjkK"
      },
      "outputs": [],
      "source": [
        "#data.iloc[0]#.mean()"
      ]
    },
    {
      "cell_type": "markdown",
      "metadata": {
        "id": "1jM8N6nPoLjT"
      },
      "source": [
        "6.Separate features from target data"
      ]
    },
    {
      "cell_type": "code",
      "execution_count": 10,
      "metadata": {
        "id": "HRLbom8MoLjT"
      },
      "outputs": [],
      "source": [
        "X=data.iloc[:,1:] # features\n",
        "Y=data.iloc[:,:1] # Target data"
      ]
    },
    {
      "cell_type": "code",
      "execution_count": 11,
      "metadata": {
        "colab": {
          "base_uri": "https://localhost:8080/"
        },
        "id": "8f6HEh9VziIy",
        "outputId": "eeafe984-3298-4bb1-a8e2-44524a6aba18"
      },
      "outputs": [
        {
          "output_type": "execute_result",
          "data": {
            "text/plain": [
              "4.4185"
            ]
          },
          "metadata": {},
          "execution_count": 11
        }
      ],
      "source": [
        "# checking the features\n",
        "#X.shape\n",
        "X.iloc[:,0].min() #-284.90836\n",
        "#X.min()"
      ]
    },
    {
      "cell_type": "markdown",
      "metadata": {
        "id": "6H-DmWtBoLjT"
      },
      "source": [
        "### 7.Data Rescaling using Standardization Methodology"
      ]
    },
    {
      "cell_type": "code",
      "execution_count": 12,
      "metadata": {
        "colab": {
          "base_uri": "https://localhost:8080/",
          "height": 299
        },
        "id": "xwYQt4mmoLjU",
        "outputId": "dc919914-7fe7-41cc-f874-a7ec558420ff"
      },
      "outputs": [
        {
          "output_type": "execute_result",
          "data": {
            "text/plain": [
              "          1         2         3         4         5         6         7  \\\n",
              "0  0.860844  0.520015  0.638629  0.468319  0.279845  0.267357  0.497138   \n",
              "1  0.837937  0.514852  0.633315  0.483503  0.298094  0.202651  0.616818   \n",
              "2  0.880010  0.537641  0.605290  0.485205  0.307745  0.237314  0.574141   \n",
              "3  0.828773  0.480350  0.567581  0.446035  0.327202  0.195050  0.603655   \n",
              "4  0.880257  0.555214  0.627082  0.467304  0.283848  0.246879  0.541533   \n",
              "\n",
              "          8         9        10  ...        81        82        83        84  \\\n",
              "0  0.325330  0.617330  0.340078  ...  0.432239  0.569115  0.327585  0.493224   \n",
              "1  0.410166  0.670349  0.414250  ...  0.424980  0.577781  0.321123  0.502724   \n",
              "2  0.399441  0.657280  0.380663  ...  0.422381  0.589197  0.300206  0.491692   \n",
              "3  0.339514  0.596574  0.299154  ...  0.453535  0.539840  0.308665  0.471793   \n",
              "4  0.346750  0.640634  0.375840  ...  0.429187  0.568728  0.329063  0.481793   \n",
              "\n",
              "         85        86        87        88        89        90  \n",
              "0  0.512380  0.659509  0.528092  0.499917  0.542475  0.459884  \n",
              "1  0.484122  0.656912  0.528448  0.529855  0.551845  0.495266  \n",
              "2  0.509335  0.678347  0.496790  0.503723  0.549798  0.455684  \n",
              "3  0.477423  0.689537  0.504114  0.525228  0.567246  0.483691  \n",
              "4  0.505700  0.663939  0.525252  0.520872  0.551543  0.497890  \n",
              "\n",
              "[5 rows x 90 columns]"
            ],
            "text/html": [
              "\n",
              "  <div id=\"df-03ede22e-81dd-41b6-a4df-6d42ee448740\">\n",
              "    <div class=\"colab-df-container\">\n",
              "      <div>\n",
              "<style scoped>\n",
              "    .dataframe tbody tr th:only-of-type {\n",
              "        vertical-align: middle;\n",
              "    }\n",
              "\n",
              "    .dataframe tbody tr th {\n",
              "        vertical-align: top;\n",
              "    }\n",
              "\n",
              "    .dataframe thead th {\n",
              "        text-align: right;\n",
              "    }\n",
              "</style>\n",
              "<table border=\"1\" class=\"dataframe\">\n",
              "  <thead>\n",
              "    <tr style=\"text-align: right;\">\n",
              "      <th></th>\n",
              "      <th>1</th>\n",
              "      <th>2</th>\n",
              "      <th>3</th>\n",
              "      <th>4</th>\n",
              "      <th>5</th>\n",
              "      <th>6</th>\n",
              "      <th>7</th>\n",
              "      <th>8</th>\n",
              "      <th>9</th>\n",
              "      <th>10</th>\n",
              "      <th>...</th>\n",
              "      <th>81</th>\n",
              "      <th>82</th>\n",
              "      <th>83</th>\n",
              "      <th>84</th>\n",
              "      <th>85</th>\n",
              "      <th>86</th>\n",
              "      <th>87</th>\n",
              "      <th>88</th>\n",
              "      <th>89</th>\n",
              "      <th>90</th>\n",
              "    </tr>\n",
              "  </thead>\n",
              "  <tbody>\n",
              "    <tr>\n",
              "      <th>0</th>\n",
              "      <td>0.860844</td>\n",
              "      <td>0.520015</td>\n",
              "      <td>0.638629</td>\n",
              "      <td>0.468319</td>\n",
              "      <td>0.279845</td>\n",
              "      <td>0.267357</td>\n",
              "      <td>0.497138</td>\n",
              "      <td>0.325330</td>\n",
              "      <td>0.617330</td>\n",
              "      <td>0.340078</td>\n",
              "      <td>...</td>\n",
              "      <td>0.432239</td>\n",
              "      <td>0.569115</td>\n",
              "      <td>0.327585</td>\n",
              "      <td>0.493224</td>\n",
              "      <td>0.512380</td>\n",
              "      <td>0.659509</td>\n",
              "      <td>0.528092</td>\n",
              "      <td>0.499917</td>\n",
              "      <td>0.542475</td>\n",
              "      <td>0.459884</td>\n",
              "    </tr>\n",
              "    <tr>\n",
              "      <th>1</th>\n",
              "      <td>0.837937</td>\n",
              "      <td>0.514852</td>\n",
              "      <td>0.633315</td>\n",
              "      <td>0.483503</td>\n",
              "      <td>0.298094</td>\n",
              "      <td>0.202651</td>\n",
              "      <td>0.616818</td>\n",
              "      <td>0.410166</td>\n",
              "      <td>0.670349</td>\n",
              "      <td>0.414250</td>\n",
              "      <td>...</td>\n",
              "      <td>0.424980</td>\n",
              "      <td>0.577781</td>\n",
              "      <td>0.321123</td>\n",
              "      <td>0.502724</td>\n",
              "      <td>0.484122</td>\n",
              "      <td>0.656912</td>\n",
              "      <td>0.528448</td>\n",
              "      <td>0.529855</td>\n",
              "      <td>0.551845</td>\n",
              "      <td>0.495266</td>\n",
              "    </tr>\n",
              "    <tr>\n",
              "      <th>2</th>\n",
              "      <td>0.880010</td>\n",
              "      <td>0.537641</td>\n",
              "      <td>0.605290</td>\n",
              "      <td>0.485205</td>\n",
              "      <td>0.307745</td>\n",
              "      <td>0.237314</td>\n",
              "      <td>0.574141</td>\n",
              "      <td>0.399441</td>\n",
              "      <td>0.657280</td>\n",
              "      <td>0.380663</td>\n",
              "      <td>...</td>\n",
              "      <td>0.422381</td>\n",
              "      <td>0.589197</td>\n",
              "      <td>0.300206</td>\n",
              "      <td>0.491692</td>\n",
              "      <td>0.509335</td>\n",
              "      <td>0.678347</td>\n",
              "      <td>0.496790</td>\n",
              "      <td>0.503723</td>\n",
              "      <td>0.549798</td>\n",
              "      <td>0.455684</td>\n",
              "    </tr>\n",
              "    <tr>\n",
              "      <th>3</th>\n",
              "      <td>0.828773</td>\n",
              "      <td>0.480350</td>\n",
              "      <td>0.567581</td>\n",
              "      <td>0.446035</td>\n",
              "      <td>0.327202</td>\n",
              "      <td>0.195050</td>\n",
              "      <td>0.603655</td>\n",
              "      <td>0.339514</td>\n",
              "      <td>0.596574</td>\n",
              "      <td>0.299154</td>\n",
              "      <td>...</td>\n",
              "      <td>0.453535</td>\n",
              "      <td>0.539840</td>\n",
              "      <td>0.308665</td>\n",
              "      <td>0.471793</td>\n",
              "      <td>0.477423</td>\n",
              "      <td>0.689537</td>\n",
              "      <td>0.504114</td>\n",
              "      <td>0.525228</td>\n",
              "      <td>0.567246</td>\n",
              "      <td>0.483691</td>\n",
              "    </tr>\n",
              "    <tr>\n",
              "      <th>4</th>\n",
              "      <td>0.880257</td>\n",
              "      <td>0.555214</td>\n",
              "      <td>0.627082</td>\n",
              "      <td>0.467304</td>\n",
              "      <td>0.283848</td>\n",
              "      <td>0.246879</td>\n",
              "      <td>0.541533</td>\n",
              "      <td>0.346750</td>\n",
              "      <td>0.640634</td>\n",
              "      <td>0.375840</td>\n",
              "      <td>...</td>\n",
              "      <td>0.429187</td>\n",
              "      <td>0.568728</td>\n",
              "      <td>0.329063</td>\n",
              "      <td>0.481793</td>\n",
              "      <td>0.505700</td>\n",
              "      <td>0.663939</td>\n",
              "      <td>0.525252</td>\n",
              "      <td>0.520872</td>\n",
              "      <td>0.551543</td>\n",
              "      <td>0.497890</td>\n",
              "    </tr>\n",
              "  </tbody>\n",
              "</table>\n",
              "<p>5 rows × 90 columns</p>\n",
              "</div>\n",
              "      <button class=\"colab-df-convert\" onclick=\"convertToInteractive('df-03ede22e-81dd-41b6-a4df-6d42ee448740')\"\n",
              "              title=\"Convert this dataframe to an interactive table.\"\n",
              "              style=\"display:none;\">\n",
              "        \n",
              "  <svg xmlns=\"http://www.w3.org/2000/svg\" height=\"24px\"viewBox=\"0 0 24 24\"\n",
              "       width=\"24px\">\n",
              "    <path d=\"M0 0h24v24H0V0z\" fill=\"none\"/>\n",
              "    <path d=\"M18.56 5.44l.94 2.06.94-2.06 2.06-.94-2.06-.94-.94-2.06-.94 2.06-2.06.94zm-11 1L8.5 8.5l.94-2.06 2.06-.94-2.06-.94L8.5 2.5l-.94 2.06-2.06.94zm10 10l.94 2.06.94-2.06 2.06-.94-2.06-.94-.94-2.06-.94 2.06-2.06.94z\"/><path d=\"M17.41 7.96l-1.37-1.37c-.4-.4-.92-.59-1.43-.59-.52 0-1.04.2-1.43.59L10.3 9.45l-7.72 7.72c-.78.78-.78 2.05 0 2.83L4 21.41c.39.39.9.59 1.41.59.51 0 1.02-.2 1.41-.59l7.78-7.78 2.81-2.81c.8-.78.8-2.07 0-2.86zM5.41 20L4 18.59l7.72-7.72 1.47 1.35L5.41 20z\"/>\n",
              "  </svg>\n",
              "      </button>\n",
              "      \n",
              "  <style>\n",
              "    .colab-df-container {\n",
              "      display:flex;\n",
              "      flex-wrap:wrap;\n",
              "      gap: 12px;\n",
              "    }\n",
              "\n",
              "    .colab-df-convert {\n",
              "      background-color: #E8F0FE;\n",
              "      border: none;\n",
              "      border-radius: 50%;\n",
              "      cursor: pointer;\n",
              "      display: none;\n",
              "      fill: #1967D2;\n",
              "      height: 32px;\n",
              "      padding: 0 0 0 0;\n",
              "      width: 32px;\n",
              "    }\n",
              "\n",
              "    .colab-df-convert:hover {\n",
              "      background-color: #E2EBFA;\n",
              "      box-shadow: 0px 1px 2px rgba(60, 64, 67, 0.3), 0px 1px 3px 1px rgba(60, 64, 67, 0.15);\n",
              "      fill: #174EA6;\n",
              "    }\n",
              "\n",
              "    [theme=dark] .colab-df-convert {\n",
              "      background-color: #3B4455;\n",
              "      fill: #D2E3FC;\n",
              "    }\n",
              "\n",
              "    [theme=dark] .colab-df-convert:hover {\n",
              "      background-color: #434B5C;\n",
              "      box-shadow: 0px 1px 3px 1px rgba(0, 0, 0, 0.15);\n",
              "      filter: drop-shadow(0px 1px 2px rgba(0, 0, 0, 0.3));\n",
              "      fill: #FFFFFF;\n",
              "    }\n",
              "  </style>\n",
              "\n",
              "      <script>\n",
              "        const buttonEl =\n",
              "          document.querySelector('#df-03ede22e-81dd-41b6-a4df-6d42ee448740 button.colab-df-convert');\n",
              "        buttonEl.style.display =\n",
              "          google.colab.kernel.accessAllowed ? 'block' : 'none';\n",
              "\n",
              "        async function convertToInteractive(key) {\n",
              "          const element = document.querySelector('#df-03ede22e-81dd-41b6-a4df-6d42ee448740');\n",
              "          const dataTable =\n",
              "            await google.colab.kernel.invokeFunction('convertToInteractive',\n",
              "                                                     [key], {});\n",
              "          if (!dataTable) return;\n",
              "\n",
              "          const docLinkHtml = 'Like what you see? Visit the ' +\n",
              "            '<a target=\"_blank\" href=https://colab.research.google.com/notebooks/data_table.ipynb>data table notebook</a>'\n",
              "            + ' to learn more about interactive tables.';\n",
              "          element.innerHTML = '';\n",
              "          dataTable['output_type'] = 'display_data';\n",
              "          await google.colab.output.renderOutput(dataTable, element);\n",
              "          const docLink = document.createElement('div');\n",
              "          docLink.innerHTML = docLinkHtml;\n",
              "          element.appendChild(docLink);\n",
              "        }\n",
              "      </script>\n",
              "    </div>\n",
              "  </div>\n",
              "  "
            ]
          },
          "metadata": {},
          "execution_count": 12
        }
      ],
      "source": [
        "X = (X - X.min()) / (X.max() - X.min())\n",
        "X.head()"
      ]
    },
    {
      "cell_type": "markdown",
      "metadata": {
        "id": "6jtKx5O2oLjU"
      },
      "source": [
        "### 8.Splitting the Dataset into Train validation and test"
      ]
    },
    {
      "cell_type": "code",
      "execution_count": 13,
      "metadata": {
        "colab": {
          "base_uri": "https://localhost:8080/"
        },
        "id": "g2vE_YZ2oLjU",
        "outputId": "8bc6b1ae-f146-4755-a140-9a876343d229"
      },
      "outputs": [
        {
          "output_type": "stream",
          "name": "stdout",
          "text": [
            "(40000, 90) (40000, 1)\n",
            "(5000, 90) (5000, 1)\n",
            "(5000, 90) (5000, 1)\n"
          ]
        }
      ],
      "source": [
        "#Splitting the data into Train, validation and test set\n",
        "train_end = int(len(X) * 0.8)\n",
        "dev_end = int(len(X) * 0.9)\n",
        "X_shuffle = X.sample(frac=1, random_state=0)\n",
        "Y_shuffle = Y.sample(frac=1, random_state=0)\n",
        "x_train = X_shuffle.iloc[:train_end,:]\n",
        "y_train = Y_shuffle.iloc[:train_end]\n",
        "x_dev = X_shuffle.iloc[train_end:dev_end,:]\n",
        "y_dev = Y_shuffle.iloc[train_end:dev_end]\n",
        "x_test = X_shuffle.iloc[dev_end:,:]\n",
        "y_test = Y_shuffle.iloc[dev_end:]\n",
        "print(x_train.shape, y_train.shape)\n",
        "print(x_dev.shape, y_dev.shape)\n",
        "print(x_test.shape, y_test.shape)"
      ]
    },
    {
      "cell_type": "markdown",
      "metadata": {
        "id": "ZuYkago0oLjU"
      },
      "source": [
        "### Part 2: Create and Train the model"
      ]
    },
    {
      "cell_type": "markdown",
      "metadata": {
        "id": "_Oui5vEvoLjV"
      },
      "source": [
        "### 1.Import relevant modules"
      ]
    },
    {
      "cell_type": "code",
      "execution_count": 14,
      "metadata": {
        "id": "3iMl6yROoLjV"
      },
      "outputs": [],
      "source": [
        "#All the necessary modules are imported in the begining"
      ]
    },
    {
      "cell_type": "markdown",
      "metadata": {
        "id": "bg4faJG2oLjV"
      },
      "source": [
        "### 2.Convert the DataFrames into tensors. "
      ]
    },
    {
      "cell_type": "code",
      "execution_count": 15,
      "metadata": {
        "id": "OzcgKzEEoLjV"
      },
      "outputs": [],
      "source": [
        "x_train = t.tensor(x_train.values).float()\n",
        "y_train = t.tensor(y_train.values).float()\n",
        "x_dev = t.tensor(x_dev.values).float()\n",
        "y_dev = t.tensor(y_dev.values).float()\n",
        "x_test = t.tensor(x_test.values).float()\n",
        "y_test = t.tensor(y_test.values).float()"
      ]
    },
    {
      "cell_type": "markdown",
      "metadata": {
        "id": "zjuAxBSVoLjV"
      },
      "source": [
        "### 3.Define the architecture of the network. "
      ]
    },
    {
      "cell_type": "code",
      "execution_count": 16,
      "metadata": {
        "id": "kSe41jNeoLjV"
      },
      "outputs": [],
      "source": [
        "model = nn.Sequential(\n",
        "nn.Linear(x_train.shape[1], 75), \\\n",
        "nn.ReLU(), \\\n",
        "nn.Linear(75, 50), \\\n",
        "nn.ReLU(), \\\n",
        "nn.Linear(50, 5), \\\n",
        "#nn.ReLU(), \\\n",
        "nn.Linear(5, 1))\n"
      ]
    },
    {
      "cell_type": "code",
      "source": [
        "#if t.cuda.is_available():\n",
        "#   model = model.cuda()"
      ],
      "metadata": {
        "id": "wXiThfY1Lo1W"
      },
      "execution_count": 17,
      "outputs": []
    },
    {
      "cell_type": "markdown",
      "metadata": {
        "id": "tnDZYEQnoLjV"
      },
      "source": [
        "### 4.Define loss and optimizer"
      ]
    },
    {
      "cell_type": "code",
      "execution_count": 18,
      "metadata": {
        "id": "XzFC5LHRoLjV"
      },
      "outputs": [],
      "source": [
        "loss_function = t.nn.MSELoss() #"
      ]
    },
    {
      "cell_type": "code",
      "execution_count": 19,
      "metadata": {
        "id": "SiopzmlQoLjW"
      },
      "outputs": [],
      "source": [
        "optimizer = t.optim.Adam(model.parameters(), lr=0.01)\n",
        "#criterion = nn.CrossEntropyLoss()\n"
      ]
    },
    {
      "cell_type": "markdown",
      "metadata": {
        "id": "xisRiYfMoLjW"
      },
      "source": [
        "### 5.train the network"
      ]
    },
    {
      "cell_type": "code",
      "source": [
        "EPOCHS=3000\n",
        "training_loss=[]\n",
        "for i in range(EPOCHS):\n",
        "  train_loss = 0.0\n",
        "  \n",
        "  # Forward pass\n",
        "  y_pred = model(x_train).squeeze()\n",
        "  #Calculating the loss\n",
        "  loss = loss_function(y_pred, y_train)\n",
        "  #clear the gradients\n",
        "  optimizer.zero_grad()\n",
        "  #calculate gradients\n",
        "  loss.backward()\n",
        "  #Update weights\n",
        "  optimizer.step()\n",
        "  # Calculate total loss\n",
        "  train_loss += loss.item()\n",
        "  if i%100 == 0:\n",
        "    print(i, loss.item())\n",
        "    ls=train_loss / x_train.shape[0]\n",
        "    training_loss.append(ls)\n",
        "    print(f'Epoch {i} \\t\\t Training Loss: {ls}')"
      ],
      "metadata": {
        "colab": {
          "base_uri": "https://localhost:8080/"
        },
        "id": "lMLPlwKi24tD",
        "outputId": "07fb4718-2ee4-4217-f7c2-c9bce0fd61ab"
      },
      "execution_count": null,
      "outputs": [
        {
          "metadata": {
            "tags": null
          },
          "name": "stderr",
          "output_type": "stream",
          "text": [
            "/usr/local/lib/python3.7/dist-packages/torch/nn/modules/loss.py:520: UserWarning: Using a target size (torch.Size([40000, 1])) that is different to the input size (torch.Size([40000])). This will likely lead to incorrect results due to broadcasting. Please ensure they have the same size.\n",
            "  return F.mse_loss(input, target, reduction=self.reduction)\n"
          ]
        },
        {
          "output_type": "stream",
          "name": "stdout",
          "text": [
            "0 3993120.25\n",
            "Epoch 0 \t\t Training Loss: 99.82800625\n",
            "100 1455.679443359375\n",
            "Epoch 100 \t\t Training Loss: 0.036391986083984376\n",
            "200 771.2747802734375\n",
            "Epoch 200 \t\t Training Loss: 0.019281869506835938\n",
            "300 668.6901245117188\n",
            "Epoch 300 \t\t Training Loss: 0.016717253112792967\n",
            "400 582.7373046875\n",
            "Epoch 400 \t\t Training Loss: 0.0145684326171875\n",
            "500 517.9025268554688\n",
            "Epoch 500 \t\t Training Loss: 0.01294756317138672\n",
            "600 472.5047607421875\n",
            "Epoch 600 \t\t Training Loss: 0.011812619018554687\n",
            "700 442.1209411621094\n",
            "Epoch 700 \t\t Training Loss: 0.011053023529052734\n",
            "800 421.936279296875\n",
            "Epoch 800 \t\t Training Loss: 0.010548406982421875\n",
            "900 407.96685791015625\n",
            "Epoch 900 \t\t Training Loss: 0.010199171447753907\n",
            "1000 397.4447937011719\n",
            "Epoch 1000 \t\t Training Loss: 0.009936119842529297\n",
            "1100 388.69708251953125\n",
            "Epoch 1100 \t\t Training Loss: 0.009717427062988282\n",
            "1200 380.83306884765625\n",
            "Epoch 1200 \t\t Training Loss: 0.009520826721191407\n",
            "1300 373.44189453125\n",
            "Epoch 1300 \t\t Training Loss: 0.00933604736328125\n",
            "1400 366.36029052734375\n",
            "Epoch 1400 \t\t Training Loss: 0.009159007263183593\n",
            "1500 359.5386962890625\n",
            "Epoch 1500 \t\t Training Loss: 0.008988467407226563\n",
            "1600 352.9771423339844\n",
            "Epoch 1600 \t\t Training Loss: 0.00882442855834961\n",
            "1700 346.6854248046875\n",
            "Epoch 1700 \t\t Training Loss: 0.008667135620117188\n",
            "1800 340.6711730957031\n",
            "Epoch 1800 \t\t Training Loss: 0.008516779327392579\n",
            "1900 334.9429016113281\n",
            "Epoch 1900 \t\t Training Loss: 0.008373572540283203\n",
            "2000 329.5003356933594\n",
            "Epoch 2000 \t\t Training Loss: 0.008237508392333984\n",
            "2100 324.33917236328125\n",
            "Epoch 2100 \t\t Training Loss: 0.00810847930908203\n",
            "2200 319.4500732421875\n",
            "Epoch 2200 \t\t Training Loss: 0.007986251831054687\n",
            "2300 314.8208312988281\n",
            "Epoch 2300 \t\t Training Loss: 0.007870520782470703\n",
            "2400 310.43670654296875\n",
            "Epoch 2400 \t\t Training Loss: 0.007760917663574219\n",
            "2500 306.2799377441406\n",
            "Epoch 2500 \t\t Training Loss: 0.007656998443603516\n",
            "2600 302.3332214355469\n",
            "Epoch 2600 \t\t Training Loss: 0.007558330535888672\n",
            "2700 298.5766906738281\n",
            "Epoch 2700 \t\t Training Loss: 0.007464417266845703\n",
            "2800 294.9928283691406\n",
            "Epoch 2800 \t\t Training Loss: 0.007374820709228516\n",
            "2900 291.5636291503906\n",
            "Epoch 2900 \t\t Training Loss: 0.007289090728759766\n"
          ]
        }
      ]
    },
    {
      "cell_type": "markdown",
      "source": [
        "Plotting Loss graph"
      ],
      "metadata": {
        "id": "DgwU9YumAkVl"
      }
    },
    {
      "cell_type": "code",
      "source": [
        "epochs = range(1, len(training_loss[1:]) + 1)\n",
        "\n",
        "plt.figure(figsize=(10,6))\n",
        "plt.plot(epochs, training_loss[1:], '-o', label='Training loss')\n",
        "plt.legend()\n",
        "plt.title('Learning curves')\n",
        "plt.xlabel('Epoch')\n",
        "plt.ylabel('Loss')\n",
        "plt.xticks(epochs)\n",
        "plt.show()"
      ],
      "metadata": {
        "id": "U1NKT9SN5WVT",
        "colab": {
          "base_uri": "https://localhost:8080/",
          "height": 404
        },
        "outputId": "201abe24-3bef-4523-d93b-d47a730dd7ea"
      },
      "execution_count": 45,
      "outputs": [
        {
          "output_type": "display_data",
          "data": {
            "text/plain": [
              "<Figure size 720x432 with 1 Axes>"
            ],
            "image/png": "[encoded data removed]"
          },
          "metadata": {
            "needs_background": "light"
          }
        }
      ]
    },
    {
      "cell_type": "markdown",
      "metadata": {
        "id": "MSJkAcrVoLjW"
      },
      "source": [
        "### 6.Test using the first register in the test dataset"
      ]
    },
    {
      "cell_type": "code",
      "execution_count": null,
      "metadata": {
        "id": "lzWxzZiBoLjW"
      },
      "outputs": [],
      "source": [
        "x_test.shape"
      ]
    },
    {
      "cell_type": "code",
      "execution_count": null,
      "metadata": {
        "id": "iusvLd0aYAQR"
      },
      "outputs": [],
      "source": [
        "for i in range(x_test.shape[1]):\n",
        "  pred = model(x_test[0])\n",
        "print(\"Ground truth:\", y_test[0].item(), \"Prediction:\",pred.item()) "
      ]
    },
    {
      "cell_type": "markdown",
      "source": [
        "**Part 3: Implementation of validation and Test using the validation and test data**"
      ],
      "metadata": {
        "id": "2_K0fIOS_msK"
      }
    },
    {
      "cell_type": "markdown",
      "source": [
        "1. Implementation of validation step after each training epoch"
      ],
      "metadata": {
        "id": "FG2riMie_vrJ"
      }
    },
    {
      "cell_type": "code",
      "execution_count": 21,
      "metadata": {
        "id": "91FT0qhSoLjW",
        "colab": {
          "base_uri": "https://localhost:8080/"
        },
        "outputId": "e0a9a631-916e-4d1a-aa9b-744a2fb22f6e"
      },
      "outputs": [
        {
          "output_type": "stream",
          "name": "stderr",
          "text": [
            "/usr/local/lib/python3.7/dist-packages/torch/nn/modules/loss.py:520: UserWarning: Using a target size (torch.Size([40000, 1])) that is different to the input size (torch.Size([40000])). This will likely lead to incorrect results due to broadcasting. Please ensure they have the same size.\n",
            "  return F.mse_loss(input, target, reduction=self.reduction)\n",
            "/usr/local/lib/python3.7/dist-packages/torch/nn/modules/loss.py:520: UserWarning: Using a target size (torch.Size([5000, 1])) that is different to the input size (torch.Size([5000])). This will likely lead to incorrect results due to broadcasting. Please ensure they have the same size.\n",
            "  return F.mse_loss(input, target, reduction=self.reduction)\n"
          ]
        },
        {
          "output_type": "stream",
          "name": "stdout",
          "text": [
            "Epoch 1 \t\t Training Loss: 99.81245 \t\t Validation Loss: 798.08805\n",
            "Validation Loss Decreased(inf--->3990440.2500) \t Saving The Model\n",
            "Epoch 101 \t\t Training Loss: 0.033028924560546874 \t\t Validation Loss: 0.245104931640625\n",
            "Validation Loss Decreased(3990440.2500--->1225.5247) \t Saving The Model\n",
            "Epoch 201 \t\t Training Loss: 0.018719369506835937 \t\t Validation Loss: 0.14730045166015626\n",
            "Validation Loss Decreased(1225.5247--->736.5023) \t Saving The Model\n",
            "Epoch 301 \t\t Training Loss: 0.01601043701171875 \t\t Validation Loss: 0.1259259033203125\n",
            "Validation Loss Decreased(736.5023--->629.6295) \t Saving The Model\n",
            "Epoch 401 \t\t Training Loss: 0.013873983764648438 \t\t Validation Loss: 0.10914803466796875\n",
            "Validation Loss Decreased(629.6295--->545.7402) \t Saving The Model\n",
            "Epoch 501 \t\t Training Loss: 0.012366661834716797 \t\t Validation Loss: 0.09735626831054688\n",
            "Validation Loss Decreased(545.7402--->486.7813) \t Saving The Model\n",
            "Epoch 601 \t\t Training Loss: 0.011377442169189454 \t\t Validation Loss: 0.08964950561523438\n",
            "Validation Loss Decreased(486.7813--->448.2475) \t Saving The Model\n",
            "Epoch 701 \t\t Training Loss: 0.010746282196044923 \t\t Validation Loss: 0.08475025634765625\n",
            "Validation Loss Decreased(448.2475--->423.7513) \t Saving The Model\n",
            "Epoch 801 \t\t Training Loss: 0.010331140899658203 \t\t Validation Loss: 0.08153364868164062\n",
            "Validation Loss Decreased(423.7513--->407.6682) \t Saving The Model\n",
            "Epoch 901 \t\t Training Loss: 0.010032209777832032 \t\t Validation Loss: 0.07921485595703125\n",
            "Validation Loss Decreased(407.6682--->396.0743) \t Saving The Model\n",
            "Epoch 1001 \t\t Training Loss: 0.009790505218505859 \t\t Validation Loss: 0.07733347778320313\n",
            "Validation Loss Decreased(396.0743--->386.6674) \t Saving The Model\n",
            "Epoch 1101 \t\t Training Loss: 0.00957600326538086 \t\t Validation Loss: 0.07565872192382812\n",
            "Validation Loss Decreased(386.6674--->378.2936) \t Saving The Model\n",
            "Epoch 1201 \t\t Training Loss: 0.00937554702758789 \t\t Validation Loss: 0.07409136962890625\n",
            "Validation Loss Decreased(378.2936--->370.4568) \t Saving The Model\n",
            "Epoch 1301 \t\t Training Loss: 0.009184393310546875 \t\t Validation Loss: 0.07259743041992188\n",
            "Validation Loss Decreased(370.4568--->362.9872) \t Saving The Model\n",
            "Epoch 1401 \t\t Training Loss: 0.00900130615234375 \t\t Validation Loss: 0.07116895141601562\n",
            "Validation Loss Decreased(362.9872--->355.8448) \t Saving The Model\n",
            "Epoch 1501 \t\t Training Loss: 0.008826242065429687 \t\t Validation Loss: 0.06980665893554687\n",
            "Validation Loss Decreased(355.8448--->349.0333) \t Saving The Model\n",
            "Epoch 1601 \t\t Training Loss: 0.008659452056884766 \t\t Validation Loss: 0.06851273193359375\n",
            "Validation Loss Decreased(349.0333--->342.5637) \t Saving The Model\n",
            "Epoch 1701 \t\t Training Loss: 0.008501094055175781 \t\t Validation Loss: 0.06728857421875\n",
            "Validation Loss Decreased(342.5637--->336.4429) \t Saving The Model\n",
            "Epoch 1801 \t\t Training Loss: 0.008351211547851562 \t\t Validation Loss: 0.066133935546875\n",
            "Validation Loss Decreased(336.4429--->330.6697) \t Saving The Model\n",
            "Epoch 1901 \t\t Training Loss: 0.008209615325927734 \t\t Validation Loss: 0.06504717407226562\n",
            "Validation Loss Decreased(330.6697--->325.2359) \t Saving The Model\n",
            "Epoch 2001 \t\t Training Loss: 0.008076094818115234 \t\t Validation Loss: 0.0640256591796875\n",
            "Validation Loss Decreased(325.2359--->320.1283) \t Saving The Model\n",
            "Epoch 2101 \t\t Training Loss: 0.007950208282470703 \t\t Validation Loss: 0.0630655029296875\n",
            "Validation Loss Decreased(320.1283--->315.3275) \t Saving The Model\n",
            "Epoch 2201 \t\t Training Loss: 0.007831498718261718 \t\t Validation Loss: 0.0621626708984375\n",
            "Validation Loss Decreased(315.3275--->310.8134) \t Saving The Model\n",
            "Epoch 2301 \t\t Training Loss: 0.007719441223144531 \t\t Validation Loss: 0.06131209106445312\n",
            "Validation Loss Decreased(310.8134--->306.5605) \t Saving The Model\n",
            "Epoch 2401 \t\t Training Loss: 0.007613453674316407 \t\t Validation Loss: 0.060508843994140624\n",
            "Validation Loss Decreased(306.5605--->302.5442) \t Saving The Model\n",
            "Epoch 2501 \t\t Training Loss: 0.007512965393066407 \t\t Validation Loss: 0.05974777221679688\n",
            "Validation Loss Decreased(302.5442--->298.7389) \t Saving The Model\n",
            "Epoch 2601 \t\t Training Loss: 0.007417418670654297 \t\t Validation Loss: 0.059023876953125\n",
            "Validation Loss Decreased(298.7389--->295.1194) \t Saving The Model\n",
            "Epoch 2701 \t\t Training Loss: 0.007326298522949219 \t\t Validation Loss: 0.05833260498046875\n",
            "Validation Loss Decreased(295.1194--->291.6630) \t Saving The Model\n",
            "Epoch 2801 \t\t Training Loss: 0.007239100646972656 \t\t Validation Loss: 0.0576697998046875\n",
            "Validation Loss Decreased(291.6630--->288.3490) \t Saving The Model\n",
            "Epoch 2901 \t\t Training Loss: 0.007155416107177734 \t\t Validation Loss: 0.057031744384765624\n",
            "Validation Loss Decreased(288.3490--->285.1587) \t Saving The Model\n"
          ]
        }
      ],
      "source": [
        "epochs = 3000\n",
        "min_valid_loss = np.inf # Initaizing minimum valid loss to infinity\n",
        "valid_losses=[]\n",
        "training_loss=[]\n",
        "for e in range(epochs):\n",
        "    \n",
        "    train_loss = 0.0  #Initalizing train loss to zero\n",
        "    model.train()     # Using the model in training Mode\n",
        "    \n",
        "    # Forward pass\n",
        "    y_pred = model(x_train).squeeze()\n",
        "    # Loss calculations\n",
        "    loss = loss_function(y_pred, y_train)\n",
        "    ##clear the gradients   \n",
        "    optimizer.zero_grad()\n",
        "    # Calculating gradients \n",
        "    loss.backward()\n",
        "    # Updating weights\n",
        "    optimizer.step()\n",
        "    # calculating total weights\n",
        "    train_loss += loss.item()\n",
        "    \n",
        "    valid_loss = 0.0 #Initalizing validation loss to zero\n",
        "    model.eval() # Using the model in Evaluation mode\n",
        "    # Forward pass\n",
        "    y_pred_val = model(x_dev).squeeze()\n",
        "    # Loss calculations\n",
        "    loss = loss_function(y_pred_val, y_dev)\n",
        "    valid_loss = loss.item() #* x_dev.size(0)\n",
        "    if e%100 == 0:\n",
        "      training_loss.append(train_loss / x_train.shape[0])\n",
        "      valid_losses.append(valid_loss / x_dev.shape[0])\n",
        "      print(f'Epoch {e+1} \\t\\t Training Loss: {train_loss / x_train.shape[0]} \\t\\t Validation Loss: {valid_loss / x_dev.shape[0]}')\n",
        "      if min_valid_loss > valid_loss:\n",
        "          print(f'Validation Loss Decreased({min_valid_loss:.4f}--->{valid_loss:.4f}) \\t Saving The Model')\n",
        "          min_valid_loss = valid_loss\n",
        "          # Saving State Dict\n",
        "          t.save(model.state_dict(), 'saved_model.pth')"
      ]
    },
    {
      "cell_type": "markdown",
      "source": [
        "Plotting loss graph"
      ],
      "metadata": {
        "id": "Pd-xStlRAoUl"
      }
    },
    {
      "cell_type": "code",
      "source": [
        "print('Min. Training loss:',training_loss[np.argmin(training_loss)])\n",
        "print('Min. Validation loss:',valid_losses[np.argmin(valid_losses)])"
      ],
      "metadata": {
        "colab": {
          "base_uri": "https://localhost:8080/"
        },
        "id": "fePKTwbitW8i",
        "outputId": "5f684ab4-7e39-4e25-9ac7-a708c26e02d9"
      },
      "execution_count": 43,
      "outputs": [
        {
          "output_type": "stream",
          "name": "stdout",
          "text": [
            "Min. Training loss: 0.007155416107177734\n",
            "Min. Validation loss: 0.057031744384765624\n"
          ]
        }
      ]
    },
    {
      "cell_type": "code",
      "source": [
        "epochs = range(1, len(training_loss[1:]) + 1)\n",
        "\n",
        "plt.figure(figsize=(10,6))\n",
        "plt.plot(epochs, training_loss[1:], '-o', label='Training loss')\n",
        "plt.plot(epochs, valid_losses[1:], '-o', label='Validation loss')\n",
        "plt.legend()\n",
        "plt.title('Loss curves')\n",
        "plt.xlabel('Epoch')\n",
        "plt.ylabel('Loss')\n",
        "plt.xticks(epochs)\n",
        "plt.show()"
      ],
      "metadata": {
        "id": "GWzgQJZ67DxG",
        "colab": {
          "base_uri": "https://localhost:8080/",
          "height": 404
        },
        "outputId": "823bf556-e761-4951-b3dc-d07eccf6d8d2"
      },
      "execution_count": 30,
      "outputs": [
        {
          "output_type": "display_data",
          "data": {
            "text/plain": [
              "<Figure size 720x432 with 1 Axes>"
            ],
            "image/png": "[encoded data removed]"
          },
          "metadata": {
            "needs_background": "light"
          }
        }
      ]
    },
    {
      "cell_type": "markdown",
      "source": [
        "2. Testing model using more than a single sample from test data set"
      ],
      "metadata": {
        "id": "Xft4MLGt_8UH"
      }
    },
    {
      "cell_type": "code",
      "execution_count": 32,
      "metadata": {
        "id": "-jHi5YN7AFiZ",
        "colab": {
          "base_uri": "https://localhost:8080/"
        },
        "outputId": "9111e2bc-e679-42ce-f113-3af58715f6eb"
      },
      "outputs": [
        {
          "output_type": "stream",
          "name": "stdout",
          "text": [
            "Ground truth: 2005.0 Prediction: 2010\n",
            "Ground truth: 2005.0 Prediction: 1999\n",
            "Ground truth: 2000.0 Prediction: 2012\n",
            "Ground truth: 1971.0 Prediction: 1997\n",
            "Ground truth: 2007.0 Prediction: 1985\n",
            "Ground truth: 1996.0 Prediction: 1996\n",
            "Ground truth: 2004.0 Prediction: 2013\n",
            "Ground truth: 2000.0 Prediction: 1994\n",
            "Ground truth: 2004.0 Prediction: 1999\n",
            "Ground truth: 2009.0 Prediction: 1996\n",
            "Ground truth: 2008.0 Prediction: 1984\n",
            "Ground truth: 1997.0 Prediction: 1990\n",
            "Ground truth: 2006.0 Prediction: 2006\n",
            "Ground truth: 2004.0 Prediction: 2005\n",
            "Ground truth: 2007.0 Prediction: 2000\n",
            "Ground truth: 2009.0 Prediction: 2011\n",
            "Ground truth: 2000.0 Prediction: 1979\n",
            "Ground truth: 1999.0 Prediction: 2002\n",
            "Ground truth: 2003.0 Prediction: 2001\n",
            "Ground truth: 2008.0 Prediction: 2000\n"
          ]
        }
      ],
      "source": [
        "for i in range(20):\n",
        "  pred = model(x_test[i])\n",
        "  print(\"Ground truth:\", y_test[i].item(), \"Prediction:\",round(pred.item()))"
      ]
    }
  ],
  "metadata": {
    "colab": {
      "collapsed_sections": [],
      "name": "2- Miniproject II Guess the year-Template.ipynb",
      "provenance": []
    },
    "kernelspec": {
      "display_name": "Python 3",
      "language": "python",
      "name": "python3"
    },
    "language_info": {
      "codemirror_mode": {
        "name": "ipython",
        "version": 3
      },
      "file_extension": ".py",
      "mimetype": "text/x-python",
      "name": "python",
      "nbconvert_exporter": "python",
      "pygments_lexer": "ipython3",
      "version": "3.8.8"
    }
  },
  "nbformat": 4,
  "nbformat_minor": 0
}